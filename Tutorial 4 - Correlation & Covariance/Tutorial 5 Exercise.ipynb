{
 "cells": [
  {
   "cell_type": "markdown",
   "id": "ee2ac839-0f6c-4022-8f39-568e6d32874f",
   "metadata": {},
   "source": [
    "# TUTORIAL 5 EXERCISE "
   ]
  },
  {
   "cell_type": "markdown",
   "id": "b7515e26-cf31-497b-ba25-634850bb80cf",
   "metadata": {},
   "source": [
    "__Use the materials properties data (Thermal&Electrical_conductivity_Data.csv) to answer these questions. The Wiedemann-Franz law establishes a connection between the thermal and electrical conductivity of materials. The dataset for this question is obtained from Callister's Materials Science and Engineering introductory textbook. The compiled dataset includes thermal conductivity values measured in units of W/(m·K), representing the material's ability to conduct heat. Additionally, the electrical conductivity values were derived by calculating the reciprocal of the electrical resistivity data, expressed in units of 1/(Ω ·m), indicating the material's capacity to conduct electricity.__"
   ]
  },
  {
   "cell_type": "markdown",
   "id": "8bbed837-f9dd-481a-bcf3-30733a8ef5c0",
   "metadata": {},
   "source": [
    "## PART 1\n",
    "__Construct a scatter plot of thermal conductivity versus electrical conductivity. Does the graph suggest anything about the nature of the relationship between these variables?__"
   ]
  },
  {
   "cell_type": "markdown",
   "id": "1d6a327b-48d5-4902-b195-4cca329cd50d",
   "metadata": {},
   "source": [
    "__IMPORTING RELEVANT LIBRARIES!__"
   ]
  },
  {
   "cell_type": "code",
   "execution_count": null,
   "id": "7d52c6bf-f383-4abe-8461-f0fc1d6113ca",
   "metadata": {},
   "outputs": [],
   "source": [
    "import numpy as np\n",
    "import pandas as pd\n",
    "import matplotlib.pyplot as plt\n",
    "import scipy.stats\n",
    "from scipy import stats  \n",
    "from scipy.stats import norm\n",
    "import seaborn as sns\n",
    "import statsmodels as sm\n",
    "from statsmodels.formula.api import ols"
   ]
  },
  {
   "cell_type": "markdown",
   "id": "8a3949c4-1b00-4211-a0a8-937154a422b6",
   "metadata": {},
   "source": [
    "__Reading the data from the csv file__"
   ]
  },
  {
   "cell_type": "code",
   "execution_count": null,
   "id": "550b56d5-ec54-4e19-98cb-390c180f9228",
   "metadata": {},
   "outputs": [],
   "source": []
  },
  {
   "cell_type": "markdown",
   "id": "732cb1b9-45cf-46bb-af47-b27e3e2e90d1",
   "metadata": {},
   "source": [
    "__Make the scatterplot__"
   ]
  },
  {
   "cell_type": "code",
   "execution_count": null,
   "id": "2c7ff512-b154-4ceb-b33a-cde2a15e1c19",
   "metadata": {},
   "outputs": [],
   "source": []
  },
  {
   "cell_type": "markdown",
   "id": "627d1f18-1aef-4dc3-9102-ed8646351b6c",
   "metadata": {},
   "source": [
    "## PART 2\n",
    "__Calculate the covariance of thermal conductivity with electrical conductivity for this group of materials. Show the formula and the steps to calculate the covariance by hand.  Show the covariance matrix with python and describe the values in the matrix. What does the covariance show?__"
   ]
  },
  {
   "cell_type": "code",
   "execution_count": null,
   "id": "7468a243-160d-430d-81dc-03c997077a58",
   "metadata": {},
   "outputs": [],
   "source": []
  },
  {
   "cell_type": "markdown",
   "id": "ef2914b2-a556-4328-a2a3-cb0678fd7cce",
   "metadata": {},
   "source": [
    "## PART 3\n",
    "__Calculate the correlation of thermal conductivity with electrical conductivity for this group of materials. Show the formula and the steps to calculate the correlation.  Show the correlation matrix with python and describe the values in the matrix. Does electrical conductivity tend to increase or decrease as thermal conductivity level increases?__"
   ]
  },
  {
   "cell_type": "code",
   "execution_count": null,
   "id": "70ee3be8-72eb-4bcd-87a3-dab77c7fc2ea",
   "metadata": {},
   "outputs": [],
   "source": []
  },
  {
   "cell_type": "markdown",
   "id": "75b33701-70c3-4f98-97f8-f305ba9eaaf1",
   "metadata": {},
   "source": [
    "## PART 4\n",
    "__Test the null hypothesis that the population correlation equals zero in python.  What do you conclude?__"
   ]
  },
  {
   "cell_type": "code",
   "execution_count": null,
   "id": "8a11311e-d549-4c97-8acf-451b2392e6e1",
   "metadata": {},
   "outputs": [],
   "source": []
  }
 ],
 "metadata": {
  "kernelspec": {
   "display_name": "Python 3 (ipykernel)",
   "language": "python",
   "name": "python3"
  },
  "language_info": {
   "codemirror_mode": {
    "name": "ipython",
    "version": 3
   },
   "file_extension": ".py",
   "mimetype": "text/x-python",
   "name": "python",
   "nbconvert_exporter": "python",
   "pygments_lexer": "ipython3",
   "version": "3.9.13"
  }
 },
 "nbformat": 4,
 "nbformat_minor": 5
}
