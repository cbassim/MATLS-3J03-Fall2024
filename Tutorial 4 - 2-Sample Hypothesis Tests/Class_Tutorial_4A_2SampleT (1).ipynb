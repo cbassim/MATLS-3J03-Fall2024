{
 "cells": [
  {
   "cell_type": "markdown",
   "id": "f9bd0671-7805-43c1-815e-e2444b148fb7",
   "metadata": {},
   "source": [
    "# TUTORIAL 4 EXERCISE 2-Sample T-Test"
   ]
  },
  {
   "cell_type": "markdown",
   "id": "e794f5b3-f752-43db-b129-2f5c05f02572",
   "metadata": {},
   "source": [
    "## PART 1\n",
    "A biomaterials engineer has proposed two different topographies for a stent. Each of these two topographies have been investigated for their angiogenesis (blood vessel formation) potential. Angiogenesis activity was measured using a fluorescence-based assays (a.u.) where higher values suggest greater amounts of blood vessel formation. \n",
    "\n",
    "__What is the appropriate statistical test for this data?__ "
   ]
  },
  {
   "cell_type": "markdown",
   "id": "ebd6726c-9374-475d-8c8e-3d3ba59b7e78",
   "metadata": {},
   "source": []
  },
  {
   "cell_type": "markdown",
   "id": "7271a174-8b62-4ed7-96d2-e4ccf0267030",
   "metadata": {},
   "source": [
    "__Importing relevant libraries!__"
   ]
  },
  {
   "cell_type": "code",
   "execution_count": 11,
   "id": "0f5cbc8a-9d19-474e-aeb2-33dc38d6d951",
   "metadata": {},
   "outputs": [],
   "source": [
    "import pandas as pd #library to work with data frames\n",
    "import numpy as np #library to work with data frames\n",
    "import matplotlib.pyplot as plt #library to plot figure\n",
    "import matplotlib.dates as mdates #library for visualization\n",
    "import seaborn as sns #library to plot figures\n",
    "import scipy\n",
    "from scipy import stats\n",
    "from scipy.stats import t\n",
    "import statsmodels.api as sm\n"
   ]
  },
  {
   "cell_type": "markdown",
   "id": "727f97a7-7a12-4acd-8054-50400375e1b5",
   "metadata": {},
   "source": [
    "__Reading the data and generating plots and descriptive statistics.__"
   ]
  },
  {
   "cell_type": "code",
   "execution_count": 36,
   "id": "e7e0bc9d-6393-49ff-8146-565ecf86a4e7",
   "metadata": {},
   "outputs": [],
   "source": [
    "#Creating dataset\n",
    "topographyA = np.array([15.8,17.3,15.7,16.9,18.5,17.3,16.5,18.1])\n",
    "topographyA_df = pd.DataFrame(topographyA)\n",
    "topographyB = np.array([18.5,19.4,19.3,20.1,19.6,19,18.5,18])\n",
    "topographyB_df = pd.DataFrame(topographyB)"
   ]
  },
  {
   "cell_type": "code",
   "execution_count": null,
   "id": "d4952abb-e325-4bbe-9c03-624b75c47e3b",
   "metadata": {},
   "outputs": [],
   "source": []
  },
  {
   "cell_type": "markdown",
   "id": "18a14907-7623-4fbf-900c-88c07c6baac0",
   "metadata": {},
   "source": [
    "## PART 2\n",
    "__What assumptions are you making by choosing this test? Justify why they are acceptable.__  "
   ]
  },
  {
   "cell_type": "code",
   "execution_count": null,
   "id": "74577c2e-daf9-46ef-8934-54dca77f6d15",
   "metadata": {},
   "outputs": [],
   "source": []
  },
  {
   "cell_type": "code",
   "execution_count": null,
   "id": "797c2b94-a5f4-4178-aafb-19b4f2b25b0d",
   "metadata": {},
   "outputs": [],
   "source": []
  },
  {
   "cell_type": "markdown",
   "id": "db5abf81-2110-4247-989e-2b35e26300cf",
   "metadata": {},
   "source": [
    "## PART 3: Provide the 7 steps of the Procedures for Hypothesis Tests\n",
    "__1. Paramater of Interest__\n",
    "\n",
    "__2. State the null hypothesis__\n",
    "\n",
    "__3. State the null hypothesis__\n",
    "\n",
    "__4. Determine appropriate test statistic__\n",
    "\n",
    "__5. State the rejection criteria for null hypothesis__\n",
    "\n",
    "__6. Computations__\n",
    "\n",
    "__7. Draw Conclusions__"
   ]
  },
  {
   "cell_type": "code",
   "execution_count": null,
   "id": "9b555b7b-d2ab-4ef6-89ee-eda452fe10b2",
   "metadata": {},
   "outputs": [],
   "source": []
  },
  {
   "cell_type": "markdown",
   "id": "8bc4e0e8-bb60-467c-9ca9-49ec132f0bf3",
   "metadata": {},
   "source": [
    "## PART 4\n",
    "__Use python to validate the hyptheisis test__\n",
    "\n",
    "https://docs.scipy.org/doc/scipy/reference/generated/scipy.stats.ttest_ind.html\n",
    "\n",
    "stats.ttest_ind(topographyA, topographyB, equal_var=True))"
   ]
  },
  {
   "cell_type": "markdown",
   "id": "2dcc3c18-1e27-475d-b788-fb9cf986d27b",
   "metadata": {},
   "source": [
    "## PART 5\n",
    "__Compute the corresponding confidence interval for the difference of means.__"
   ]
  },
  {
   "cell_type": "code",
   "execution_count": null,
   "id": "4aae61c0-3391-4ee1-89b0-653a7a04476b",
   "metadata": {},
   "outputs": [],
   "source": []
  }
 ],
 "metadata": {
  "kernelspec": {
   "display_name": "Python 3 (ipykernel)",
   "language": "python",
   "name": "python3"
  },
  "language_info": {
   "codemirror_mode": {
    "name": "ipython",
    "version": 3
   },
   "file_extension": ".py",
   "mimetype": "text/x-python",
   "name": "python",
   "nbconvert_exporter": "python",
   "pygments_lexer": "ipython3",
   "version": "3.11.8"
  }
 },
 "nbformat": 4,
 "nbformat_minor": 5
}
