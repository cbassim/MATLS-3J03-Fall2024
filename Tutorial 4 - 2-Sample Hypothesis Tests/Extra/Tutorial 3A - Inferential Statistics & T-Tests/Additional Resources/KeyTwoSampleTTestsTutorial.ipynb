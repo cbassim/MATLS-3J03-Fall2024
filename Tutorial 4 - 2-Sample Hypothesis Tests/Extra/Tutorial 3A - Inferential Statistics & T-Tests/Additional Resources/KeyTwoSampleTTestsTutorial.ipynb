{
 "cells": [
  {
   "cell_type": "code",
   "execution_count": 1,
   "id": "b983a835-38ef-44ea-998c-58cb98aa7a70",
   "metadata": {},
   "outputs": [
    {
     "name": "stdin",
     "output_type": "stream",
     "text": [
      "Once deleted, variables cannot be recovered. Proceed (y/[n])?  y\n"
     ]
    }
   ],
   "source": [
    "%reset\n",
    "import numpy as np\n",
    "import pandas as pd\n",
    "import matplotlib.pyplot as plt\n",
    "import seaborn as sns\n",
    "import scipy\n",
    "from scipy import stats\n",
    "from scipy.stats import norm\n",
    "import statsmodels.api as sm"
   ]
  },
  {
   "cell_type": "markdown",
   "id": "cb1c536f-21ec-4a41-b2ec-b3df31396d5b",
   "metadata": {},
   "source": [
    "# 2 Sample t-test for testing for the differences in means: Independent t-test\n",
    "\n",
    "It is known that smoking is associated with chronic obstructive pulmaonary disease.  Research has shown that this process is linked with a number of inflammatory signatures in exhaled breath condensate (EBC), one of which is nitrite concentration. Average nitrate EBC concentration was collected from eleven nonsmokers and nine smokers.   \n",
    "\n",
    "Determine whether there is a significant difference in the mean nitrite EBC concentration between smokers and non-smokers, using a confidence level of 95%. \n",
    "\n",
    "Load and explore the data"
   ]
  },
  {
   "cell_type": "code",
   "execution_count": 2,
   "id": "49c689c9-d855-4da7-afe4-55b350c519bb",
   "metadata": {},
   "outputs": [],
   "source": [
    "Nonsmokers=pd.Series([15723, 18990, 7597, 24160, 12044, 17636, 19792, 24945, 21372, 19271, 22804],name=\"NonSmokers\")\n",
    "Smokers=pd.Series([24960, 31210, 28234, 17786, 30612, 25944, 19437, 16945, 23434],name=\"Smokers\")"
   ]
  },
  {
   "cell_type": "code",
   "execution_count": 3,
   "id": "c8a083c6-f11e-4fa9-9fc6-3219a08c3c7b",
   "metadata": {},
   "outputs": [
    {
     "data": {
      "text/html": [
       "<div>\n",
       "<style scoped>\n",
       "    .dataframe tbody tr th:only-of-type {\n",
       "        vertical-align: middle;\n",
       "    }\n",
       "\n",
       "    .dataframe tbody tr th {\n",
       "        vertical-align: top;\n",
       "    }\n",
       "\n",
       "    .dataframe thead th {\n",
       "        text-align: right;\n",
       "    }\n",
       "</style>\n",
       "<table border=\"1\" class=\"dataframe\">\n",
       "  <thead>\n",
       "    <tr style=\"text-align: right;\">\n",
       "      <th></th>\n",
       "      <th>NonSmokers</th>\n",
       "      <th>Smokers</th>\n",
       "    </tr>\n",
       "  </thead>\n",
       "  <tbody>\n",
       "    <tr>\n",
       "      <th>0</th>\n",
       "      <td>15723</td>\n",
       "      <td>24960.0</td>\n",
       "    </tr>\n",
       "    <tr>\n",
       "      <th>1</th>\n",
       "      <td>18990</td>\n",
       "      <td>31210.0</td>\n",
       "    </tr>\n",
       "    <tr>\n",
       "      <th>2</th>\n",
       "      <td>7597</td>\n",
       "      <td>28234.0</td>\n",
       "    </tr>\n",
       "    <tr>\n",
       "      <th>3</th>\n",
       "      <td>24160</td>\n",
       "      <td>17786.0</td>\n",
       "    </tr>\n",
       "    <tr>\n",
       "      <th>4</th>\n",
       "      <td>12044</td>\n",
       "      <td>30612.0</td>\n",
       "    </tr>\n",
       "    <tr>\n",
       "      <th>5</th>\n",
       "      <td>17636</td>\n",
       "      <td>25944.0</td>\n",
       "    </tr>\n",
       "    <tr>\n",
       "      <th>6</th>\n",
       "      <td>19792</td>\n",
       "      <td>19437.0</td>\n",
       "    </tr>\n",
       "    <tr>\n",
       "      <th>7</th>\n",
       "      <td>24945</td>\n",
       "      <td>16945.0</td>\n",
       "    </tr>\n",
       "    <tr>\n",
       "      <th>8</th>\n",
       "      <td>21372</td>\n",
       "      <td>23434.0</td>\n",
       "    </tr>\n",
       "    <tr>\n",
       "      <th>9</th>\n",
       "      <td>19271</td>\n",
       "      <td>NaN</td>\n",
       "    </tr>\n",
       "    <tr>\n",
       "      <th>10</th>\n",
       "      <td>22804</td>\n",
       "      <td>NaN</td>\n",
       "    </tr>\n",
       "  </tbody>\n",
       "</table>\n",
       "</div>"
      ],
      "text/plain": [
       "    NonSmokers  Smokers\n",
       "0        15723  24960.0\n",
       "1        18990  31210.0\n",
       "2         7597  28234.0\n",
       "3        24160  17786.0\n",
       "4        12044  30612.0\n",
       "5        17636  25944.0\n",
       "6        19792  19437.0\n",
       "7        24945  16945.0\n",
       "8        21372  23434.0\n",
       "9        19271      NaN\n",
       "10       22804      NaN"
      ]
     },
     "execution_count": 3,
     "metadata": {},
     "output_type": "execute_result"
    }
   ],
   "source": [
    "# create a pandas dataframe of the name of df; axis=1 is for columns\n",
    "df=pd.concat([Nonsmokers,Smokers],axis='columns')\n",
    "df"
   ]
  },
  {
   "cell_type": "code",
   "execution_count": 4,
   "id": "51a73864-cd73-42e3-b11a-cbf529bbf11c",
   "metadata": {},
   "outputs": [
    {
     "data": {
      "image/png": "[encoded data removed]",
      "text/plain": [
       "<Figure size 640x480 with 1 Axes>"
      ]
     },
     "metadata": {},
     "output_type": "display_data"
    }
   ],
   "source": [
    "# Plot the data to visualize\n",
    "ax=sns.boxplot(data=df,showmeans=True)\n",
    "ax.set(xlabel=\"Smoking\")\n",
    "ax.set(ylabel=\"Nitrite\")\n",
    "ax=sns.swarmplot(data=df)"
   ]
  },
  {
   "cell_type": "code",
   "execution_count": 5,
   "id": "8e2691cd-e027-40c8-bf73-2774890e1f12",
   "metadata": {},
   "outputs": [
    {
     "data": {
      "text/plain": [
       "count       11.000000\n",
       "mean     18575.818182\n",
       "std       5213.449603\n",
       "min       7597.000000\n",
       "25%      16679.500000\n",
       "50%      19271.000000\n",
       "75%      22088.000000\n",
       "max      24945.000000\n",
       "Name: NonSmokers, dtype: float64"
      ]
     },
     "execution_count": 5,
     "metadata": {},
     "output_type": "execute_result"
    }
   ],
   "source": [
    "Nonsmokers.describe()"
   ]
  },
  {
   "cell_type": "code",
   "execution_count": 6,
   "id": "bf71ee81-5779-49aa-a896-fdf7abc01f1c",
   "metadata": {},
   "outputs": [
    {
     "data": {
      "text/plain": [
       "count        9.000000\n",
       "mean     24284.666667\n",
       "std       5328.331892\n",
       "min      16945.000000\n",
       "25%      19437.000000\n",
       "50%      24960.000000\n",
       "75%      28234.000000\n",
       "max      31210.000000\n",
       "Name: Smokers, dtype: float64"
      ]
     },
     "execution_count": 6,
     "metadata": {},
     "output_type": "execute_result"
    }
   ],
   "source": [
    "Smokers.describe()"
   ]
  },
  {
   "cell_type": "code",
   "execution_count": 7,
   "id": "0880f5cc-098f-4b9b-b448-76964d8945be",
   "metadata": {},
   "outputs": [
    {
     "data": {
      "text/html": [
       "<div>\n",
       "<style scoped>\n",
       "    .dataframe tbody tr th:only-of-type {\n",
       "        vertical-align: middle;\n",
       "    }\n",
       "\n",
       "    .dataframe tbody tr th {\n",
       "        vertical-align: top;\n",
       "    }\n",
       "\n",
       "    .dataframe thead th {\n",
       "        text-align: right;\n",
       "    }\n",
       "</style>\n",
       "<table border=\"1\" class=\"dataframe\">\n",
       "  <thead>\n",
       "    <tr style=\"text-align: right;\">\n",
       "      <th></th>\n",
       "      <th>NonSmokers</th>\n",
       "      <th>Smokers</th>\n",
       "    </tr>\n",
       "  </thead>\n",
       "  <tbody>\n",
       "    <tr>\n",
       "      <th>count</th>\n",
       "      <td>11.000000</td>\n",
       "      <td>9.000000</td>\n",
       "    </tr>\n",
       "    <tr>\n",
       "      <th>mean</th>\n",
       "      <td>18575.818182</td>\n",
       "      <td>24284.666667</td>\n",
       "    </tr>\n",
       "    <tr>\n",
       "      <th>std</th>\n",
       "      <td>5213.449603</td>\n",
       "      <td>5328.331892</td>\n",
       "    </tr>\n",
       "    <tr>\n",
       "      <th>min</th>\n",
       "      <td>7597.000000</td>\n",
       "      <td>16945.000000</td>\n",
       "    </tr>\n",
       "    <tr>\n",
       "      <th>25%</th>\n",
       "      <td>16679.500000</td>\n",
       "      <td>19437.000000</td>\n",
       "    </tr>\n",
       "    <tr>\n",
       "      <th>50%</th>\n",
       "      <td>19271.000000</td>\n",
       "      <td>24960.000000</td>\n",
       "    </tr>\n",
       "    <tr>\n",
       "      <th>75%</th>\n",
       "      <td>22088.000000</td>\n",
       "      <td>28234.000000</td>\n",
       "    </tr>\n",
       "    <tr>\n",
       "      <th>max</th>\n",
       "      <td>24945.000000</td>\n",
       "      <td>31210.000000</td>\n",
       "    </tr>\n",
       "  </tbody>\n",
       "</table>\n",
       "</div>"
      ],
      "text/plain": [
       "         NonSmokers       Smokers\n",
       "count     11.000000      9.000000\n",
       "mean   18575.818182  24284.666667\n",
       "std     5213.449603   5328.331892\n",
       "min     7597.000000  16945.000000\n",
       "25%    16679.500000  19437.000000\n",
       "50%    19271.000000  24960.000000\n",
       "75%    22088.000000  28234.000000\n",
       "max    24945.000000  31210.000000"
      ]
     },
     "execution_count": 7,
     "metadata": {},
     "output_type": "execute_result"
    }
   ],
   "source": [
    "df.describe()"
   ]
  },
  {
   "cell_type": "markdown",
   "id": "0e34bfd6-c4a8-4e59-954b-e64d27e4b773",
   "metadata": {},
   "source": [
    "By default numpy uses a maximum likelihood estimate for the standard deviation (degrees of freedom (DF) = n so ddof=0), so to have it do the unbiased estimation we set the ddof = 1. Note that this is different than what pandas does. By default pandas uses ddof=1."
   ]
  },
  {
   "cell_type": "code",
   "execution_count": 8,
   "id": "3b838e8d-abd4-44f3-af2c-af45775352bd",
   "metadata": {},
   "outputs": [
    {
     "name": "stdout",
     "output_type": "stream",
     "text": [
      "5213.449603059031\n",
      "5328.331891877608\n"
     ]
    }
   ],
   "source": [
    "# standard deviation of the sample use ddof n-1\n",
    "stdNonsmokers=np.std(Nonsmokers,ddof=1)\n",
    "stdSmokers=np.std(Smokers,ddof=1)\n",
    "print(stdNonsmokers)\n",
    "print(stdSmokers)"
   ]
  },
  {
   "cell_type": "code",
   "execution_count": null,
   "id": "1194d434-24f6-4330-8616-49e05e4596dc",
   "metadata": {},
   "outputs": [],
   "source": []
  },
  {
   "cell_type": "markdown",
   "id": "b50466ba-4ba6-4f22-ba75-4d59d3011354",
   "metadata": {},
   "source": [
    "# - Review assumptions of the chosen statistics test"
   ]
  },
  {
   "cell_type": "markdown",
   "id": "a5c05729-b5f2-42ea-8c6e-034a2d49cbfa",
   "metadata": {},
   "source": [
    "First review assumptions of 2 sample t-tests:  independence of sample (no trends within sample) and between samples (sample A does not affect sample B), normality, and equal variance.\n",
    "\n",
    "Samples are independent from each other (not linked or paired).\n",
    "\n",
    "Let's look at the assumption of normality next.  First we will run a a Shapiro-Wilk test to test if the sample data is well-modelled by a normal distribution and to compute how likely it is for a random variable underlying the data set to be  normally distributed.  \n",
    "\n",
    "Remember that this tests the null hypothesis that the sample is normally disributed.  Larger than 0.05 p-value means we fail to reject the null hypothesis (that the distribution of the sample is sig different from a normal distribution) and conclude that the sample is not significnatly different from a normal distribution."
   ]
  },
  {
   "cell_type": "code",
   "execution_count": 9,
   "id": "d26b3002-9af7-49b8-93f9-eb03ee7ee590",
   "metadata": {},
   "outputs": [
    {
     "data": {
      "text/plain": [
       "ShapiroResult(statistic=0.9328737854957581, pvalue=0.44065162539482117)"
      ]
     },
     "execution_count": 9,
     "metadata": {},
     "output_type": "execute_result"
    }
   ],
   "source": [
    "stats.shapiro(Nonsmokers)"
   ]
  },
  {
   "cell_type": "code",
   "execution_count": 10,
   "id": "f340f48a-9e2b-4ca1-abfa-512e095e3e68",
   "metadata": {},
   "outputs": [
    {
     "data": {
      "text/plain": [
       "ShapiroResult(statistic=0.930608868598938, pvalue=0.4871654212474823)"
      ]
     },
     "execution_count": 10,
     "metadata": {},
     "output_type": "execute_result"
    }
   ],
   "source": [
    "stats.shapiro(Smokers)"
   ]
  },
  {
   "cell_type": "markdown",
   "id": "37605fa3-9fba-4fc2-be38-c0ec4bd92c79",
   "metadata": {},
   "source": [
    "We have shown that the two samples are normally distributed. \n",
    "\n",
    "Now let's look at the assumption of equal variance (homogeneity of variance or homoscedasticity).  We want to assume that the varianes of the populations from which the different samples are drawn are equal.  We will look at the Levene's test, that tests the hypothesis that the population variances are equal.  The Levene test is pretty conservative, and you can use center='mean', 'median', or 'trimmed' to test with, with median being the most conservative and the dafault in SciPy.  If the resulting p-value is less than the chosen significnace level, the null hypothesis can be rejected and you conclude that there is a differnece between the variances.  Larger than 0.05 p-value measn we fail to reject the null hypthesis and conclude that we think that the variances are the same.  \n",
    "\n",
    "try: stats.levene(Nonsmokers,Smokers,center='median')"
   ]
  },
  {
   "cell_type": "code",
   "execution_count": 11,
   "id": "d3174299-2444-4771-94c4-19077f242091",
   "metadata": {},
   "outputs": [
    {
     "data": {
      "text/plain": [
       "LeveneResult(statistic=0.13178107984421228, pvalue=0.7208204036312478)"
      ]
     },
     "execution_count": 11,
     "metadata": {},
     "output_type": "execute_result"
    }
   ],
   "source": [
    "stats.levene(Nonsmokers,Smokers,center='median')"
   ]
  },
  {
   "cell_type": "markdown",
   "id": "9c51aa98-6db8-444d-9b4a-f77a054a5bc5",
   "metadata": {},
   "source": [
    "We have looked at tests for normality and equal variance.  Let's also look at these assumptions visually using qq plots.  Remember that using qq plots are the best way and most accepted way to judge the assumptions of these tests, but the determiniations are subjective and take some getting use to.    "
   ]
  },
  {
   "cell_type": "markdown",
   "id": "e117feda-610f-4712-8870-07b3b7425c99",
   "metadata": {},
   "source": [
    "Let's look at normality via qq plots and plot this data on a qq plot. This method to plot the qq plots also takes loc (mean=location) and scale (std=scale) as the values. We'll use the ones calculated from our data set because in actuality we don't know the true population parameters. The additional parameter line='45' plots the y=x line on the same plot.\n",
    "\n",
    "Remember to sort your data for a qqplot"
   ]
  },
  {
   "cell_type": "code",
   "execution_count": 12,
   "id": "588fbb3f-7251-48f7-b78a-33854fe5d2aa",
   "metadata": {},
   "outputs": [
    {
     "data": {
      "image/png": "[encoded data removed]",
      "text/plain": [
       "<Figure size 1000x400 with 2 Axes>"
      ]
     },
     "metadata": {},
     "output_type": "display_data"
    }
   ],
   "source": [
    "Nonsmokers.sort_values()\n",
    "Smokers.sort_values()\n",
    "fig2,ax2=plt.subplots(nrows=1,ncols=2,figsize=(10,4))\n",
    "sm.qqplot(Nonsmokers,line='45',loc=np.mean(Nonsmokers),scale=stdNonsmokers,ax=ax2[0])\n",
    "sm.qqplot(Smokers,line='45',loc=np.mean(Smokers),scale=stdSmokers,ax=ax2[1])\n",
    "plt.show()"
   ]
  },
  {
   "cell_type": "markdown",
   "id": "c77ae64d-b9ca-438a-8bfc-b5fc8466123c",
   "metadata": {},
   "source": [
    "# - Formulate the null and alternative hypothesis \n",
    "\n",
    "Is it a one-sided test or a two-sided test?\n",
    "\n",
    "two sided\n",
    "\n",
    "Null hypthesis= $\\mu1$=$\\mu2$ \\\n",
    "Alternative hypothesis = $\\mu1$ $\\neq$ $\\mu2$"
   ]
  },
  {
   "cell_type": "markdown",
   "id": "60bce325-61dd-408b-bf93-907548c68bd7",
   "metadata": {},
   "source": [
    "# - Choose a significance level to work to\n",
    "\n",
    "alpha = $\\alpha$ = 0.05"
   ]
  },
  {
   "cell_type": "code",
   "execution_count": null,
   "id": "8f2f97ef-18a0-4cf9-9cb0-bad70d9087a9",
   "metadata": {},
   "outputs": [],
   "source": []
  },
  {
   "cell_type": "markdown",
   "id": "a88846a6-4291-44ea-89ca-8168c65a85c0",
   "metadata": {},
   "source": [
    "# - Calculate the test statistic from the data"
   ]
  },
  {
   "attachments": {
    "666a7849-21b2-410c-aa5f-5b85b78951af.png": {
     "image/png": "[encoded data removed]"
    }
   },
   "cell_type": "markdown",
   "id": "934d4ffd-f729-4fc9-982e-f759b3fd0c67",
   "metadata": {},
   "source": [
    "The t statistic to test whether the means are different can be calculated as follows: \\\n",
    "![image.png](attachment:666a7849-21b2-410c-aa5f-5b85b78951af.png)"
   ]
  },
  {
   "cell_type": "markdown",
   "id": "58575c24-78a5-4c37-a33a-ceb6c7f17026",
   "metadata": {},
   "source": [
    "Let's look at the calculations. \\\n",
    "n − 1 is the number of degrees of freedom for each group, and the total sample size minus two (that is, n1 + n2 − 2) is the total number of degrees of freedom, which is used in significance testing.\n",
    "\n",
    "18 dof, n1+n2-2 = 11+9-2=18"
   ]
  },
  {
   "cell_type": "code",
   "execution_count": 13,
   "id": "d3e52f08-ef7f-4739-adb4-5123fc953c9b",
   "metadata": {},
   "outputs": [
    {
     "name": "stdout",
     "output_type": "stream",
     "text": [
      "The number of observations in the samples are: 11 and 9\n",
      "The standard deviation of the sampes are: 5213.449603059031 and 5328.331891877608\n",
      "The mean of the samples are: 18575.81818181818 and 24284.666666666668\n",
      "The variance of the samples are: 27180056.763636366 and 28391120.750000004\n",
      "The degrees of freedom are: 18\n"
     ]
    }
   ],
   "source": [
    "nA=len(Nonsmokers)\n",
    "nB=len(Smokers)\n",
    "print(\"The number of observations in the samples are: \" + str(nA)+\" and \" +str(nB))\n",
    "print(\"The standard deviation of the sampes are: \"+ str(stdNonsmokers)+\" and \"+ str(stdSmokers))\n",
    "print(\"The mean of the samples are: \"+ str(np.mean(Nonsmokers)) +\" and \"+str(np.mean(Smokers)))\n",
    "print(\"The variance of the samples are: \"+str(stdNonsmokers**2)+\" and \"+ str(stdSmokers**2))\n",
    "print(\"The degrees of freedom are: \"+ str(len(Nonsmokers)+len(Smokers)-2))"
   ]
  },
  {
   "attachments": {
    "3ac4b38b-5aac-47e2-984a-5a46b62e57b5.png": {
     "image/png": "[encoded data removed]"
    }
   },
   "cell_type": "markdown",
   "id": "69186047-3b43-4b1a-924c-796a83cfea79",
   "metadata": {},
   "source": [
    "We will calculate a pooled estimate of the combined standard deviations, which is a weighted average of the two standard deviations, used when the variances are equivalent to each other \\\n",
    "![image.png](attachment:3ac4b38b-5aac-47e2-984a-5a46b62e57b5.png)"
   ]
  },
  {
   "cell_type": "code",
   "execution_count": 14,
   "id": "688cec6a-e7c0-40ab-b55f-b7f65a99ecff",
   "metadata": {},
   "outputs": [
    {
     "name": "stdout",
     "output_type": "stream",
     "text": [
      "The pooled standard deviation is:  5264.817890890664\n"
     ]
    }
   ],
   "source": [
    "s_pooled=np.sqrt((((nA-1)*stdNonsmokers**2)+((nB-1)*stdSmokers**2))/(nA+nB-2))\n",
    "print(\"The pooled standard deviation is:  \"+str(s_pooled))"
   ]
  },
  {
   "attachments": {
    "666a7849-21b2-410c-aa5f-5b85b78951af.png": {
     "image/png": "[encoded data removed]"
    }
   },
   "cell_type": "markdown",
   "id": "69dfaeb4-d032-415e-b2dc-f47a54cf8873",
   "metadata": {},
   "source": [
    "The t statistic to test whether the means are different can be calculated as follows: \\\n",
    "![image.png](attachment:666a7849-21b2-410c-aa5f-5b85b78951af.png)"
   ]
  },
  {
   "cell_type": "code",
   "execution_count": 15,
   "id": "fc720103-f291-4c75-a21a-3757de749ec4",
   "metadata": {},
   "outputs": [
    {
     "name": "stdout",
     "output_type": "stream",
     "text": [
      "The standard error of the difference is: 2366.3596652883343\n"
     ]
    }
   ],
   "source": [
    "StandErrorDiff=s_pooled*(np.sqrt(1/11+1/9))\n",
    "print(\"The standard error of the difference is: \"+str(StandErrorDiff))"
   ]
  },
  {
   "cell_type": "code",
   "execution_count": 16,
   "id": "535b1f99-17a8-41ca-a31c-c2f818a30ca0",
   "metadata": {},
   "outputs": [
    {
     "name": "stdout",
     "output_type": "stream",
     "text": [
      "The difference in means is:-5708.848484848488\n"
     ]
    }
   ],
   "source": [
    "print(\"The difference in means is:\" + str(np.mean(Nonsmokers)-np.mean(Smokers)))"
   ]
  },
  {
   "cell_type": "code",
   "execution_count": 17,
   "id": "07c921f0-e825-4cfb-b9d8-9593f0174ef4",
   "metadata": {},
   "outputs": [
    {
     "data": {
      "text/plain": [
       "-2.412502324244832"
      ]
     },
     "execution_count": 17,
     "metadata": {},
     "output_type": "execute_result"
    }
   ],
   "source": [
    "# The t test statistic\n",
    "-5708.849/(2366.360)"
   ]
  },
  {
   "cell_type": "markdown",
   "id": "96f5ac79-ec45-4fc6-8e9c-828cff3b23c4",
   "metadata": {},
   "source": [
    "# - Compare the test statistic with a critical value from a statistics table (for a critical value method) or find the p-value from the test statistic "
   ]
  },
  {
   "cell_type": "markdown",
   "id": "24bc16cc-e805-4548-90c7-a2fc6c036f2b",
   "metadata": {},
   "source": [
    "To find the critical t value using a t table, find the t-value at dof=18 and at 1-alpha/2 = 0.975 = 2.101\n",
    "\n",
    "Go to the t-table and find this critical value."
   ]
  },
  {
   "cell_type": "code",
   "execution_count": 18,
   "id": "a154a7ba-56cf-4443-bbe1-ace214e84c99",
   "metadata": {},
   "outputs": [
    {
     "name": "stdout",
     "output_type": "stream",
     "text": [
      "2.10092204024096\n"
     ]
    }
   ],
   "source": [
    "# check this critical value using python\n",
    "Critical_t=stats.t.ppf(0.975,18)\n",
    "print(Critical_t)"
   ]
  },
  {
   "cell_type": "markdown",
   "id": "407020e7-7f48-436d-85a3-d9ac1e7578f0",
   "metadata": {},
   "source": [
    "What is the p-value found from our test statistic?"
   ]
  },
  {
   "cell_type": "markdown",
   "id": "f10599ac-e4d7-47f4-b3a5-c330977be058",
   "metadata": {},
   "source": [
    "To find the p-value, we can work backwards from a t-table at the t test statistic (absolute value) that we calculated from the data.\n",
    "\n",
    "Find the t-value using dof=18 of 2.4125 on the t-table and find the area under the curve.  This would be betweeen p= 0.025 and p=0.01 (closer to 0.01).  Since this is a two-sided test, we need to double this to p-value = 0.02 to 0.05. The exact p-value is "
   ]
  },
  {
   "cell_type": "code",
   "execution_count": 19,
   "id": "04870e67-ab63-4dbd-ba4e-7950f217f9c3",
   "metadata": {},
   "outputs": [
    {
     "data": {
      "text/plain": [
       "0.01336578935158508"
      ]
     },
     "execution_count": 19,
     "metadata": {},
     "output_type": "execute_result"
    }
   ],
   "source": [
    "# check with python\n",
    "stats.t.cdf(-2.4125,18)"
   ]
  },
  {
   "cell_type": "code",
   "execution_count": 20,
   "id": "01bd5002-f6dc-448f-9eea-c9373d516ff7",
   "metadata": {},
   "outputs": [
    {
     "data": {
      "text/plain": [
       "0.02673157870317016"
      ]
     },
     "execution_count": 20,
     "metadata": {},
     "output_type": "execute_result"
    }
   ],
   "source": [
    "2*(stats.t.cdf(-2.4125,18))"
   ]
  },
  {
   "cell_type": "markdown",
   "id": "fdb1ec81-1e41-492c-943a-21bbda4e94c2",
   "metadata": {},
   "source": [
    "# - Make a conclusion based on the statistics test.  The choice is to reject the null hypothesis of not."
   ]
  },
  {
   "cell_type": "markdown",
   "id": "9752178d-4ded-4e0b-a1cc-08dd28813926",
   "metadata": {
    "tags": []
   },
   "source": [
    "What is our conclusion based on the critical value method?\n"
   ]
  },
  {
   "cell_type": "markdown",
   "id": "028a440a-f4f0-4d49-b7bb-e913087570e6",
   "metadata": {},
   "source": [
    "If the absolute value of our test statistic is greater than the critical t, then we know that the difference in means is statistically significant at alpha = 0.05.\n",
    "\n",
    "Is 2.4125 as extreme or more extreme than the critical value of 2.101? We are in the rejection region so reject the null hypothesis.  "
   ]
  },
  {
   "cell_type": "markdown",
   "id": "6a145c3d-e447-49b6-9c26-05ef817ca991",
   "metadata": {},
   "source": [
    "What is our conclusion based on the p-value method?"
   ]
  },
  {
   "cell_type": "markdown",
   "id": "fb57579e-5324-40d3-a69f-a4ea73fae9c2",
   "metadata": {},
   "source": [
    "The p-value=0.027 is less than p=0.05 (our alpha level), so we are confident to reject the null hypothesis (null hypothesis = that there is no true differnce in the means of our samples or that the difference means of the samples = 0).  We therefor accept the alternative hypotheiss and state that there is a significant different in the means.  "
   ]
  },
  {
   "cell_type": "code",
   "execution_count": null,
   "id": "450d8496-142e-41a5-9c79-cb899159f489",
   "metadata": {},
   "outputs": [],
   "source": []
  },
  {
   "cell_type": "markdown",
   "id": "f23553f5-93ff-4ac2-a4b7-aa9016ad7f81",
   "metadata": {},
   "source": [
    "# 95% Confidence Interval of the Difference in Means"
   ]
  },
  {
   "attachments": {
    "2f504480-8f83-4065-8af0-4366414de0ea.png": {
     "image/png": "[encoded data removed]"
    }
   },
   "cell_type": "markdown",
   "id": "9cb2fc61-946f-4a9b-9fdb-c33e036e66cf",
   "metadata": {},
   "source": [
    "equation for 95% CI: ![image.png](attachment:2f504480-8f83-4065-8af0-4366414de0ea.png)"
   ]
  },
  {
   "cell_type": "code",
   "execution_count": 21,
   "id": "6f95a011-7eca-4766-b4e5-5d3e58ce005d",
   "metadata": {},
   "outputs": [
    {
     "name": "stdout",
     "output_type": "stream",
     "text": [
      "-10680.38566078997\n",
      "-737.3113089070048\n"
     ]
    }
   ],
   "source": [
    "LB=(np.mean(Nonsmokers)-np.mean(Smokers)) - Critical_t*s_pooled* (np.sqrt(1/11 + 1/9))\n",
    "UB=(np.mean(Nonsmokers)-np.mean(Smokers)) + Critical_t*s_pooled* (np.sqrt(1/11 + 1/9))\n",
    "print(LB)\n",
    "print(UB)"
   ]
  },
  {
   "cell_type": "markdown",
   "id": "5b2bf040-8774-473b-8201-328fd60f36c0",
   "metadata": {},
   "source": [
    "Interpretation:  The 95%CI of difference in means is = (-10680.386 to-737.31).  The confidence interval for meanA-meanB (the difference in sample means) does not cross 0 and has a negative range of values.  If the CI crossed 0 then no difference would be within the plausible values of the true diffenece in means and it would be a non-significnat finding.  Our results show that mean A is smaller than mean B, and that the difference in means is statistically significant at the 95% confidence level, with p=0.027.  "
   ]
  },
  {
   "cell_type": "markdown",
   "id": "6be1761b-5fab-42a3-843f-9fa90bbf9d6f",
   "metadata": {},
   "source": [
    "Note:  It is of note that if 2 separate CIs, each from one sample, do overlap, then you could still have a significant t-test stating that the differnece in the means is significantly different (rare but possible), but if the CIs of the samples do not overlap then the difference in means will be significant.  In general, you want to test the difference in means between the samples.  "
   ]
  },
  {
   "cell_type": "markdown",
   "id": "16460acf-e096-4dad-9d87-b2ce5a3443c4",
   "metadata": {},
   "source": [
    "# Using python to check"
   ]
  },
  {
   "cell_type": "markdown",
   "id": "44baff4e-ebc1-4797-ba93-c0b34655541d",
   "metadata": {},
   "source": [
    "Now let's run the statistical test using the student's t-test for independent samples. We will look at using the Python library SciPy (that we imported as stats) and statsmodels (that we imported as sm).  We will run the hypothesis test and look at the 95% CI of the difference in means between the samples.  "
   ]
  },
  {
   "cell_type": "code",
   "execution_count": 22,
   "id": "6a8e7482-516a-4089-aaa3-e3ee08cf69b9",
   "metadata": {},
   "outputs": [
    {
     "data": {
      "text/plain": [
       "Ttest_indResult(statistic=-2.41250244778529, pvalue=0.02673144417952557)"
      ]
     },
     "execution_count": 22,
     "metadata": {},
     "output_type": "execute_result"
    }
   ],
   "source": [
    "stats.ttest_ind(Nonsmokers,Smokers,equal_var=True)"
   ]
  },
  {
   "cell_type": "code",
   "execution_count": 23,
   "id": "722cff8b-add7-4731-a4fd-6e93d2a16025",
   "metadata": {},
   "outputs": [
    {
     "data": {
      "text/plain": [
       "(-2.41250244778529, 0.02673144417952557, 18.0)"
      ]
     },
     "execution_count": 23,
     "metadata": {},
     "output_type": "execute_result"
    }
   ],
   "source": [
    "sm.stats.ttest_ind(Nonsmokers,Smokers,usevar='pooled')"
   ]
  },
  {
   "cell_type": "code",
   "execution_count": 24,
   "id": "17d61050-3998-4e44-90a9-0697ae7c49ec",
   "metadata": {},
   "outputs": [
    {
     "name": "stdout",
     "output_type": "stream",
     "text": [
      "(-10680.385660789972, -737.3113089070039)\n"
     ]
    }
   ],
   "source": [
    "cm=sm.stats.CompareMeans(sm.stats.DescrStatsW(Nonsmokers),sm.stats.DescrStatsW(Smokers))\n",
    "print(cm.tconfint_diff(usevar='pooled'))"
   ]
  },
  {
   "cell_type": "code",
   "execution_count": null,
   "id": "2db5d9a9-4bb0-41cc-b37b-3fab7caea409",
   "metadata": {},
   "outputs": [],
   "source": []
  },
  {
   "cell_type": "code",
   "execution_count": null,
   "id": "cc3f2c51-c5b9-49d2-9f59-a41445b976dc",
   "metadata": {},
   "outputs": [],
   "source": []
  }
 ],
 "metadata": {
  "kernelspec": {
   "display_name": "Python 3 (ipykernel)",
   "language": "python",
   "name": "python3"
  },
  "language_info": {
   "codemirror_mode": {
    "name": "ipython",
    "version": 3
   },
   "file_extension": ".py",
   "mimetype": "text/x-python",
   "name": "python",
   "nbconvert_exporter": "python",
   "pygments_lexer": "ipython3",
   "version": "3.9.13"
  }
 },
 "nbformat": 4,
 "nbformat_minor": 5
}
