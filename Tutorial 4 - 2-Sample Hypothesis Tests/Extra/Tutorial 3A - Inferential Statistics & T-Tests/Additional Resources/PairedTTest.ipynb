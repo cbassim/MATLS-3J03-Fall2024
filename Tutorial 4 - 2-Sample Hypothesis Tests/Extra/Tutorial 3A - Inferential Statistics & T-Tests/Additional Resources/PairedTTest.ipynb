{
 "cells": [
  {
   "cell_type": "code",
   "execution_count": 1,
   "id": "b983a835-38ef-44ea-998c-58cb98aa7a70",
   "metadata": {},
   "outputs": [
    {
     "name": "stdin",
     "output_type": "stream",
     "text": [
      "Once deleted, variables cannot be recovered. Proceed (y/[n])?  y\n"
     ]
    }
   ],
   "source": [
    "%reset\n",
    "import numpy as np\n",
    "import pandas as pd\n",
    "import matplotlib.pyplot as plt\n",
    "import seaborn as sns\n",
    "import scipy\n",
    "from scipy import stats\n",
    "from scipy.stats import norm\n",
    "import statsmodels.api as sm"
   ]
  },
  {
   "cell_type": "markdown",
   "id": "8ff69134-e8e8-4260-865b-9a2197e5331f",
   "metadata": {},
   "source": [
    "# Paired t-test"
   ]
  },
  {
   "cell_type": "markdown",
   "id": "c169029e-bbde-47f1-b362-b9a58c9bf784",
   "metadata": {},
   "source": [
    "A researcher is developing a new drug delivery method (novel Method = B) for a well-established existing drug (typically delivered via Method A). They measured the uptake of the drug using Method A in 10 different lab mice waited several days for the drug to leave the mice’s system and then administered the drug in the alternate form (Method B) and once again measured the uptake. Knowing you’re on your way to becoming pro statisticians, they give you a conveniently formatted csv and ask you to help analyze their results.\n",
    "\n",
    "A) Is a two-sample test or a paired test more appropriate? Why?\n",
    "\n",
    "A paired test is more suitable because we have variability in common between our test pairs (aka the mice). We want to cancel the variability by running the paired test on each mouse.\n",
    "\n",
    "B) Based on your decision, calculate the 95% confidence interval for the difference $μ_B-μ_A$\n",
    "\n",
    "C) Interpret the confidence interval and make a conclusion for the researcher"
   ]
  },
  {
   "cell_type": "code",
   "execution_count": 2,
   "id": "24533064-3bb7-4bb1-a451-5039772e732e",
   "metadata": {},
   "outputs": [
    {
     "name": "stdout",
     "output_type": "stream",
     "text": [
      "   Unnamed: 0          A          B\n",
      "0           0  -3.662886  -3.422549\n",
      "1           1   8.306399  10.591479\n",
      "2           2   6.819711   6.130886\n",
      "3           3   9.757578  10.192032\n",
      "4           4  11.494306  15.299046\n",
      "5           5   8.937047   9.338760\n",
      "6           6  11.902184  13.513236\n",
      "7           7  14.772088  15.750661\n",
      "8           8   9.361552  13.113879\n",
      "9           9   9.268911   9.106832\n"
     ]
    }
   ],
   "source": [
    "data = pd.read_csv(\"PairedTTestTutorial.csv\")\n",
    "print(data)"
   ]
  },
  {
   "cell_type": "code",
   "execution_count": 3,
   "id": "9d4a7520-a685-4c22-879b-921ffd03ed21",
   "metadata": {},
   "outputs": [],
   "source": [
    "A = data['A']\n",
    "B = data['B']"
   ]
  },
  {
   "cell_type": "code",
   "execution_count": 4,
   "id": "f32b0638-53e7-498c-affc-1e5818b84c9b",
   "metadata": {},
   "outputs": [
    {
     "name": "stdout",
     "output_type": "stream",
     "text": [
      "0    0.240337\n",
      "1    2.285079\n",
      "2   -0.688826\n",
      "3    0.434454\n",
      "4    3.804739\n",
      "5    0.401713\n",
      "6    1.611052\n",
      "7    0.978573\n",
      "8    3.752327\n",
      "9   -0.162080\n",
      "dtype: float64\n"
     ]
    }
   ],
   "source": [
    "# The differnces\n",
    "diff = B - A\n",
    "print(diff)"
   ]
  },
  {
   "cell_type": "code",
   "execution_count": 5,
   "id": "058dc16c-e857-48e5-b964-2b4f408dab7d",
   "metadata": {},
   "outputs": [
    {
     "data": {
      "image/png": "[encoded data removed]",
      "text/plain": [
       "<Figure size 640x480 with 1 Axes>"
      ]
     },
     "metadata": {},
     "output_type": "display_data"
    }
   ],
   "source": [
    "diff.sort_values()\n",
    "sm.qqplot(diff,line='45',loc=np.mean(diff),scale=np.std(diff,ddof=1))\n",
    "plt.show()"
   ]
  },
  {
   "cell_type": "code",
   "execution_count": 6,
   "id": "41dcd76f-acf9-4759-9102-524d40dd7923",
   "metadata": {},
   "outputs": [
    {
     "data": {
      "text/plain": [
       "ShapiroResult(statistic=0.9010434150695801, pvalue=0.22494381666183472)"
      ]
     },
     "execution_count": 6,
     "metadata": {},
     "output_type": "execute_result"
    }
   ],
   "source": [
    "stats.shapiro(diff)"
   ]
  },
  {
   "cell_type": "code",
   "execution_count": 7,
   "id": "fc8eb218-bdf4-4dd0-bd4f-b343670fcf65",
   "metadata": {},
   "outputs": [
    {
     "name": "stdout",
     "output_type": "stream",
     "text": [
      "1.26573684496122\n",
      "1.5712138525224093\n"
     ]
    }
   ],
   "source": [
    "# The mean difference\n",
    "mean_diff = np.mean(diff)\n",
    "std_diff= np.std(diff, ddof=1)\n",
    "print(mean_diff)\n",
    "print(std_diff)"
   ]
  },
  {
   "cell_type": "code",
   "execution_count": 8,
   "id": "cbd990a3-7dd9-4ad1-957a-5fc11073a1e0",
   "metadata": {},
   "outputs": [
    {
     "name": "stdout",
     "output_type": "stream",
     "text": [
      "2.2621571627409915\n"
     ]
    }
   ],
   "source": [
    "# critical t vaue using alpha=0.05 and df=9 for a two-sided test\n",
    "Ct = stats.t.ppf(0.975,9)\n",
    "print(Ct)"
   ]
  },
  {
   "cell_type": "code",
   "execution_count": 9,
   "id": "06bfffdb-992c-48f6-9160-fee419e6cf62",
   "metadata": {},
   "outputs": [
    {
     "name": "stdout",
     "output_type": "stream",
     "text": [
      "0.14175816483096826 <= population mean difference <= 2.389715525091472\n"
     ]
    }
   ],
   "source": [
    "LB = mean_diff - Ct*std_diff/np.sqrt(10)\n",
    "UB = mean_diff + Ct*std_diff/np.sqrt(10)\n",
    "print(str(LB) + \" <= population mean difference <= \" + str(UB))"
   ]
  },
  {
   "cell_type": "markdown",
   "id": "e4626984-e462-42d1-818e-72e87c8695cb",
   "metadata": {},
   "source": [
    "C) Since the CI does not span 0, we can conclude there is a statistically significant difference."
   ]
  },
  {
   "cell_type": "markdown",
   "id": "71e4d0e8-b5c8-4cbd-8e5f-7b25f5e154a2",
   "metadata": {},
   "source": [
    "Let's compare the paired test to the two-sample test results below:"
   ]
  },
  {
   "cell_type": "code",
   "execution_count": 10,
   "id": "65ab53ac-7fea-4d98-966d-2d4062684396",
   "metadata": {},
   "outputs": [
    {
     "name": "stdout",
     "output_type": "stream",
     "text": [
      "1.2657368449612196\n"
     ]
    }
   ],
   "source": [
    "mean_b = np.mean(B)\n",
    "mean_a = np.mean(A)\n",
    "std_a = np.std(A, ddof=1)\n",
    "std_b = np.std(B, ddof=1)\n",
    "print(mean_b - mean_a)"
   ]
  },
  {
   "cell_type": "code",
   "execution_count": 11,
   "id": "eccbde56-ec7a-4222-a7ad-da217c291b35",
   "metadata": {},
   "outputs": [
    {
     "name": "stdout",
     "output_type": "stream",
     "text": [
      "5.235192207806762\n"
     ]
    }
   ],
   "source": [
    "na = nb = 10\n",
    "s_p = np.sqrt((((na-1)*std_a**2)+((nb-1)*std_b**2))/(na + nb -2))\n",
    "print(s_p)"
   ]
  },
  {
   "cell_type": "code",
   "execution_count": 12,
   "id": "c47e4035-c9a4-4b25-abd5-22058fc51c8c",
   "metadata": {},
   "outputs": [
    {
     "name": "stdout",
     "output_type": "stream",
     "text": [
      "2.10092204024096\n"
     ]
    }
   ],
   "source": [
    "Ct = stats.t.ppf(0.975,18)\n",
    "print(Ct)"
   ]
  },
  {
   "cell_type": "code",
   "execution_count": 13,
   "id": "d5f29d89-f9ad-4a14-b078-763ce3592ee0",
   "metadata": {},
   "outputs": [
    {
     "name": "stdout",
     "output_type": "stream",
     "text": [
      "-1.1936541049009008 <= mu_b - mu_a <= 3.72512779482334\n"
     ]
    }
   ],
   "source": [
    "# Difference in means\n",
    "LB = (mean_b - mean_a) - Ct*s_p/np.sqrt(20)\n",
    "UB = (mean_b - mean_a) + Ct*s_p/np.sqrt(20)\n",
    "print(str(LB) + \" <= mu_b - mu_a <= \" + str(UB))"
   ]
  },
  {
   "cell_type": "markdown",
   "id": "10cc7bd5-adc0-4546-a88d-a0b47362c65c",
   "metadata": {},
   "source": [
    "Analyzing the results as a two-sample test the results are not statistically significant as the confidence interval crosses zero. The variability that occurs in the individual mice is NOT cancelled out as is the case in the paried test. This large variability in turn propagates to the confidence interval resulting in large bounds even though the average difference is the same for both cases!"
   ]
  },
  {
   "cell_type": "markdown",
   "id": "a97977d9-cc69-4899-ab2d-c9a21e4daac9",
   "metadata": {},
   "source": [
    "Paired t-test calculations.  \\\n",
    "You can use Python and scipy states stats.t-test realted to run a paired t test\n",
    "\n",
    "The you can find the t-statistic for the mean difference using the stanadrd errror of the differences.  This is a one sample t-test where the $\\mu$ is 0 for the new set of data (the differences)"
   ]
  },
  {
   "cell_type": "code",
   "execution_count": 14,
   "id": "589e98a1-085a-4575-a31c-e5655bbb0521",
   "metadata": {},
   "outputs": [
    {
     "data": {
      "text/plain": [
       "Ttest_relResult(statistic=-2.5474643964264483, pvalue=0.03132478983040782)"
      ]
     },
     "execution_count": 14,
     "metadata": {},
     "output_type": "execute_result"
    }
   ],
   "source": [
    "#Python use scipy stats.t-test related\n",
    "stats.ttest_rel(A,B)"
   ]
  },
  {
   "cell_type": "code",
   "execution_count": 15,
   "id": "41d3a32d-ead5-43f9-9403-3b2e8c50359f",
   "metadata": {},
   "outputs": [
    {
     "name": "stdout",
     "output_type": "stream",
     "text": [
      "2.5474643964264483\n"
     ]
    }
   ],
   "source": [
    "t_paired= ((mean_diff)/(std_diff/np.sqrt(10)))\n",
    "print(t_paired)"
   ]
  },
  {
   "cell_type": "markdown",
   "id": "a5607e97-7c17-4720-bffc-d4ca26ea484b",
   "metadata": {},
   "source": [
    "You can find the p-value here by finding the probability of finding a t-value of 2.548 using alpha = 0.05 and a two-sided test.  This is betwee n p=0.01 and p=0.025 by the table for dof=9, so double this is p=0.02 to 0.05.  The exact p-value found was p=0.031, so we can reject the null hypothesis and accept that there is indeed a difference in the mean difference.  This agrees with the CI above, which it always will.   "
   ]
  },
  {
   "cell_type": "code",
   "execution_count": null,
   "id": "72224ebd-0b8d-4c53-a0f6-a1e8c6647415",
   "metadata": {},
   "outputs": [],
   "source": []
  },
  {
   "cell_type": "code",
   "execution_count": null,
   "id": "f993d468-7f1e-44ed-84fc-062ca1eeab29",
   "metadata": {},
   "outputs": [],
   "source": []
  }
 ],
 "metadata": {
  "kernelspec": {
   "display_name": "Python 3 (ipykernel)",
   "language": "python",
   "name": "python3"
  },
  "language_info": {
   "codemirror_mode": {
    "name": "ipython",
    "version": 3
   },
   "file_extension": ".py",
   "mimetype": "text/x-python",
   "name": "python",
   "nbconvert_exporter": "python",
   "pygments_lexer": "ipython3",
   "version": "3.9.13"
  }
 },
 "nbformat": 4,
 "nbformat_minor": 5
}
