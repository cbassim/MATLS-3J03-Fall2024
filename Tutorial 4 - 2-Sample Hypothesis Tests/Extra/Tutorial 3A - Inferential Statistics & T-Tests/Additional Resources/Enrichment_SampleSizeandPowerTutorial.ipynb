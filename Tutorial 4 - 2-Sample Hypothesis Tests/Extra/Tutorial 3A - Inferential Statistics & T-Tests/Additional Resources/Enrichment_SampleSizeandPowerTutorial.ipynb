{
 "cells": [
  {
   "cell_type": "code",
   "execution_count": 1,
   "id": "b983a835-38ef-44ea-998c-58cb98aa7a70",
   "metadata": {},
   "outputs": [
    {
     "name": "stdin",
     "output_type": "stream",
     "text": [
      "Once deleted, variables cannot be recovered. Proceed (y/[n])?  y\n"
     ]
    }
   ],
   "source": [
    "%reset\n",
    "import numpy as np\n",
    "import pandas as pd\n",
    "import matplotlib.pyplot as plt\n",
    "import seaborn as sns\n",
    "import scipy\n",
    "from scipy import stats\n",
    "from scipy.stats import norm\n",
    "import statsmodels.api as sm"
   ]
  },
  {
   "cell_type": "markdown",
   "id": "20c56964-0d71-4d9d-a45f-918819437371",
   "metadata": {},
   "source": [
    "# Power and Sample Size"
   ]
  },
  {
   "cell_type": "markdown",
   "id": "c4e5eecb-48b7-4d91-8255-6105cfe7fd2d",
   "metadata": {},
   "source": [
    "Statistical power is the probability of of a statistical test to correctly reject the null hypthesis and find a significant effect when an effect exisits.  "
   ]
  },
  {
   "cell_type": "markdown",
   "id": "31f166c1-8341-419b-a996-c624257c736f",
   "metadata": {},
   "source": [
    "# Power Calculations"
   ]
  },
  {
   "cell_type": "code",
   "execution_count": 2,
   "id": "64cf7cf8-bd77-4177-bc2c-d3b1c4b7aaf9",
   "metadata": {},
   "outputs": [],
   "source": [
    "import statsmodels.stats.power as smp"
   ]
  },
  {
   "cell_type": "markdown",
   "id": "5266e2b0-4e21-4dba-ad87-1b56684e9ccd",
   "metadata": {},
   "source": [
    "Example from leture of one sample, 1-sided test\n",
    "Signal to Noise ratio = 110 versus 100.  Find the power. \\\n",
    "Different to be found = mean 1- true mean = 110 -100 = 10. \\\n",
    "Standard deviation = s= 20.  \\\n",
    "n= 16 observations. \\\n",
    "alpha = 0.05\n",
    "\n",
    "power = probability(-t (at dof=n-1, 1-alpha) + ES) \\\n",
    "ES = |difference|/standard deviation = 10/SEM = 10/20/sqrt(16) = 10/5=2 \\\n",
    "power = probability (-1.753+2) = probability (0.247) = 60%\n",
    "\n",
    "for z test power = probability(-z (at 0.95) + ES) \\\n",
    "power = probability (-1.645 + 2) = probability (0.355) = 63%"
   ]
  },
  {
   "cell_type": "code",
   "execution_count": 3,
   "id": "86d915d8-9e74-48fc-91ef-202adbbff424",
   "metadata": {},
   "outputs": [
    {
     "data": {
      "text/plain": [
       "1.7530503556925547"
      ]
     },
     "execution_count": 3,
     "metadata": {},
     "output_type": "execute_result"
    }
   ],
   "source": [
    "stats.t.ppf(0.95,15)"
   ]
  },
  {
   "cell_type": "code",
   "execution_count": 4,
   "id": "13ae8b5f-40af-4a4a-bebe-97b29f42b7e9",
   "metadata": {},
   "outputs": [
    {
     "data": {
      "text/plain": [
       "0.5958715597043723"
      ]
     },
     "execution_count": 4,
     "metadata": {},
     "output_type": "execute_result"
    }
   ],
   "source": [
    "stats.t.cdf(0.247,15)"
   ]
  },
  {
   "cell_type": "code",
   "execution_count": 5,
   "id": "96055a6b-ae23-40e7-a96d-f837ca074629",
   "metadata": {},
   "outputs": [
    {
     "data": {
      "text/plain": [
       "1.6448536269514722"
      ]
     },
     "execution_count": 5,
     "metadata": {},
     "output_type": "execute_result"
    }
   ],
   "source": [
    "stats.norm.ppf(0.95)"
   ]
  },
  {
   "cell_type": "code",
   "execution_count": 6,
   "id": "3c59a616-f670-488e-bd24-d1c60dcb95ba",
   "metadata": {},
   "outputs": [
    {
     "data": {
      "text/plain": [
       "0.6387052043836872"
      ]
     },
     "execution_count": 6,
     "metadata": {},
     "output_type": "execute_result"
    }
   ],
   "source": [
    "stats.norm.cdf(0.355)"
   ]
  },
  {
   "cell_type": "markdown",
   "id": "0d385bbc-5d83-45e0-afdd-841e309234e2",
   "metadata": {},
   "source": [
    "for using the power functions in python, the effect size is the diff/std estimate. \\\n",
    "for a one sample indepndent z-test power calculation, state that the ratio is 0. \\\n",
    "The one-sided test here is for larger test alternative. "
   ]
  },
  {
   "cell_type": "code",
   "execution_count": 7,
   "id": "252a3100-827e-428b-817b-de0aaf6936c7",
   "metadata": {},
   "outputs": [
    {
     "data": {
      "text/plain": [
       "0.638760031312335"
      ]
     },
     "execution_count": 7,
     "metadata": {},
     "output_type": "execute_result"
    }
   ],
   "source": [
    "smp.zt_ind_solve_power(effect_size=(10/20),alpha=0.05, nobs1=16,ratio=0,alternative='larger')"
   ]
  },
  {
   "cell_type": "markdown",
   "id": "cddb775f-29c0-447a-8a36-47f269e7fe40",
   "metadata": {},
   "source": [
    "for using a one-sample t-test power calculation, alternative='larger' for one sample"
   ]
  },
  {
   "cell_type": "code",
   "execution_count": 8,
   "id": "418855e0-24af-4cf5-b912-d2e09b8c8b1a",
   "metadata": {},
   "outputs": [
    {
     "data": {
      "text/plain": [
       "0.6040328683316007"
      ]
     },
     "execution_count": 8,
     "metadata": {},
     "output_type": "execute_result"
    }
   ],
   "source": [
    "smp.ttest_power(effect_size=(10/20), nobs=16, alpha=0.05, alternative='larger')"
   ]
  },
  {
   "cell_type": "markdown",
   "id": "27c94e12-7777-4048-ab12-20c0049263ea",
   "metadata": {},
   "source": [
    "# For the much more common test of 2 independent samples, use the 2 sample power calculation for independent means. \n",
    "\n",
    "For example:  Suppose 100 oral contraceptive users and 100 non-oral contraceptive users are recruited for a study on systolic blood pressure (SBP) and oral contraceptive use.  A true differene in mean SBP is anticipated of 5 mmHg.  How much power would the study have assuming that the variances are similar and are OC users s=15.34 and non-OC users s=18.23.\n",
    "\n",
    "power = probability (-z (at sig. level 1 - alpha/2) + ES) \n",
    "\n",
    "ES = difference in sample means / SEM\n",
    "\n",
    "If you assume equal variance between samples:  the pooled standard deviation is the appropriate estimate of the standard deviation.  Then the SEM = s(pooled)*sqrt(1/n1 +1/n2)\n",
    "\n",
    "s(pooled) = sqrt ( ((99)15.34^2 +(99)18.23^2) / (100+100-2) = sqrt( (23296.24 + 32900.96) / 198) = 16.85\n",
    "\n",
    "ES = 5/(16.85* sqrt((1/100+1/100))) = 5/ (2.383) = 2.098\n",
    "\n",
    "power= probability (z<-1.96 + 2.098) = (z<0.138) = 0.5557 = 56%"
   ]
  },
  {
   "cell_type": "code",
   "execution_count": 9,
   "id": "f6466685-0765-4c6d-8de7-2339549a081b",
   "metadata": {},
   "outputs": [
    {
     "data": {
      "text/plain": [
       "0.5548797912262711"
      ]
     },
     "execution_count": 9,
     "metadata": {},
     "output_type": "execute_result"
    }
   ],
   "source": [
    "stats.norm.cdf(.138)"
   ]
  },
  {
   "cell_type": "code",
   "execution_count": 10,
   "id": "3f8bed6a-62d8-4574-8cf4-a0841f4b532a",
   "metadata": {},
   "outputs": [
    {
     "data": {
      "text/plain": [
       "0.5509876916375547"
      ]
     },
     "execution_count": 10,
     "metadata": {},
     "output_type": "execute_result"
    }
   ],
   "source": [
    "# 2 sample t test power calculation\n",
    "# ratio=1 for equal sample sizes\n",
    "smp.tt_ind_solve_power(effect_size=(5/16.85),nobs1=100,alpha=0.05,alternative='two-sided',ratio=1)"
   ]
  },
  {
   "cell_type": "code",
   "execution_count": 11,
   "id": "4ac31206-f2d6-4160-b0d0-c422e5b4493d",
   "metadata": {},
   "outputs": [
    {
     "data": {
      "text/plain": [
       "0.5550134698036001"
      ]
     },
     "execution_count": 11,
     "metadata": {},
     "output_type": "execute_result"
    }
   ],
   "source": [
    "smp.zt_ind_solve_power(effect_size=(5/16.85),alpha=0.05, nobs1=100,ratio=1,alternative='two-sided')"
   ]
  },
  {
   "cell_type": "markdown",
   "id": "88972b31-7a30-40bf-8358-e5e6d0f2bff6",
   "metadata": {},
   "source": [
    "# Sample Size Calculations for 2-sample independent means test. \n",
    "n = 2* standard deviation ^2 * (z at 1-alpha + z at 1-beta)^2 / (mean1-mean2)^2"
   ]
  },
  {
   "cell_type": "markdown",
   "id": "f780ae0c-49b8-4793-8370-60e26c6ef06a",
   "metadata": {},
   "source": [
    "For the exmaple in lecture:  the sample size calculation for the one-sample, one sample t-test with: \\\n",
    "mean0= 100; mean1=110; difference in mean =-10 \\\n",
    "s= 20; alpha = 1-0.05 (one sided); beta = 0.1 for a power of 1-beta=0.90. \\\n",
    " \n",
    "z at 0.95 = 1.64 \\\n",
    "z at 0.90 = 1.29\n",
    "\n",
    "nobs (using z distribution) = 20^2 *(1.64+1.29)^2 / 100 = 4 * 8.5849= 34.340\n",
    "round up to the next interger to ensure adequate sample size\n",
    "\n",
    "if you are worried about low numbers then we would use this n=35 for the sample size and use this in the t-distirbution to find a better sample size.\n",
    "\n",
    "t at 0.95 and dof=34 = 1.69 \\\n",
    "t at 0.90 and dof=34 = 1.31\n",
    "\n",
    "nobs= 20^2 * (1.69+1.31)^2 / (-10^2) = 400* (9) / 100 = 36 in the sample"
   ]
  },
  {
   "cell_type": "code",
   "execution_count": 12,
   "id": "9ebb81b8-f752-4fc4-9f21-484931c3f3de",
   "metadata": {},
   "outputs": [
    {
     "data": {
      "text/plain": [
       "1.6448536269514722"
      ]
     },
     "execution_count": 12,
     "metadata": {},
     "output_type": "execute_result"
    }
   ],
   "source": [
    "stats.norm.ppf(0.95)"
   ]
  },
  {
   "cell_type": "code",
   "execution_count": 13,
   "id": "519ccfee-c523-4a7a-ac00-a8a94bc50beb",
   "metadata": {},
   "outputs": [
    {
     "data": {
      "text/plain": [
       "1.2815515655446004"
      ]
     },
     "execution_count": 13,
     "metadata": {},
     "output_type": "execute_result"
    }
   ],
   "source": [
    "stats.norm.ppf(0.90)"
   ]
  },
  {
   "cell_type": "code",
   "execution_count": 14,
   "id": "43534160-4213-4757-b91e-49600a1d8567",
   "metadata": {},
   "outputs": [
    {
     "data": {
      "text/plain": [
       "34.25538932669148"
      ]
     },
     "execution_count": 14,
     "metadata": {},
     "output_type": "execute_result"
    }
   ],
   "source": [
    "smp.zt_ind_solve_power(effect_size=(10/20),alpha=0.05, power=0.9,ratio=0,alternative='larger')"
   ]
  },
  {
   "cell_type": "code",
   "execution_count": 15,
   "id": "4397523c-8d9b-47b4-a7eb-9a9036693458",
   "metadata": {},
   "outputs": [
    {
     "data": {
      "text/plain": [
       "1.6909242507706543"
      ]
     },
     "execution_count": 15,
     "metadata": {},
     "output_type": "execute_result"
    }
   ],
   "source": [
    "stats.t.ppf(0.95,34)"
   ]
  },
  {
   "cell_type": "code",
   "execution_count": 16,
   "id": "ae2e1bd0-a700-45f1-b508-056ebcc23e40",
   "metadata": {},
   "outputs": [
    {
     "data": {
      "text/plain": [
       "1.3069515856238303"
      ]
     },
     "execution_count": 16,
     "metadata": {},
     "output_type": "execute_result"
    }
   ],
   "source": [
    "stats.t.ppf(0.90,34)"
   ]
  },
  {
   "cell_type": "markdown",
   "id": "d55aba3c-7883-4704-b533-5eadfa7dae01",
   "metadata": {},
   "source": [
    "# More common case is with an independent two-sample test of means.  For the example in lecture: \n",
    "\n",
    "estimate of difference=5 \n",
    "\n",
    "standard deviation = 12, assume equal variance \n",
    "\n",
    "alpha =0.05 \n",
    "\n",
    "beta= 0.20, power = 0.8 \n",
    "\n",
    "z at 1-aplha/2 for 2-sided test = 1.96 \n",
    "\n",
    "z at 0.80 = 0.84\n",
    "\n",
    "n = 2* 12^2 * (1.96+0.84)^2 / 5^2     \n",
    "  = 2 * 144 * (2.8)^2 / 25  = 90.317 or 91 per sample group.    "
   ]
  },
  {
   "cell_type": "code",
   "execution_count": 17,
   "id": "e9832fdb-88f6-4331-bb64-a0b07c48d7b5",
   "metadata": {},
   "outputs": [
    {
     "data": {
      "text/plain": [
       "91.38922486804839"
      ]
     },
     "execution_count": 17,
     "metadata": {},
     "output_type": "execute_result"
    }
   ],
   "source": [
    "smp.tt_ind_solve_power(effect_size=(5/12),power=0.8,alpha=0.05,alternative='two-sided',ratio=1)"
   ]
  },
  {
   "cell_type": "code",
   "execution_count": 18,
   "id": "d836c912-6e3f-4807-b917-ced32f67eab7",
   "metadata": {},
   "outputs": [
    {
     "data": {
      "text/plain": [
       "1.959963984540054"
      ]
     },
     "execution_count": 18,
     "metadata": {},
     "output_type": "execute_result"
    }
   ],
   "source": [
    "stats.norm.ppf(.975)"
   ]
  },
  {
   "cell_type": "code",
   "execution_count": 19,
   "id": "b464f4d6-a863-42df-bf82-9de57b516ab8",
   "metadata": {},
   "outputs": [
    {
     "data": {
      "text/plain": [
       "0.8416212335729143"
      ]
     },
     "execution_count": 19,
     "metadata": {},
     "output_type": "execute_result"
    }
   ],
   "source": [
    "stats.norm.ppf(0.80)"
   ]
  },
  {
   "cell_type": "code",
   "execution_count": 20,
   "id": "4ac30205-b629-40fe-b8e0-051fcd0ed0c1",
   "metadata": {},
   "outputs": [
    {
     "data": {
      "text/plain": [
       "90.41887362430442"
      ]
     },
     "execution_count": 20,
     "metadata": {},
     "output_type": "execute_result"
    }
   ],
   "source": [
    "smp.zt_ind_solve_power(effect_size=(5/12),alpha=0.05,power=0.8,ratio=1,alternative='two-sided')"
   ]
  },
  {
   "cell_type": "code",
   "execution_count": null,
   "id": "070aba66-c32e-4bf7-9c83-d91c77aca6dc",
   "metadata": {},
   "outputs": [],
   "source": []
  },
  {
   "cell_type": "code",
   "execution_count": null,
   "id": "1b36b2ab-37b6-45a6-9ae0-ad87caf311f8",
   "metadata": {},
   "outputs": [],
   "source": []
  }
 ],
 "metadata": {
  "kernelspec": {
   "display_name": "Python 3 (ipykernel)",
   "language": "python",
   "name": "python3"
  },
  "language_info": {
   "codemirror_mode": {
    "name": "ipython",
    "version": 3
   },
   "file_extension": ".py",
   "mimetype": "text/x-python",
   "name": "python",
   "nbconvert_exporter": "python",
   "pygments_lexer": "ipython3",
   "version": "3.9.13"
  }
 },
 "nbformat": 4,
 "nbformat_minor": 5
}
