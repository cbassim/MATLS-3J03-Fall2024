{
 "cells": [
  {
   "cell_type": "markdown",
   "id": "f9bd0671-7805-43c1-815e-e2444b148fb7",
   "metadata": {},
   "source": [
    "# TUTORIAL 4 EXERCISE"
   ]
  },
  {
   "cell_type": "markdown",
   "id": "e794f5b3-f752-43db-b129-2f5c05f02572",
   "metadata": {},
   "source": [
    "## PART 1\n",
    "A biomaterials engineer has proposed two different topographies for a stent. Each of these two topographies have been investigated for their angiogenesis (blood vessel formation) potential. Angiogenesis activity was measured using a fluorescence-based assays (a.u.) where higher values suggest greater amounts of blood vessel formation. \n",
    "\n",
    "__What is the appropriate statistical test for this data?__ "
   ]
  },
  {
   "cell_type": "markdown",
   "id": "ebd6726c-9374-475d-8c8e-3d3ba59b7e78",
   "metadata": {},
   "source": [
    "Difference of Means Independent T-Test, Student's T-Test, Welch's T-Test"
   ]
  },
  {
   "cell_type": "markdown",
   "id": "7271a174-8b62-4ed7-96d2-e4ccf0267030",
   "metadata": {},
   "source": [
    "__Importing relevant libraries!__"
   ]
  },
  {
   "cell_type": "code",
   "execution_count": 11,
   "id": "0f5cbc8a-9d19-474e-aeb2-33dc38d6d951",
   "metadata": {},
   "outputs": [],
   "source": [
    "import pandas as pd #library to work with data frames\n",
    "import numpy as np #library to work with data frames\n",
    "import matplotlib.pyplot as plt #library to plot figure\n",
    "import matplotlib.dates as mdates #library for visualization\n",
    "import seaborn as sns #library to plot figures\n",
    "import scipy\n",
    "from scipy import stats\n",
    "from scipy.stats import t\n",
    "import statsmodels.api as sm\n"
   ]
  },
  {
   "cell_type": "markdown",
   "id": "727f97a7-7a12-4acd-8054-50400375e1b5",
   "metadata": {},
   "source": [
    "__Reading the data and generating descriptive statistics.__"
   ]
  },
  {
   "cell_type": "code",
   "execution_count": 60,
   "id": "e7e0bc9d-6393-49ff-8146-565ecf86a4e7",
   "metadata": {},
   "outputs": [],
   "source": [
    "#Creating dataset\n",
    "topographyA = np.array([15.8,17.3,15.7,16.9,18.5,17.3,16.5,18.1])\n",
    "topographyA_df = pd.DataFrame(topographyA)\n",
    "topographyB = np.array([18.5,19.4,19.3,20.1,19.6,19,18.5,18])\n",
    "topographyB_df = pd.DataFrame(topographyB)\n",
    "df=pd.concat([topographyA_df,topographyB_df],axis=\"columns\")\n",
    "df.columns=[\"topographyA\",\"topographyB\"]"
   ]
  },
  {
   "cell_type": "code",
   "execution_count": 62,
   "id": "d4952abb-e325-4bbe-9c03-624b75c47e3b",
   "metadata": {},
   "outputs": [
    {
     "data": {
      "text/html": [
       "<div>\n",
       "<style scoped>\n",
       "    .dataframe tbody tr th:only-of-type {\n",
       "        vertical-align: middle;\n",
       "    }\n",
       "\n",
       "    .dataframe tbody tr th {\n",
       "        vertical-align: top;\n",
       "    }\n",
       "\n",
       "    .dataframe thead th {\n",
       "        text-align: right;\n",
       "    }\n",
       "</style>\n",
       "<table border=\"1\" class=\"dataframe\">\n",
       "  <thead>\n",
       "    <tr style=\"text-align: right;\">\n",
       "      <th></th>\n",
       "      <th>topographyA</th>\n",
       "      <th>topographyB</th>\n",
       "    </tr>\n",
       "  </thead>\n",
       "  <tbody>\n",
       "    <tr>\n",
       "      <th>count</th>\n",
       "      <td>8.000000</td>\n",
       "      <td>8.000000</td>\n",
       "    </tr>\n",
       "    <tr>\n",
       "      <th>mean</th>\n",
       "      <td>17.012500</td>\n",
       "      <td>19.050000</td>\n",
       "    </tr>\n",
       "    <tr>\n",
       "      <th>std</th>\n",
       "      <td>1.002051</td>\n",
       "      <td>0.686607</td>\n",
       "    </tr>\n",
       "    <tr>\n",
       "      <th>min</th>\n",
       "      <td>15.700000</td>\n",
       "      <td>18.000000</td>\n",
       "    </tr>\n",
       "    <tr>\n",
       "      <th>25%</th>\n",
       "      <td>16.325000</td>\n",
       "      <td>18.500000</td>\n",
       "    </tr>\n",
       "    <tr>\n",
       "      <th>50%</th>\n",
       "      <td>17.100000</td>\n",
       "      <td>19.150000</td>\n",
       "    </tr>\n",
       "    <tr>\n",
       "      <th>75%</th>\n",
       "      <td>17.500000</td>\n",
       "      <td>19.450000</td>\n",
       "    </tr>\n",
       "    <tr>\n",
       "      <th>max</th>\n",
       "      <td>18.500000</td>\n",
       "      <td>20.100000</td>\n",
       "    </tr>\n",
       "  </tbody>\n",
       "</table>\n",
       "</div>"
      ],
      "text/plain": [
       "       topographyA  topographyB\n",
       "count     8.000000     8.000000\n",
       "mean     17.012500    19.050000\n",
       "std       1.002051     0.686607\n",
       "min      15.700000    18.000000\n",
       "25%      16.325000    18.500000\n",
       "50%      17.100000    19.150000\n",
       "75%      17.500000    19.450000\n",
       "max      18.500000    20.100000"
      ]
     },
     "execution_count": 62,
     "metadata": {},
     "output_type": "execute_result"
    }
   ],
   "source": [
    "#Generating Descriptive Statistics for both Datasets\n",
    "\n",
    "df.describe()"
   ]
  },
  {
   "cell_type": "code",
   "execution_count": 64,
   "id": "0fd33767-5d3f-4c9d-b1f5-afde663c38f3",
   "metadata": {},
   "outputs": [
    {
     "data": {
      "text/plain": [
       "<Axes: >"
      ]
     },
     "execution_count": 64,
     "metadata": {},
     "output_type": "execute_result"
    },
    {
     "data": {
      "image/png": "[encoded data removed]",
      "text/plain": [
       "<Figure size 640x480 with 1 Axes>"
      ]
     },
     "metadata": {},
     "output_type": "display_data"
    }
   ],
   "source": [
    "sns.boxplot(df)"
   ]
  },
  {
   "cell_type": "markdown",
   "id": "18a14907-7623-4fbf-900c-88c07c6baac0",
   "metadata": {},
   "source": [
    "## PART 2\n",
    "__What assumptions are you making by choosing this test? Justify why they are acceptable.__  "
   ]
  },
  {
   "cell_type": "markdown",
   "id": "2a90b779-f7b1-4d52-a611-358e891ec0f7",
   "metadata": {},
   "source": [
    "Shapiro-wilk tests indicate that the data is normally distributed. (2 points)\n",
    "Independent datasets (1 point)\n",
    "Equal variances, levene’s test (2 points)"
   ]
  },
  {
   "cell_type": "code",
   "execution_count": 20,
   "id": "74577c2e-daf9-46ef-8934-54dca77f6d15",
   "metadata": {},
   "outputs": [
    {
     "name": "stdout",
     "output_type": "stream",
     "text": [
      "topographyA Shapiro-Wilk results: ShapiroResult(statistic=0.9502196816328298, pvalue=0.7134474607946177)\n",
      "topographyB Shapiro-Wilk results: ShapiroResult(statistic=0.9743107036771741, pvalue=0.9295205456536803)\n"
     ]
    }
   ],
   "source": [
    "print(\"topographyA Shapiro-Wilk results:\", stats.shapiro(topographyA))\n",
    "print(\"topographyB Shapiro-Wilk results:\", stats.shapiro(topographyB))"
   ]
  },
  {
   "cell_type": "code",
   "execution_count": 22,
   "id": "797c2b94-a5f4-4178-aafb-19b4f2b25b0d",
   "metadata": {},
   "outputs": [
    {
     "name": "stdout",
     "output_type": "stream",
     "text": [
      "LeveneResult(statistic=1.0226628895184167, pvalue=0.3290476256038563)\n"
     ]
    }
   ],
   "source": [
    "#Levene's Test\n",
    "print(stats.levene(topographyA, topographyB, center='median'))"
   ]
  },
  {
   "cell_type": "code",
   "execution_count": 69,
   "id": "07fc877f-d11f-45f3-b99f-b28c258a2a01",
   "metadata": {},
   "outputs": [
    {
     "name": "stdout",
     "output_type": "stream",
     "text": [
      "Figure(640x480)\n"
     ]
    },
    {
     "data": {
      "image/png": "[encoded data removed]",
      "text/plain": [
       "<Figure size 640x480 with 1 Axes>"
      ]
     },
     "metadata": {},
     "output_type": "display_data"
    }
   ],
   "source": [
    "print(sm.qqplot(topographyA,line='45',loc=np.mean(topographyA),scale=np.std(topographyA,ddof=1)))"
   ]
  },
  {
   "cell_type": "code",
   "execution_count": 71,
   "id": "67ae2e96-b37a-4489-bb70-9110af4c59a7",
   "metadata": {},
   "outputs": [
    {
     "name": "stdout",
     "output_type": "stream",
     "text": [
      "Figure(640x480)\n"
     ]
    },
    {
     "data": {
      "image/png": "[encoded data removed]",
      "text/plain": [
       "<Figure size 640x480 with 1 Axes>"
      ]
     },
     "metadata": {},
     "output_type": "display_data"
    }
   ],
   "source": [
    "print(sm.qqplot(topographyB,line='45',loc=np.mean(topographyB),scale=np.std(topographyB,ddof=1)))"
   ]
  },
  {
   "cell_type": "markdown",
   "id": "db5abf81-2110-4247-989e-2b35e26300cf",
   "metadata": {},
   "source": [
    "## PART 3: Provide the 7 steps of the Procedures for Hypothesis Tests\n",
    "__1. Paramater of Interest__\n",
    "\n",
    "__2. State the null hypothesis__\n",
    "\n",
    "__3. State the null hypothesis__\n",
    "\n",
    "__4. Determine appropriate test statistic__\n",
    "\n",
    "__5. State the rejection criteria for null hypothesis__\n",
    "\n",
    "__6. Computations__\n",
    "\n",
    "__7. Draw Conclusions__"
   ]
  },
  {
   "cell_type": "code",
   "execution_count": 121,
   "id": "963b68db-c039-43aa-aa04-c674b62cd4dc",
   "metadata": {},
   "outputs": [
    {
     "data": {
      "text/plain": [
       "17.0125"
      ]
     },
     "execution_count": 121,
     "metadata": {},
     "output_type": "execute_result"
    }
   ],
   "source": [
    "# mean of topographyA\n",
    "np.mean(topographyA)"
   ]
  },
  {
   "cell_type": "code",
   "execution_count": 125,
   "id": "387b3d1b-3b04-4fbd-b00a-745dffcda860",
   "metadata": {},
   "outputs": [
    {
     "data": {
      "text/plain": [
       "2.0375000000000014"
      ]
     },
     "execution_count": 125,
     "metadata": {},
     "output_type": "execute_result"
    }
   ],
   "source": [
    "# Step 1: parameter of interest is difference in means\n",
    "np.mean(topographyB)-np.mean(topographyA)"
   ]
  },
  {
   "cell_type": "markdown",
   "id": "04d075c1-a9f5-4528-96ea-6dfb77e47f63",
   "metadata": {},
   "source": [
    "Step 2:  state the null hypothesis\n",
    "\n",
    "Is it a one-sided test or a two-sided test?\n",
    "\n",
    "two sided\n",
    "\n",
    "Null hypthesis= H0= $\\mu1$=$\\mu2$ \n",
    "\n",
    "Step 3: state the alternative hypothesis\n",
    "\n",
    "Alternative hypothesis - HA = $\\mu1$ $\\neq$ $\\mu2$\n",
    "\n",
    "Step 4:  test statistic is:  \n"
   ]
  },
  {
   "attachments": {
    "666a7849-21b2-410c-aa5f-5b85b78951af.png": {
     "image/png": "[encoded data removed]"
    }
   },
   "cell_type": "markdown",
   "id": "3206d56b-44f5-458d-bfee-d446741fd8be",
   "metadata": {},
   "source": [
    "The t statistic to test whether the means are different can be calculated as follows: \\\n",
    "![image.png](attachment:666a7849-21b2-410c-aa5f-5b85b78951af.png)"
   ]
  },
  {
   "attachments": {},
   "cell_type": "markdown",
   "id": "c3946e45-c3f8-4d61-b93b-f6486529fa2b",
   "metadata": {},
   "source": [
    "Step 5:  Reject Ho if p-value less than 0.05.  The critical values at this alhpa value are t=\n",
    "\n",
    "n − 1 is the number of degrees of freedom for each group, and the total sample size minus two (that is, n1 + n2 − 2) is the total number of degrees of freedom, which is used in significance testing.\n",
    "\n",
    "14 dof, n1+n2-2 = 8+8-2=14"
   ]
  },
  {
   "cell_type": "code",
   "execution_count": 209,
   "id": "0ff2e0d6-3217-4aff-a2fd-7d549e7cb53e",
   "metadata": {},
   "outputs": [
    {
     "data": {
      "text/plain": [
       "-2.1447866879169277"
      ]
     },
     "execution_count": 209,
     "metadata": {},
     "output_type": "execute_result"
    }
   ],
   "source": [
    "# critical value of t at dof=14 and at alpha/2 = 0.025\n",
    "stats.t.ppf(0.025,14)"
   ]
  },
  {
   "cell_type": "code",
   "execution_count": 211,
   "id": "7b82ca68-2cca-4039-9302-96b35d264e65",
   "metadata": {},
   "outputs": [
    {
     "data": {
      "text/plain": [
       "2.1447866879169273"
      ]
     },
     "execution_count": 211,
     "metadata": {},
     "output_type": "execute_result"
    }
   ],
   "source": [
    "# critical value of t at dof=14 and at alpha/2 = 0.975\n",
    "stats.t.ppf(0.975,14)"
   ]
  },
  {
   "attachments": {
    "affb81c8-80e6-4216-ac9f-b0038f781747.png": {
     "image/png": "[encoded data removed]"
    }
   },
   "cell_type": "markdown",
   "id": "24a7f02b-a381-4f34-ab10-442b2d49b41e",
   "metadata": {},
   "source": [
    "Step 6 Computations\n",
    "\n",
    "We will calculate a pooled estimate of the combined standard deviations, which is a weighted average of the two standard deviations, used when the variances are equivalent to each other\n",
    "\n",
    "![image.png](attachment:affb81c8-80e6-4216-ac9f-b0038f781747.png)"
   ]
  },
  {
   "cell_type": "code",
   "execution_count": 193,
   "id": "2c3c14c1-bfcc-4e88-b334-5f7446a881b3",
   "metadata": {},
   "outputs": [
    {
     "name": "stdout",
     "output_type": "stream",
     "text": [
      "The pooled standard deviation is:  0.8589341401660884\n"
     ]
    }
   ],
   "source": [
    "s_pooled=np.sqrt((((8-1)*np.std(topographyA,ddof=1)**2)+((8-1)*np.std(topographyB,ddof=1)**2))/(8+8-2))\n",
    "print(\"The pooled standard deviation is:  \"+str(s_pooled))"
   ]
  },
  {
   "cell_type": "code",
   "execution_count": 195,
   "id": "53b94a86-2747-4e53-a0c8-35baadc82739",
   "metadata": {},
   "outputs": [
    {
     "name": "stdout",
     "output_type": "stream",
     "text": [
      "The standard error of the difference is: 0.4294670700830442\n"
     ]
    }
   ],
   "source": [
    "StandErrorDiff=s_pooled*(np.sqrt(1/8+1/8))\n",
    "print(\"The standard error of the difference is: \"+str(StandErrorDiff))"
   ]
  },
  {
   "cell_type": "code",
   "execution_count": 197,
   "id": "f5845ada-7b17-4185-979d-8c041686dd0b",
   "metadata": {},
   "outputs": [
    {
     "data": {
      "text/plain": [
       "-4.744251985620268"
      ]
     },
     "execution_count": 197,
     "metadata": {},
     "output_type": "execute_result"
    }
   ],
   "source": [
    "t= (np.mean(topographyA)-np.mean(topographyB)) / StandErrorDiff\n",
    "t"
   ]
  },
  {
   "cell_type": "markdown",
   "id": "3cb65c45-35a5-4c67-af73-2ad8c0b07121",
   "metadata": {},
   "source": [
    "Step 7:  Conclusions"
   ]
  },
  {
   "cell_type": "code",
   "execution_count": 223,
   "id": "0d6df502-c5cd-4048-adb8-9667096b0c6a",
   "metadata": {},
   "outputs": [
    {
     "data": {
      "text/plain": [
       "0.00015690266414523286"
      ]
     },
     "execution_count": 223,
     "metadata": {},
     "output_type": "execute_result"
    }
   ],
   "source": [
    "stats.t.cdf(-4.7443,14)"
   ]
  },
  {
   "cell_type": "code",
   "execution_count": 225,
   "id": "9b555b7b-d2ab-4ef6-89ee-eda452fe10b2",
   "metadata": {},
   "outputs": [
    {
     "data": {
      "text/plain": [
       "0.00031380532829046573"
      ]
     },
     "execution_count": 225,
     "metadata": {},
     "output_type": "execute_result"
    }
   ],
   "source": [
    "# multiply by 2 for 2-sided test\n",
    "2* (stats.t.cdf(-4.7443,14))"
   ]
  },
  {
   "cell_type": "markdown",
   "id": "fb858380-ce2b-4bdd-a9a4-e5d84ea35d96",
   "metadata": {},
   "source": [
    "## PART 4\n",
    "__Use python to validate the hyptheisis test__\n",
    "\n",
    "https://docs.scipy.org/doc/scipy/reference/generated/scipy.stats.ttest_ind.html\n",
    "\n",
    "stats.ttest_ind(topographyA, topographyB, equal_var=True))"
   ]
  },
  {
   "cell_type": "code",
   "execution_count": 229,
   "id": "ff2133d5-1f73-4571-bdc5-2e8ad10a6a5f",
   "metadata": {},
   "outputs": [
    {
     "name": "stdout",
     "output_type": "stream",
     "text": [
      "TtestResult(statistic=-4.744251985620268, pvalue=0.00031383374663875653, df=14.0)\n"
     ]
    }
   ],
   "source": [
    "print(stats.ttest_ind(topographyA, topographyB, equal_var=True))"
   ]
  },
  {
   "cell_type": "markdown",
   "id": "8bc4e0e8-bb60-467c-9ca9-49ec132f0bf3",
   "metadata": {},
   "source": [
    "## PART 5\n",
    "__Compute the corresponding confidence interval for the difference of means.__"
   ]
  },
  {
   "cell_type": "code",
   "execution_count": 233,
   "id": "4aae61c0-3391-4ee1-89b0-653a7a04476b",
   "metadata": {},
   "outputs": [
    {
     "name": "stdout",
     "output_type": "stream",
     "text": [
      "The 95% difference in mean CI is: (-2.9586152548128006, -1.1163847451872022)\n"
     ]
    }
   ],
   "source": [
    "cm = sm.stats.CompareMeans(sm.stats.DescrStatsW(topographyA), sm.stats.DescrStatsW(topographyB))\n",
    "print(\"The 95% difference in mean CI is:\", cm.tconfint_diff(usevar='pooled'))"
   ]
  },
  {
   "cell_type": "code",
   "execution_count": null,
   "id": "aef3ec56-3a0f-4246-84f7-a2390ead556e",
   "metadata": {},
   "outputs": [],
   "source": []
  }
 ],
 "metadata": {
  "kernelspec": {
   "display_name": "Python 3 (ipykernel)",
   "language": "python",
   "name": "python3"
  },
  "language_info": {
   "codemirror_mode": {
    "name": "ipython",
    "version": 3
   },
   "file_extension": ".py",
   "mimetype": "text/x-python",
   "name": "python",
   "nbconvert_exporter": "python",
   "pygments_lexer": "ipython3",
   "version": "3.11.8"
  }
 },
 "nbformat": 4,
 "nbformat_minor": 5
}
