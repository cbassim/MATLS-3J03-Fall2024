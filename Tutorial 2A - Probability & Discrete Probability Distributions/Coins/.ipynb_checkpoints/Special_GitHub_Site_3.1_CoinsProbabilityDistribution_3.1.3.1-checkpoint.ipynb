{
 "cells": [
  {
   "cell_type": "markdown",
   "id": "0fbfa64e-5fc5-4afa-abf5-f9509fe3bbe5",
   "metadata": {},
   "source": [
    "# Part 3.1.Probability of Random Events and Random Variables"
   ]
  },
  {
   "cell_type": "markdown",
   "id": "9fc21f19-937a-4a16-9364-38d8cf7d9c21",
   "metadata": {},
   "source": [
    "# Chapter 3.1.3 Random Variables and Probability Distributions\n",
    "\n",
    "For our coin example, if X is the random variable used to define the chance outcome of the experiment of flipping the fair coin, then the probability distribution of X would take the value 0.5 (or 1/2) for X= Heads, and 0.5 for X= Tails.  \n",
    "\n",
    "So, a probability distribution is the mathematical function that provides the probabilities of occurrence of different possible outcomes for an experiment.  It is a mathematical description  or model of the random variable in the terms of probability.  Generally, the outcomes are more complicated that asisgning one outcome as in flipping a coin.  What probability distribution woud occur if we wanted to assign the number of heads to flipping a coin 100 times?\n",
    "\n",
    "Again, we can see the probability distribution experimentally or by assuming an underlying theoretical model.  Experimentally, we can simulate tossing a coin many times and count the number of heads.  If we repeat this experiment many times, then we can plot the histogram of the number of heads we find as the outcome of the experiment.  The histogram will show the empirical results of the experiment, and as the numbers increase, the histogram will begin to show the charateristics of the theoretical probability model.  \n",
    "\n",
    "For example, for our coin example, toss a coin 10 times and count the number of heads for 1 experiment.  Then increase the number of experiments or repeat this experiment 10 times.  Then increase the number of times that you repeat the experiment to 100 and then a very large number and see how many heaads are counted.  This histogram will begin to converge on the theoretical characteristic of 0.5% heads that we expect. "
   ]
  },
  {
   "cell_type": "code",
   "execution_count": 4,
   "id": "c39ebc38-bdd9-4c7f-9862-41fa9ad64411",
   "metadata": {
    "tags": []
   },
   "outputs": [
    {
     "data": {
      "application/vnd.jupyter.widget-view+json": {
       "model_id": "ede024dbfe264cd5beedc0dc7d5d7a36",
       "version_major": 2,
       "version_minor": 0
      },
      "text/plain": [
       "VBox(children=(IntSlider(value=1000, description='Num Experiments:', max=10000, min=1), IntSlider(value=10, de…"
      ]
     },
     "metadata": {},
     "output_type": "display_data"
    }
   ],
   "source": [
    "import ipywidgets as widgets\n",
    "from IPython.display import display, clear_output\n",
    "import matplotlib.pyplot as plt\n",
    "import numpy as np\n",
    "\n",
    "# Function to simulate a series of experiments and return the number of heads in each experiment\n",
    "def simulate_experiments(num_experiments, num_flips_per_experiment, p_heads):\n",
    "    # Simulate num_experiments, each with num_flips_per_experiment flips\n",
    "    results = []\n",
    "    for _ in range(num_experiments):\n",
    "        flips = np.random.choice([0, 1], size=num_flips_per_experiment, p=[1-p_heads, p_heads])\n",
    "        num_heads = np.sum(flips)\n",
    "        results.append(num_heads)\n",
    "    return results\n",
    "\n",
    "# Function to plot histogram of the number of heads\n",
    "def plot_histogram(num_heads, num_experiments, num_flips_per_experiment):\n",
    "    plt.figure(figsize=(10, 6))\n",
    "    plt.hist(num_heads, bins=np.arange(-0.5, num_flips_per_experiment+1.5, 1), edgecolor='black')\n",
    "    plt.xlabel('Number of Heads')\n",
    "    plt.ylabel('Frequency')\n",
    "    plt.title(f'Histogram of Number of Heads in {num_experiments} Experiments\\n({num_flips_per_experiment} flips per experiment)')\n",
    "    plt.grid(True)\n",
    "    plt.show()\n",
    "\n",
    "# Interactive widgets\n",
    "num_experiments_slider = widgets.IntSlider(value=1000, min=1, max=10000, step=1, description='Num Experiments:')\n",
    "num_flips_slider = widgets.IntSlider(value=10, min=1, max=100, step=1, description='Num Flips:')\n",
    "heads_probability_slider = widgets.FloatSlider(value=0.5, min=0, max=1.0, step=0.01, description='Probability of Heads:', readout_format='.2f')\n",
    "run_button = widgets.Button(description='Run Simulation')\n",
    "\n",
    "# Output widget for the plot\n",
    "output = widgets.Output()\n",
    "\n",
    "def on_run_button_clicked(b):\n",
    "    with output:\n",
    "        clear_output(wait=True)\n",
    "        num_experiments = num_experiments_slider.value\n",
    "        num_flips_per_experiment = num_flips_slider.value\n",
    "        p_heads = heads_probability_slider.value\n",
    "        num_heads = simulate_experiments(num_experiments, num_flips_per_experiment, p_heads)\n",
    "        plot_histogram(num_heads, num_experiments, num_flips_per_experiment)\n",
    "\n",
    "run_button.on_click(on_run_button_clicked)\n",
    "\n",
    "# Display widgets\n",
    "widgets_display = widgets.VBox([num_experiments_slider, num_flips_slider, heads_probability_slider, run_button, output])\n",
    "display(widgets_display)"
   ]
  },
  {
   "cell_type": "code",
   "execution_count": null,
   "id": "fb487d17-041e-4e9b-bcba-a2e88e5af9aa",
   "metadata": {},
   "outputs": [],
   "source": []
  }
 ],
 "metadata": {
  "kernelspec": {
   "display_name": "Python 3 (ipykernel)",
   "language": "python",
   "name": "python3"
  },
  "language_info": {
   "codemirror_mode": {
    "name": "ipython",
    "version": 3
   },
   "file_extension": ".py",
   "mimetype": "text/x-python",
   "name": "python",
   "nbconvert_exporter": "python",
   "pygments_lexer": "ipython3",
   "version": "3.11.8"
  }
 },
 "nbformat": 4,
 "nbformat_minor": 5
}
