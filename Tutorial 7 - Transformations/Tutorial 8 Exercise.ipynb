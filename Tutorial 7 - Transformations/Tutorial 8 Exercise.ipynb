{
 "cells": [
  {
   "cell_type": "markdown",
   "id": "44a341a7-741c-4440-a560-e677b4f2fd33",
   "metadata": {},
   "source": [
    "# TUTORIAL 8 EXERCISE: TRANSFORMATIONS"
   ]
  },
  {
   "cell_type": "markdown",
   "id": "d3b97950-6a72-4834-b3bc-b5cad464f8c7",
   "metadata": {},
   "source": [
    "__There is an experimental windmill that an engineer is developing to generate electricity.  They collect data on the direct current flow output from the windmill and the wind speed corresponding to the output.__  \n",
    "\n",
    "__Use the WindPower dataset  (WindPower.csv) to explore the dependence of current flow on wind speed.  Investigate a systematic method to determine if a linear model is the appropriate model to analyze the effect of x on the outcome of y.  Explore transforming the variables to find an appropriate linear model.__  \n"
   ]
  },
  {
   "cell_type": "markdown",
   "id": "5e808149-08a8-4573-bdea-d6b664451f20",
   "metadata": {},
   "source": [
    "__IMPORTING RELEVANT LIBRARIES!__"
   ]
  },
  {
   "cell_type": "code",
   "execution_count": null,
   "id": "ac0b0de0-7f30-4e36-9561-25e744dc5c99",
   "metadata": {},
   "outputs": [],
   "source": [
    "import numpy as np\n",
    "import pandas as pd\n",
    "import matplotlib.pyplot as plt\n",
    "import scipy.stats\n",
    "from scipy import stats  \n",
    "import seaborn as sns\n",
    "import statsmodels.api as sm\n",
    "from statsmodels.formula.api import ols"
   ]
  },
  {
   "cell_type": "markdown",
   "id": "99ead309-a670-42cb-bc5a-d73e6138b402",
   "metadata": {},
   "source": [
    "## __PART A__\n",
    "__Investigate the data. Should we transform the data? If yes, why?__"
   ]
  },
  {
   "cell_type": "code",
   "execution_count": null,
   "id": "0b623162-6492-4889-a2c4-df48dd6e648f",
   "metadata": {},
   "outputs": [],
   "source": []
  },
  {
   "cell_type": "markdown",
   "id": "a5b7efe3-c65d-44f2-8a65-d10c0a45ca90",
   "metadata": {},
   "source": [
    "__Let's check for the OLS model__"
   ]
  },
  {
   "cell_type": "code",
   "execution_count": null,
   "id": "c490305f-18cf-4c44-b239-b735cd8cae11",
   "metadata": {},
   "outputs": [],
   "source": []
  },
  {
   "cell_type": "markdown",
   "id": "77cbad76-141c-426b-857f-62d2e08bcb25",
   "metadata": {},
   "source": [
    "__Normality check__"
   ]
  },
  {
   "cell_type": "code",
   "execution_count": null,
   "id": "34433c9e-f670-45a6-bb12-41b14b1641ff",
   "metadata": {},
   "outputs": [],
   "source": []
  },
  {
   "cell_type": "markdown",
   "id": "ee8da64f-86f4-4199-8c53-1120348ec8c5",
   "metadata": {},
   "source": [
    "## __PART B__\n",
    "__Investigate the data. Should we transform the data? If yes, why?__"
   ]
  },
  {
   "cell_type": "markdown",
   "id": "633ee2da-fc88-44d9-b810-f08db5af13eb",
   "metadata": {},
   "source": [
    "__Experiment with different transformations.__"
   ]
  },
  {
   "cell_type": "code",
   "execution_count": null,
   "id": "978925ec-7601-4274-9146-ab8a1fba6a16",
   "metadata": {},
   "outputs": [],
   "source": []
  },
  {
   "cell_type": "markdown",
   "id": "30f310f4-4f3c-4291-8573-4fc3144772ba",
   "metadata": {},
   "source": [
    "__Choose a transformation.__"
   ]
  },
  {
   "cell_type": "code",
   "execution_count": null,
   "id": "a3236ad4-5965-41ae-acb8-b148ce566048",
   "metadata": {},
   "outputs": [],
   "source": []
  },
  {
   "cell_type": "markdown",
   "id": "c1e52ca5-c055-4229-851d-d078f74893d7",
   "metadata": {},
   "source": [
    "__REGRESSION PLOTS__"
   ]
  },
  {
   "cell_type": "code",
   "execution_count": null,
   "id": "f0db891e-1a61-46b5-8590-72cc7be9e575",
   "metadata": {},
   "outputs": [],
   "source": []
  },
  {
   "cell_type": "markdown",
   "id": "46e2e7dd-517c-4369-ad28-0cf6f3b1fc1c",
   "metadata": {},
   "source": [
    "__Normality check - QQ PLOT__"
   ]
  },
  {
   "cell_type": "code",
   "execution_count": null,
   "id": "6c9c022d-f7eb-4771-89fa-c1e06d606185",
   "metadata": {},
   "outputs": [],
   "source": []
  },
  {
   "cell_type": "markdown",
   "id": "e159708d-4248-412b-a7aa-dfc48b002d9c",
   "metadata": {},
   "source": [
    "__TRANSFORMED MODEL__"
   ]
  },
  {
   "cell_type": "code",
   "execution_count": null,
   "id": "d730573e-9c55-43a0-be7b-ed6bab9140cd",
   "metadata": {},
   "outputs": [],
   "source": []
  }
 ],
 "metadata": {
  "kernelspec": {
   "display_name": "Python 3 (ipykernel)",
   "language": "python",
   "name": "python3"
  },
  "language_info": {
   "codemirror_mode": {
    "name": "ipython",
    "version": 3
   },
   "file_extension": ".py",
   "mimetype": "text/x-python",
   "name": "python",
   "nbconvert_exporter": "python",
   "pygments_lexer": "ipython3",
   "version": "3.9.13"
  }
 },
 "nbformat": 4,
 "nbformat_minor": 5
}
