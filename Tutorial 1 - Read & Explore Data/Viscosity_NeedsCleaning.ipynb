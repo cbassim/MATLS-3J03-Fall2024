{
 "cells": [
  {
   "cell_type": "code",
   "execution_count": 90,
   "id": "6f9ccd14-fe0f-4e5b-a6ea-00801cb10881",
   "metadata": {},
   "outputs": [
    {
     "name": "stdin",
     "output_type": "stream",
     "text": [
      "Once deleted, variables cannot be recovered. Proceed (y/[n])?  y\n"
     ]
    }
   ],
   "source": [
    "%reset"
   ]
  },
  {
   "cell_type": "markdown",
   "id": "c3cd78de-a418-461d-a180-f7102b421ab3",
   "metadata": {},
   "source": [
    "Often, as a standard practice, we will reset any user defined variables to create a clean run using the %reset call."
   ]
  },
  {
   "cell_type": "markdown",
   "id": "c74d456c-88fb-4ed9-a825-644317d27764",
   "metadata": {},
   "source": [
    "# Tutorial 1: Step 1.  Read in the \"Viscosity_NeedsCleaning.csv\" dataset and show it.\n",
    "\n",
    "You will need to import some packages to use to do this. \n",
    "\n",
    "In general you will always want to have available Numpy for array data, Pandas for series and dataframe data, and the plotting packages of Matplotlib and Seaborn.  Anaconda distribution comes available with these installed by default.  If you need to install, then use an install call on your promt or command line. \n",
    "\n",
    "You then import the required libraries By convention, you import Numpy with a np alias, Pandas with a pd alias, etc. "
   ]
  },
  {
   "cell_type": "code",
   "execution_count": 97,
   "id": "4e0c4d91-f56a-46a3-bf90-9ea9706bc26d",
   "metadata": {},
   "outputs": [],
   "source": [
    "# Importing Necessary Libraries\n",
    "\n",
    "import matplotlib.pyplot as plt\n",
    "import numpy as np\n",
    "import pandas as pd\n",
    "import seaborn as sns"
   ]
  },
  {
   "cell_type": "markdown",
   "id": "0191ff5a-f8f3-4691-8430-396cd8e2c9bc",
   "metadata": {},
   "source": [
    "With Pandas you can use the read_csv(path_to_file) to automatically read and parse your csv. The only required arguement is the path to the csv file as a string or path object. The file can be hosted locally on your computer or online. Documentation for this method can be found here at https://pandas.pydata.org/pandas-docs/dev/reference/api/pandas.read_csv.html.\n",
    "\n",
    "In this example we'll use the Assignment 1 dataset on Viscosities, but then we will need to do a bit of data preparation using it, \n",
    "\n",
    "There are many ways to read the dataset. Use the .read_csv() to read in the dataset and store it as a Dataframe object in the variable that we choose to name it.\n",
    "\n",
    "Such as ViscosityNC= ViscosityNC = pd.read_csv('Viscosity_NeedsCleaning.csv')\n",
    "\n",
    "Then show the data by calling it."
   ]
  },
  {
   "cell_type": "code",
   "execution_count": null,
   "id": "7a0e3c3d-343f-4e8e-8872-c8ce22cbf93a",
   "metadata": {},
   "outputs": [],
   "source": []
  },
  {
   "cell_type": "code",
   "execution_count": null,
   "id": "14b10d3d-735d-41be-99f4-0568e56b9f8c",
   "metadata": {},
   "outputs": [],
   "source": []
  },
  {
   "cell_type": "markdown",
   "id": "8f15c66a-a8ae-4b83-9257-0dc60bc1e0b5",
   "metadata": {},
   "source": [
    "# Tutorial 1: Step 2. Look for data-type validity and Correct.\n",
    "\n",
    "Let’s check that the data type matches what you would want the data to be used for. What are the data types for ProcessA and Process B in the dataset? If the data type does not match what you want it to be, discuss what the data type is that you want and why, and the reasons that you find in the dataset for any datatype mismatch, and correct this.\n",
    "\n",
    "You can use dataframe_name.info() to see the the datatypes. \n",
    "\n",
    "Other attributes you can look at for the dataframe (df) include:\n",
    "* type(df)  \n",
    "* len(df)    \n",
    "* df.shape  \n",
    "* dfs.ndim  \n",
    "* df.size  \n",
    "* df.columns  \n",
    "* df.index  \n",
    "* dfs.head()    \n",
    "* df.tail()   \n",
    "* df.describe()  \n",
    "* df.dtypes  rds.dtypes\n",
    "\n",
    "Convert to the datatype that you are interested in using.\n",
    "\n",
    "Here, you want both Process A and Process B values to be float64 type data."
   ]
  },
  {
   "cell_type": "markdown",
   "id": "3a68a2ab-6d8a-4fde-b85e-551424118b99",
   "metadata": {},
   "source": [
    "## Working with NAN: Not a Number"
   ]
  },
  {
   "cell_type": "markdown",
   "id": "f2782f72-29e7-4519-8920-b6fb19ee20a9",
   "metadata": {},
   "source": [
    "Working with NaN in datasets is easy.  So, could convert the string 'A\" at row 15 to a NaN and then convert:  \n",
    "ViscosityNC = ViscosityNC.replace('A', np.nan,inplace=True)\n",
    "\n",
    "You could drop by row for NaNs: ViscosityNC= ViscosityNC.dropna()\n",
    "\n",
    "Can drop by column for NaNs: ViscosityNC.dropna(subset=['ProcessA'],inplace=True)\n",
    "\n",
    "Can coerce the conversion using ViscosityNC= ViscosityNC.apply(pd.to_numeric, errors='coerce')"
   ]
  },
  {
   "cell_type": "code",
   "execution_count": 20,
   "id": "c175b6fa-ce9b-4891-8cdc-20de14028313",
   "metadata": {},
   "outputs": [],
   "source": [
    "# If you try to convert Process A from oject to float you get an error.\n",
    "# ViscosityNC=ViscosityNC.astype({\"ProcessA\":float},errors='raise')"
   ]
  },
  {
   "cell_type": "markdown",
   "id": "920c1e3e-a40e-42fd-b7ee-4ff9a303f82a",
   "metadata": {},
   "source": [
    "Check the datatypes in the dataframe."
   ]
  },
  {
   "cell_type": "code",
   "execution_count": null,
   "id": "8211251b-6e9f-412f-9974-c5415683c5c9",
   "metadata": {},
   "outputs": [],
   "source": []
  },
  {
   "cell_type": "markdown",
   "id": "a70442d9-2385-4564-92a1-c79b61e66700",
   "metadata": {},
   "source": [
    "Can drop unwanted rows."
   ]
  },
  {
   "cell_type": "code",
   "execution_count": null,
   "id": "7d6ba50f-25ae-467d-bb57-01416334e178",
   "metadata": {},
   "outputs": [],
   "source": []
  },
  {
   "cell_type": "code",
   "execution_count": null,
   "id": "d12681fe-7f90-4baf-a9e5-6eb23b729281",
   "metadata": {},
   "outputs": [],
   "source": []
  },
  {
   "cell_type": "markdown",
   "id": "ef3af91b-3a8d-46b6-92ce-e8aaa444d033",
   "metadata": {},
   "source": [
    "Check that the datatype is corrected."
   ]
  },
  {
   "cell_type": "code",
   "execution_count": null,
   "id": "23a2557e-7248-4a95-b5b0-668c0db7dab0",
   "metadata": {},
   "outputs": [],
   "source": []
  },
  {
   "cell_type": "code",
   "execution_count": null,
   "id": "a542d5ab-0f2c-4bba-a91d-364030187ae6",
   "metadata": {},
   "outputs": [],
   "source": []
  },
  {
   "cell_type": "markdown",
   "id": "bdb57c5e-7ae5-4708-859e-705eaa187409",
   "metadata": {},
   "source": [
    "Can reset the index using df.reset_index(drop=True, inplace=True)"
   ]
  },
  {
   "cell_type": "code",
   "execution_count": null,
   "id": "95bc9164-f527-4c88-8f3b-0a92499cdf6c",
   "metadata": {},
   "outputs": [],
   "source": []
  },
  {
   "cell_type": "code",
   "execution_count": null,
   "id": "bb45e902-5d0e-4f70-b308-fa4d267bbb2a",
   "metadata": {},
   "outputs": [],
   "source": []
  },
  {
   "cell_type": "markdown",
   "id": "b40edef0-f726-4f45-b373-722b9076ea69",
   "metadata": {},
   "source": [
    "# Tutorial 1: Step 3. Look for data validity and correct.\n",
    "\n",
    "What do you think the limits of plausible data would be for Process A and Process B? Go ahead and clean the data based on deleting any nonsense values (say that a viscosity measurement of >=50 is not possible, and negative values are not possible). \n",
    "\n",
    "You can use iloc, square brackets, .query, or other methods to filter or slide data.\r\n",
    "\r\n",
    "Columns can be access by using their name in square brackers [] while rows can be access using their row (index) number and the .iloc property.Can u\n",
    "\r\n",
    "use .loc for label inde; loc gets rows (and/or columns) with particular labels.\r\n",
    "xing\r\n",
    "\r\n",
    "It is also possible to filter the dataframe based on the value in certain columns or rows. Filtering the values returns a new dataframe with just the values that meet the condition.\r\n",
    "\r\n",
    "We will also learn about the .query method. A pandas Dataframe query is a way to query the columns of a Dataframe with a boolean expression. The .query( ,inplace=TRUE) returns no new dataframe and .query( ,inplace=FALSE) returns a new dataframe resulting from the provided query expression (FALSE is the deafult). The query expressions can be used with multiple con\n",
    "\n",
    "So, df = df.query('0<= ProcessA < 50', inplace=False) would create or overwrite df as the filtered df.ditions."
   ]
  },
  {
   "cell_type": "code",
   "execution_count": null,
   "id": "ad4f3931-52da-4c5d-9504-00cac6ee06cd",
   "metadata": {},
   "outputs": [],
   "source": []
  },
  {
   "cell_type": "markdown",
   "id": "496ff9be-b8e6-48af-923a-1c737d1012ff",
   "metadata": {},
   "source": [
    "Check the df to verify that it is prepared for analysis."
   ]
  },
  {
   "cell_type": "markdown",
   "id": "e28f4158-99e0-423a-bcc1-1a8f97730263",
   "metadata": {},
   "source": [
    "# Tutorial 1: Step 4. Summarize and Visualize the data.\n",
    "\n",
    "Use appropriate data numerical summaries and plots to describe and visualize the data. \n",
    "\n",
    "Use df.describe() to get a numerical summary of the dataset.\n",
    "\n",
    "Can use np.mean(df['columname']) for mean\n",
    "\n",
    "np.var; np.std(ddof=1 for sample standard deviation)\n",
    "\n",
    "Can plot easily with seaborn, such as calling the seaborn boxplot for the dataframe."
   ]
  },
  {
   "cell_type": "code",
   "execution_count": null,
   "id": "4a40b692-53a6-49ee-bd31-74638ec17943",
   "metadata": {},
   "outputs": [],
   "source": []
  },
  {
   "cell_type": "markdown",
   "id": "49c9c877-157a-4c57-996a-2354e3c0b10d",
   "metadata": {},
   "source": [
    "Show the data summary for Process A and Process B\n",
    "\n",
    "df.describe()"
   ]
  },
  {
   "cell_type": "markdown",
   "id": "ae985ffe-70c7-4f05-939e-31c019007a5d",
   "metadata": {},
   "source": [
    "Show a plot comparing Process A and Process B\n",
    "\n",
    "sns.boxplot(df)"
   ]
  },
  {
   "cell_type": "code",
   "execution_count": null,
   "id": "f8d2bb0d-9484-4f04-967f-9fed6693c917",
   "metadata": {},
   "outputs": [],
   "source": []
  },
  {
   "cell_type": "code",
   "execution_count": null,
   "id": "3b28feec-5d97-467d-a981-b400b08dbd95",
   "metadata": {},
   "outputs": [],
   "source": []
  },
  {
   "cell_type": "markdown",
   "id": "48a37de8-9e17-4b89-bd11-62aa35d19382",
   "metadata": {},
   "source": [
    "## You can set the figure and the axes to specify plots\n",
    "\n",
    "Matplotlib graphs your data on Figures each of which can contain one or more Axes, an area where points can be specified in terms of x-y coordinates (or theta-r in a polar plot, x-y-z in a 3D plot, etc.). \n",
    "\n",
    "Here, we are asking for a figure to be created (fig) and creating 2 Axes, and asking to plot subplots (here, 2 of them with a shared x axis)\n",
    "\n",
    "fig,(ax1,ax2)=plt.subplots(2,sharex=True,gridspec_kw={\"height_ratios\":(0.15,0.85)})\n",
    "sns.boxplot(x=CompStrength[\"CompStrength\"], ax=ax1)\n",
    "sns.histplot(data=CompStrength,ax=ax2)\n",
    "\n",
    "Here we are asking for a 2 by 2 subplots\n",
    "\n",
    "fig, axes = plt.subplots(3, 4, sharex=True, figsize=(16,8))\r\n",
    "fig.suptitle('3 rows x 4 columns axes withdataa'\n",
    ")"
   ]
  },
  {
   "cell_type": "code",
   "execution_count": 86,
   "id": "d6d3febd-317a-4eb4-af57-4266d2bb0009",
   "metadata": {},
   "outputs": [
    {
     "data": {
      "text/plain": [
       "<Axes: xlabel='ProcessB', ylabel='Count'>"
      ]
     },
     "execution_count": 86,
     "metadata": {},
     "output_type": "execute_result"
    },
    {
     "data": {
      "image/png": "[encoded data removed]",
      "text/plain": [
       "<Figure size 640x480 with 4 Axes>"
      ]
     },
     "metadata": {},
     "output_type": "display_data"
    }
   ],
   "source": [
    "fig,axes =plt.subplots(2,2,sharex=True)\n",
    "sns.boxplot(x=ViscosityNC[\"ProcessA\"], ax=axes[0,0])\n",
    "sns.boxplot(x=ViscosityNC[\"ProcessB\"], ax=axes[0,1])\n",
    "sns.histplot(data=ViscosityNC[\"ProcessA\"],ax=axes[1,0])\n",
    "sns.histplot(data=ViscosityNC[\"ProcessB\"],ax=axes[1,1])"
   ]
  },
  {
   "cell_type": "code",
   "execution_count": null,
   "id": "c80358c3-956d-42ae-a086-8567d7843fbb",
   "metadata": {},
   "outputs": [],
   "source": []
  }
 ],
 "metadata": {
  "kernelspec": {
   "display_name": "Python 3 (ipykernel)",
   "language": "python",
   "name": "python3"
  },
  "language_info": {
   "codemirror_mode": {
    "name": "ipython",
    "version": 3
   },
   "file_extension": ".py",
   "mimetype": "text/x-python",
   "name": "python",
   "nbconvert_exporter": "python",
   "pygments_lexer": "ipython3",
   "version": "3.11.8"
  }
 },
 "nbformat": 4,
 "nbformat_minor": 5
}
