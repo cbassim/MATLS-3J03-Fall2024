{
 "cells": [
  {
   "cell_type": "code",
   "execution_count": 1,
   "id": "6f9ccd14-fe0f-4e5b-a6ea-00801cb10881",
   "metadata": {},
   "outputs": [
    {
     "name": "stdin",
     "output_type": "stream",
     "text": [
      "Once deleted, variables cannot be recovered. Proceed (y/[n])?  y\n"
     ]
    }
   ],
   "source": [
    "%reset\n",
    "# Importing Necessary Libraries\n",
    "\n",
    "import matplotlib.pyplot as plt\n",
    "import numpy as np\n",
    "import pandas as pd\n",
    "import seaborn as sns"
   ]
  },
  {
   "cell_type": "code",
   "execution_count": 2,
   "id": "079bb461-dce4-4d4d-9008-b08fd6a405a6",
   "metadata": {},
   "outputs": [
    {
     "data": {
      "text/plain": [
       "0     7\n",
       "1    35\n",
       "2     5\n",
       "3     9\n",
       "4     8\n",
       "5     3\n",
       "6    10\n",
       "7    12\n",
       "8     8\n",
       "Name: X, dtype: int64"
      ]
     },
     "execution_count": 2,
     "metadata": {},
     "output_type": "execute_result"
    }
   ],
   "source": [
    "# lecture example\n",
    "lecture_x= pd.Series([7,35,5,9,8,3,10,12,8],name=\"X\")\n",
    "lecture_x"
   ]
  },
  {
   "cell_type": "markdown",
   "id": "5e47596f-0130-4b07-af27-03123ac800ab",
   "metadata": {},
   "source": [
    "$\\mu = \\bar{X} = \\frac{X_{1}+X_{2}+X_{3}+...+X_{n}} {n} = \\frac{\\displaystyle\\sum_{i=1}^{n}X_i} {n}$\n",
    "\n",
    "The mean is the unbiased estimator of the expectation of a random variable ($\\mu = E[X_i] = E[\\bar{X}] )$"
   ]
  },
  {
   "cell_type": "code",
   "execution_count": 3,
   "id": "094d8358-ce78-486a-93a3-cc7b94f90cef",
   "metadata": {},
   "outputs": [
    {
     "name": "stdout",
     "output_type": "stream",
     "text": [
      "The mean is:10.777777777777779\n"
     ]
    }
   ],
   "source": [
    "print(\"The mean is:\" +str(np.mean(lecture_x)))"
   ]
  },
  {
   "cell_type": "code",
   "execution_count": 4,
   "id": "045c3cdb-d5b3-4a00-afa3-b028f7d6c925",
   "metadata": {},
   "outputs": [
    {
     "data": {
      "text/plain": [
       "count     9.000000\n",
       "mean     10.777778\n",
       "std       9.457507\n",
       "min       3.000000\n",
       "25%       7.000000\n",
       "50%       8.000000\n",
       "75%      10.000000\n",
       "max      35.000000\n",
       "Name: X, dtype: float64"
      ]
     },
     "execution_count": 4,
     "metadata": {},
     "output_type": "execute_result"
    }
   ],
   "source": [
    "lecture_x.describe()"
   ]
  },
  {
   "cell_type": "code",
   "execution_count": 5,
   "id": "0f5f5c80-e900-40e7-9cbe-6c2eb159024d",
   "metadata": {},
   "outputs": [
    {
     "data": {
      "text/plain": [
       "10.777777777777779"
      ]
     },
     "execution_count": 5,
     "metadata": {},
     "output_type": "execute_result"
    }
   ],
   "source": [
    "# The sample standard deviation using n-1 in the formula\n",
    "mean_x=np.mean(lecture_x)\n",
    "mean_x"
   ]
  },
  {
   "cell_type": "code",
   "execution_count": 6,
   "id": "ab97caf0-454e-4447-9727-f618d2544e60",
   "metadata": {},
   "outputs": [
    {
     "data": {
      "text/plain": [
       "0     14.271605\n",
       "1    586.716049\n",
       "2     33.382716\n",
       "3      3.160494\n",
       "4      7.716049\n",
       "5     60.493827\n",
       "6      0.604938\n",
       "7      1.493827\n",
       "8      7.716049\n",
       "Name: X, dtype: float64"
      ]
     },
     "execution_count": 6,
     "metadata": {},
     "output_type": "execute_result"
    }
   ],
   "source": [
    "sum_of_squares_xi=(lecture_x-mean_x)**2\n",
    "sum_of_squares_xi"
   ]
  },
  {
   "cell_type": "code",
   "execution_count": 7,
   "id": "6956203d-aad3-49e3-a348-f1eb5d0d7cd0",
   "metadata": {},
   "outputs": [
    {
     "data": {
      "text/plain": [
       "715.5555555555555"
      ]
     },
     "execution_count": 7,
     "metadata": {},
     "output_type": "execute_result"
    }
   ],
   "source": [
    "sum_of_squares_x=np.sum((lecture_x-mean_x)**2)\n",
    "sum_of_squares_x"
   ]
  },
  {
   "cell_type": "code",
   "execution_count": 8,
   "id": "6e8d93be-5659-4741-8d60-1e1640b674de",
   "metadata": {},
   "outputs": [
    {
     "data": {
      "text/plain": [
       "9"
      ]
     },
     "execution_count": 8,
     "metadata": {},
     "output_type": "execute_result"
    }
   ],
   "source": [
    "n=len(lecture_x)\n",
    "n"
   ]
  },
  {
   "cell_type": "code",
   "execution_count": 9,
   "id": "bf0d0d12-984c-4331-8d6c-92810211be66",
   "metadata": {},
   "outputs": [
    {
     "data": {
      "text/plain": [
       "89.44444444444444"
      ]
     },
     "execution_count": 9,
     "metadata": {},
     "output_type": "execute_result"
    }
   ],
   "source": [
    "variance_x=sum_of_squares_x/(n-1)\n",
    "variance_x"
   ]
  },
  {
   "cell_type": "code",
   "execution_count": 10,
   "id": "1aeb4855-30f7-4521-94c2-58fcafda1d87",
   "metadata": {},
   "outputs": [
    {
     "data": {
      "text/plain": [
       "9.457507306074072"
      ]
     },
     "execution_count": 10,
     "metadata": {},
     "output_type": "execute_result"
    }
   ],
   "source": [
    "np.sqrt(variance_x)"
   ]
  },
  {
   "cell_type": "code",
   "execution_count": 11,
   "id": "a4f2e4d0-2257-4bf5-baa7-1db7bfb609df",
   "metadata": {},
   "outputs": [
    {
     "data": {
      "text/plain": [
       "9.457507306074072"
      ]
     },
     "execution_count": 11,
     "metadata": {},
     "output_type": "execute_result"
    }
   ],
   "source": [
    "np.sqrt(sum_of_squares_x/(n-1))"
   ]
  },
  {
   "cell_type": "code",
   "execution_count": 12,
   "id": "defaae17-2cad-490a-aa04-2c71efb74433",
   "metadata": {},
   "outputs": [],
   "source": [
    "# the pandas library uses n-1 as the default\n",
    "# the numpy library uses n as the default for std"
   ]
  },
  {
   "cell_type": "code",
   "execution_count": 13,
   "id": "8af251ba-afab-4511-b7b7-2c771eb4c586",
   "metadata": {},
   "outputs": [
    {
     "data": {
      "text/plain": [
       "89.44444444444446"
      ]
     },
     "execution_count": 13,
     "metadata": {},
     "output_type": "execute_result"
    }
   ],
   "source": [
    "# using numpy\n",
    "np.var(lecture_x,ddof=1)"
   ]
  },
  {
   "cell_type": "code",
   "execution_count": 14,
   "id": "e9e582ec-8d3e-4c2d-886b-704d314fcac8",
   "metadata": {},
   "outputs": [
    {
     "data": {
      "text/plain": [
       "89.44444444444446"
      ]
     },
     "execution_count": 14,
     "metadata": {},
     "output_type": "execute_result"
    }
   ],
   "source": [
    "#using pandas dataframe\n",
    "lecture_x.var()"
   ]
  },
  {
   "cell_type": "markdown",
   "id": "986fea2d-c36e-4bc6-a293-6591e27ff8ab",
   "metadata": {},
   "source": [
    "# The mean minimizes the sum of the squared deviations \n",
    "\n",
    "Let's show this graphically by creating a creating a function to return a possible mean squared deviation from a list of possible means (starting at the minimimum value in the dataset and ending at the maximum value in the data set), and plotting these togther to see at what possible mean value the mean squared deviation is the lowest. "
   ]
  },
  {
   "cell_type": "code",
   "execution_count": 15,
   "id": "4dd3b072-d7ef-461a-b57e-8229c2229822",
   "metadata": {},
   "outputs": [],
   "source": [
    "def test_var(i):\n",
    "    return ( (np.sum(np.square(lecture_x-i) ) ) / (len(lecture_x)-1) )"
   ]
  },
  {
   "cell_type": "code",
   "execution_count": 16,
   "id": "c1c5b2ac-93b7-4417-8b6a-4515506319e0",
   "metadata": {},
   "outputs": [
    {
     "data": {
      "text/plain": [
       "Text(20, 89.44, 'Mean = 10.78')"
      ]
     },
     "execution_count": 16,
     "metadata": {},
     "output_type": "execute_result"
    },
    {
     "data": {
      "image/png": "[encoded data removed]",
      "text/plain": [
       "<Figure size 640x480 with 1 Axes>"
      ]
     },
     "metadata": {},
     "output_type": "display_data"
    }
   ],
   "source": [
    "for i in np.arange(min(lecture_x),max(lecture_x),1):\n",
    "    plt.scatter(i,test_var(i),color='black')\n",
    "plt.xlabel(\"values from min to max of data vector = mean i\")\n",
    "plt.ylabel(\"y = f(mean i) = mean squared deviation at value mean i\")\n",
    "plt.title(\"the minimized mean squared deviation is the mean\")\n",
    "plt.annotate('Mean = 10.78', xy =(15,89.44),\n",
    "                xytext =(20, 89.44),arrowprops = dict(facecolor ='red',edgecolor=\"red\",width=.5),)"
   ]
  },
  {
   "cell_type": "code",
   "execution_count": 17,
   "id": "33a6f605-9881-4b15-bb65-a2cd0b731110",
   "metadata": {},
   "outputs": [
    {
     "name": "stdout",
     "output_type": "stream",
     "text": [
      "157.5\n",
      "127.0\n",
      "105.5\n",
      "93.0\n",
      "89.5\n",
      "95.0\n",
      "109.5\n",
      "133.0\n",
      "165.5\n",
      "207.0\n",
      "257.5\n",
      "317.0\n",
      "385.5\n",
      "463.0\n",
      "549.5\n",
      "645.0\n"
     ]
    }
   ],
   "source": [
    "#  the values calculated for possible mean squared deviations = y =f(mean i) using a step size increase of 2\n",
    "for i in np.arange(min(lecture_x),max(lecture_x),2):\n",
    "    print(test_var(i))"
   ]
  },
  {
   "cell_type": "markdown",
   "id": "b3377131-e2d7-418f-8820-eba63da74303",
   "metadata": {},
   "source": [
    "# Let's find the minimum by calculus\n",
    "\n",
    "we need a package that will allow us to work and display in calculus (note that you do not have to use a python calculus package for the course, this is for demonstartion purposes only).  \n",
    "conda install -c anaconda sympy"
   ]
  },
  {
   "cell_type": "code",
   "execution_count": 18,
   "id": "72cefe1b-02b5-44c5-a69c-a6ec68426871",
   "metadata": {},
   "outputs": [],
   "source": [
    "import sympy as sm\n",
    "from sympy import *\n",
    "from sympy import diff"
   ]
  },
  {
   "cell_type": "markdown",
   "id": "09661854-419e-49dc-8db5-4e80fd3ffd70",
   "metadata": {},
   "source": [
    "if you have a vector of data lecture_XA then the mean squared deviation from a value in lecture_XA to a value mean_XA is"
   ]
  },
  {
   "cell_type": "code",
   "execution_count": 19,
   "id": "427f7105-c5d0-49a2-b6dd-7bdd9a416d07",
   "metadata": {},
   "outputs": [
    {
     "data": {
      "text/latex": [
       "$\\displaystyle \\sum_{i=1}^{n} \\left(lecture_{XA} - mean_{XA}\\right)^{2}$"
      ],
      "text/plain": [
       "Sum((lecture_XA - mean_XA)**2, (i, 1, n))"
      ]
     },
     "metadata": {},
     "output_type": "display_data"
    }
   ],
   "source": [
    "mean_XA=sm.Symbol('mean_XA',real=True)\n",
    "lecture_XA=sm.Symbol('lecture_XA',real=True)\n",
    "i,n=sm.symbols('i n',integer=True)\n",
    "y1=(sm.Sum(((lecture_XA - mean_XA)**2),(i,1,n)))\n",
    "display(y1)\n",
    "\n",
    "#note:  it works out with the mean of the squared deviations or 1/(n-1) in the demominator, \n",
    "# but works for minimizing the squared deviations too."
   ]
  },
  {
   "cell_type": "markdown",
   "id": "8dbfa6a9-24fe-474b-90d0-aa939204971f",
   "metadata": {},
   "source": [
    "Expanding this expression out and simplyfing you get"
   ]
  },
  {
   "cell_type": "code",
   "execution_count": 20,
   "id": "5ec6c5c3-14ef-4b27-a9a3-dea19a817e81",
   "metadata": {},
   "outputs": [
    {
     "data": {
      "text/latex": [
       "$\\displaystyle mean_{XA}^{2} n - 2 mean_{XA} \\sum_{i=1}^{n} lecture_{XA} + \\sum_{i=1}^{n} lecture_{XA}^{2}$"
      ],
      "text/plain": [
       "mean_XA**2*n - 2*mean_XA*Sum(lecture_XA, (i, 1, n)) + Sum(lecture_XA**2, (i, 1, n))"
      ]
     },
     "metadata": {},
     "output_type": "display_data"
    }
   ],
   "source": [
    "y=(sm.Sum((lecture_XA**2),(i,1,n))) - (2*mean_XA*sm.Sum((lecture_XA),(i,1,n))) + (n*mean_XA**2)\n",
    "display(y)"
   ]
  },
  {
   "cell_type": "raw",
   "id": "dd28b2df-0669-4be6-b181-9b2d6ad203e6",
   "metadata": {},
   "source": [
    "Then we can differentiate with respect to the value of mean_XA"
   ]
  },
  {
   "cell_type": "code",
   "execution_count": 21,
   "id": "a91d6a84-5925-4f42-b707-6cc1079c772a",
   "metadata": {},
   "outputs": [
    {
     "data": {
      "text/latex": [
       "$\\displaystyle 2 mean_{XA} n - 2 \\sum_{i=1}^{n} lecture_{XA}$"
      ],
      "text/plain": [
       "2*mean_XA*n - 2*Sum(lecture_XA, (i, 1, n))"
      ]
     },
     "metadata": {},
     "output_type": "display_data"
    }
   ],
   "source": [
    "y_prime=diff(y,mean_XA)\n",
    "display(y_prime)"
   ]
  },
  {
   "cell_type": "markdown",
   "id": "41ecea3b-3a3a-48a0-a532-2de6b72d6ec7",
   "metadata": {},
   "source": [
    "This is set to 0 and solved for mean_XA"
   ]
  },
  {
   "cell_type": "code",
   "execution_count": 22,
   "id": "504a4022-945b-4024-943b-ab2960c9138b",
   "metadata": {},
   "outputs": [
    {
     "data": {
      "text/latex": [
       "$\\displaystyle \\frac{\\sum_{i=1}^{n} lecture_{XA}}{n} = mean_{XA}$"
      ],
      "text/plain": [
       "Eq(Sum(lecture_XA, (i, 1, n))/n, mean_XA)"
      ]
     },
     "metadata": {},
     "output_type": "display_data"
    }
   ],
   "source": [
    "y2=Eq(((sm.Sum((lecture_XA),(i,1,n))) / n),mean_XA)\n",
    "display(y2)"
   ]
  },
  {
   "cell_type": "markdown",
   "id": "83a19da9-1acc-4736-a46c-05078b8eab69",
   "metadata": {},
   "source": [
    "to show that this is indeed the minimum, calculate the second derivative w.r.t. to a, which is yprimeprime=2>0 so it is indeed a minimum "
   ]
  },
  {
   "cell_type": "code",
   "execution_count": 23,
   "id": "2b52f6db-b74d-4d7c-8cc8-8419b32ca7f7",
   "metadata": {},
   "outputs": [
    {
     "data": {
      "text/latex": [
       "$\\displaystyle \\frac{\\sum_{i=1}^{9} lecture_{XA}}{9} = mean_{XA}$"
      ],
      "text/plain": [
       "Eq(Sum(lecture_XA, (i, 1, 9))/9, mean_XA)"
      ]
     },
     "execution_count": 23,
     "metadata": {},
     "output_type": "execute_result"
    }
   ],
   "source": [
    "y2.subs([(n,9)])"
   ]
  },
  {
   "cell_type": "code",
   "execution_count": 24,
   "id": "a6db2b15-8625-4a1d-bc2f-0e6526154369",
   "metadata": {},
   "outputs": [
    {
     "data": {
      "text/plain": [
       "10.777777777777779"
      ]
     },
     "execution_count": 24,
     "metadata": {},
     "output_type": "execute_result"
    }
   ],
   "source": [
    "lecture_xA= ([7,35,5,9,8,3,10,12,8])\n",
    "mean_xA=np.sum(lecture_xA) / len(lecture_xA)\n",
    "mean_xA"
   ]
  },
  {
   "cell_type": "markdown",
   "id": "9f4de423-3a6b-4011-8319-abab36dfc7bb",
   "metadata": {},
   "source": [
    "# Let's find the least mean squared deviation by geometry"
   ]
  },
  {
   "cell_type": "markdown",
   "id": "233b9a76-79c2-4dbc-b053-9fcc9ad07ac9",
   "metadata": {},
   "source": [
    "The mean minimizes the mean squares of the deviations from the mean; it is the point on which a distribution would balance\n",
    "\n",
    "The first moment of a probability distribution is the expected values, the second is the variance. "
   ]
  },
  {
   "cell_type": "code",
   "execution_count": 25,
   "id": "31fb0b17-b6c0-4a7f-b488-1bcdbd176890",
   "metadata": {},
   "outputs": [],
   "source": [
    "x_values= pd.Series([7,35,5,9,8,3,10,12,8],name=\"X\")\n",
    "deviations_x_values=((x_values-np.mean(x_values)))\n",
    "squares_x_values=((x_values-np.mean(x_values))**2)"
   ]
  },
  {
   "cell_type": "code",
   "execution_count": 26,
   "id": "b95df45b-0c58-4a64-90fb-290fc7a02876",
   "metadata": {},
   "outputs": [
    {
     "data": {
      "text/plain": [
       "<matplotlib.collections.LineCollection at 0x1f5d44da950>"
      ]
     },
     "execution_count": 26,
     "metadata": {},
     "output_type": "execute_result"
    },
    {
     "data": {
      "image/png": "[encoded data removed]",
      "text/plain": [
       "<Figure size 640x480 with 1 Axes>"
      ]
     },
     "metadata": {},
     "output_type": "display_data"
    }
   ],
   "source": [
    "import warnings\n",
    "warnings.simplefilter(action='ignore', category=FutureWarning)\n",
    "\n",
    "sns.scatterplot(x=x_values,y=0,alpha=0.6)\n",
    "plt.plot(np.mean(x_values),0,marker=\"X\",markerfacecolor=\"red\",markersize=15)\n",
    "for i in np.arange(0,len(x_values),1):\n",
    "    plt.vlines(x=[x_values[i]],ymin=[0],ymax=[(deviations_x_values[i])])\n",
    "    plt.hlines(y=[(deviations_x_values[i])], xmin=[np.mean(x_values)], xmax=[x_values[i]])\n",
    "    plt.axvline(x=np.mean(x_values),color='red')\n",
    "plt.ylabel(\"y = deviation from mean\")\n",
    "plt.hlines(y=0,xmin=0,xmax=35,color='red',linestyle=\":\")"
   ]
  },
  {
   "cell_type": "markdown",
   "id": "dbf77a45-3597-46b7-8212-0c01129b5cbc",
   "metadata": {},
   "source": [
    "The benefits of squaring include:\n",
    "\n",
    "- Squaring always gives a non-negative value, so the sum will always be zero or higher.\n",
    "- Simplyfies computations\n",
    "- Squaring emphasizes larger differences, a feature that turns out to be both good and bad (think of the effect outliers have)."
   ]
  },
  {
   "cell_type": "markdown",
   "id": "567ca95c-dfcc-44cc-8a05-a3a0b9e6d500",
   "metadata": {},
   "source": [
    "It is easy to see this way that this method provides a lot of weight to outliers, since you are squaring each term and weighing large erros more than small ones.  "
   ]
  },
  {
   "cell_type": "code",
   "execution_count": 27,
   "id": "071bf957-393a-476d-9e03-4c6e732b8bac",
   "metadata": {},
   "outputs": [
    {
     "data": {
      "text/plain": [
       "0     14.271605\n",
       "1    586.716049\n",
       "2     33.382716\n",
       "3      3.160494\n",
       "4      7.716049\n",
       "5     60.493827\n",
       "6      0.604938\n",
       "7      1.493827\n",
       "8      7.716049\n",
       "Name: X, dtype: float64"
      ]
     },
     "execution_count": 27,
     "metadata": {},
     "output_type": "execute_result"
    }
   ],
   "source": [
    "squares_x_values"
   ]
  },
  {
   "cell_type": "code",
   "execution_count": 28,
   "id": "5a52ea23-dac2-4bd3-86b1-dbdd922d7996",
   "metadata": {},
   "outputs": [
    {
     "data": {
      "text/plain": [
       "Text(0, 0.5, 'y = squared deviation from mean')"
      ]
     },
     "execution_count": 28,
     "metadata": {},
     "output_type": "execute_result"
    },
    {
     "data": {
      "image/png": "[encoded data removed]",
      "text/plain": [
       "<Figure size 640x480 with 1 Axes>"
      ]
     },
     "metadata": {},
     "output_type": "display_data"
    }
   ],
   "source": [
    "sns.scatterplot(x=x_values,y=0,alpha=0.6)\n",
    "plt.plot(np.mean(x_values),0,marker=\"X\",markerfacecolor=\"red\",markersize=15)\n",
    "for i in np.arange(0,len(x_values),1):\n",
    "    plt.vlines(x=[x_values[i]],ymin=[0],ymax=[(squares_x_values[i])])\n",
    "    plt.hlines(y=[(squares_x_values[i])], xmin=[np.mean(x_values)], xmax=[x_values[i]])\n",
    "    plt.axvline(x=np.mean(x_values),color='red')\n",
    "plt.ylabel(\"y = squared deviation from mean\")"
   ]
  },
  {
   "cell_type": "code",
   "execution_count": 29,
   "id": "f457e35c-45cd-4886-8496-be47caf1520e",
   "metadata": {},
   "outputs": [
    {
     "name": "stdout",
     "output_type": "stream",
     "text": [
      "The mean is:10.777777777777779\n"
     ]
    }
   ],
   "source": [
    "print(\"The mean is:\" +str(np.mean(x_values)))"
   ]
  },
  {
   "cell_type": "code",
   "execution_count": 30,
   "id": "be100bff-b05e-43a9-b076-2dc4d663a8e3",
   "metadata": {},
   "outputs": [],
   "source": [
    "x_values_wo35= pd.Series([7,5,9,8,3,10,12,8],name=\"X\")\n",
    "deviations_x_values_wo35=((x_values_wo35-np.mean(x_values_wo35)))\n",
    "squares_x_values_wo35=((x_values_wo35-np.mean(x_values_wo35))**2)"
   ]
  },
  {
   "cell_type": "markdown",
   "id": "6ba7bcf8-f67b-4e03-b475-7f1ee368e1be",
   "metadata": {},
   "source": [
    "If we take out the outlier x=35, then we have this:"
   ]
  },
  {
   "cell_type": "code",
   "execution_count": 31,
   "id": "378e5472-8218-41eb-8a60-f0e7291b7fcf",
   "metadata": {},
   "outputs": [
    {
     "data": {
      "text/plain": [
       "Text(0, 0.5, 'y = squared deviation from mean')"
      ]
     },
     "execution_count": 31,
     "metadata": {},
     "output_type": "execute_result"
    },
    {
     "data": {
      "image/png": "[encoded data removed]",
      "text/plain": [
       "<Figure size 640x480 with 1 Axes>"
      ]
     },
     "metadata": {},
     "output_type": "display_data"
    }
   ],
   "source": [
    "sns.scatterplot(x=x_values_wo35,y=0,alpha=0.6)\n",
    "plt.plot(np.mean(x_values_wo35),0,marker=\"X\",markerfacecolor=\"red\",markersize=15)\n",
    "for i in np.arange(0,len(x_values_wo35),1):\n",
    "    plt.vlines(x=[x_values_wo35[i]],ymin=[0],ymax=[(squares_x_values_wo35[i])])\n",
    "    plt.hlines(y=[(squares_x_values_wo35[i])], xmin=[np.mean(x_values_wo35)], xmax=[x_values_wo35[i]])\n",
    "    plt.axvline(x=np.mean(x_values_wo35),color='red')\n",
    "plt.ylabel(\"y = squared deviation from mean\")"
   ]
  },
  {
   "cell_type": "code",
   "execution_count": 32,
   "id": "a0a48239-4427-4776-adba-6a0566a0f657",
   "metadata": {},
   "outputs": [
    {
     "name": "stdout",
     "output_type": "stream",
     "text": [
      "The mean is:7.75\n"
     ]
    }
   ],
   "source": [
    "print(\"The mean is:\" +str(np.mean(x_values_wo35)))"
   ]
  },
  {
   "cell_type": "markdown",
   "id": "fa64ddbe-d67b-44fb-9db9-d456f4988358",
   "metadata": {},
   "source": [
    "# mean as the least mean squared deviation by algebra proof"
   ]
  },
  {
   "cell_type": "markdown",
   "id": "fbe1118b-38b5-409d-b6a1-f7191305c448",
   "metadata": {},
   "source": [
    "Let's find the value (a= $\\hat{X}$) that minimizes the mean of the squared deviations (the derivation is not needed, and is shown for informational purposes only)\n",
    "\n",
    "$\\sigma^2 = E[(X-a)^2] = \\frac{\\displaystyle\\sum_{i=1}^{n}} {n} [(X_{i}-a)^2] $  \n",
    "$ = E[(X-\\bar{X}+\\bar{X}-a)^2]$  \n",
    "$(\\bar{X} \\text{ is the mean of X and cancels out}) $  \n",
    "$ = E[((X-\\bar{X}) + (\\bar{X}-a))^2]$  \n",
    "$ = E[(X-\\bar{X})^2 + (\\bar{X}-a)^2 + 2(\\bar{X}-a)(X-\\bar{X})]$  \n",
    "$(\\text{the expectation of a sum is the sum of the expectations)}$    \n",
    "$(\\text{the constants can be pulled out of the expectations)}$  \n",
    "$ = E[(X-\\bar{X})^2] + E[(\\bar{X}-a)^2] + 2(\\bar{X}-a) E[X-\\bar{X}]$  \n",
    "$(\\text{replaced with definition of variance; expectation of a constant is the constant)}$   \n",
    "$(\\text{the expectation of X-}\\bar{X}= E[X] -E[\\bar{X}] = \\bar{X} - \\bar{X} = 0\\text{)}$  \n",
    "$ = var(X) + (\\bar{X}-a)^2 + 2(\\bar{X}-a) * 0$  \n",
    "$ = var(X) + (\\bar{X}-a)^2$  \n",
    "$(\\text{this is mimimum when a =}\\bar{X}\\text{)}$ "
   ]
  },
  {
   "cell_type": "code",
   "execution_count": null,
   "id": "3c1e5ca5-3c6a-490a-8585-a686f34aa4a1",
   "metadata": {},
   "outputs": [],
   "source": []
  },
  {
   "cell_type": "code",
   "execution_count": null,
   "id": "8a243aba-1381-4292-ada5-2e9fb7cc37e9",
   "metadata": {},
   "outputs": [],
   "source": []
  },
  {
   "cell_type": "code",
   "execution_count": null,
   "id": "bc85c35d-5b6f-455c-9aee-2c5187dbacfd",
   "metadata": {},
   "outputs": [],
   "source": []
  }
 ],
 "metadata": {
  "kernelspec": {
   "display_name": "Python 3 (ipykernel)",
   "language": "python",
   "name": "python3"
  },
  "language_info": {
   "codemirror_mode": {
    "name": "ipython",
    "version": 3
   },
   "file_extension": ".py",
   "mimetype": "text/x-python",
   "name": "python",
   "nbconvert_exporter": "python",
   "pygments_lexer": "ipython3",
   "version": "3.11.8"
  }
 },
 "nbformat": 4,
 "nbformat_minor": 5
}
