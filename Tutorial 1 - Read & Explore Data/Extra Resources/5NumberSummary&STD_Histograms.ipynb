{
 "cells": [
  {
   "cell_type": "code",
   "execution_count": 124,
   "id": "6f9ccd14-fe0f-4e5b-a6ea-00801cb10881",
   "metadata": {},
   "outputs": [
    {
     "name": "stdin",
     "output_type": "stream",
     "text": [
      "Once deleted, variables cannot be recovered. Proceed (y/[n])?  y\n"
     ]
    }
   ],
   "source": [
    "%reset\n",
    "# Importing Necessary Libraries\n",
    "\n",
    "import matplotlib.pyplot as plt\n",
    "import numpy as np\n",
    "import pandas as pd\n",
    "import seaborn as sns"
   ]
  },
  {
   "cell_type": "code",
   "execution_count": 125,
   "id": "3c5c610d-3daa-47d9-9705-afc59214e97d",
   "metadata": {},
   "outputs": [],
   "source": [
    "sns.set_style(\"white\")"
   ]
  },
  {
   "cell_type": "code",
   "execution_count": 126,
   "id": "079bb461-dce4-4d4d-9008-b08fd6a405a6",
   "metadata": {},
   "outputs": [
    {
     "data": {
      "text/plain": [
       "array([ 6,  7, 15, 36, 39, 40, 41, 42, 43, 47, 49])"
      ]
     },
     "execution_count": 126,
     "metadata": {},
     "output_type": "execute_result"
    }
   ],
   "source": [
    "# an ordered dataset\n",
    "odd_data= np.array([6,7,15,36,39,40,41,42,43,47,49])\n",
    "odd_data"
   ]
  },
  {
   "cell_type": "code",
   "execution_count": 127,
   "id": "d346a5e4-462f-4191-ba57-effc2257dc01",
   "metadata": {},
   "outputs": [
    {
     "data": {
      "text/plain": [
       "<AxesSubplot:>"
      ]
     },
     "execution_count": 127,
     "metadata": {},
     "output_type": "execute_result"
    },
    {
     "data": {
      "image/png": "[encoded data removed]",
      "text/plain": [
       "<Figure size 500x250 with 1 Axes>"
      ]
     },
     "metadata": {},
     "output_type": "display_data"
    }
   ],
   "source": [
    "plt.rcParams['figure.figsize'] = [5, 2.5]\n",
    "sns.boxplot(data=odd_data)"
   ]
  },
  {
   "cell_type": "code",
   "execution_count": 128,
   "id": "a543433d-4059-472d-aed2-0935c562691e",
   "metadata": {},
   "outputs": [
    {
     "data": {
      "text/plain": [
       "40.0"
      ]
     },
     "execution_count": 128,
     "metadata": {},
     "output_type": "execute_result"
    }
   ],
   "source": [
    "# numpy array summary statsitsics mean(), median(), amin(), amax(), ptp() is range of data, war(), std()\n",
    "np.median(odd_data)"
   ]
  },
  {
   "cell_type": "code",
   "execution_count": 129,
   "id": "269a4287-aca5-44e8-abfe-8e3fcc6557b4",
   "metadata": {},
   "outputs": [
    {
     "data": {
      "text/plain": [
       "15.134657288477642"
      ]
     },
     "execution_count": 129,
     "metadata": {},
     "output_type": "execute_result"
    }
   ],
   "source": [
    "np.std(odd_data)"
   ]
  },
  {
   "cell_type": "code",
   "execution_count": 130,
   "id": "66fb429f-e710-49df-936d-8d1a05360a9c",
   "metadata": {},
   "outputs": [
    {
     "data": {
      "text/html": [
       "<div>\n",
       "<style scoped>\n",
       "    .dataframe tbody tr th:only-of-type {\n",
       "        vertical-align: middle;\n",
       "    }\n",
       "\n",
       "    .dataframe tbody tr th {\n",
       "        vertical-align: top;\n",
       "    }\n",
       "\n",
       "    .dataframe thead th {\n",
       "        text-align: right;\n",
       "    }\n",
       "</style>\n",
       "<table border=\"1\" class=\"dataframe\">\n",
       "  <thead>\n",
       "    <tr style=\"text-align: right;\">\n",
       "      <th></th>\n",
       "      <th>0</th>\n",
       "    </tr>\n",
       "  </thead>\n",
       "  <tbody>\n",
       "    <tr>\n",
       "      <th>0</th>\n",
       "      <td>6</td>\n",
       "    </tr>\n",
       "    <tr>\n",
       "      <th>1</th>\n",
       "      <td>7</td>\n",
       "    </tr>\n",
       "    <tr>\n",
       "      <th>2</th>\n",
       "      <td>15</td>\n",
       "    </tr>\n",
       "    <tr>\n",
       "      <th>3</th>\n",
       "      <td>36</td>\n",
       "    </tr>\n",
       "    <tr>\n",
       "      <th>4</th>\n",
       "      <td>39</td>\n",
       "    </tr>\n",
       "    <tr>\n",
       "      <th>5</th>\n",
       "      <td>40</td>\n",
       "    </tr>\n",
       "    <tr>\n",
       "      <th>6</th>\n",
       "      <td>41</td>\n",
       "    </tr>\n",
       "    <tr>\n",
       "      <th>7</th>\n",
       "      <td>42</td>\n",
       "    </tr>\n",
       "    <tr>\n",
       "      <th>8</th>\n",
       "      <td>43</td>\n",
       "    </tr>\n",
       "    <tr>\n",
       "      <th>9</th>\n",
       "      <td>47</td>\n",
       "    </tr>\n",
       "    <tr>\n",
       "      <th>10</th>\n",
       "      <td>49</td>\n",
       "    </tr>\n",
       "  </tbody>\n",
       "</table>\n",
       "</div>"
      ],
      "text/plain": [
       "     0\n",
       "0    6\n",
       "1    7\n",
       "2   15\n",
       "3   36\n",
       "4   39\n",
       "5   40\n",
       "6   41\n",
       "7   42\n",
       "8   43\n",
       "9   47\n",
       "10  49"
      ]
     },
     "execution_count": 130,
     "metadata": {},
     "output_type": "execute_result"
    }
   ],
   "source": [
    "#  pandas has a .describe attribute, so convert the np.array to a pd.dataframe\n",
    "odd_data_df=pd.DataFrame(odd_data)\n",
    "odd_data_df"
   ]
  },
  {
   "cell_type": "code",
   "execution_count": 131,
   "id": "045c3cdb-d5b3-4a00-afa3-b028f7d6c925",
   "metadata": {},
   "outputs": [
    {
     "data": {
      "text/html": [
       "<div>\n",
       "<style scoped>\n",
       "    .dataframe tbody tr th:only-of-type {\n",
       "        vertical-align: middle;\n",
       "    }\n",
       "\n",
       "    .dataframe tbody tr th {\n",
       "        vertical-align: top;\n",
       "    }\n",
       "\n",
       "    .dataframe thead th {\n",
       "        text-align: right;\n",
       "    }\n",
       "</style>\n",
       "<table border=\"1\" class=\"dataframe\">\n",
       "  <thead>\n",
       "    <tr style=\"text-align: right;\">\n",
       "      <th></th>\n",
       "      <th>0</th>\n",
       "    </tr>\n",
       "  </thead>\n",
       "  <tbody>\n",
       "    <tr>\n",
       "      <th>count</th>\n",
       "      <td>11.000000</td>\n",
       "    </tr>\n",
       "    <tr>\n",
       "      <th>mean</th>\n",
       "      <td>33.181818</td>\n",
       "    </tr>\n",
       "    <tr>\n",
       "      <th>std</th>\n",
       "      <td>15.873362</td>\n",
       "    </tr>\n",
       "    <tr>\n",
       "      <th>min</th>\n",
       "      <td>6.000000</td>\n",
       "    </tr>\n",
       "    <tr>\n",
       "      <th>25%</th>\n",
       "      <td>25.500000</td>\n",
       "    </tr>\n",
       "    <tr>\n",
       "      <th>50%</th>\n",
       "      <td>40.000000</td>\n",
       "    </tr>\n",
       "    <tr>\n",
       "      <th>75%</th>\n",
       "      <td>42.500000</td>\n",
       "    </tr>\n",
       "    <tr>\n",
       "      <th>max</th>\n",
       "      <td>49.000000</td>\n",
       "    </tr>\n",
       "  </tbody>\n",
       "</table>\n",
       "</div>"
      ],
      "text/plain": [
       "               0\n",
       "count  11.000000\n",
       "mean   33.181818\n",
       "std    15.873362\n",
       "min     6.000000\n",
       "25%    25.500000\n",
       "50%    40.000000\n",
       "75%    42.500000\n",
       "max    49.000000"
      ]
     },
     "execution_count": 131,
     "metadata": {},
     "output_type": "execute_result"
    }
   ],
   "source": [
    "odd_data_df.describe()"
   ]
  },
  {
   "cell_type": "code",
   "execution_count": 132,
   "id": "48aba0a6-8543-4b0f-befb-f2c056aa298b",
   "metadata": {},
   "outputs": [
    {
     "data": {
      "text/plain": [
       "array([25.5, 40. , 42.5])"
      ]
     },
     "execution_count": 132,
     "metadata": {},
     "output_type": "execute_result"
    }
   ],
   "source": [
    "np.percentile(odd_data,[25,50,75],interpolation='midpoint')"
   ]
  },
  {
   "cell_type": "markdown",
   "id": "e0136fae-abe0-4193-914b-cdbd634363af",
   "metadata": {},
   "source": [
    "# Quartiles\n",
    "Tukey's hinge method of finding quartiles \\\n",
    "use median to divide the ordered data into two halves \\\n",
    "If odd number in the dataset, include the median in both halves \\\n",
    "the lower quantiles is the median of the lower half, and the upper quantile is the median of the upper half \\\n",
    "if even number, split the original ordered data in half and find the median of the lower half and the upper half\n",
    "\n",
    "For the odd data above:  Tukey's hinge:Q1=25.5 and Q3=42.5\n",
    "\n",
    "The problem with this is that this is finding the quantiles for a disrete distribution and we are really thinking of these numbers as numerical values with a continuous distribution.  There are many interpolation methods for finding these percentiles.  One that is useful for engineers is to make sure that the quartiles land on a value from the dataset and you can use a nearest rank method (the percentile * the number of observations and then round to the next observation number).  For odd data above:  Nearest rank neighbor:  Q1=15, Q3=43\n",
    "\n",
    "Another way is the use an interpolation method to model between adjacent ranks.  The numpy percentile call will do this with a default of interpolation='linear'.  For even number of observations in your data, this will matter.  For the odd data above:  Q1= 25.5; Q3=42.5\n",
    "\n",
    "Note: For populations following a normal distribution, you can use the percentiles/percent point function (the quantile function) using the normal distribution to find the value of x at which 25% o 50% or 75% of the area under the standard normal curve is accouted for. The above distrubution is not normal. "
   ]
  },
  {
   "cell_type": "code",
   "execution_count": 133,
   "id": "493689db-e426-4e92-ab1b-cc10b49f281f",
   "metadata": {},
   "outputs": [
    {
     "data": {
      "text/plain": [
       "array([25.5, 40. , 42.5])"
      ]
     },
     "execution_count": 133,
     "metadata": {},
     "output_type": "execute_result"
    }
   ],
   "source": [
    "np.percentile(odd_data,[25,50,75],interpolation='linear')"
   ]
  },
  {
   "cell_type": "code",
   "execution_count": 134,
   "id": "33301144-51cc-4edf-b4e8-3bb886a7edec",
   "metadata": {},
   "outputs": [
    {
     "data": {
      "text/plain": [
       "22.475612971882306"
      ]
     },
     "execution_count": 134,
     "metadata": {},
     "output_type": "execute_result"
    }
   ],
   "source": [
    "from scipy.stats import norm\n",
    "norm.ppf(0.25,loc=33.2,scale=15.9)"
   ]
  },
  {
   "cell_type": "markdown",
   "id": "1ec68087-8c19-4d4e-a0dd-877e3ccaa5ab",
   "metadata": {},
   "source": [
    "# population and sample standard deviation"
   ]
  },
  {
   "cell_type": "markdown",
   "id": "64054b21-5943-4dd7-b512-8978a372a306",
   "metadata": {},
   "source": [
    "$\\sigma = \\sqrt{\\frac{1}{n} \\displaystyle\\sum_{i=1}^{n} (x_i - \\bar{x})^2}$\n",
    "\n",
    "Population standard deviation is a measure of the average distance between the values of the data in the set and the mean; it is calculated as the square root of the sum of the squared deviations from the mean divided by the number of obseravtions\n",
    "\n",
    "$s = \\sqrt{\\frac{1}{n-1} \\displaystyle\\sum_{i=1}^{n} (x_i - \\bar{x})^2}$\n",
    "\n",
    "Sample standard deviation is the square root of the Bessel's corrected sample variance (an unbiased estimator of the variance), the sqaure root of the the sum of the squared deviations from the mean divided by the number of observations-1"
   ]
  },
  {
   "cell_type": "code",
   "execution_count": 135,
   "id": "0f5f5c80-e900-40e7-9cbe-6c2eb159024d",
   "metadata": {},
   "outputs": [],
   "source": [
    "# The sample standard deviation using n-1 in the formula\n",
    "mean_odd_data=np.mean(odd_data)\n",
    "sum_of_squares_odd_data=np.sum((odd_data-mean_odd_data)**2)"
   ]
  },
  {
   "cell_type": "code",
   "execution_count": 136,
   "id": "6e8d93be-5659-4741-8d60-1e1640b674de",
   "metadata": {},
   "outputs": [],
   "source": [
    "n=len(odd_data)"
   ]
  },
  {
   "cell_type": "code",
   "execution_count": 137,
   "id": "54bc1b92-18e2-47f4-bcf1-7d960bcc7a5f",
   "metadata": {},
   "outputs": [
    {
     "data": {
      "text/plain": [
       "2519.6363636363635"
      ]
     },
     "execution_count": 137,
     "metadata": {},
     "output_type": "execute_result"
    }
   ],
   "source": [
    "sum_of_squares_odd_data"
   ]
  },
  {
   "cell_type": "code",
   "execution_count": 138,
   "id": "a4f2e4d0-2257-4bf5-baa7-1db7bfb609df",
   "metadata": {},
   "outputs": [
    {
     "data": {
      "text/plain": [
       "15.873362478178224"
      ]
     },
     "execution_count": 138,
     "metadata": {},
     "output_type": "execute_result"
    }
   ],
   "source": [
    "np.sqrt(sum_of_squares_odd_data/(n-1))"
   ]
  },
  {
   "cell_type": "code",
   "execution_count": 139,
   "id": "defaae17-2cad-490a-aa04-2c71efb74433",
   "metadata": {},
   "outputs": [],
   "source": [
    "# the pandas library uses n-1 as the default\n",
    "# the numpy library uses n as the default for std"
   ]
  },
  {
   "cell_type": "code",
   "execution_count": 140,
   "id": "8af251ba-afab-4511-b7b7-2c771eb4c586",
   "metadata": {},
   "outputs": [
    {
     "data": {
      "text/plain": [
       "15.134657288477642"
      ]
     },
     "execution_count": 140,
     "metadata": {},
     "output_type": "execute_result"
    }
   ],
   "source": [
    "np.sqrt(sum_of_squares_odd_data/n)"
   ]
  },
  {
   "cell_type": "markdown",
   "id": "a53e8264-222f-4c33-b424-ba48fcc885ce",
   "metadata": {},
   "source": [
    "# Boxplots"
   ]
  },
  {
   "cell_type": "code",
   "execution_count": 141,
   "id": "07ce7558-90eb-453d-b30a-9e2f0a2d1876",
   "metadata": {},
   "outputs": [],
   "source": [
    "# looking at an even array of data\n",
    "even_data=np.array([7,15,36,39,40,41])"
   ]
  },
  {
   "cell_type": "code",
   "execution_count": 142,
   "id": "739aa305-42e5-453b-bd3d-0b355852fbe6",
   "metadata": {},
   "outputs": [
    {
     "data": {
      "text/html": [
       "<div>\n",
       "<style scoped>\n",
       "    .dataframe tbody tr th:only-of-type {\n",
       "        vertical-align: middle;\n",
       "    }\n",
       "\n",
       "    .dataframe tbody tr th {\n",
       "        vertical-align: top;\n",
       "    }\n",
       "\n",
       "    .dataframe thead th {\n",
       "        text-align: right;\n",
       "    }\n",
       "</style>\n",
       "<table border=\"1\" class=\"dataframe\">\n",
       "  <thead>\n",
       "    <tr style=\"text-align: right;\">\n",
       "      <th></th>\n",
       "      <th>0</th>\n",
       "    </tr>\n",
       "  </thead>\n",
       "  <tbody>\n",
       "    <tr>\n",
       "      <th>count</th>\n",
       "      <td>6.000000</td>\n",
       "    </tr>\n",
       "    <tr>\n",
       "      <th>mean</th>\n",
       "      <td>29.666667</td>\n",
       "    </tr>\n",
       "    <tr>\n",
       "      <th>std</th>\n",
       "      <td>14.773851</td>\n",
       "    </tr>\n",
       "    <tr>\n",
       "      <th>min</th>\n",
       "      <td>7.000000</td>\n",
       "    </tr>\n",
       "    <tr>\n",
       "      <th>25%</th>\n",
       "      <td>20.250000</td>\n",
       "    </tr>\n",
       "    <tr>\n",
       "      <th>50%</th>\n",
       "      <td>37.500000</td>\n",
       "    </tr>\n",
       "    <tr>\n",
       "      <th>75%</th>\n",
       "      <td>39.750000</td>\n",
       "    </tr>\n",
       "    <tr>\n",
       "      <th>max</th>\n",
       "      <td>41.000000</td>\n",
       "    </tr>\n",
       "  </tbody>\n",
       "</table>\n",
       "</div>"
      ],
      "text/plain": [
       "               0\n",
       "count   6.000000\n",
       "mean   29.666667\n",
       "std    14.773851\n",
       "min     7.000000\n",
       "25%    20.250000\n",
       "50%    37.500000\n",
       "75%    39.750000\n",
       "max    41.000000"
      ]
     },
     "execution_count": 142,
     "metadata": {},
     "output_type": "execute_result"
    }
   ],
   "source": [
    "even_data_df=pd.DataFrame(even_data)\n",
    "even_data_df.describe()"
   ]
  },
  {
   "cell_type": "markdown",
   "id": "c296f2fc-4c91-46f4-a9e5-8752a6c58b24",
   "metadata": {},
   "source": [
    "For Tukey's hinge:  Q1=15, Q3=40 \\\n",
    "For nearest rank:  Q1= 15; Q3=40 \\\n",
    "For interpolation methods:"
   ]
  },
  {
   "cell_type": "code",
   "execution_count": 143,
   "id": "eea9d35b-5903-4556-91f3-31b5aa5582b5",
   "metadata": {},
   "outputs": [
    {
     "data": {
      "text/plain": [
       "array([20.25, 37.5 , 39.75])"
      ]
     },
     "execution_count": 143,
     "metadata": {},
     "output_type": "execute_result"
    }
   ],
   "source": [
    "np.percentile(even_data,[25,50,75],interpolation='linear')"
   ]
  },
  {
   "cell_type": "code",
   "execution_count": 144,
   "id": "bba9ca80-188b-4739-b815-afbf7c1d8268",
   "metadata": {},
   "outputs": [
    {
     "data": {
      "text/plain": [
       "array([25.5, 37.5, 39.5])"
      ]
     },
     "execution_count": 144,
     "metadata": {},
     "output_type": "execute_result"
    }
   ],
   "source": [
    "np.percentile(even_data,[25,50,75],interpolation='midpoint')"
   ]
  },
  {
   "cell_type": "code",
   "execution_count": 145,
   "id": "6abcaaa3-985e-4dc2-a515-81756488e349",
   "metadata": {},
   "outputs": [
    {
     "data": {
      "text/plain": [
       "19.71755169709799"
      ]
     },
     "execution_count": 145,
     "metadata": {},
     "output_type": "execute_result"
    }
   ],
   "source": [
    "from scipy.stats import norm\n",
    "norm.ppf(0.25,loc=29.7,scale=14.8)"
   ]
  },
  {
   "cell_type": "markdown",
   "id": "a994895e-29f9-49c0-9a2a-0c09ccb9d430",
   "metadata": {},
   "source": [
    "# Boxplots"
   ]
  },
  {
   "cell_type": "code",
   "execution_count": 146,
   "id": "3865832d-cb21-4a3b-acb4-22efc41d0a37",
   "metadata": {},
   "outputs": [
    {
     "name": "stderr",
     "output_type": "stream",
     "text": [
      "C:\\Users\\carol\\AppData\\Local\\Temp\\ipykernel_21364\\3421155391.py:3: MatplotlibDeprecationWarning: The 'b' parameter of grid() has been renamed 'visible' since Matplotlib 3.5; support for the old name will be dropped two minor releases later.\n",
      "  plt.grid(b=True,which='major',color='black', linewidth=0.1)\n"
     ]
    },
    {
     "data": {
      "text/plain": [
       "Text(0.5, 0, 'Odd number of data elements')"
      ]
     },
     "execution_count": 146,
     "metadata": {},
     "output_type": "execute_result"
    },
    {
     "data": {
      "image/png": "[encoded data removed]",
      "text/plain": [
       "<Figure size 500x250 with 1 Axes>"
      ]
     },
     "metadata": {},
     "output_type": "display_data"
    }
   ],
   "source": [
    "sns.boxplot(data=odd_data)\n",
    "plt.yticks(np.arange(0,52,2))\n",
    "plt.grid(b=True,which='major',color='black', linewidth=0.1)\n",
    "plt.xlabel(\"Odd number of data elements\")"
   ]
  },
  {
   "cell_type": "markdown",
   "id": "8ffc682a-dcdc-4b87-ac2d-dc1abb00e61f",
   "metadata": {},
   "source": [
    "5 number summary: min=6, Q1=25.5, Q2=40, Q3=42.5, max=49 \\\n",
    "Tukey's box and whisker plot:  as shown above \\\n",
    "box and whisker plot always have an actual value in the dataset as the wisker values\n",
    "IQR = Q3-Q1= 17.0 \\\n",
    "1.5* 17.0= 25.5 \\\n",
    "Upper Whisker = Q3 + 25.5 = 68.0 \\\n",
    "Lower Whisker = Q1 - 25.5 = 0 \\\n",
    "The length of the upper whisker is the largest value that is no greater than the Q3+1.5* IQR.  Since there are no outliers, the upper whisker becomes the max value=49.  Same for the lower whisker.  Otherwise, the whisker is the largest or smallest points inside the range defined by the 1.5* IQR formula and then the values for the outliers are shown.    "
   ]
  },
  {
   "cell_type": "code",
   "execution_count": 147,
   "id": "c14b1459-ee6e-4988-a433-201a965abcfe",
   "metadata": {},
   "outputs": [
    {
     "name": "stderr",
     "output_type": "stream",
     "text": [
      "C:\\Users\\carol\\AppData\\Local\\Temp\\ipykernel_21364\\4027078649.py:6: MatplotlibDeprecationWarning: The 'b' parameter of grid() has been renamed 'visible' since Matplotlib 3.5; support for the old name will be dropped two minor releases later.\n",
      "  plt.grid(b=True,which='major',color='black', linewidth=0.1)\n"
     ]
    },
    {
     "data": {
      "text/plain": [
       "Text(0.5, -5.2500000000000036, 'admission wbc')"
      ]
     },
     "execution_count": 147,
     "metadata": {},
     "output_type": "execute_result"
    },
    {
     "data": {
      "image/png": "[encoded data removed]",
      "text/plain": [
       "<Figure size 500x250 with 1 Axes>"
      ]
     },
     "metadata": {},
     "output_type": "display_data"
    }
   ],
   "source": [
    "# Example from boxplot lecture\n",
    "boxplotdata=np.array([3,5,7,8,8,9,10,12,35])\n",
    "sns.boxplot(data=boxplotdata,fliersize=10,showmeans=True)\n",
    "sns.swarmplot(data=boxplotdata,color=\"red\")\n",
    "plt.yticks(np.arange(0,40,2))\n",
    "plt.grid(b=True,which='major',color='black', linewidth=0.1)\n",
    "plt.xlabel(\"admission wbc\")"
   ]
  },
  {
   "cell_type": "code",
   "execution_count": 148,
   "id": "1aa8c0f2-7311-4a11-88c5-f8a9870b19ea",
   "metadata": {},
   "outputs": [
    {
     "data": {
      "text/html": [
       "<div>\n",
       "<style scoped>\n",
       "    .dataframe tbody tr th:only-of-type {\n",
       "        vertical-align: middle;\n",
       "    }\n",
       "\n",
       "    .dataframe tbody tr th {\n",
       "        vertical-align: top;\n",
       "    }\n",
       "\n",
       "    .dataframe thead th {\n",
       "        text-align: right;\n",
       "    }\n",
       "</style>\n",
       "<table border=\"1\" class=\"dataframe\">\n",
       "  <thead>\n",
       "    <tr style=\"text-align: right;\">\n",
       "      <th></th>\n",
       "      <th>0</th>\n",
       "    </tr>\n",
       "  </thead>\n",
       "  <tbody>\n",
       "    <tr>\n",
       "      <th>count</th>\n",
       "      <td>9.000000</td>\n",
       "    </tr>\n",
       "    <tr>\n",
       "      <th>mean</th>\n",
       "      <td>10.777778</td>\n",
       "    </tr>\n",
       "    <tr>\n",
       "      <th>std</th>\n",
       "      <td>9.457507</td>\n",
       "    </tr>\n",
       "    <tr>\n",
       "      <th>min</th>\n",
       "      <td>3.000000</td>\n",
       "    </tr>\n",
       "    <tr>\n",
       "      <th>25%</th>\n",
       "      <td>7.000000</td>\n",
       "    </tr>\n",
       "    <tr>\n",
       "      <th>50%</th>\n",
       "      <td>8.000000</td>\n",
       "    </tr>\n",
       "    <tr>\n",
       "      <th>75%</th>\n",
       "      <td>10.000000</td>\n",
       "    </tr>\n",
       "    <tr>\n",
       "      <th>max</th>\n",
       "      <td>35.000000</td>\n",
       "    </tr>\n",
       "  </tbody>\n",
       "</table>\n",
       "</div>"
      ],
      "text/plain": [
       "               0\n",
       "count   9.000000\n",
       "mean   10.777778\n",
       "std     9.457507\n",
       "min     3.000000\n",
       "25%     7.000000\n",
       "50%     8.000000\n",
       "75%    10.000000\n",
       "max    35.000000"
      ]
     },
     "execution_count": 148,
     "metadata": {},
     "output_type": "execute_result"
    }
   ],
   "source": [
    "boxplotdata_df=pd.DataFrame(boxplotdata)\n",
    "boxplotdata_df.describe()"
   ]
  },
  {
   "cell_type": "code",
   "execution_count": 149,
   "id": "efc053c1-d74f-41bc-a98b-ac4515b7d2de",
   "metadata": {},
   "outputs": [
    {
     "data": {
      "text/plain": [
       "array([ 7.,  8., 10.])"
      ]
     },
     "execution_count": 149,
     "metadata": {},
     "output_type": "execute_result"
    }
   ],
   "source": [
    "np.percentile(boxplotdata,[25,50,75],interpolation='linear')"
   ]
  },
  {
   "cell_type": "code",
   "execution_count": 153,
   "id": "8f498146-9689-45ba-8747-bc7987b48a0e",
   "metadata": {},
   "outputs": [
    {
     "data": {
      "text/plain": [
       "Text(0.5, 0, 'wbc')"
      ]
     },
     "execution_count": 153,
     "metadata": {},
     "output_type": "execute_result"
    },
    {
     "data": {
      "image/png": "[encoded data removed]",
      "text/plain": [
       "<Figure size 500x250 with 2 Axes>"
      ]
     },
     "metadata": {},
     "output_type": "display_data"
    }
   ],
   "source": [
    "fig,(ax1,ax2)=plt.subplots(2,sharex=True,gridspec_kw={\"height_ratios\":(0.15,0.85)})\n",
    "sns.boxplot(x=boxplotdata,ax=ax1)\n",
    "sns.histplot(data=boxplotdata,ax=ax2)\n",
    "plt.xlabel(\"wbc\")"
   ]
  },
  {
   "cell_type": "markdown",
   "id": "bc168484-f82b-4ce5-9917-200ef416cf2f",
   "metadata": {},
   "source": [
    "## Histograms"
   ]
  },
  {
   "cell_type": "code",
   "execution_count": 154,
   "id": "c68dec68-4326-4339-9385-bf4b22c850a8",
   "metadata": {},
   "outputs": [],
   "source": [
    "histdata=np.array([38,50,38,40,35,52,45,50,40,32,40,47,70,55,51])"
   ]
  },
  {
   "cell_type": "code",
   "execution_count": 155,
   "id": "e614cceb-fd9e-4686-aac5-285796834fc2",
   "metadata": {},
   "outputs": [
    {
     "data": {
      "text/plain": [
       "<seaborn.axisgrid.FacetGrid at 0x221e225dd60>"
      ]
     },
     "execution_count": 155,
     "metadata": {},
     "output_type": "execute_result"
    },
    {
     "data": {
      "image/png": "[encoded data removed]",
      "text/plain": [
       "<Figure size 500x500 with 1 Axes>"
      ]
     },
     "metadata": {},
     "output_type": "display_data"
    }
   ],
   "source": [
    "sns.displot(histdata, stat='count')"
   ]
  },
  {
   "cell_type": "code",
   "execution_count": 161,
   "id": "bca09608-4423-46bc-90fb-ed853ac0e4cd",
   "metadata": {},
   "outputs": [
    {
     "data": {
      "text/plain": [
       "<seaborn.axisgrid.FacetGrid at 0x221e07b8970>"
      ]
     },
     "execution_count": 161,
     "metadata": {},
     "output_type": "execute_result"
    },
    {
     "data": {
      "image/png": "[encoded data removed]",
      "text/plain": [
       "<Figure size 500x500 with 1 Axes>"
      ]
     },
     "metadata": {},
     "output_type": "display_data"
    }
   ],
   "source": [
    "sns.displot(histdata, stat='count', bins=[30,35,40,45,50,55,60,65,70])"
   ]
  },
  {
   "cell_type": "code",
   "execution_count": 162,
   "id": "b80fa9da-8188-41a6-bd39-691788ce2f39",
   "metadata": {},
   "outputs": [
    {
     "data": {
      "text/plain": [
       "<seaborn.axisgrid.FacetGrid at 0x221e21cc640>"
      ]
     },
     "execution_count": 162,
     "metadata": {},
     "output_type": "execute_result"
    },
    {
     "data": {
      "image/png": "[encoded data removed]",
      "text/plain": [
       "<Figure size 500x500 with 1 Axes>"
      ]
     },
     "metadata": {},
     "output_type": "display_data"
    }
   ],
   "source": [
    "sns.displot(histdata, stat='probability', bins=[30,35,40,45,50,55,60,65,70])"
   ]
  },
  {
   "cell_type": "code",
   "execution_count": 163,
   "id": "83cc682e-e484-4ad9-9899-853ba3ce38e6",
   "metadata": {},
   "outputs": [
    {
     "data": {
      "text/plain": [
       "<seaborn.axisgrid.FacetGrid at 0x221e0c4d160>"
      ]
     },
     "execution_count": 163,
     "metadata": {},
     "output_type": "execute_result"
    },
    {
     "data": {
      "image/png": "[encoded data removed]",
      "text/plain": [
       "<Figure size 500x500 with 1 Axes>"
      ]
     },
     "metadata": {},
     "output_type": "display_data"
    }
   ],
   "source": [
    "sns.displot(histdata, stat='density', bins=[30,35,40,45,50,55,60,65,70])"
   ]
  },
  {
   "cell_type": "code",
   "execution_count": null,
   "id": "b143ccfc-eac9-43b6-96c6-47fb2ec2d47f",
   "metadata": {},
   "outputs": [],
   "source": []
  }
 ],
 "metadata": {
  "kernelspec": {
   "display_name": "Python 3 (ipykernel)",
   "language": "python",
   "name": "python3"
  },
  "language_info": {
   "codemirror_mode": {
    "name": "ipython",
    "version": 3
   },
   "file_extension": ".py",
   "mimetype": "text/x-python",
   "name": "python",
   "nbconvert_exporter": "python",
   "pygments_lexer": "ipython3",
   "version": "3.9.13"
  }
 },
 "nbformat": 4,
 "nbformat_minor": 5
}
