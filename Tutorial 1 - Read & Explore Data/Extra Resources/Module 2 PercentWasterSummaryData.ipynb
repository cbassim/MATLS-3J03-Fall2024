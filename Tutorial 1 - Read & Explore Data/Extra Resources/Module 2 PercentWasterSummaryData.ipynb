{
 "cells": [
  {
   "cell_type": "code",
   "execution_count": 7,
   "id": "6f9ccd14-fe0f-4e5b-a6ea-00801cb10881",
   "metadata": {},
   "outputs": [
    {
     "name": "stdin",
     "output_type": "stream",
     "text": [
      "Once deleted, variables cannot be recovered. Proceed (y/[n])?  y\n"
     ]
    }
   ],
   "source": [
    "%reset\n",
    "# Importing Necessary Libraries\n",
    "\n",
    "import matplotlib.pyplot as plt\n",
    "import numpy as np\n",
    "import pandas as pd\n",
    "from scipy import stats\n",
    "import seaborn as sns"
   ]
  },
  {
   "cell_type": "code",
   "execution_count": 44,
   "id": "9312ad06-0b6f-4f37-abe2-12df89341bf4",
   "metadata": {
    "tags": []
   },
   "outputs": [],
   "source": [
    "#  ignore future warnings to keep the output clean\n",
    "\n",
    "import warnings\n",
    "warnings.simplefilter(action='ignore', category=FutureWarning)"
   ]
  },
  {
   "cell_type": "code",
   "execution_count": 45,
   "id": "d5987e60-15f5-4428-bf07-d86b97add40a",
   "metadata": {
    "tags": []
   },
   "outputs": [],
   "source": [
    "# Percent Waste by Weight on Bulk Paper Rolls"
   ]
  },
  {
   "cell_type": "code",
   "execution_count": 46,
   "id": "3c5c610d-3daa-47d9-9705-afc59214e97d",
   "metadata": {},
   "outputs": [],
   "source": [
    "#save    data    to    vectors as numpy arrays\n",
    "supply_1    = np.array([.37,    .52,    .65,    .92,    2.89,    3.62])\n",
    "supply_2    = np.array([.89,    .99,    1.45,    1.47,    1.58,    2.27,    2.63,    6.54])"
   ]
  },
  {
   "cell_type": "code",
   "execution_count": 47,
   "id": "b769786d-4ee2-45c3-9804-ddd7e0825078",
   "metadata": {
    "tags": []
   },
   "outputs": [],
   "source": [
    "# define a function to find the summary statistics of a data vector.\n",
    "\n",
    "def desc_stat(x, tr=0.1):\n",
    "    N = len(x)\n",
    "    mean = np.mean(x)\n",
    "    median = np.median(x)\n",
    "    trmean = stats.trim_mean(x, tr)\n",
    "    sd = np.std(x, ddof=1)  # ddof=1 for sample standard deviation\n",
    "    se = sd / np.sqrt(N)\n",
    "    min_val = np.min(x)\n",
    "    max_val = np.max(x)\n",
    "    q1 = np.percentile(x, 25)\n",
    "    q3 = np.percentile(x, 75)\n",
    "\n",
    "    statistics = {\n",
    "        'N': N,\n",
    "        'mean': round(mean, 4),\n",
    "        'median': round(median, 4),\n",
    "        'trmean': round(trmean, 4),\n",
    "        'sd': round(sd, 4),\n",
    "        'se': round(se, 4),\n",
    "        'min': round(min_val, 4),\n",
    "        'max': round(max_val, 4),\n",
    "        'q1': round(q1, 4),\n",
    "        'q3': round(q3, 4)\n",
    "    }\n",
    "\n",
    "    return statistics"
   ]
  },
  {
   "cell_type": "code",
   "execution_count": 48,
   "id": "08f78d29-15aa-4d72-8103-dfeecca7b6b6",
   "metadata": {
    "tags": []
   },
   "outputs": [
    {
     "data": {
      "text/plain": [
       "{'N': 6,\n",
       " 'mean': 1.495,\n",
       " 'median': 0.785,\n",
       " 'trmean': 1.495,\n",
       " 'sd': 1.3945,\n",
       " 'se': 0.5693,\n",
       " 'min': 0.37,\n",
       " 'max': 3.62,\n",
       " 'q1': 0.5525,\n",
       " 'q3': 2.3975}"
      ]
     },
     "execution_count": 48,
     "metadata": {},
     "output_type": "execute_result"
    }
   ],
   "source": [
    "# Use data to call the function for the data\n",
    "data = supply_1\n",
    "desc_stat(data)"
   ]
  },
  {
   "cell_type": "code",
   "execution_count": 49,
   "id": "9964ec78-797b-42b5-80f3-403f4b71a332",
   "metadata": {
    "tags": []
   },
   "outputs": [
    {
     "data": {
      "text/plain": [
       "{'N': 8,\n",
       " 'mean': 2.2275,\n",
       " 'median': 1.525,\n",
       " 'trmean': 2.2275,\n",
       " 'sd': 1.8392,\n",
       " 'se': 0.6503,\n",
       " 'min': 0.89,\n",
       " 'max': 6.54,\n",
       " 'q1': 1.335,\n",
       " 'q3': 2.36}"
      ]
     },
     "execution_count": 49,
     "metadata": {},
     "output_type": "execute_result"
    }
   ],
   "source": [
    "data = supply_2\n",
    "desc_stat(data)"
   ]
  },
  {
   "cell_type": "code",
   "execution_count": 50,
   "id": "c4ca2f87-b5a6-4f45-91da-0f653c5fdc4b",
   "metadata": {
    "tags": []
   },
   "outputs": [
    {
     "data": {
      "text/html": [
       "<div>\n",
       "<style scoped>\n",
       "    .dataframe tbody tr th:only-of-type {\n",
       "        vertical-align: middle;\n",
       "    }\n",
       "\n",
       "    .dataframe tbody tr th {\n",
       "        vertical-align: top;\n",
       "    }\n",
       "\n",
       "    .dataframe thead th {\n",
       "        text-align: right;\n",
       "    }\n",
       "</style>\n",
       "<table border=\"1\" class=\"dataframe\">\n",
       "  <thead>\n",
       "    <tr style=\"text-align: right;\">\n",
       "      <th></th>\n",
       "      <th>Supply_1</th>\n",
       "    </tr>\n",
       "  </thead>\n",
       "  <tbody>\n",
       "    <tr>\n",
       "      <th>count</th>\n",
       "      <td>6.000000</td>\n",
       "    </tr>\n",
       "    <tr>\n",
       "      <th>mean</th>\n",
       "      <td>1.495000</td>\n",
       "    </tr>\n",
       "    <tr>\n",
       "      <th>std</th>\n",
       "      <td>1.394457</td>\n",
       "    </tr>\n",
       "    <tr>\n",
       "      <th>min</th>\n",
       "      <td>0.370000</td>\n",
       "    </tr>\n",
       "    <tr>\n",
       "      <th>25%</th>\n",
       "      <td>0.552500</td>\n",
       "    </tr>\n",
       "    <tr>\n",
       "      <th>50%</th>\n",
       "      <td>0.785000</td>\n",
       "    </tr>\n",
       "    <tr>\n",
       "      <th>75%</th>\n",
       "      <td>2.397500</td>\n",
       "    </tr>\n",
       "    <tr>\n",
       "      <th>max</th>\n",
       "      <td>3.620000</td>\n",
       "    </tr>\n",
       "  </tbody>\n",
       "</table>\n",
       "</div>"
      ],
      "text/plain": [
       "       Supply_1\n",
       "count  6.000000\n",
       "mean   1.495000\n",
       "std    1.394457\n",
       "min    0.370000\n",
       "25%    0.552500\n",
       "50%    0.785000\n",
       "75%    2.397500\n",
       "max    3.620000"
      ]
     },
     "execution_count": 50,
     "metadata": {},
     "output_type": "execute_result"
    }
   ],
   "source": [
    "# or create the numpy arrays as a pandas dataframe and describe it\n",
    "Supply_1 = pd.DataFrame({'Supply_1':supply_1})\n",
    "Supply_1.describe()"
   ]
  },
  {
   "cell_type": "code",
   "execution_count": 58,
   "id": "5fbf0969-6965-4440-849d-b8d016d00253",
   "metadata": {
    "tags": []
   },
   "outputs": [
    {
     "data": {
      "text/html": [
       "<div>\n",
       "<style scoped>\n",
       "    .dataframe tbody tr th:only-of-type {\n",
       "        vertical-align: middle;\n",
       "    }\n",
       "\n",
       "    .dataframe tbody tr th {\n",
       "        vertical-align: top;\n",
       "    }\n",
       "\n",
       "    .dataframe thead th {\n",
       "        text-align: right;\n",
       "    }\n",
       "</style>\n",
       "<table border=\"1\" class=\"dataframe\">\n",
       "  <thead>\n",
       "    <tr style=\"text-align: right;\">\n",
       "      <th></th>\n",
       "      <th>Supply_2</th>\n",
       "    </tr>\n",
       "  </thead>\n",
       "  <tbody>\n",
       "    <tr>\n",
       "      <th>count</th>\n",
       "      <td>8.000000</td>\n",
       "    </tr>\n",
       "    <tr>\n",
       "      <th>mean</th>\n",
       "      <td>2.227500</td>\n",
       "    </tr>\n",
       "    <tr>\n",
       "      <th>std</th>\n",
       "      <td>1.839229</td>\n",
       "    </tr>\n",
       "    <tr>\n",
       "      <th>min</th>\n",
       "      <td>0.890000</td>\n",
       "    </tr>\n",
       "    <tr>\n",
       "      <th>25%</th>\n",
       "      <td>1.335000</td>\n",
       "    </tr>\n",
       "    <tr>\n",
       "      <th>50%</th>\n",
       "      <td>1.525000</td>\n",
       "    </tr>\n",
       "    <tr>\n",
       "      <th>75%</th>\n",
       "      <td>2.360000</td>\n",
       "    </tr>\n",
       "    <tr>\n",
       "      <th>max</th>\n",
       "      <td>6.540000</td>\n",
       "    </tr>\n",
       "  </tbody>\n",
       "</table>\n",
       "</div>"
      ],
      "text/plain": [
       "       Supply_2\n",
       "count  8.000000\n",
       "mean   2.227500\n",
       "std    1.839229\n",
       "min    0.890000\n",
       "25%    1.335000\n",
       "50%    1.525000\n",
       "75%    2.360000\n",
       "max    6.540000"
      ]
     },
     "execution_count": 58,
     "metadata": {},
     "output_type": "execute_result"
    }
   ],
   "source": [
    "# or create the numpy arrays as a pandas dataframe and describe it\n",
    "Supply_2 = pd.DataFrame({'Supply_2':supply_2})\n",
    "Supply_2.describe()"
   ]
  },
  {
   "cell_type": "markdown",
   "id": "a53e8264-222f-4c33-b424-ba48fcc885ce",
   "metadata": {
    "tags": []
   },
   "source": [
    "# Boxplots"
   ]
  },
  {
   "cell_type": "code",
   "execution_count": 60,
   "id": "3865832d-cb21-4a3b-acb4-22efc41d0a37",
   "metadata": {},
   "outputs": [
    {
     "data": {
      "text/plain": [
       "Text(0, 0.5, 'Percent Waste by Weight')"
      ]
     },
     "execution_count": 60,
     "metadata": {},
     "output_type": "execute_result"
    },
    {
     "data": {
      "image/png": "[encoded data removed]",
      "text/plain": [
       "<Figure size 640x480 with 1 Axes>"
      ]
     },
     "metadata": {},
     "output_type": "display_data"
    }
   ],
   "source": [
    "# create a boxplot\n",
    "\n",
    "sns.boxplot(data=Supply_1)\n",
    "plt.ylabel(\"Percent Waste by Weight\")"
   ]
  },
  {
   "cell_type": "code",
   "execution_count": 62,
   "id": "8f498146-9689-45ba-8747-bc7987b48a0e",
   "metadata": {},
   "outputs": [
    {
     "data": {
      "text/plain": [
       "Text(0.5, 0, 'Percent Waste by Weight')"
      ]
     },
     "execution_count": 62,
     "metadata": {},
     "output_type": "execute_result"
    },
    {
     "data": {
      "image/png": "[encoded data removed]",
      "text/plain": [
       "<Figure size 640x480 with 2 Axes>"
      ]
     },
     "metadata": {},
     "output_type": "display_data"
    }
   ],
   "source": [
    "# show a boxplot, histogram, and dotplot for Supply 1\n",
    "\n",
    "fig,(ax1,ax2)=plt.subplots(2,sharex=True)\n",
    "sns.boxplot(x=Supply_1['Supply_1'],ax=ax1)\n",
    "sns.histplot(data=Supply_1,ax=ax2)\n",
    "sns.rugplot(data=Supply_1,ax=ax2,linewidth=5,color=\"black\")\n",
    "plt.xlabel(\"Percent Waste by Weight\")"
   ]
  },
  {
   "cell_type": "code",
   "execution_count": 56,
   "id": "21fd7206-7626-4ec9-b7db-80a2de976c01",
   "metadata": {
    "tags": []
   },
   "outputs": [],
   "source": [
    "# Try to recreate for Supply 2. "
   ]
  },
  {
   "cell_type": "code",
   "execution_count": null,
   "id": "e8fcc3cf-6367-4872-9e1e-67f26b7a1394",
   "metadata": {},
   "outputs": [],
   "source": []
  }
 ],
 "metadata": {
  "kernelspec": {
   "display_name": "Python 3 (ipykernel)",
   "language": "python",
   "name": "python3"
  },
  "language_info": {
   "codemirror_mode": {
    "name": "ipython",
    "version": 3
   },
   "file_extension": ".py",
   "mimetype": "text/x-python",
   "name": "python",
   "nbconvert_exporter": "python",
   "pygments_lexer": "ipython3",
   "version": "3.11.5"
  }
 },
 "nbformat": 4,
 "nbformat_minor": 5
}
