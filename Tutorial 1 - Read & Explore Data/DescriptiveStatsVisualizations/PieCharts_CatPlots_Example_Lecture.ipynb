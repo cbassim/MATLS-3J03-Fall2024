{
 "cells": [
  {
   "cell_type": "code",
   "execution_count": 1,
   "id": "5fd24d9b-fcc1-417c-8466-7e560401e936",
   "metadata": {},
   "outputs": [
    {
     "name": "stdin",
     "output_type": "stream",
     "text": [
      "Once deleted, variables cannot be recovered. Proceed (y/[n])?  y\n"
     ]
    }
   ],
   "source": [
    "%reset\n",
    "# Importing Necessary Libraries\n",
    "\n",
    "import matplotlib.pyplot as plt\n",
    "import numpy as np\n",
    "import pandas as pd\n",
    "import seaborn as sns"
   ]
  },
  {
   "cell_type": "markdown",
   "id": "1610f97b-ac5d-44b2-ae33-ca66ee884cb7",
   "metadata": {},
   "source": [
    "# Mosaic Plots using Titanic dataset.  This dataset is often used to predict survival or death using information about the passengers.  "
   ]
  },
  {
   "cell_type": "code",
   "execution_count": 59,
   "id": "8685ecb4-7faa-4b2b-bf76-c8ab2e91527b",
   "metadata": {},
   "outputs": [],
   "source": [
    "from statsmodels.graphics.mosaicplot import mosaic"
   ]
  },
  {
   "cell_type": "code",
   "execution_count": 7,
   "id": "0c3520fa-a298-4f29-9d9c-54d52351ff0f",
   "metadata": {},
   "outputs": [],
   "source": [
    "Tx = pd.read_csv('Comparing2Treatments.csv')"
   ]
  },
  {
   "cell_type": "code",
   "execution_count": 8,
   "id": "f3455624-686b-40b4-b263-7677a3f41249",
   "metadata": {},
   "outputs": [
    {
     "data": {
      "text/html": [
       "<div>\n",
       "<style scoped>\n",
       "    .dataframe tbody tr th:only-of-type {\n",
       "        vertical-align: middle;\n",
       "    }\n",
       "\n",
       "    .dataframe tbody tr th {\n",
       "        vertical-align: top;\n",
       "    }\n",
       "\n",
       "    .dataframe thead th {\n",
       "        text-align: right;\n",
       "    }\n",
       "</style>\n",
       "<table border=\"1\" class=\"dataframe\">\n",
       "  <thead>\n",
       "    <tr style=\"text-align: right;\">\n",
       "      <th></th>\n",
       "      <th>ProductSeries</th>\n",
       "      <th>Coating</th>\n",
       "      <th>CorrRes</th>\n",
       "      <th>SurfRough</th>\n",
       "    </tr>\n",
       "  </thead>\n",
       "  <tbody>\n",
       "    <tr>\n",
       "      <th>0</th>\n",
       "      <td>K135</td>\n",
       "      <td>A</td>\n",
       "      <td>0.30</td>\n",
       "      <td>30</td>\n",
       "    </tr>\n",
       "    <tr>\n",
       "      <th>1</th>\n",
       "      <td>K136</td>\n",
       "      <td>A</td>\n",
       "      <td>0.45</td>\n",
       "      <td>86</td>\n",
       "    </tr>\n",
       "    <tr>\n",
       "      <th>2</th>\n",
       "      <td>P271</td>\n",
       "      <td>A</td>\n",
       "      <td>0.22</td>\n",
       "      <td>24</td>\n",
       "    </tr>\n",
       "    <tr>\n",
       "      <th>3</th>\n",
       "      <td>P275</td>\n",
       "      <td>A</td>\n",
       "      <td>0.40</td>\n",
       "      <td>74</td>\n",
       "    </tr>\n",
       "    <tr>\n",
       "      <th>4</th>\n",
       "      <td>S561</td>\n",
       "      <td>A</td>\n",
       "      <td>0.56</td>\n",
       "      <td>70</td>\n",
       "    </tr>\n",
       "    <tr>\n",
       "      <th>5</th>\n",
       "      <td>S567</td>\n",
       "      <td>A</td>\n",
       "      <td>0.76</td>\n",
       "      <td>63</td>\n",
       "    </tr>\n",
       "    <tr>\n",
       "      <th>6</th>\n",
       "      <td>K135</td>\n",
       "      <td>B</td>\n",
       "      <td>0.22</td>\n",
       "      <td>42</td>\n",
       "    </tr>\n",
       "    <tr>\n",
       "      <th>7</th>\n",
       "      <td>K136</td>\n",
       "      <td>B</td>\n",
       "      <td>0.39</td>\n",
       "      <td>31</td>\n",
       "    </tr>\n",
       "    <tr>\n",
       "      <th>8</th>\n",
       "      <td>P271</td>\n",
       "      <td>B</td>\n",
       "      <td>0.24</td>\n",
       "      <td>73</td>\n",
       "    </tr>\n",
       "    <tr>\n",
       "      <th>9</th>\n",
       "      <td>P275</td>\n",
       "      <td>B</td>\n",
       "      <td>0.44</td>\n",
       "      <td>52</td>\n",
       "    </tr>\n",
       "    <tr>\n",
       "      <th>10</th>\n",
       "      <td>S561</td>\n",
       "      <td>B</td>\n",
       "      <td>0.36</td>\n",
       "      <td>75</td>\n",
       "    </tr>\n",
       "    <tr>\n",
       "      <th>11</th>\n",
       "      <td>S567</td>\n",
       "      <td>B</td>\n",
       "      <td>0.51</td>\n",
       "      <td>70</td>\n",
       "    </tr>\n",
       "  </tbody>\n",
       "</table>\n",
       "</div>"
      ],
      "text/plain": [
       "   ProductSeries Coating  CorrRes  SurfRough\n",
       "0           K135       A     0.30         30\n",
       "1           K136       A     0.45         86\n",
       "2           P271       A     0.22         24\n",
       "3           P275       A     0.40         74\n",
       "4           S561       A     0.56         70\n",
       "5           S567       A     0.76         63\n",
       "6           K135       B     0.22         42\n",
       "7           K136       B     0.39         31\n",
       "8           P271       B     0.24         73\n",
       "9           P275       B     0.44         52\n",
       "10          S561       B     0.36         75\n",
       "11          S567       B     0.51         70"
      ]
     },
     "execution_count": 8,
     "metadata": {},
     "output_type": "execute_result"
    }
   ],
   "source": [
    "Tx"
   ]
  },
  {
   "cell_type": "code",
   "execution_count": 49,
   "id": "53610d56-ebd3-4fb9-a868-3133f1e01f5e",
   "metadata": {},
   "outputs": [],
   "source": [
    "Pie=Tx[Tx[\"Coating\"]==\"A\"]"
   ]
  },
  {
   "cell_type": "code",
   "execution_count": 47,
   "id": "3d398c2b-b114-4753-bc90-bd6872cf309b",
   "metadata": {},
   "outputs": [
    {
     "data": {
      "text/plain": [
       "([<matplotlib.patches.Wedge at 0x1b88eda3990>,\n",
       "  <matplotlib.patches.Wedge at 0x1b890fc7f50>,\n",
       "  <matplotlib.patches.Wedge at 0x1b890fdcf10>,\n",
       "  <matplotlib.patches.Wedge at 0x1b890fde1d0>,\n",
       "  <matplotlib.patches.Wedge at 0x1b890fdf550>,\n",
       "  <matplotlib.patches.Wedge at 0x1b891004790>],\n",
       " [Text(1.0596749891458133, 0.29510831465551873, 'K135'),\n",
       "  Text(0.27105015339808775, 1.0660824613241104, 'K136'),\n",
       "  Text(-0.7473204809963129, 0.8071629938763544, 'P271'),\n",
       "  Text(-1.097791720065066, -0.06966591244349214, 'P275'),\n",
       "  Text(-0.22252967101267182, -1.0772560259840704, 'S561'),\n",
       "  Text(0.925868020134711, -0.5939431027395052, 'S567')])"
      ]
     },
     "execution_count": 47,
     "metadata": {},
     "output_type": "execute_result"
    },
    {
     "data": {
      "image/png": "[encoded data removed]",
      "text/plain": [
       "<Figure size 640x480 with 1 Axes>"
      ]
     },
     "metadata": {},
     "output_type": "display_data"
    }
   ],
   "source": [
    "plt.pie(Pie['SurfRough'],labels=Pie['ProductSeries'])"
   ]
  },
  {
   "cell_type": "code",
   "execution_count": 52,
   "id": "838c2abe-8328-4648-952b-d9be2838a139",
   "metadata": {
    "scrolled": true
   },
   "outputs": [
    {
     "data": {
      "text/plain": [
       "([<matplotlib.patches.Wedge at 0x1b8910f5b50>,\n",
       "  <matplotlib.patches.Wedge at 0x1b891128710>,\n",
       "  <matplotlib.patches.Wedge at 0x1b891129e10>,\n",
       "  <matplotlib.patches.Wedge at 0x1b89112af50>,\n",
       "  <matplotlib.patches.Wedge at 0x1b891150110>,\n",
       "  <matplotlib.patches.Wedge at 0x1b891151290>],\n",
       " [Text(1.0196084315031329, 0.4127937092637455, 'K135'),\n",
       "  Text(0.5441729311077891, 0.955968525135403, 'K136'),\n",
       "  Text(-0.463611520586837, 0.9975291263813609, 'P271'),\n",
       "  Text(-1.099953860053509, -0.010075006371501263, 'P275'),\n",
       "  Text(-0.4267623549682556, -1.0138411573722723, 'S561'),\n",
       "  Text(0.8815550619964194, -0.6579214791055914, 'S567')])"
      ]
     },
     "execution_count": 52,
     "metadata": {},
     "output_type": "execute_result"
    },
    {
     "data": {
      "image/png": "[encoded data removed]",
      "text/plain": [
       "<Figure size 640x480 with 1 Axes>"
      ]
     },
     "metadata": {},
     "output_type": "display_data"
    }
   ],
   "source": [
    "Pie1=Tx[Tx[\"Coating\"]==\"B\"]\n",
    "plt.pie(Pie1['SurfRough'],labels=Pie1['ProductSeries'])"
   ]
  },
  {
   "cell_type": "code",
   "execution_count": 56,
   "id": "1ac701e6-b357-4c0d-91fa-d8c6ee781c2e",
   "metadata": {},
   "outputs": [
    {
     "data": {
      "text/plain": [
       "<seaborn.axisgrid.FacetGrid at 0x1b891187550>"
      ]
     },
     "execution_count": 56,
     "metadata": {},
     "output_type": "execute_result"
    },
    {
     "data": {
      "image/png": "[encoded data removed]",
      "text/plain": [
       "<Figure size 606.611x500 with 1 Axes>"
      ]
     },
     "metadata": {},
     "output_type": "display_data"
    }
   ],
   "source": [
    "sns.catplot(x=Tx['Coating'],y=Tx['SurfRough'],hue=Tx['ProductSeries'],kind='bar')"
   ]
  },
  {
   "cell_type": "code",
   "execution_count": 57,
   "id": "ece8576d-1dfb-4fc8-9d8e-99f2a7751d4b",
   "metadata": {},
   "outputs": [
    {
     "data": {
      "text/plain": [
       "<Axes: xlabel='Coating', ylabel='CorrRes'>"
      ]
     },
     "execution_count": 57,
     "metadata": {},
     "output_type": "execute_result"
    },
    {
     "data": {
      "image/png": "[encoded data removed]",
      "text/plain": [
       "<Figure size 606.611x500 with 1 Axes>"
      ]
     },
     "metadata": {},
     "output_type": "display_data"
    }
   ],
   "source": [
    "sns.catplot(x=Tx['Coating'],y=Tx['CorrRes'],hue=Tx['ProductSeries'])\n",
    "sns.lineplot(x=Tx['Coating'],y=Tx['CorrRes'],hue=Tx['ProductSeries'],legend=False)"
   ]
  },
  {
   "cell_type": "code",
   "execution_count": null,
   "id": "598107ff-78f8-4c22-b84a-313ae7ce0428",
   "metadata": {},
   "outputs": [],
   "source": []
  },
  {
   "cell_type": "code",
   "execution_count": null,
   "id": "f222ac96-12a6-4d83-91fa-ec4cd57403ee",
   "metadata": {},
   "outputs": [],
   "source": []
  },
  {
   "cell_type": "code",
   "execution_count": null,
   "id": "c63e6e6f-6cfc-4f68-9a69-798315d90029",
   "metadata": {},
   "outputs": [],
   "source": []
  },
  {
   "cell_type": "markdown",
   "id": "d0023613-9931-4c79-a83f-0ab49f716833",
   "metadata": {},
   "source": [
    "Name some of our target variables that are categorical as more meaningful names. "
   ]
  },
  {
   "cell_type": "code",
   "execution_count": 626,
   "id": "879c9e81-3fc1-444c-ae4a-bae9d0470b4b",
   "metadata": {},
   "outputs": [],
   "source": [
    "Titanic['Survival']=Titanic.SurvivedWiki.map({0:'Died',1:'Survived'})\n",
    "Titanic['PassengerClass']=Titanic.Pclass.map({1:'FirstClass',2:'SecondClass',3:'ThirdClass'})"
   ]
  },
  {
   "cell_type": "markdown",
   "id": "52c51713-6532-42a7-9d25-f86a9dc3a8b0",
   "metadata": {},
   "source": [
    "crosstab will provide a table using a pandas dataframe: [pd.crosstab](https://pandas.pydata.org/docs/reference/api/pandas.crosstab.html)  Compute a simple cross tabulation of two (or more) factors. By default computes a frequency table of the factors unless an array of values and an aggregation function are passed."
   ]
  },
  {
   "cell_type": "code",
   "execution_count": 627,
   "id": "d3510e36-090b-4092-b2ad-3cb32f41893f",
   "metadata": {},
   "outputs": [
    {
     "data": {
      "text/html": [
       "<div>\n",
       "<style scoped>\n",
       "    .dataframe tbody tr th:only-of-type {\n",
       "        vertical-align: middle;\n",
       "    }\n",
       "\n",
       "    .dataframe tbody tr th {\n",
       "        vertical-align: top;\n",
       "    }\n",
       "\n",
       "    .dataframe thead th {\n",
       "        text-align: right;\n",
       "    }\n",
       "</style>\n",
       "<table border=\"1\" class=\"dataframe\">\n",
       "  <thead>\n",
       "    <tr style=\"text-align: right;\">\n",
       "      <th>Sex</th>\n",
       "      <th>female</th>\n",
       "      <th>male</th>\n",
       "    </tr>\n",
       "    <tr>\n",
       "      <th>Pclass</th>\n",
       "      <th></th>\n",
       "      <th></th>\n",
       "    </tr>\n",
       "  </thead>\n",
       "  <tbody>\n",
       "    <tr>\n",
       "      <th>1</th>\n",
       "      <td>139</td>\n",
       "      <td>62</td>\n",
       "    </tr>\n",
       "    <tr>\n",
       "      <th>2</th>\n",
       "      <td>94</td>\n",
       "      <td>25</td>\n",
       "    </tr>\n",
       "    <tr>\n",
       "      <th>3</th>\n",
       "      <td>106</td>\n",
       "      <td>74</td>\n",
       "    </tr>\n",
       "  </tbody>\n",
       "</table>\n",
       "</div>"
      ],
      "text/plain": [
       "Sex     female  male\n",
       "Pclass              \n",
       "1          139    62\n",
       "2           94    25\n",
       "3          106    74"
      ]
     },
     "execution_count": 627,
     "metadata": {},
     "output_type": "execute_result"
    }
   ],
   "source": [
    "pd.crosstab(Titanic['Pclass'],Titanic['Sex'],Titanic['SurvivedWiki'],aggfunc=np.sum)"
   ]
  },
  {
   "cell_type": "code",
   "execution_count": 628,
   "id": "76630d91-6508-401d-8aa9-6cd9b5fb74b0",
   "metadata": {},
   "outputs": [
    {
     "data": {
      "text/html": [
       "<div>\n",
       "<style scoped>\n",
       "    .dataframe tbody tr th:only-of-type {\n",
       "        vertical-align: middle;\n",
       "    }\n",
       "\n",
       "    .dataframe tbody tr th {\n",
       "        vertical-align: top;\n",
       "    }\n",
       "\n",
       "    .dataframe thead th {\n",
       "        text-align: right;\n",
       "    }\n",
       "</style>\n",
       "<table border=\"1\" class=\"dataframe\">\n",
       "  <thead>\n",
       "    <tr style=\"text-align: right;\">\n",
       "      <th></th>\n",
       "      <th>PassengerId</th>\n",
       "      <th>SurvivedKaggleData</th>\n",
       "      <th>SurvivedWiki</th>\n",
       "      <th>Pclass</th>\n",
       "      <th>Name</th>\n",
       "      <th>Sex</th>\n",
       "      <th>SibSp</th>\n",
       "      <th>Parch</th>\n",
       "      <th>Ticket</th>\n",
       "      <th>Fare</th>\n",
       "      <th>...</th>\n",
       "      <th>Destination</th>\n",
       "      <th>BodyWiki</th>\n",
       "      <th>NameChecks</th>\n",
       "      <th>LifeBoat</th>\n",
       "      <th>MinutesLifeboatLaunch</th>\n",
       "      <th>TypeofLifeBoat</th>\n",
       "      <th>LifeboatSide</th>\n",
       "      <th>CapacityLifBoat</th>\n",
       "      <th>Survival</th>\n",
       "      <th>PassengerClass</th>\n",
       "    </tr>\n",
       "  </thead>\n",
       "  <tbody>\n",
       "    <tr>\n",
       "      <th>0</th>\n",
       "      <td>1</td>\n",
       "      <td>0.0</td>\n",
       "      <td>0</td>\n",
       "      <td>3</td>\n",
       "      <td>Braund, Mr. Owen Harris</td>\n",
       "      <td>male</td>\n",
       "      <td>1.0</td>\n",
       "      <td>0.0</td>\n",
       "      <td>A/5 21171</td>\n",
       "      <td>7.2500</td>\n",
       "      <td>...</td>\n",
       "      <td>Qu'Appelle Valley, Saskatchewan, Canada</td>\n",
       "      <td>NaN</td>\n",
       "      <td>Braund, Mr. Owen Harris</td>\n",
       "      <td>NaN</td>\n",
       "      <td>NaN</td>\n",
       "      <td>NaN</td>\n",
       "      <td>NaN</td>\n",
       "      <td>NaN</td>\n",
       "      <td>Died</td>\n",
       "      <td>ThirdClass</td>\n",
       "    </tr>\n",
       "    <tr>\n",
       "      <th>1</th>\n",
       "      <td>2</td>\n",
       "      <td>1.0</td>\n",
       "      <td>1</td>\n",
       "      <td>1</td>\n",
       "      <td>Cumings, Mrs. John Bradley (Florence Briggs Th...</td>\n",
       "      <td>female</td>\n",
       "      <td>1.0</td>\n",
       "      <td>0.0</td>\n",
       "      <td>PC 17599</td>\n",
       "      <td>71.2833</td>\n",
       "      <td>...</td>\n",
       "      <td>New York, New York, US</td>\n",
       "      <td>NaN</td>\n",
       "      <td>Cumings, Mrs. John Bradley (Florence Briggs Th...</td>\n",
       "      <td>4</td>\n",
       "      <td>115.0</td>\n",
       "      <td>Lifeboat</td>\n",
       "      <td>Starboard</td>\n",
       "      <td>55.0</td>\n",
       "      <td>Survived</td>\n",
       "      <td>FirstClass</td>\n",
       "    </tr>\n",
       "    <tr>\n",
       "      <th>2</th>\n",
       "      <td>3</td>\n",
       "      <td>1.0</td>\n",
       "      <td>1</td>\n",
       "      <td>3</td>\n",
       "      <td>Heikkinen, Miss. Laina</td>\n",
       "      <td>female</td>\n",
       "      <td>0.0</td>\n",
       "      <td>0.0</td>\n",
       "      <td>STON/O2. 3101282</td>\n",
       "      <td>7.9250</td>\n",
       "      <td>...</td>\n",
       "      <td>New York City</td>\n",
       "      <td>NaN</td>\n",
       "      <td>Heikkinen, Miss. Laina</td>\n",
       "      <td>14</td>\n",
       "      <td>90.0</td>\n",
       "      <td>Lifeboat</td>\n",
       "      <td>Starboard</td>\n",
       "      <td>55.0</td>\n",
       "      <td>Survived</td>\n",
       "      <td>ThirdClass</td>\n",
       "    </tr>\n",
       "    <tr>\n",
       "      <th>3</th>\n",
       "      <td>4</td>\n",
       "      <td>1.0</td>\n",
       "      <td>1</td>\n",
       "      <td>1</td>\n",
       "      <td>Futrelle, Mrs. Jacques Heath (Lily May Peel)</td>\n",
       "      <td>female</td>\n",
       "      <td>1.0</td>\n",
       "      <td>0.0</td>\n",
       "      <td>113803</td>\n",
       "      <td>53.1000</td>\n",
       "      <td>...</td>\n",
       "      <td>Scituate, Massachusetts, US</td>\n",
       "      <td>NaN</td>\n",
       "      <td>Futrelle, Mrs. Jacques Heath (Lily May Peel)</td>\n",
       "      <td>D</td>\n",
       "      <td>125.0</td>\n",
       "      <td>Collapsible</td>\n",
       "      <td>Starboard</td>\n",
       "      <td>37.0</td>\n",
       "      <td>Survived</td>\n",
       "      <td>FirstClass</td>\n",
       "    </tr>\n",
       "    <tr>\n",
       "      <th>4</th>\n",
       "      <td>5</td>\n",
       "      <td>0.0</td>\n",
       "      <td>0</td>\n",
       "      <td>3</td>\n",
       "      <td>Allen, Mr. William Henry</td>\n",
       "      <td>male</td>\n",
       "      <td>0.0</td>\n",
       "      <td>0.0</td>\n",
       "      <td>373450</td>\n",
       "      <td>8.0500</td>\n",
       "      <td>...</td>\n",
       "      <td>New York City</td>\n",
       "      <td>NaN</td>\n",
       "      <td>Allen, Mr. William Henry</td>\n",
       "      <td>NaN</td>\n",
       "      <td>NaN</td>\n",
       "      <td>NaN</td>\n",
       "      <td>NaN</td>\n",
       "      <td>NaN</td>\n",
       "      <td>Died</td>\n",
       "      <td>ThirdClass</td>\n",
       "    </tr>\n",
       "  </tbody>\n",
       "</table>\n",
       "<p>5 rows × 26 columns</p>\n",
       "</div>"
      ],
      "text/plain": [
       "   PassengerId  SurvivedKaggleData  SurvivedWiki  Pclass  \\\n",
       "0            1                 0.0             0       3   \n",
       "1            2                 1.0             1       1   \n",
       "2            3                 1.0             1       3   \n",
       "3            4                 1.0             1       1   \n",
       "4            5                 0.0             0       3   \n",
       "\n",
       "                                                Name     Sex  SibSp  Parch  \\\n",
       "0                            Braund, Mr. Owen Harris    male    1.0    0.0   \n",
       "1  Cumings, Mrs. John Bradley (Florence Briggs Th...  female    1.0    0.0   \n",
       "2                             Heikkinen, Miss. Laina  female    0.0    0.0   \n",
       "3       Futrelle, Mrs. Jacques Heath (Lily May Peel)  female    1.0    0.0   \n",
       "4                           Allen, Mr. William Henry    male    0.0    0.0   \n",
       "\n",
       "             Ticket     Fare  ...                              Destination  \\\n",
       "0         A/5 21171   7.2500  ...  Qu'Appelle Valley, Saskatchewan, Canada   \n",
       "1          PC 17599  71.2833  ...                   New York, New York, US   \n",
       "2  STON/O2. 3101282   7.9250  ...                            New York City   \n",
       "3            113803  53.1000  ...              Scituate, Massachusetts, US   \n",
       "4            373450   8.0500  ...                            New York City   \n",
       "\n",
       "   BodyWiki                                         NameChecks  LifeBoat  \\\n",
       "0       NaN                            Braund, Mr. Owen Harris       NaN   \n",
       "1       NaN  Cumings, Mrs. John Bradley (Florence Briggs Th...         4   \n",
       "2       NaN                             Heikkinen, Miss. Laina        14   \n",
       "3       NaN       Futrelle, Mrs. Jacques Heath (Lily May Peel)         D   \n",
       "4       NaN                           Allen, Mr. William Henry       NaN   \n",
       "\n",
       "  MinutesLifeboatLaunch TypeofLifeBoat LifeboatSide  CapacityLifBoat  \\\n",
       "0                   NaN            NaN          NaN              NaN   \n",
       "1                 115.0       Lifeboat    Starboard             55.0   \n",
       "2                  90.0       Lifeboat    Starboard             55.0   \n",
       "3                 125.0    Collapsible    Starboard             37.0   \n",
       "4                   NaN            NaN          NaN              NaN   \n",
       "\n",
       "   Survival PassengerClass  \n",
       "0      Died     ThirdClass  \n",
       "1  Survived     FirstClass  \n",
       "2  Survived     ThirdClass  \n",
       "3  Survived     FirstClass  \n",
       "4      Died     ThirdClass  \n",
       "\n",
       "[5 rows x 26 columns]"
      ]
     },
     "execution_count": 628,
     "metadata": {},
     "output_type": "execute_result"
    }
   ],
   "source": [
    "Titanic.head()"
   ]
  },
  {
   "cell_type": "code",
   "execution_count": 629,
   "id": "d407b550-5d42-40ff-ac25-3015e5e2d9ef",
   "metadata": {},
   "outputs": [
    {
     "data": {
      "text/html": [
       "<div>\n",
       "<style scoped>\n",
       "    .dataframe tbody tr th:only-of-type {\n",
       "        vertical-align: middle;\n",
       "    }\n",
       "\n",
       "    .dataframe tbody tr th {\n",
       "        vertical-align: top;\n",
       "    }\n",
       "\n",
       "    .dataframe thead th {\n",
       "        text-align: right;\n",
       "    }\n",
       "</style>\n",
       "<table border=\"1\" class=\"dataframe\">\n",
       "  <thead>\n",
       "    <tr style=\"text-align: right;\">\n",
       "      <th></th>\n",
       "      <th>Survival</th>\n",
       "      <th>Died</th>\n",
       "      <th>Survived</th>\n",
       "      <th>All</th>\n",
       "    </tr>\n",
       "    <tr>\n",
       "      <th>PassengerClass</th>\n",
       "      <th>Sex</th>\n",
       "      <th></th>\n",
       "      <th></th>\n",
       "      <th></th>\n",
       "    </tr>\n",
       "  </thead>\n",
       "  <tbody>\n",
       "    <tr>\n",
       "      <th rowspan=\"2\" valign=\"top\">FirstClass</th>\n",
       "      <th>female</th>\n",
       "      <td>5</td>\n",
       "      <td>139</td>\n",
       "      <td>144</td>\n",
       "    </tr>\n",
       "    <tr>\n",
       "      <th>male</th>\n",
       "      <td>118</td>\n",
       "      <td>62</td>\n",
       "      <td>180</td>\n",
       "    </tr>\n",
       "    <tr>\n",
       "      <th rowspan=\"2\" valign=\"top\">SecondClass</th>\n",
       "      <th>female</th>\n",
       "      <td>12</td>\n",
       "      <td>94</td>\n",
       "      <td>106</td>\n",
       "    </tr>\n",
       "    <tr>\n",
       "      <th>male</th>\n",
       "      <td>153</td>\n",
       "      <td>25</td>\n",
       "      <td>178</td>\n",
       "    </tr>\n",
       "    <tr>\n",
       "      <th rowspan=\"2\" valign=\"top\">ThirdClass</th>\n",
       "      <th>female</th>\n",
       "      <td>110</td>\n",
       "      <td>106</td>\n",
       "      <td>216</td>\n",
       "    </tr>\n",
       "    <tr>\n",
       "      <th>male</th>\n",
       "      <td>419</td>\n",
       "      <td>74</td>\n",
       "      <td>493</td>\n",
       "    </tr>\n",
       "    <tr>\n",
       "      <th>All</th>\n",
       "      <th></th>\n",
       "      <td>817</td>\n",
       "      <td>500</td>\n",
       "      <td>1317</td>\n",
       "    </tr>\n",
       "  </tbody>\n",
       "</table>\n",
       "</div>"
      ],
      "text/plain": [
       "Survival               Died  Survived   All\n",
       "PassengerClass Sex                         \n",
       "FirstClass     female     5       139   144\n",
       "               male     118        62   180\n",
       "SecondClass    female    12        94   106\n",
       "               male     153        25   178\n",
       "ThirdClass     female   110       106   216\n",
       "               male     419        74   493\n",
       "All                     817       500  1317"
      ]
     },
     "execution_count": 629,
     "metadata": {},
     "output_type": "execute_result"
    }
   ],
   "source": [
    "pd.crosstab([Titanic['PassengerClass'],Titanic['Sex']],Titanic['Survival'],margins=True)"
   ]
  },
  {
   "cell_type": "code",
   "execution_count": 630,
   "id": "ddc72515-b27b-415a-94a3-3f2b19bb9461",
   "metadata": {},
   "outputs": [],
   "source": [
    "# make a table of percentage of all passengers withn group who survived or dies\n",
    "tableTitanic=pd.crosstab([Titanic['PassengerClass'],Titanic['Sex']],Titanic['Survival'],normalize='all')"
   ]
  },
  {
   "cell_type": "code",
   "execution_count": 631,
   "id": "a5144dab-df0c-45e8-b109-b84cf18b908e",
   "metadata": {},
   "outputs": [
    {
     "data": {
      "text/html": [
       "<div>\n",
       "<style scoped>\n",
       "    .dataframe tbody tr th:only-of-type {\n",
       "        vertical-align: middle;\n",
       "    }\n",
       "\n",
       "    .dataframe tbody tr th {\n",
       "        vertical-align: top;\n",
       "    }\n",
       "\n",
       "    .dataframe thead th {\n",
       "        text-align: right;\n",
       "    }\n",
       "</style>\n",
       "<table border=\"1\" class=\"dataframe\">\n",
       "  <thead>\n",
       "    <tr style=\"text-align: right;\">\n",
       "      <th></th>\n",
       "      <th>Survival</th>\n",
       "      <th>Died</th>\n",
       "      <th>Survived</th>\n",
       "    </tr>\n",
       "    <tr>\n",
       "      <th>PassengerClass</th>\n",
       "      <th>Sex</th>\n",
       "      <th></th>\n",
       "      <th></th>\n",
       "    </tr>\n",
       "  </thead>\n",
       "  <tbody>\n",
       "    <tr>\n",
       "      <th rowspan=\"2\" valign=\"top\">FirstClass</th>\n",
       "      <th>female</th>\n",
       "      <td>0.003797</td>\n",
       "      <td>0.105543</td>\n",
       "    </tr>\n",
       "    <tr>\n",
       "      <th>male</th>\n",
       "      <td>0.089598</td>\n",
       "      <td>0.047077</td>\n",
       "    </tr>\n",
       "    <tr>\n",
       "      <th rowspan=\"2\" valign=\"top\">SecondClass</th>\n",
       "      <th>female</th>\n",
       "      <td>0.009112</td>\n",
       "      <td>0.071374</td>\n",
       "    </tr>\n",
       "    <tr>\n",
       "      <th>male</th>\n",
       "      <td>0.116173</td>\n",
       "      <td>0.018983</td>\n",
       "    </tr>\n",
       "    <tr>\n",
       "      <th rowspan=\"2\" valign=\"top\">ThirdClass</th>\n",
       "      <th>female</th>\n",
       "      <td>0.083523</td>\n",
       "      <td>0.080486</td>\n",
       "    </tr>\n",
       "    <tr>\n",
       "      <th>male</th>\n",
       "      <td>0.318147</td>\n",
       "      <td>0.056188</td>\n",
       "    </tr>\n",
       "  </tbody>\n",
       "</table>\n",
       "</div>"
      ],
      "text/plain": [
       "Survival                   Died  Survived\n",
       "PassengerClass Sex                       \n",
       "FirstClass     female  0.003797  0.105543\n",
       "               male    0.089598  0.047077\n",
       "SecondClass    female  0.009112  0.071374\n",
       "               male    0.116173  0.018983\n",
       "ThirdClass     female  0.083523  0.080486\n",
       "               male    0.318147  0.056188"
      ]
     },
     "execution_count": 631,
     "metadata": {},
     "output_type": "execute_result"
    }
   ],
   "source": [
    "tableTitanic"
   ]
  },
  {
   "cell_type": "code",
   "execution_count": 632,
   "id": "029a2ae0-ad8f-4329-b625-33da15b65c58",
   "metadata": {},
   "outputs": [
    {
     "data": {
      "text/html": [
       "<div>\n",
       "<style scoped>\n",
       "    .dataframe tbody tr th:only-of-type {\n",
       "        vertical-align: middle;\n",
       "    }\n",
       "\n",
       "    .dataframe tbody tr th {\n",
       "        vertical-align: top;\n",
       "    }\n",
       "\n",
       "    .dataframe thead th {\n",
       "        text-align: right;\n",
       "    }\n",
       "</style>\n",
       "<table border=\"1\" class=\"dataframe\">\n",
       "  <thead>\n",
       "    <tr style=\"text-align: right;\">\n",
       "      <th>Survival</th>\n",
       "      <th>Died</th>\n",
       "      <th>Survived</th>\n",
       "    </tr>\n",
       "    <tr>\n",
       "      <th>PassengerClass</th>\n",
       "      <th></th>\n",
       "      <th></th>\n",
       "    </tr>\n",
       "  </thead>\n",
       "  <tbody>\n",
       "    <tr>\n",
       "      <th>FirstClass</th>\n",
       "      <td>0.379630</td>\n",
       "      <td>0.620370</td>\n",
       "    </tr>\n",
       "    <tr>\n",
       "      <th>SecondClass</th>\n",
       "      <td>0.580986</td>\n",
       "      <td>0.419014</td>\n",
       "    </tr>\n",
       "    <tr>\n",
       "      <th>ThirdClass</th>\n",
       "      <td>0.746121</td>\n",
       "      <td>0.253879</td>\n",
       "    </tr>\n",
       "  </tbody>\n",
       "</table>\n",
       "</div>"
      ],
      "text/plain": [
       "Survival            Died  Survived\n",
       "PassengerClass                    \n",
       "FirstClass      0.379630  0.620370\n",
       "SecondClass     0.580986  0.419014\n",
       "ThirdClass      0.746121  0.253879"
      ]
     },
     "execution_count": 632,
     "metadata": {},
     "output_type": "execute_result"
    }
   ],
   "source": [
    "pd.crosstab(Titanic['PassengerClass'],Titanic['Survival'],normalize='index')"
   ]
  },
  {
   "cell_type": "code",
   "execution_count": 633,
   "id": "4a6bea3e-04d4-462a-aec3-512e8b5897f4",
   "metadata": {},
   "outputs": [
    {
     "data": {
      "text/html": [
       "<div>\n",
       "<style scoped>\n",
       "    .dataframe tbody tr th:only-of-type {\n",
       "        vertical-align: middle;\n",
       "    }\n",
       "\n",
       "    .dataframe tbody tr th {\n",
       "        vertical-align: top;\n",
       "    }\n",
       "\n",
       "    .dataframe thead th {\n",
       "        text-align: right;\n",
       "    }\n",
       "</style>\n",
       "<table border=\"1\" class=\"dataframe\">\n",
       "  <thead>\n",
       "    <tr style=\"text-align: right;\">\n",
       "      <th>Survival</th>\n",
       "      <th>Died</th>\n",
       "      <th>Survived</th>\n",
       "    </tr>\n",
       "    <tr>\n",
       "      <th>Sex</th>\n",
       "      <th></th>\n",
       "      <th></th>\n",
       "    </tr>\n",
       "  </thead>\n",
       "  <tbody>\n",
       "    <tr>\n",
       "      <th>female</th>\n",
       "      <td>0.272532</td>\n",
       "      <td>0.727468</td>\n",
       "    </tr>\n",
       "    <tr>\n",
       "      <th>male</th>\n",
       "      <td>0.810811</td>\n",
       "      <td>0.189189</td>\n",
       "    </tr>\n",
       "  </tbody>\n",
       "</table>\n",
       "</div>"
      ],
      "text/plain": [
       "Survival      Died  Survived\n",
       "Sex                         \n",
       "female    0.272532  0.727468\n",
       "male      0.810811  0.189189"
      ]
     },
     "execution_count": 633,
     "metadata": {},
     "output_type": "execute_result"
    }
   ],
   "source": [
    "pd.crosstab(Titanic['Sex'],Titanic['Survival'],normalize='index')"
   ]
  },
  {
   "cell_type": "markdown",
   "id": "bc2e8b2b-03dc-4e0f-92c6-a68558969bca",
   "metadata": {},
   "source": [
    "Create a mosaic plot from the Titanic Data"
   ]
  },
  {
   "cell_type": "code",
   "execution_count": 634,
   "id": "e09bdb1e-1a72-4a9f-9ff2-d8ea05ad96fc",
   "metadata": {},
   "outputs": [
    {
     "data": {
      "text/plain": [
       "(<Figure size 1224x360 with 3 Axes>,\n",
       " {('Died', 'ThirdClass', 'male'): (0.0,\n",
       "   0.0,\n",
       "   0.4878255497460508,\n",
       "   0.6432028013974562),\n",
       "  ('Died', 'ThirdClass', 'female'): (0.4891942037678787,\n",
       "   0.0,\n",
       "   0.12806876007652884,\n",
       "   0.6432028013974562),\n",
       "  ('Died', 'FirstClass', 'male'): (0.0,\n",
       "   0.6465140596756019,\n",
       "   0.5908579557647511,\n",
       "   0.14955377045725354),\n",
       "  ('Died', 'FirstClass', 'female'): (0.5922266097865792,\n",
       "   0.6465140596756019,\n",
       "   0.02503635405782844,\n",
       "   0.14955377045725354),\n",
       "  ('Died', 'SecondClass', 'male'): (0.0,\n",
       "   0.7993790884110012,\n",
       "   0.5711019963809374,\n",
       "   0.20062091158899867),\n",
       "  ('Died', 'SecondClass', 'female'): (0.5724706504027655,\n",
       "   0.7993790884110012,\n",
       "   0.04479231344164217,\n",
       "   0.20062091158899867),\n",
       "  ('Survived', 'ThirdClass', 'male'): (0.6222380882225169,\n",
       "   0.0,\n",
       "   0.15495776868921152,\n",
       "   0.35761589403973504),\n",
       "  ('Survived', 'ThirdClass', 'female'): (0.7780334664722106,\n",
       "   0.0,\n",
       "   0.22196653352778947,\n",
       "   0.35761589403973504),\n",
       "  ('Survived', 'FirstClass', 'male'): (0.6222380882225169,\n",
       "   0.36092715231788075,\n",
       "   0.11626520764902516,\n",
       "   0.3993377483443708),\n",
       "  ('Survived', 'FirstClass', 'female'): (0.7393409054320244,\n",
       "   0.36092715231788075,\n",
       "   0.26065909456797576,\n",
       "   0.3993377483443708),\n",
       "  ('Survived', 'SecondClass', 'male'): (0.6222380882225169,\n",
       "   0.7635761589403973,\n",
       "   0.07918577777668089,\n",
       "   0.2364238410596026),\n",
       "  ('Survived', 'SecondClass', 'female'): (0.70226147555968,\n",
       "   0.7635761589403973,\n",
       "   0.2977385244403201,\n",
       "   0.2364238410596026)})"
      ]
     },
     "execution_count": 634,
     "metadata": {},
     "output_type": "execute_result"
    },
    {
     "data": {
      "image/png": "[encoded data removed]",
      "text/plain": [
       "<Figure size 1224x360 with 3 Axes>"
      ]
     },
     "metadata": {
      "needs_background": "light"
     },
     "output_type": "display_data"
    }
   ],
   "source": [
    "plt.rc('figure',figsize=(17,5))\n",
    "mosaic(Titanic,['Survival','PassengerClass','Sex'],title='Survived=Green, Died=Red')"
   ]
  },
  {
   "cell_type": "markdown",
   "id": "9f54445f-4bd3-4c31-856a-cc76e0de506e",
   "metadata": {},
   "source": [
    "# Heatmaps"
   ]
  },
  {
   "cell_type": "code",
   "execution_count": 635,
   "id": "640989a6-b412-43ed-b7e2-5bcda3af68c9",
   "metadata": {},
   "outputs": [],
   "source": [
    "groupTitanic=Titanic.groupby(['PassengerClass','Survival'])"
   ]
  },
  {
   "cell_type": "code",
   "execution_count": 636,
   "id": "b9678395-50ce-4bde-996a-3438d0f150e4",
   "metadata": {},
   "outputs": [],
   "source": [
    "PassengerClass_Heatmap=groupTitanic.size().unstack()"
   ]
  },
  {
   "cell_type": "code",
   "execution_count": 637,
   "id": "a4377044-357e-4bef-b18d-b72ff65c07a8",
   "metadata": {},
   "outputs": [
    {
     "data": {
      "text/plain": [
       "<AxesSubplot:xlabel='Survival', ylabel='PassengerClass'>"
      ]
     },
     "execution_count": 637,
     "metadata": {},
     "output_type": "execute_result"
    },
    {
     "data": {
      "image/png": "[encoded data removed]",
      "text/plain": [
       "<Figure size 1224x360 with 2 Axes>"
      ]
     },
     "metadata": {
      "needs_background": "light"
     },
     "output_type": "display_data"
    }
   ],
   "source": [
    "sns.heatmap(PassengerClass_Heatmap,annot=True,fmt=\"d\")"
   ]
  },
  {
   "cell_type": "code",
   "execution_count": 638,
   "id": "ceb070cd-c60a-480b-964c-7d647b5d5087",
   "metadata": {},
   "outputs": [
    {
     "data": {
      "text/plain": [
       "<AxesSubplot:xlabel='Survival', ylabel='PassengerClass'>"
      ]
     },
     "execution_count": 638,
     "metadata": {},
     "output_type": "execute_result"
    },
    {
     "data": {
      "image/png": "[encoded data removed]",
      "text/plain": [
       "<Figure size 1224x360 with 2 Axes>"
      ]
     },
     "metadata": {
      "needs_background": "light"
     },
     "output_type": "display_data"
    }
   ],
   "source": [
    "sns.heatmap(PassengerClass_Heatmap,annot=True,fmt=\"d\",cmap='vlag')"
   ]
  },
  {
   "cell_type": "code",
   "execution_count": 639,
   "id": "04ca74b9-fce3-4f0c-86e9-2ef4b7800dde",
   "metadata": {},
   "outputs": [
    {
     "data": {
      "text/plain": [
       "<AxesSubplot:xlabel='Survival', ylabel='PassengerClass-Sex'>"
      ]
     },
     "execution_count": 639,
     "metadata": {},
     "output_type": "execute_result"
    },
    {
     "data": {
      "image/png": "[encoded data removed]",
      "text/plain": [
       "<Figure size 1224x360 with 2 Axes>"
      ]
     },
     "metadata": {
      "needs_background": "light"
     },
     "output_type": "display_data"
    }
   ],
   "source": [
    "# percentage of those within each group (row) that died or survived, of all passengers\n",
    "sns.heatmap(tableTitanic,annot=True,cmap='vlag')"
   ]
  },
  {
   "cell_type": "markdown",
   "id": "5b723252-e3be-4142-9bb4-114ab5efbbe8",
   "metadata": {},
   "source": []
  },
  {
   "cell_type": "code",
   "execution_count": null,
   "id": "af56d17c-bd8c-46f7-a366-118d5d3f2834",
   "metadata": {},
   "outputs": [],
   "source": []
  }
 ],
 "metadata": {
  "kernelspec": {
   "display_name": "Python 3 (ipykernel)",
   "language": "python",
   "name": "python3"
  },
  "language_info": {
   "codemirror_mode": {
    "name": "ipython",
    "version": 3
   },
   "file_extension": ".py",
   "mimetype": "text/x-python",
   "name": "python",
   "nbconvert_exporter": "python",
   "pygments_lexer": "ipython3",
   "version": "3.11.8"
  }
 },
 "nbformat": 4,
 "nbformat_minor": 5
}
