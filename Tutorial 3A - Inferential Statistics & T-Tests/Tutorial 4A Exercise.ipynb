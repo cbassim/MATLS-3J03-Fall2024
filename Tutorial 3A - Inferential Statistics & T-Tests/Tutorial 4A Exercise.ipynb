{
 "cells": [
  {
   "cell_type": "markdown",
   "id": "f9bd0671-7805-43c1-815e-e2444b148fb7",
   "metadata": {},
   "source": [
    "# TUTORIAL 4 EXERCISE"
   ]
  },
  {
   "cell_type": "markdown",
   "id": "e794f5b3-f752-43db-b129-2f5c05f02572",
   "metadata": {},
   "source": [
    "## PART 1\n",
    "A biomaterials engineer has proposed two different topographies for a stent. Each of these two topographies have been investigated for their angiogenesis (blood vessel formation) potential. Angiogenesis activity was measured using a fluorescence-based assays (a.u.) where higher values suggest greater amounts of blood vessel formation. \n",
    "\n",
    "__What is the appropriate statistical test for this data?__ "
   ]
  },
  {
   "cell_type": "markdown",
   "id": "ebd6726c-9374-475d-8c8e-3d3ba59b7e78",
   "metadata": {},
   "source": [
    "Difference of Means Independent T-Test, Student's T-Test, Welch's T-Test"
   ]
  },
  {
   "cell_type": "markdown",
   "id": "7271a174-8b62-4ed7-96d2-e4ccf0267030",
   "metadata": {},
   "source": [
    "__Importing relevant libraries!__"
   ]
  },
  {
   "cell_type": "code",
   "execution_count": null,
   "id": "0f5cbc8a-9d19-474e-aeb2-33dc38d6d951",
   "metadata": {},
   "outputs": [],
   "source": [
    "import pandas as pd #library to work with data frames\n",
    "import numpy as np #library to work with data frames\n",
    "import matplotlib.pyplot as plt #library to plot figure\n",
    "import matplotlib.dates as mdates #library for visualization\n",
    "import seaborn as sns #library to plot figures\n",
    "import scipy\n",
    "from scipy import stats\n",
    "from scipy.stats import t\n",
    "import statsmodels.api as sm\n"
   ]
  },
  {
   "cell_type": "markdown",
   "id": "727f97a7-7a12-4acd-8054-50400375e1b5",
   "metadata": {},
   "source": [
    "__Reading the data and generating descriptive statistics.__"
   ]
  },
  {
   "cell_type": "code",
   "execution_count": null,
   "id": "e7e0bc9d-6393-49ff-8146-565ecf86a4e7",
   "metadata": {},
   "outputs": [],
   "source": []
  },
  {
   "cell_type": "code",
   "execution_count": null,
   "id": "d4952abb-e325-4bbe-9c03-624b75c47e3b",
   "metadata": {},
   "outputs": [],
   "source": []
  },
  {
   "cell_type": "markdown",
   "id": "18a14907-7623-4fbf-900c-88c07c6baac0",
   "metadata": {},
   "source": [
    "## PART 2\n",
    "__What assumptions are you making by choosing this test? Justify why they are acceptable.__  "
   ]
  },
  {
   "cell_type": "code",
   "execution_count": null,
   "id": "74577c2e-daf9-46ef-8934-54dca77f6d15",
   "metadata": {},
   "outputs": [],
   "source": []
  },
  {
   "cell_type": "code",
   "execution_count": null,
   "id": "797c2b94-a5f4-4178-aafb-19b4f2b25b0d",
   "metadata": {},
   "outputs": [],
   "source": []
  },
  {
   "cell_type": "markdown",
   "id": "db5abf81-2110-4247-989e-2b35e26300cf",
   "metadata": {},
   "source": [
    "## PART 3\n",
    "__Compute the test statistic using the critical value method.__  "
   ]
  },
  {
   "cell_type": "code",
   "execution_count": null,
   "id": "9b555b7b-d2ab-4ef6-89ee-eda452fe10b2",
   "metadata": {},
   "outputs": [],
   "source": []
  },
  {
   "cell_type": "markdown",
   "id": "8bc4e0e8-bb60-467c-9ca9-49ec132f0bf3",
   "metadata": {},
   "source": [
    "## PART 4\n",
    "__Compute the corresponding confidence interval for the difference of means.__"
   ]
  },
  {
   "cell_type": "code",
   "execution_count": null,
   "id": "4aae61c0-3391-4ee1-89b0-653a7a04476b",
   "metadata": {},
   "outputs": [],
   "source": []
  },
  {
   "cell_type": "markdown",
   "id": "fb858380-ce2b-4bdd-a9a4-e5d84ea35d96",
   "metadata": {},
   "source": [
    "## PART 5\n",
    "__What do you conclude?__"
   ]
  },
  {
   "cell_type": "markdown",
   "id": "252f046f-9d99-4ecd-babd-8d86389e270c",
   "metadata": {},
   "source": []
  }
 ],
 "metadata": {
  "kernelspec": {
   "display_name": "Python 3 (ipykernel)",
   "language": "python",
   "name": "python3"
  },
  "language_info": {
   "codemirror_mode": {
    "name": "ipython",
    "version": 3
   },
   "file_extension": ".py",
   "mimetype": "text/x-python",
   "name": "python",
   "nbconvert_exporter": "python",
   "pygments_lexer": "ipython3",
   "version": "3.9.13"
  }
 },
 "nbformat": 4,
 "nbformat_minor": 5
}
