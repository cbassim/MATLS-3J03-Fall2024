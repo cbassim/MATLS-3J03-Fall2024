{
 "cells": [
  {
   "cell_type": "code",
   "execution_count": 2,
   "id": "b72d4699-8921-4042-9b10-a9b6c2d52f4a",
   "metadata": {},
   "outputs": [],
   "source": [
    "import numpy as np\n",
    "import pandas as pd\n",
    "import matplotlib.pyplot as plt\n",
    "import seaborn as sns"
   ]
  },
  {
   "cell_type": "markdown",
   "id": "ece6b804-12e1-4dfb-8cc8-74392bf7b41d",
   "metadata": {},
   "source": [
    "# Probability in Flow Diagrams or Circuits\n",
    "\n",
    "![](PicTutorial2CircuitsProb.png)"
   ]
  },
  {
   "cell_type": "markdown",
   "id": "f0ca5e64-5cd7-4f77-a712-46bb33a75ba1",
   "metadata": {},
   "source": [
    "What is the probability of the circuit working?\n",
    "\n",
    "P(A)=0.9; P(B)=0.95, P(C)=0.99.  The probability of working are independent of each other.  What is the probability of the circuit working?\n",
    "\n",
    "Partition the graph into groupings.  The first left column works if any or all of the circuit works; these are the general form of either or occuring (not mutually exclusive).  This is an OR or UNION problem for A.  The second group works if any or all of the circuits work for B.  The circuit then works if the independent A circuit work AND the B cicuit works and the C cicuit works.  \n",
    "\n",
    "P(A1)=P(A OR A) = P(A) + P(A) - P(A AND A) = 0.9 +0.9 - 0.9 * 0.9 = 0.99\n",
    "\n",
    "P(A2)= P(A1 OR A) = P(A1) + P(A) - P(A1 AND A)= 0.99 + 0.9 - (.99*.9) = 0.999\n",
    "\n",
    "P(B1) = P(B OR B) = P(B) + P(B) - P(B AND B) = 0.95 +0.95 - (0.95 * 0.95) = 0.9975\n",
    "\n",
    "P(C) = 0.99\n",
    "\n",
    "P(A2 AND B1 AND C) = 0.999 * 0.9975 * 0.99 = 0.9865\n",
    "\n",
    "You could also calculate the columns with the complement of all of them failing, so that the probability of any of them working in column A is 1-(all of them failing) = 1-(0.1)^3 = 0.999"
   ]
  },
  {
   "cell_type": "code",
   "execution_count": null,
   "id": "dd01e412-4fc7-4ac1-a5dc-afb3cf7a7a29",
   "metadata": {},
   "outputs": [],
   "source": []
  },
  {
   "cell_type": "code",
   "execution_count": null,
   "id": "bb636964-8165-4602-98ea-8f5212eaa6ae",
   "metadata": {},
   "outputs": [],
   "source": []
  },
  {
   "cell_type": "code",
   "execution_count": null,
   "id": "6e655260-7022-43a2-80a2-744c351db243",
   "metadata": {},
   "outputs": [],
   "source": []
  }
 ],
 "metadata": {
  "kernelspec": {
   "display_name": "Python 3 (ipykernel)",
   "language": "python",
   "name": "python3"
  },
  "language_info": {
   "codemirror_mode": {
    "name": "ipython",
    "version": 3
   },
   "file_extension": ".py",
   "mimetype": "text/x-python",
   "name": "python",
   "nbconvert_exporter": "python",
   "pygments_lexer": "ipython3",
   "version": "3.9.13"
  }
 },
 "nbformat": 4,
 "nbformat_minor": 5
}
