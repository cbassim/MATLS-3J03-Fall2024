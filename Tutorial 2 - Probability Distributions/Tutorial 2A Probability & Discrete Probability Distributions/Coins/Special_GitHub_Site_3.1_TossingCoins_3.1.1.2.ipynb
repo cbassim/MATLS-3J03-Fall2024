{
 "cells": [
  {
   "cell_type": "markdown",
   "id": "ca6dce38-20f8-4a58-bc27-22e1ff27f383",
   "metadata": {},
   "source": [
    "# Tossing a number of coins\n",
    "\n",
    "Now we can play with the idea of tossing a a number of coins a number of times, and can change the probability of the outcome of heads so that the coin is no longer a fair coin.\n",
    "\n",
    "This can demonstrate set theory, basic probability of events, equally likely outcomes, and the Gambler's fallacy."
   ]
  },
  {
   "cell_type": "code",
   "execution_count": 2,
   "id": "1de6d892-637b-4d32-9456-2dd8db6d6042",
   "metadata": {},
   "outputs": [
    {
     "data": {
      "application/vnd.jupyter.widget-view+json": {
       "model_id": "6e7fe5e4dec145fa93d108ec533edc71",
       "version_major": 2,
       "version_minor": 0
      },
      "text/plain": [
       "FloatSlider(value=0.5, description='Head Probability:', max=1.0, step=0.01)"
      ]
     },
     "metadata": {},
     "output_type": "display_data"
    },
    {
     "data": {
      "application/vnd.jupyter.widget-view+json": {
       "model_id": "50ab36a211ca450f87f7295d21bb5ff6",
       "version_major": 2,
       "version_minor": 0
      },
      "text/plain": [
       "Dropdown(description='Num Coins:', index=1, options=(1, 2, 3, 4, 5), value=2)"
      ]
     },
     "metadata": {},
     "output_type": "display_data"
    },
    {
     "data": {
      "application/vnd.jupyter.widget-view+json": {
       "model_id": "187322974d464fd4b932500ee3e353e2",
       "version_major": 2,
       "version_minor": 0
      },
      "text/plain": [
       "Dropdown(description='Num Flips:', index=3, options=(1, 10, 50, 100, 500, 1000, 10000, 100000), value=100)"
      ]
     },
     "metadata": {},
     "output_type": "display_data"
    },
    {
     "data": {
      "application/vnd.jupyter.widget-view+json": {
       "model_id": "8efe7bfe10f64a4d902f59a1dd906fc1",
       "version_major": 2,
       "version_minor": 0
      },
      "text/plain": [
       "Button(description='Run Simulation', style=ButtonStyle())"
      ]
     },
     "metadata": {},
     "output_type": "display_data"
    },
    {
     "data": {
      "application/vnd.jupyter.widget-view+json": {
       "model_id": "2b49a2778ee643e49a0911274fdef3e4",
       "version_major": 2,
       "version_minor": 0
      },
      "text/plain": [
       "Output()"
      ]
     },
     "metadata": {},
     "output_type": "display_data"
    }
   ],
   "source": [
    "import itertools\n",
    "import random\n",
    "from collections import Counter\n",
    "import ipywidgets as widgets\n",
    "from IPython.display import display, clear_output\n",
    "\n",
    "# Slider for the probability of getting heads\n",
    "probability_slider = widgets.FloatSlider(\n",
    "    value=0.5,\n",
    "    min=0,\n",
    "    max=1.0,\n",
    "    step=0.01,\n",
    "    description='Head Probability:',\n",
    "    readout_format='.2f',\n",
    ")\n",
    "\n",
    "# Dropdown for the number of coins\n",
    "num_coins_dropdown = widgets.Dropdown(\n",
    "    options=[1, 2, 3, 4, 5],\n",
    "    value=2,\n",
    "    description='Num Coins:',\n",
    ")\n",
    "\n",
    "# Dropdown for the number of flips\n",
    "num_flips_dropdown = widgets.Dropdown(\n",
    "    options=[1, 10, 50, 100, 500, 1000,10000,100000],\n",
    "    value=100,\n",
    "    description='Num Flips:',\n",
    ")\n",
    "\n",
    "output = widgets.Output()\n",
    "\n",
    "def run_simulation(btn=None):\n",
    "    with output:\n",
    "        clear_output(wait=True) # Clear the previous results\n",
    "        NUM_COINS = num_coins_dropdown.value\n",
    "        NUM_FLIPS = num_flips_dropdown.value\n",
    "        HEAD_PROBABILITY = probability_slider.value\n",
    "        \n",
    "        def coin_flip():\n",
    "            return \"T\" if random.random() > HEAD_PROBABILITY else \"H\"\n",
    "        \n",
    "        perms = [\"\".join(x) for x in list(itertools.product(\"TH\", repeat=NUM_COINS))]\n",
    "        event_counter = {key: 0 for key in perms}\n",
    "        \n",
    "        for _ in range(NUM_FLIPS):\n",
    "            seq = \"\"\n",
    "            for _ in range(NUM_COINS):\n",
    "                seq += coin_flip()\n",
    "            event_counter[seq] += 1\n",
    "        \n",
    "        for k, v in event_counter.items():\n",
    "            proportion = round(v / NUM_FLIPS * 100, 2)\n",
    "            heads_count = k.count('H')\n",
    "            print(f\"{k}: {proportion}% times, Number of Heads: {heads_count:.0f}\")\n",
    "\n",
    "# Button to run the simulation\n",
    "run_button = widgets.Button(description='Run Simulation')\n",
    "run_button.on_click(run_simulation)\n",
    "\n",
    "display(probability_slider, num_coins_dropdown, num_flips_dropdown, run_button, output)\n"
   ]
  },
  {
   "cell_type": "code",
   "execution_count": null,
   "id": "47083cd5-33fd-4ec4-8dbe-04fd2b1be416",
   "metadata": {},
   "outputs": [],
   "source": []
  },
  {
   "cell_type": "code",
   "execution_count": null,
   "id": "948404c3-3edc-42d5-a304-d15e77527c43",
   "metadata": {},
   "outputs": [],
   "source": []
  }
 ],
 "metadata": {
  "kernelspec": {
   "display_name": "Python 3 (ipykernel)",
   "language": "python",
   "name": "python3"
  },
  "language_info": {
   "codemirror_mode": {
    "name": "ipython",
    "version": 3
   },
   "file_extension": ".py",
   "mimetype": "text/x-python",
   "name": "python",
   "nbconvert_exporter": "python",
   "pygments_lexer": "ipython3",
   "version": "3.11.8"
  }
 },
 "nbformat": 4,
 "nbformat_minor": 5
}
