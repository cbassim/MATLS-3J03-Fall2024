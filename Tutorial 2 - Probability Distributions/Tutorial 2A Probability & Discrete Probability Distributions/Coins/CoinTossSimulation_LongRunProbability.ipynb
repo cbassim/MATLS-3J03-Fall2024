{
 "cells": [
  {
   "cell_type": "code",
   "execution_count": 1,
   "id": "750f7361-28f0-4424-85ef-20d4fb1601d4",
   "metadata": {
    "tags": []
   },
   "outputs": [
    {
     "data": {
      "application/vnd.jupyter.widget-view+json": {
       "model_id": "0a974ff1bf1c4d28ae529465eb3bb42a",
       "version_major": 2,
       "version_minor": 0
      },
      "text/plain": [
       "Dropdown(description='Number of Flips:', options=(('1 Flip', 1), ('10 Flips', 10), ('100 Flips', 100)), value=…"
      ]
     },
     "metadata": {},
     "output_type": "display_data"
    },
    {
     "data": {
      "application/vnd.jupyter.widget-view+json": {
       "model_id": "e49dec77533c45459cc1cd5df27dad3d",
       "version_major": 2,
       "version_minor": 0
      },
      "text/plain": [
       "Button(description='Add Flips', style=ButtonStyle())"
      ]
     },
     "metadata": {},
     "output_type": "display_data"
    },
    {
     "data": {
      "application/vnd.jupyter.widget-view+json": {
       "model_id": "53c6ff3142754f138da1575b541c0391",
       "version_major": 2,
       "version_minor": 0
      },
      "text/plain": [
       "Output()"
      ]
     },
     "metadata": {},
     "output_type": "display_data"
    }
   ],
   "source": [
    "import ipywidgets as widgets\n",
    "from IPython.display import display, clear_output\n",
    "import matplotlib.pyplot as plt\n",
    "import numpy as np\n",
    "\n",
    "# Global variable to keep track of flips\n",
    "flips = np.array([])\n",
    "\n",
    "# Function to simulate coin flips and update the global variable\n",
    "def flip_coin(n):\n",
    "    global flips\n",
    "    # Simulate n coin flips (0 is tails, 1 is heads) and add to existing flips\n",
    "    new_flips = np.random.randint(0, 2, n)\n",
    "    flips = np.concatenate((flips, new_flips))\n",
    "\n",
    "# Function to plot the results\n",
    "def plot_flips():\n",
    "    global flips\n",
    "    # Calculate the proportion of heads\n",
    "    proportion_of_heads = np.cumsum(flips) / np.arange(1, len(flips) + 1)\n",
    "    \n",
    "    # Plotting\n",
    "    plt.figure(figsize=(10, 6))\n",
    "    plt.plot(proportion_of_heads, label='Proportion of Heads')\n",
    "    plt.axhline(y=0.5, color='r', linestyle='--', label='Expected Value (0.5)')\n",
    "    plt.xlabel('Number of Flips')\n",
    "    plt.ylabel('Proportion of Heads')\n",
    "    plt.title('Law of Large Numbers - Coin Flip Simulation')\n",
    "    plt.legend()\n",
    "    plt.grid(True)\n",
    "    plt.show()\n",
    "\n",
    "# Function called when the button is clicked\n",
    "def on_button_clicked(b):\n",
    "    flip_count = flip_selector.value\n",
    "    flip_coin(flip_count)\n",
    "    with output:\n",
    "        clear_output(wait=True)\n",
    "        plot_flips()\n",
    "\n",
    "# Button for adding flips\n",
    "button = widgets.Button(description=\"Add Flips\")\n",
    "button.on_click(on_button_clicked)\n",
    "\n",
    "# Dropdown for selecting number of flips\n",
    "flip_selector = widgets.Dropdown(\n",
    "    options=[('1 Flip', 1), ('10 Flips', 10), ('100 Flips', 100)],\n",
    "    value=1,\n",
    "    description='Number of Flips:',\n",
    ")\n",
    "\n",
    "# Output widget to display the plot\n",
    "output = widgets.Output()\n",
    "\n",
    "# Display widgets\n",
    "display(flip_selector, button, output)"
   ]
  },
  {
   "cell_type": "code",
   "execution_count": null,
   "id": "8f30c0fe-def2-498c-928a-090be063ef78",
   "metadata": {},
   "outputs": [],
   "source": []
  }
 ],
 "metadata": {
  "kernelspec": {
   "display_name": "Python 3 (ipykernel)",
   "language": "python",
   "name": "python3"
  },
  "language_info": {
   "codemirror_mode": {
    "name": "ipython",
    "version": 3
   },
   "file_extension": ".py",
   "mimetype": "text/x-python",
   "name": "python",
   "nbconvert_exporter": "python",
   "pygments_lexer": "ipython3",
   "version": "3.11.5"
  }
 },
 "nbformat": 4,
 "nbformat_minor": 5
}
