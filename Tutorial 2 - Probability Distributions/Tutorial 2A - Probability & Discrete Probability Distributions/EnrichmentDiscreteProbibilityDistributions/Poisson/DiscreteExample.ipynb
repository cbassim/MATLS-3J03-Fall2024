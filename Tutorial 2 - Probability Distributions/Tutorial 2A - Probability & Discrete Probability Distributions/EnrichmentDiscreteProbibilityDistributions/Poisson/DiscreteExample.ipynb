{
 "cells": [
  {
   "cell_type": "code",
   "execution_count": 233,
   "id": "edbfa48b-f3d3-4414-9c77-f12eb047e2d0",
   "metadata": {},
   "outputs": [
    {
     "name": "stdin",
     "output_type": "stream",
     "text": [
      "Once deleted, variables cannot be recovered. Proceed (y/[n])?  y\n"
     ]
    }
   ],
   "source": [
    "%reset"
   ]
  },
  {
   "cell_type": "code",
   "execution_count": 235,
   "id": "e9949e21",
   "metadata": {},
   "outputs": [],
   "source": [
    "import numpy as np\n",
    "import pandas as pd\n",
    "import matplotlib.pyplot as plt\n",
    "import seaborn as sns"
   ]
  },
  {
   "cell_type": "markdown",
   "id": "ea5565ac-841b-4454-a0e4-6dbe43f60a51",
   "metadata": {
    "tags": []
   },
   "source": [
    "# Discrete Binomial Distributions. \n",
    "Assumptions: \"BINS\" \n",
    "\n",
    "Each trial has two possible outcomes:  Binomial outcome: success or falure \\\n",
    "The trials are independent, meaning from probability that the outcome of one tria doesnt influence that of any other. \\\n",
    "There are fixed number of trails (n) \\\n",
    "The probability of sucess (call it p) is the same for each trial. \n",
    "\n",
    "The binomial distribution models the probability for x success in n trials, given the success probability for a trial.\n",
    "\n",
    "Parameters = n: number of trials; p: success probability for a trail; q=1-p\n",
    "Notation: X~Bin(n.p)  \n",
    "The expected value is $\\mu$=n * p  \n",
    "The variance is = n * p * q  =  squared\n",
    "\n",
    "The random experiment is sample and the random varible X= the number of samples that contain high levels in the n samples taken.  \n",
    "\n",
    "The X random variable is a binomial random variable here with a given probability p and a fixed number of trials or experiments n.  "
   ]
  },
  {
   "cell_type": "markdown",
   "id": "45846fa9-676a-48cc-953a-0a683dfc44c5",
   "metadata": {},
   "source": [
    "# First let's look at finding the probabilities of all of the 0 through 18 samples "
   ]
  },
  {
   "cell_type": "markdown",
   "id": "a81d724e-825b-42a6-bc79-0cafbc9dcaca",
   "metadata": {},
   "source": [
    "Organic Polluction from Lecture"
   ]
  },
  {
   "cell_type": "markdown",
   "id": "15e9d371-8004-4059-bf69-0fc80dc318b6",
   "metadata": {
    "tags": []
   },
   "source": [
    "SciPy Stats \n",
    "\n",
    "https://docs.scipy.org/doc/scipy/reference/generated/scipy.stats.binom.html"
   ]
  },
  {
   "cell_type": "code",
   "execution_count": 241,
   "id": "dd483d49-aa3f-4a5a-a704-2d923b6e36c8",
   "metadata": {
    "tags": []
   },
   "outputs": [
    {
     "data": {
      "text/plain": [
       "array([1.50094635e-01, 3.00189271e-01, 2.83512089e-01, 1.68007164e-01,\n",
       "       7.00029849e-02, 2.17787064e-02, 5.24302192e-03, 9.98670841e-04,\n",
       "       1.52574712e-04, 1.88363842e-05, 1.88363842e-06, 1.52213205e-07,\n",
       "       9.86567072e-09, 5.05931832e-10, 2.00766600e-11, 5.94864000e-13,\n",
       "       1.23930000e-14, 1.62000000e-16, 1.00000000e-18])"
      ]
     },
     "execution_count": 241,
     "metadata": {},
     "output_type": "execute_result"
    }
   ],
   "source": [
    "from scipy.stats import binom\n",
    "n=18\n",
    "p=.1\n",
    "xA=np.arange(0,n+1)\n",
    "binomial_pmf=binom.pmf(xA,n,p)\n",
    "binomial_pmf"
   ]
  },
  {
   "cell_type": "code",
   "execution_count": 243,
   "id": "fc51cada-6c7d-448d-bb29-c7d950c47a32",
   "metadata": {},
   "outputs": [
    {
     "data": {
      "text/plain": [
       "(1.8, 1.62)"
      ]
     },
     "execution_count": 243,
     "metadata": {},
     "output_type": "execute_result"
    }
   ],
   "source": [
    "# Can show the summary stats of the pmf as a check\n",
    "binom.stats(n,p)"
   ]
  },
  {
   "cell_type": "code",
   "execution_count": 312,
   "id": "154afc32-69d9-4a20-8c69-8c969cc01786",
   "metadata": {},
   "outputs": [
    {
     "data": {
      "image/png": "[encoded data removed]",
      "text/plain": [
       "<Figure size 500x500 with 1 Axes>"
      ]
     },
     "metadata": {},
     "output_type": "display_data"
    }
   ],
   "source": [
    "# showing the binomial PMF by simulation through the displot and as the plot of the array \n",
    "# calcualted by the binomial_pmf\n",
    "binomial_rvs=binom.rvs(n,p,size=10000)\n",
    "ax1=sns.displot(binomial_rvs,stat='probability')\n",
    "ax2=sns.scatterplot(x=xA,y=(binomial_pmf),marker='o',color='red')\n",
    "ax3=plt.xlabel('X is number of samples with pollutant')"
   ]
  },
  {
   "attachments": {
    "8e5607c4-ea25-4627-958d-a9b88989352b.png": {
     "image/png": "[encoded data removed]"
    },
    "c22959e7-4ab4-408c-9457-66b326abfcfa.png": {
     "image/png": "[encoded data removed]"
    }
   },
   "cell_type": "markdown",
   "id": "28b47d10-07fc-4c19-bad6-7107f5e5f956",
   "metadata": {},
   "source": [
    "PMF = (X=k) = ![image.png](attachment:8e5607c4-ea25-4627-958d-a9b88989352b.png) where ![image.png](attachment:c22959e7-4ab4-408c-9457-66b326abfcfa.png)"
   ]
  },
  {
   "attachments": {},
   "cell_type": "markdown",
   "id": "8bd0aa27-59dc-4aff-9b9e-0bb8b037a3ca",
   "metadata": {},
   "source": [
    "# Find the probability that, in the next 18 samples, exactly 2 contain the pollutant.\n",
    "\n",
    "18 choose 2 = \n",
    "\n",
    "P(X=2) = 18 choose 2 (.1^2)(.9^(16))"
   ]
  },
  {
   "cell_type": "code",
   "execution_count": 249,
   "id": "78a75013-0ad0-40fe-9ce2-a9df3adb4f65",
   "metadata": {},
   "outputs": [
    {
     "data": {
      "text/plain": [
       "153.0"
      ]
     },
     "execution_count": 249,
     "metadata": {},
     "output_type": "execute_result"
    }
   ],
   "source": [
    "import math\n",
    "math.factorial(18)/ (math.factorial(2)*math.factorial(16))"
   ]
  },
  {
   "cell_type": "code",
   "execution_count": 251,
   "id": "b769db48-4e02-471a-85c0-8618abb2396c",
   "metadata": {},
   "outputs": [
    {
     "data": {
      "text/plain": [
       "0.2835120888943318"
      ]
     },
     "execution_count": 251,
     "metadata": {},
     "output_type": "execute_result"
    }
   ],
   "source": [
    "153 * (.1**2)*(.9**16)"
   ]
  },
  {
   "cell_type": "markdown",
   "id": "f51e8c45-16d4-40fa-b55d-586f183ce845",
   "metadata": {},
   "source": [
    "# Use Python bulit in library commands"
   ]
  },
  {
   "cell_type": "code",
   "execution_count": 255,
   "id": "c460e390-a8e9-4d44-af4f-f21cef829eb5",
   "metadata": {},
   "outputs": [
    {
     "data": {
      "text/plain": [
       "0.2835120888943317"
      ]
     },
     "execution_count": 255,
     "metadata": {},
     "output_type": "execute_result"
    }
   ],
   "source": [
    "# using the stats binom to find the pmf at the realization of x out of n \n",
    "# with a probability of p for success\n",
    "binom.pmf(2,18,.1)"
   ]
  },
  {
   "attachments": {},
   "cell_type": "markdown",
   "id": "e2e15105-7ea2-4725-9488-e84a3b6cce50",
   "metadata": {},
   "source": [
    "# Determine the probability that at least 4 samples contain the pollutant.\r\n"
   ]
  },
  {
   "cell_type": "code",
   "execution_count": 270,
   "id": "0474c4e3-4374-4d28-9855-a8e591458d6a",
   "metadata": {},
   "outputs": [
    {
     "data": {
      "text/plain": [
       "0.09819684142543743"
      ]
     },
     "execution_count": 270,
     "metadata": {},
     "output_type": "execute_result"
    }
   ],
   "source": [
    "# Parameters\n",
    "n = 18  # number of trials\n",
    "p = 0.1  # probability of success\n",
    "k_success = 4  # specific number of successes\n",
    "k_upper = 18  # upper limit for the number of successes\n",
    "\n",
    "# Sum binomial probabilities from k_success to k_upper\n",
    "total_probability = 0\n",
    "for k in range(k_success, k_upper + 1):\n",
    "    total_probability += binom.pmf(k, n, p)\n",
    "\n",
    "total_probability"
   ]
  },
  {
   "cell_type": "markdown",
   "id": "25aa2fdb-aa48-4fb2-8ea5-6c3546589929",
   "metadata": {},
   "source": [
    "# Poisson Distribution"
   ]
  },
  {
   "attachments": {
    "57895fb6-bd28-4c37-ac30-a112a14dff0e.png": {
     "image/png": "[encoded data removed]"
    }
   },
   "cell_type": "markdown",
   "id": "3d4d6c3e-9b80-4bdc-bbe0-a198dc98e876",
   "metadata": {},
   "source": [
    "Discrete Poisson Distribution. \n",
    "1 and 2) Pobability of a certain number of events occuring in a fixed interval of time or space with a constant mean rate that is known.  \n",
    "\n",
    "k is a discrete number and is the number of times an event occurs in the inetrval of time or space \\\n",
    "The events occur independently  \n",
    "The rate is a constant mean rate\n",
    "\n",
    "~Pois($\\lambda$) with the parameter of $\\lambda$ = rate = mean = variance\n",
    "\n",
    "P(X=k) = ![image.png](attachment:57895fb6-bd28-4c37-ac30-a112a14dff0e.png)"
   ]
  },
  {
   "cell_type": "markdown",
   "id": "2d6c0fea-fca9-49ff-86e7-ab5f0893a7a7",
   "metadata": {},
   "source": [
    "The random experiemnt is countng the number of flaws along the wire within a fixed length (mm); the random variable X = the number of flaws in T mm and is modeled with a Poisson distribution with a mean of 2.3 per mm."
   ]
  },
  {
   "cell_type": "code",
   "execution_count": 318,
   "id": "7c98e853-966f-41f5-a82c-f79068a33b41",
   "metadata": {
    "tags": []
   },
   "outputs": [
    {
     "data": {
      "text/plain": [
       "(2.3, 2.3)"
      ]
     },
     "execution_count": 318,
     "metadata": {},
     "output_type": "execute_result"
    }
   ],
   "source": [
    "#The parameters\n",
    "from scipy.stats import poisson\n",
    "poisson.stats(2.3)"
   ]
  },
  {
   "cell_type": "code",
   "execution_count": 320,
   "id": "619cce32-d0a6-403f-8a64-ec4d30dda831",
   "metadata": {},
   "outputs": [],
   "source": [
    "rate=2.3"
   ]
  },
  {
   "cell_type": "code",
   "execution_count": 322,
   "id": "e2a6c5bf-8157-4dc2-a6e8-aa7b46cb3815",
   "metadata": {
    "tags": []
   },
   "outputs": [
    {
     "name": "stdout",
     "output_type": "stream",
     "text": [
      "[1.00258844e-01 2.30595341e-01 2.65184642e-01 2.03308225e-01\n",
      " 1.16902230e-01 5.37750256e-02 2.06137598e-02 6.77309251e-03\n",
      " 1.94726410e-03 4.97634158e-04 1.14455856e-04 2.39316790e-05\n",
      " 4.58690515e-06 8.11529373e-07 1.33322683e-07 2.04428113e-08\n",
      " 2.93865413e-09 3.97582618e-10 5.08022234e-11 6.14974283e-12\n",
      " 7.07220425e-13 7.74574752e-14 8.09782695e-15 8.09782695e-16\n",
      " 7.76041749e-17 7.13958409e-18 6.31578593e-19 5.38011394e-20\n",
      " 4.41937931e-21 3.50502497e-22 2.68718581e-23 1.99371850e-24\n",
      " 1.43298517e-25 9.98747242e-27 6.75623135e-28 4.43980917e-29\n",
      " 2.83654475e-30 1.76325755e-31 1.06723483e-32 6.29394900e-34\n",
      " 3.61902067e-35 2.03018233e-36 1.11176651e-37 5.94665810e-39\n",
      " 3.10848037e-40 1.58877886e-41 7.94389428e-43 3.88743763e-44\n",
      " 1.86273053e-45 8.74342901e-47]\n"
     ]
    }
   ],
   "source": [
    "x=np.arange(0,50)\n",
    "poisson_pmf=poisson.pmf(x,rate)\n",
    "print(poisson_pmf)"
   ]
  },
  {
   "cell_type": "code",
   "execution_count": 324,
   "id": "1c0f5c06-2026-4a57-a7c2-15e04fe9a00e",
   "metadata": {
    "tags": []
   },
   "outputs": [
    {
     "data": {
      "image/png": "[encoded data removed]",
      "text/plain": [
       "<Figure size 500x500 with 1 Axes>"
      ]
     },
     "metadata": {},
     "output_type": "display_data"
    }
   ],
   "source": [
    "# showing the poisson PMF by simulation through the displot and as the plot of the array \n",
    "# calcualted by the poisson_pmf\n",
    "poisson_rvs=poisson.rvs(rate,size=10000)\n",
    "ax1=sns.displot(poisson_rvs,stat='probability')\n",
    "ax2=plt.plot(x,poisson_pmf, 'ro',ms=10)\n",
    "ax3=plt.xlabel(\"X=number of defects in 1 mm of wire\")"
   ]
  },
  {
   "attachments": {},
   "cell_type": "markdown",
   "id": "040aae56-544e-404d-9e7d-61dd8732fe30",
   "metadata": {},
   "source": [
    "Let 𝑋 denote the number of flaws in 5 mm of wire.  \n",
    "\n",
    "2.3 flaws in 1mm therefore 11.5 flaws in 5mm."
   ]
  },
  {
   "cell_type": "markdown",
   "id": "fb1fe1bf-3ea5-43db-a19f-0e9b7d469df6",
   "metadata": {},
   "source": [
    "\n",
    "P(X=10) = (rate^ 10 * e ^ -rate) / 10! = 0.113\n",
    "\n",
    "probability of 10 defects in 5 mm of wire is 0.113"
   ]
  },
  {
   "cell_type": "code",
   "execution_count": 330,
   "id": "dc42884d-299e-4a9d-bff3-5b54c5292792",
   "metadata": {},
   "outputs": [],
   "source": [
    "rate=11.5\n",
    "n=10"
   ]
  },
  {
   "cell_type": "code",
   "execution_count": 332,
   "id": "71ffe186-0656-4a3a-a149-c82c48ddf4ef",
   "metadata": {},
   "outputs": [
    {
     "data": {
      "text/plain": [
       "0.11293507088124335"
      ]
     },
     "execution_count": 332,
     "metadata": {},
     "output_type": "execute_result"
    }
   ],
   "source": [
    "poisson.pmf(n,rate)"
   ]
  },
  {
   "cell_type": "markdown",
   "id": "528a672c-ebd8-421a-84e9-95074a2d4c62",
   "metadata": {},
   "source": [
    "At least 1 flaw in 2mm of wire?\n",
    "\n",
    "2.3 flaws in 1mm therefore 4.6 flaws in 2mm"
   ]
  },
  {
   "cell_type": "code",
   "execution_count": 340,
   "id": "dc40e292-9d67-4cdc-b651-2cfe6abc4fdd",
   "metadata": {},
   "outputs": [
    {
     "data": {
      "text/plain": [
       "0.9899481642553659"
      ]
     },
     "execution_count": 340,
     "metadata": {},
     "output_type": "execute_result"
    }
   ],
   "source": [
    "# Parameters\n",
    "rate = 4.6  # probability of success\n",
    "k_success = 1  # specific number of successes\n",
    "k_upper = 100\n",
    "\n",
    "# Sum Poissonl probabilities from k_success to k_upper \n",
    "total_probability = 0\n",
    "for k in range(k_success, k_upper + 1):\n",
    "    total_probability += poisson.pmf(k,rate)\n",
    "\n",
    "total_probability"
   ]
  },
  {
   "cell_type": "code",
   "execution_count": null,
   "id": "623bbec2-808e-4d88-a74d-46947ddb83ff",
   "metadata": {},
   "outputs": [],
   "source": []
  },
  {
   "cell_type": "markdown",
   "id": "b05084bc-c0fc-4eaa-93d2-ab2d7f5bcad0",
   "metadata": {},
   "source": [
    "# Typhoid"
   ]
  },
  {
   "cell_type": "code",
   "execution_count": 343,
   "id": "3634c4f1-1782-4020-8e05-ebd469daca29",
   "metadata": {},
   "outputs": [],
   "source": [
    "rate=2.3"
   ]
  },
  {
   "cell_type": "code",
   "execution_count": 351,
   "id": "3981206b-dfb1-498f-b714-35d85003f510",
   "metadata": {},
   "outputs": [
    {
     "name": "stdout",
     "output_type": "stream",
     "text": [
      "[0.10025884 0.23059534 0.26518464 0.20330823 0.11690223 0.05377503\n",
      " 0.02061376 0.00677309 0.00194726 0.00049763]\n"
     ]
    }
   ],
   "source": [
    "x=np.arange(0,10)\n",
    "poisson_pmf=poisson.pmf(x,rate)\n",
    "print(poisson_pmf)"
   ]
  },
  {
   "cell_type": "code",
   "execution_count": 353,
   "id": "97e3c0b5-c8ac-42b6-81f4-647245eb027b",
   "metadata": {},
   "outputs": [
    {
     "data": {
      "image/png": "[encoded data removed]",
      "text/plain": [
       "<Figure size 500x500 with 1 Axes>"
      ]
     },
     "metadata": {},
     "output_type": "display_data"
    }
   ],
   "source": [
    "# showing the poisson PMF by simulation through the displot and as the plot of the array \n",
    "# calcualted by the poisson_pmf\n",
    "poisson_rvs=poisson.rvs(rate,size=10000)\n",
    "ax1=sns.displot(poisson_rvs,stat='probability')\n",
    "ax2=plt.plot(x,poisson_pmf, 'ro',ms=10)\n",
    "ax3=plt.xlabel(\"X=number of deaths in 1 year\")"
   ]
  },
  {
   "cell_type": "markdown",
   "id": "6a83c381-1240-44f1-85ad-a18e599129c0",
   "metadata": {},
   "source": [
    "# Discrete Uniform Distribution"
   ]
  },
  {
   "cell_type": "code",
   "execution_count": null,
   "id": "c5e7dc72-ac76-42d2-a4f2-56157b964e1b",
   "metadata": {},
   "outputs": [],
   "source": []
  }
 ],
 "metadata": {
  "kernelspec": {
   "display_name": "Python 3 (ipykernel)",
   "language": "python",
   "name": "python3"
  },
  "language_info": {
   "codemirror_mode": {
    "name": "ipython",
    "version": 3
   },
   "file_extension": ".py",
   "mimetype": "text/x-python",
   "name": "python",
   "nbconvert_exporter": "python",
   "pygments_lexer": "ipython3",
   "version": "3.11.8"
  }
 },
 "nbformat": 4,
 "nbformat_minor": 5
}
