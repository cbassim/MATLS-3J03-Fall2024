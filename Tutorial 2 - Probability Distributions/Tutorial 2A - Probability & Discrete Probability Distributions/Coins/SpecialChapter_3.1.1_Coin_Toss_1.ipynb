{
 "cells": [
  {
   "cell_type": "code",
   "execution_count": 2,
   "id": "604e3e48-bb50-4436-bead-511ad3d9603e",
   "metadata": {},
   "outputs": [
    {
     "data": {
      "application/vnd.jupyter.widget-view+json": {
       "model_id": "e4cd59bd246a4ca8b6ef099f25c2f14b",
       "version_major": 2,
       "version_minor": 0
      },
      "text/plain": [
       "Button(description='Flip Coin', style=ButtonStyle())"
      ]
     },
     "metadata": {},
     "output_type": "display_data"
    },
    {
     "data": {
      "application/vnd.jupyter.widget-view+json": {
       "model_id": "ce758669fc054a72a46b453390ad0dc0",
       "version_major": 2,
       "version_minor": 0
      },
      "text/plain": [
       "Output()"
      ]
     },
     "metadata": {},
     "output_type": "display_data"
    }
   ],
   "source": [
    "import matplotlib.pyplot as plt\n",
    "import numpy as np\n",
    "from PIL import Image\n",
    "from ipywidgets import widgets, Output\n",
    "from IPython.display import display, clear_output\n",
    "\n",
    "%matplotlib inline\n",
    "\n",
    "# Load the maple leaf image from the provided path\n",
    "maple_leaf_path = 'maple_leaf.png'  # Change this path to your actual file path\n",
    "maple_leaf_image = Image.open(maple_leaf_path)\n",
    "\n",
    "# Function to plot the coin with H or T and the maple leaf image\n",
    "def plot_coin_inline(result, maple_leaf):\n",
    "    # Set up the figure\n",
    "    fig, ax = plt.subplots(figsize=(5, 5), subplot_kw=dict(aspect=\"equal\"))\n",
    "    ax.set_xlim(-1, 1)\n",
    "    ax.set_ylim(-1, 1)\n",
    "\n",
    "    # Add a circle to represent the coin\n",
    "    circle = plt.Circle((0, 0), 1, color='silver', ec='black')\n",
    "    ax.add_patch(circle)\n",
    "\n",
    "    # Resize the maple leaf image to fit on the coin\n",
    "    resized_maple_leaf = maple_leaf.resize((200, 200))  # Resize to fit in the circle\n",
    "    maple_leaf_array = np.array(resized_maple_leaf)\n",
    "\n",
    "    # Set the position where the maple leaf image will be placed\n",
    "    maple_leaf_position = (-0.5, -0.5)  # center the maple leaf image\n",
    "\n",
    "    # Place the maple leaf image on the coin\n",
    "    ax.imshow(maple_leaf_array, zorder=1, extent=[maple_leaf_position[0], maple_leaf_position[0] + 1,\n",
    "                                                   maple_leaf_position[1], maple_leaf_position[1] + 1])\n",
    "\n",
    "    # Add 'H' or 'T' text on the coin\n",
    "    ax.text(0, 0, result, fontsize=60, ha='center', va='center', zorder=2)\n",
    "\n",
    "    # Turn off the axis\n",
    "    plt.axis('off')\n",
    "\n",
    "    # Display the coin image inline\n",
    "    plt.show()\n",
    "\n",
    "# Function to simulate a coin flip\n",
    "def flip_coin():\n",
    "    # Randomly choose 'H' or 'T'\n",
    "    return 'H' if np.random.rand() > 0.5 else 'T'\n",
    "\n",
    "# Create a button widget\n",
    "flip_button = widgets.Button(description=\"Flip Coin\")\n",
    "\n",
    "# Create an output widget to capture and display outputs\n",
    "output_widget = Output()\n",
    "\n",
    "# Button event handler\n",
    "def on_flip_button_clicked(b):\n",
    "    with output_widget:\n",
    "        # Clear previous output\n",
    "        clear_output(wait=True)\n",
    "        # Flip the coin and display the result inline\n",
    "        flip_coin_result = flip_coin()\n",
    "        plot_coin_inline(flip_coin_result, maple_leaf_image)\n",
    "\n",
    "# Display the button and set the event\n",
    "display(flip_button)\n",
    "flip_button.on_click(on_flip_button_clicked)\n",
    "\n",
    "# Display the output widget below the button\n",
    "display(output_widget)\n"
   ]
  },
  {
   "cell_type": "code",
   "execution_count": null,
   "id": "b4417bac-539a-476c-a69c-191b5d4e6d39",
   "metadata": {},
   "outputs": [],
   "source": []
  }
 ],
 "metadata": {
  "kernelspec": {
   "display_name": "Python 3 (ipykernel)",
   "language": "python",
   "name": "python3"
  },
  "language_info": {
   "codemirror_mode": {
    "name": "ipython",
    "version": 3
   },
   "file_extension": ".py",
   "mimetype": "text/x-python",
   "name": "python",
   "nbconvert_exporter": "python",
   "pygments_lexer": "ipython3",
   "version": "3.11.8"
  }
 },
 "nbformat": 4,
 "nbformat_minor": 5
}
