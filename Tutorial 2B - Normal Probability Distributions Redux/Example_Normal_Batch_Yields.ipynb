{
 "cells": [
  {
   "cell_type": "code",
   "execution_count": 82,
   "id": "b72d4699-8921-4042-9b10-a9b6c2d52f4a",
   "metadata": {},
   "outputs": [],
   "source": [
    "import numpy as np\n",
    "import pandas as pd\n",
    "import matplotlib.pyplot as plt\n",
    "import seaborn as sns"
   ]
  },
  {
   "attachments": {
    "0e2e9eed-a897-4371-b6aa-9e3743e7e69e.png": {
     "image/png": "[encoded data removed]"
    }
   },
   "cell_type": "markdown",
   "id": "a9a9e2df-3146-4d52-a7ea-dee53211213c",
   "metadata": {},
   "source": [
    "Assumptions of the Normal distribution: PDF =f(x) = ![image.png](attachment:0e2e9eed-a897-4371-b6aa-9e3743e7e69e.png)  For a normal distribution, the probability density function for a continuous random variable  X follows a distribution that is always non-negative and where the total area over the entire domain is equal to 1.  The PDF follows a bell-shaped curve that is symmetric around the mean and where the mean=median=mode and has the parameters of the mean = $\\mu$ and variance = $\\sigma^2%$, so N($\\mu$,$\\sigma^2$).\n",
    "\n",
    "Assumptions of the using the normal distribution :  Continuous data is used, normally distributed."
   ]
  },
  {
   "cell_type": "code",
   "execution_count": 83,
   "id": "4dfe5f55-f104-4586-b38c-219c12cf5961",
   "metadata": {},
   "outputs": [
    {
     "data": {
      "text/html": [
       "<div>\n",
       "<style scoped>\n",
       "    .dataframe tbody tr th:only-of-type {\n",
       "        vertical-align: middle;\n",
       "    }\n",
       "\n",
       "    .dataframe tbody tr th {\n",
       "        vertical-align: top;\n",
       "    }\n",
       "\n",
       "    .dataframe thead th {\n",
       "        text-align: right;\n",
       "    }\n",
       "</style>\n",
       "<table border=\"1\" class=\"dataframe\">\n",
       "  <thead>\n",
       "    <tr style=\"text-align: right;\">\n",
       "      <th></th>\n",
       "      <th>Yield</th>\n",
       "    </tr>\n",
       "  </thead>\n",
       "  <tbody>\n",
       "    <tr>\n",
       "      <th>0</th>\n",
       "      <td>79.9</td>\n",
       "    </tr>\n",
       "    <tr>\n",
       "      <th>1</th>\n",
       "      <td>70.3</td>\n",
       "    </tr>\n",
       "    <tr>\n",
       "      <th>2</th>\n",
       "      <td>85.6</td>\n",
       "    </tr>\n",
       "    <tr>\n",
       "      <th>3</th>\n",
       "      <td>84.9</td>\n",
       "    </tr>\n",
       "    <tr>\n",
       "      <th>4</th>\n",
       "      <td>78.3</td>\n",
       "    </tr>\n",
       "    <tr>\n",
       "      <th>...</th>\n",
       "      <td>...</td>\n",
       "    </tr>\n",
       "    <tr>\n",
       "      <th>295</th>\n",
       "      <td>69.2</td>\n",
       "    </tr>\n",
       "    <tr>\n",
       "      <th>296</th>\n",
       "      <td>81.9</td>\n",
       "    </tr>\n",
       "    <tr>\n",
       "      <th>297</th>\n",
       "      <td>73.9</td>\n",
       "    </tr>\n",
       "    <tr>\n",
       "      <th>298</th>\n",
       "      <td>78.6</td>\n",
       "    </tr>\n",
       "    <tr>\n",
       "      <th>299</th>\n",
       "      <td>80.5</td>\n",
       "    </tr>\n",
       "  </tbody>\n",
       "</table>\n",
       "<p>300 rows × 1 columns</p>\n",
       "</div>"
      ],
      "text/plain": [
       "     Yield\n",
       "0     79.9\n",
       "1     70.3\n",
       "2     85.6\n",
       "3     84.9\n",
       "4     78.3\n",
       "..     ...\n",
       "295   69.2\n",
       "296   81.9\n",
       "297   73.9\n",
       "298   78.6\n",
       "299   80.5\n",
       "\n",
       "[300 rows x 1 columns]"
      ]
     },
     "execution_count": 83,
     "metadata": {},
     "output_type": "execute_result"
    }
   ],
   "source": [
    "# Import Dataset\n",
    "yields = pd.read_csv('batch-yields.csv')\n",
    "yields"
   ]
  },
  {
   "cell_type": "code",
   "execution_count": 84,
   "id": "0f6a4a83-4005-44f8-bfc9-0c3dfd750a60",
   "metadata": {},
   "outputs": [
    {
     "data": {
      "text/html": [
       "<div>\n",
       "<style scoped>\n",
       "    .dataframe tbody tr th:only-of-type {\n",
       "        vertical-align: middle;\n",
       "    }\n",
       "\n",
       "    .dataframe tbody tr th {\n",
       "        vertical-align: top;\n",
       "    }\n",
       "\n",
       "    .dataframe thead th {\n",
       "        text-align: right;\n",
       "    }\n",
       "</style>\n",
       "<table border=\"1\" class=\"dataframe\">\n",
       "  <thead>\n",
       "    <tr style=\"text-align: right;\">\n",
       "      <th></th>\n",
       "      <th>Yield</th>\n",
       "    </tr>\n",
       "  </thead>\n",
       "  <tbody>\n",
       "    <tr>\n",
       "      <th>count</th>\n",
       "      <td>300.000000</td>\n",
       "    </tr>\n",
       "    <tr>\n",
       "      <th>mean</th>\n",
       "      <td>80.353000</td>\n",
       "    </tr>\n",
       "    <tr>\n",
       "      <th>std</th>\n",
       "      <td>6.608181</td>\n",
       "    </tr>\n",
       "    <tr>\n",
       "      <th>min</th>\n",
       "      <td>62.400000</td>\n",
       "    </tr>\n",
       "    <tr>\n",
       "      <th>25%</th>\n",
       "      <td>75.300000</td>\n",
       "    </tr>\n",
       "    <tr>\n",
       "      <th>50%</th>\n",
       "      <td>80.600000</td>\n",
       "    </tr>\n",
       "    <tr>\n",
       "      <th>75%</th>\n",
       "      <td>84.125000</td>\n",
       "    </tr>\n",
       "    <tr>\n",
       "      <th>max</th>\n",
       "      <td>98.600000</td>\n",
       "    </tr>\n",
       "  </tbody>\n",
       "</table>\n",
       "</div>"
      ],
      "text/plain": [
       "            Yield\n",
       "count  300.000000\n",
       "mean    80.353000\n",
       "std      6.608181\n",
       "min     62.400000\n",
       "25%     75.300000\n",
       "50%     80.600000\n",
       "75%     84.125000\n",
       "max     98.600000"
      ]
     },
     "execution_count": 84,
     "metadata": {},
     "output_type": "execute_result"
    }
   ],
   "source": [
    "yields.describe()"
   ]
  },
  {
   "cell_type": "code",
   "execution_count": 85,
   "id": "9067bc0b-0a67-46c2-ac8d-fcea72b4cc19",
   "metadata": {},
   "outputs": [
    {
     "data": {
      "text/plain": [
       "Yield    6.597158\n",
       "dtype: float64"
      ]
     },
     "execution_count": 85,
     "metadata": {},
     "output_type": "execute_result"
    }
   ],
   "source": [
    "np.std(yields,ddof=0)"
   ]
  },
  {
   "cell_type": "code",
   "execution_count": 86,
   "id": "2d562f31-2e06-4f41-b6b9-d7e4b2048f1e",
   "metadata": {},
   "outputs": [
    {
     "data": {
      "text/plain": [
       "<AxesSubplot:>"
      ]
     },
     "execution_count": 86,
     "metadata": {},
     "output_type": "execute_result"
    },
    {
     "data": {
      "image/png": "[encoded data removed]",
      "text/plain": [
       "<Figure size 432x288 with 1 Axes>"
      ]
     },
     "metadata": {
      "needs_background": "light"
     },
     "output_type": "display_data"
    }
   ],
   "source": [
    "sns.boxplot(data=yields)"
   ]
  },
  {
   "cell_type": "markdown",
   "id": "4e171bd9-11e2-443d-9dd7-bea6e8029eee",
   "metadata": {},
   "source": [
    "Is the distribution normal?"
   ]
  },
  {
   "cell_type": "code",
   "execution_count": 78,
   "id": "5d493c8e-ee73-4e9b-93f4-da76bf79c3b8",
   "metadata": {},
   "outputs": [
    {
     "data": {
      "image/png": "[encoded data removed]",
      "text/plain": [
       "<Figure size 432x288 with 1 Axes>"
      ]
     },
     "metadata": {
      "needs_background": "light"
     },
     "output_type": "display_data"
    }
   ],
   "source": [
    "yieldsA=pd.DataFrame.sort_values(yields,by=[\"Yield\"])\n",
    "import statsmodels.api as sm\n",
    "sm.qqplot((yieldsA),line='45',loc=80.353,scale=6.597)\n",
    "plt.show()"
   ]
  },
  {
   "cell_type": "code",
   "execution_count": 88,
   "id": "326bf8fa-dcfa-434f-9dc5-35f94e0d270f",
   "metadata": {},
   "outputs": [
    {
     "data": {
      "text/plain": [
       "ShapiroResult(statistic=0.9947869181632996, pvalue=0.4027233421802521)"
      ]
     },
     "execution_count": 88,
     "metadata": {},
     "output_type": "execute_result"
    }
   ],
   "source": [
    "from scipy import stats\n",
    "stats.shapiro(yields)"
   ]
  },
  {
   "cell_type": "markdown",
   "id": "cdc608cd-8cdb-4ce5-81d6-def86cccea52",
   "metadata": {},
   "source": [
    "What is the null hypothesis of the Shapiro-Wilks test?"
   ]
  },
  {
   "cell_type": "markdown",
   "id": "38e2ea15-ef6e-476d-952c-668961446064",
   "metadata": {},
   "source": [
    "reject the null that the sample is consistent with a normal distribution if p<0.05."
   ]
  },
  {
   "cell_type": "markdown",
   "id": "759bafa5-22cd-4bc8-b469-db0781d1280c",
   "metadata": {},
   "source": [
    "What is the population or theoretical mean:  $\\mu_0$?"
   ]
  },
  {
   "cell_type": "code",
   "execution_count": null,
   "id": "615b1583-ba65-40dc-9ec8-08d5190e78d4",
   "metadata": {},
   "outputs": [],
   "source": []
  },
  {
   "cell_type": "markdown",
   "id": "5dd0de5d-569f-4fcb-9aac-05d2aa8ae479",
   "metadata": {},
   "source": [
    "# A recorded yield value today was less than 60%, what are the chances of that occurring? \n",
    "\n",
    "What is the question asking about?  Is it asking about the probability of a value from the population or about the probability of a mean from an infered population of the sampling distribution of the sample means?"
   ]
  },
  {
   "cell_type": "code",
   "execution_count": null,
   "id": "573fcb2a-99ee-4626-b0a7-ebce11038ad6",
   "metadata": {},
   "outputs": [],
   "source": []
  },
  {
   "cell_type": "markdown",
   "id": "29ad8cc9-4a4f-4471-8be3-91747e55b5d6",
   "metadata": {},
   "source": [
    "What is the value, X, that you are testing? "
   ]
  },
  {
   "cell_type": "code",
   "execution_count": null,
   "id": "2b4b00a6-931c-401d-b3b8-4789aabb99ed",
   "metadata": {},
   "outputs": [],
   "source": []
  },
  {
   "cell_type": "markdown",
   "id": "e2c96652-dbc6-4d37-bdf3-944d8f2314f7",
   "metadata": {},
   "source": [
    "What is the standard deviation?"
   ]
  },
  {
   "cell_type": "code",
   "execution_count": null,
   "id": "01bb39b7-ce5b-435c-a98a-74fede376d62",
   "metadata": {},
   "outputs": [],
   "source": []
  },
  {
   "cell_type": "markdown",
   "id": "920464c5-7dd4-4cc7-a902-a880d1239b06",
   "metadata": {},
   "source": [
    "What would this look like on the PDF?"
   ]
  },
  {
   "cell_type": "code",
   "execution_count": null,
   "id": "9756d67e-6102-45c3-8468-0c6cfb8c6149",
   "metadata": {},
   "outputs": [],
   "source": []
  },
  {
   "cell_type": "code",
   "execution_count": null,
   "id": "2a7d3af0-c6f7-4760-988d-e02a2b3a5c3a",
   "metadata": {},
   "outputs": [],
   "source": []
  },
  {
   "cell_type": "code",
   "execution_count": null,
   "id": "f414d867-2003-41e5-af55-e42b607b628a",
   "metadata": {},
   "outputs": [],
   "source": []
  },
  {
   "cell_type": "code",
   "execution_count": null,
   "id": "97f7bfe5-3b4d-4b49-bbe7-cd23bfff33b1",
   "metadata": {},
   "outputs": [],
   "source": []
  },
  {
   "cell_type": "code",
   "execution_count": null,
   "id": "55c99c73-2933-4232-a2a8-40cde0e15354",
   "metadata": {},
   "outputs": [],
   "source": []
  },
  {
   "cell_type": "code",
   "execution_count": null,
   "id": "ea45ae3a-539f-472a-a0d5-8ae6d2c79093",
   "metadata": {},
   "outputs": [],
   "source": []
  },
  {
   "cell_type": "code",
   "execution_count": null,
   "id": "506a67bc-f31f-41ad-bfc7-fdeb1c867a31",
   "metadata": {},
   "outputs": [],
   "source": []
  },
  {
   "cell_type": "code",
   "execution_count": null,
   "id": "f6db6b87-a10d-4553-a495-3ca7dbe0b4b0",
   "metadata": {},
   "outputs": [],
   "source": []
  },
  {
   "cell_type": "code",
   "execution_count": 91,
   "id": "ec2f6053-2e06-49f2-8e56-e8ef32b21085",
   "metadata": {},
   "outputs": [],
   "source": [
    "from scipy.stats import norm"
   ]
  },
  {
   "cell_type": "code",
   "execution_count": 92,
   "id": "f0b4179c-41d5-4485-8f47-b712f0751e78",
   "metadata": {
    "tags": []
   },
   "outputs": [
    {
     "data": {
      "text/plain": [
       "Text(0.5, 1.0, 'Normal Distribution with Mean=80.353, SD=6.597')"
      ]
     },
     "execution_count": 92,
     "metadata": {},
     "output_type": "execute_result"
    },
    {
     "data": {
      "image/png": "[encoded data removed]",
      "text/plain": [
       "<Figure size 432x288 with 1 Axes>"
      ]
     },
     "metadata": {
      "needs_background": "light"
     },
     "output_type": "display_data"
    }
   ],
   "source": [
    "x_A = np.arange(40,120,.01)\n",
    "normal_A=norm.pdf(x_A,loc=80.353,scale=6.597)\n",
    "ax=sns.lineplot(x=x_A,y=normal_A)\n",
    "ax=plt.fill_between(x_A,normal_A, where=(x_A<60),color='r',alpha=.5)\n",
    "plt.xlabel(\"X=batch yileds (%)\")\n",
    "plt.title(\"Normal Distribution with Mean=80.353, SD=6.597\")"
   ]
  },
  {
   "cell_type": "markdown",
   "id": "ca723106-91aa-4192-a80c-a1d7145b4906",
   "metadata": {},
   "source": [
    "A recorded yield value today was less than 60%, what are the chances of that occurring? \n",
    "\n",
    "First: Standardize.  \n",
    "Second:  Find P(Z>=z).\n",
    "Remember that the entire probability distribution =1 and that you can use the complement rule to find symmetrical probabilities for symmetrical probability distributions (such as z- and t- PDFs).  "
   ]
  },
  {
   "cell_type": "code",
   "execution_count": null,
   "id": "795fdea2-bb95-46c8-9dda-b76d1b75acd4",
   "metadata": {},
   "outputs": [],
   "source": []
  },
  {
   "cell_type": "code",
   "execution_count": null,
   "id": "e9d5a3d7-549d-492a-93f0-45a9dd2af705",
   "metadata": {},
   "outputs": [],
   "source": []
  },
  {
   "cell_type": "code",
   "execution_count": null,
   "id": "273ca65d-9f1c-4105-8139-19f8595d5900",
   "metadata": {},
   "outputs": [],
   "source": []
  },
  {
   "cell_type": "code",
   "execution_count": null,
   "id": "d2e898b2-8b70-4b0c-a7ad-eea1fa5e9d31",
   "metadata": {},
   "outputs": [],
   "source": []
  },
  {
   "cell_type": "code",
   "execution_count": null,
   "id": "d4f7a41f-4850-4940-89f9-5271f7988764",
   "metadata": {},
   "outputs": [],
   "source": []
  },
  {
   "cell_type": "code",
   "execution_count": 93,
   "id": "ba55ffe3-19e8-47ba-9ddf-8fdaa7f8e134",
   "metadata": {},
   "outputs": [
    {
     "data": {
      "text/plain": [
       "-3.085190237986963"
      ]
     },
     "execution_count": 93,
     "metadata": {},
     "output_type": "execute_result"
    }
   ],
   "source": [
    "z=(60-80.353)/6.597\n",
    "z"
   ]
  },
  {
   "cell_type": "markdown",
   "id": "7e96ed2a-c803-44cd-addb-f575734c7f9d",
   "metadata": {},
   "source": [
    "What is the probability of P(Z<z)?  \n",
    "\n",
    "Look it up from a table. "
   ]
  },
  {
   "cell_type": "code",
   "execution_count": null,
   "id": "b1710595-3bba-4e45-91dc-ee3f9b9bd890",
   "metadata": {},
   "outputs": [],
   "source": []
  },
  {
   "cell_type": "code",
   "execution_count": null,
   "id": "ae527dcf-dbee-47ef-98f8-9151df335d54",
   "metadata": {},
   "outputs": [],
   "source": []
  },
  {
   "cell_type": "code",
   "execution_count": null,
   "id": "438a3373-e647-4c12-b49e-b0852ef51ea3",
   "metadata": {},
   "outputs": [],
   "source": []
  },
  {
   "cell_type": "code",
   "execution_count": null,
   "id": "1c8a297c-fe32-4c4c-b529-db0ec2c68bf0",
   "metadata": {},
   "outputs": [],
   "source": []
  },
  {
   "cell_type": "code",
   "execution_count": null,
   "id": "35b3e035-69b1-42cd-8863-55207bee8c1c",
   "metadata": {},
   "outputs": [],
   "source": []
  },
  {
   "cell_type": "code",
   "execution_count": null,
   "id": "2b0a992b-babd-40ce-89c8-1e9b76703be9",
   "metadata": {},
   "outputs": [],
   "source": []
  },
  {
   "cell_type": "code",
   "execution_count": null,
   "id": "a81e145e-37fa-49e6-9ccb-be38f76c6af8",
   "metadata": {},
   "outputs": [],
   "source": []
  },
  {
   "cell_type": "code",
   "execution_count": 63,
   "id": "51f435c9-7a4c-4b8f-a2cb-b0861d62a90a",
   "metadata": {},
   "outputs": [
    {
     "data": {
      "text/plain": [
       "0.0010177607658036273"
      ]
     },
     "execution_count": 63,
     "metadata": {},
     "output_type": "execute_result"
    }
   ],
   "source": [
    "from scipy.stats import norm\n",
    "norm.cdf(-3.085,loc=0,scale=1)"
   ]
  },
  {
   "cell_type": "markdown",
   "id": "ad9ec9c7-4db6-4440-b66e-a1b4cacae39c",
   "metadata": {},
   "source": [
    "# What is the Z score at which the corresponding probability of P(Z<=z) would be equal to 0.25?"
   ]
  },
  {
   "cell_type": "markdown",
   "id": "17ff3edf-6edd-41e6-9308-1a2309969000",
   "metadata": {},
   "source": [
    "P(Z < z) = 0.25\n",
    "\n",
    "Use standard normal table to find the Z value such that the area under the curve (the cumulative distribution function of the cumulative probility up to the Z value) =0.25. \n",
    "\n",
    "P(z<????) = 0.25"
   ]
  },
  {
   "cell_type": "code",
   "execution_count": null,
   "id": "ed537639-9737-4a14-8ff5-51200cd71c99",
   "metadata": {},
   "outputs": [],
   "source": []
  },
  {
   "cell_type": "code",
   "execution_count": null,
   "id": "cd2ef995-8840-49e3-b1e4-31deb2ccd3c6",
   "metadata": {},
   "outputs": [],
   "source": []
  },
  {
   "cell_type": "code",
   "execution_count": null,
   "id": "5b07739d-8baf-404b-bb9b-3f9e6c6328cb",
   "metadata": {},
   "outputs": [],
   "source": []
  },
  {
   "cell_type": "code",
   "execution_count": null,
   "id": "66857a3d-a8ea-45c3-a66c-a027a7c75701",
   "metadata": {},
   "outputs": [],
   "source": []
  },
  {
   "cell_type": "code",
   "execution_count": null,
   "id": "04594e3c-a2e2-41dd-97ad-cefd715a283b",
   "metadata": {},
   "outputs": [],
   "source": []
  },
  {
   "cell_type": "code",
   "execution_count": null,
   "id": "c35b78a8-5f49-4bcc-aded-bf80ae19b31f",
   "metadata": {},
   "outputs": [],
   "source": []
  },
  {
   "cell_type": "markdown",
   "id": "266dd6ab-d85a-4824-8022-6a1112dc34a9",
   "metadata": {},
   "source": [
    "P(Z < z) = 0.25\n",
    "\n",
    "Use standard normal table to find the Z value such that the area under the curve (the cumulative distribution function of the cumulative probility up to the Z value) =0.25. \n",
    "\n",
    "P(z<-0.675) = 0.25"
   ]
  },
  {
   "cell_type": "code",
   "execution_count": 68,
   "id": "a2ed8eeb-fcda-4c7f-96a0-9b8f99a8ed64",
   "metadata": {
    "tags": []
   },
   "outputs": [
    {
     "data": {
      "text/plain": [
       "Text(0.5, 1.0, 'Normal Distribution with Mean=0, SD=1')"
      ]
     },
     "execution_count": 68,
     "metadata": {},
     "output_type": "execute_result"
    },
    {
     "data": {
      "image/png": "[encoded data removed]",
      "text/plain": [
       "<Figure size 432x288 with 1 Axes>"
      ]
     },
     "metadata": {
      "needs_background": "light"
     },
     "output_type": "display_data"
    }
   ],
   "source": [
    "x_A = np.arange(-4,4,.01)\n",
    "normal_A=norm.pdf(x_A,loc=0,scale=1)\n",
    "ax=sns.lineplot(x=x_A,y=normal_A)\n",
    "ax=plt.fill_between(x_A,normal_A, where=(x_A<-0.675),color='r',alpha=.5)\n",
    "plt.xlabel(\"X=batch yileds (%)\")\n",
    "plt.title(\"Normal Distribution with Mean=0, SD=1\")"
   ]
  },
  {
   "cell_type": "markdown",
   "id": "9374d285-bba5-47ba-9a8d-49ca761b7c18",
   "metadata": {},
   "source": [
    "# What is the batch yield that corresponds to the value that 25% of batch yields fall below, or find x where P(X<=x)=0.25?"
   ]
  },
  {
   "cell_type": "code",
   "execution_count": null,
   "id": "326bcbab-1475-4a9b-9fe9-bc4891529fb3",
   "metadata": {},
   "outputs": [],
   "source": []
  },
  {
   "cell_type": "code",
   "execution_count": null,
   "id": "5f042eab-75f9-4266-a05f-2fd19eca9db8",
   "metadata": {},
   "outputs": [],
   "source": []
  },
  {
   "cell_type": "code",
   "execution_count": null,
   "id": "86b559fd-45cf-4bf5-94f0-9262f929044a",
   "metadata": {},
   "outputs": [],
   "source": []
  },
  {
   "cell_type": "code",
   "execution_count": null,
   "id": "a5ec855f-bc10-460e-b112-b1aa9dc872ab",
   "metadata": {},
   "outputs": [],
   "source": []
  },
  {
   "cell_type": "markdown",
   "id": "3d68cf2c-d011-42da-8cc0-cb5527d15b9b",
   "metadata": {},
   "source": [
    "P(X<=x)=0.25?\n",
    "\n",
    "P(z<= (x-$\\mu$)/$\\sigma$) =0.25?\n",
    "\n",
    "if z=-0.675, what is x?"
   ]
  },
  {
   "cell_type": "markdown",
   "id": "a168a786-5b18-4c1c-b1a6-ab54202c73fc",
   "metadata": {},
   "source": [
    "therfore: z= -0.675 = (x-80.353)/6.597 \n",
    "\n",
    "standardizing transformation in reverse to solve for x: \n",
    "\n",
    "x = (-0.675*6.597) + 80.353 = 75.9%"
   ]
  },
  {
   "cell_type": "code",
   "execution_count": 94,
   "id": "a79f4f37-172c-4d7c-a3ef-387d81809e20",
   "metadata": {},
   "outputs": [
    {
     "data": {
      "text/plain": [
       "-0.6744897501960817"
      ]
     },
     "execution_count": 94,
     "metadata": {},
     "output_type": "execute_result"
    }
   ],
   "source": [
    "norm.ppf(0.25,loc=0,scale=1)"
   ]
  },
  {
   "cell_type": "code",
   "execution_count": 95,
   "id": "a249de4d-741d-480b-b9b7-1e5958b8ccd6",
   "metadata": {},
   "outputs": [
    {
     "data": {
      "text/plain": [
       "75.90339111795645"
      ]
     },
     "execution_count": 95,
     "metadata": {},
     "output_type": "execute_result"
    }
   ],
   "source": [
    "norm.ppf(0.25,loc=80.353,scale=6.597)"
   ]
  },
  {
   "cell_type": "code",
   "execution_count": null,
   "id": "3fe04272-e8b0-494c-ab4d-0086d077b2a8",
   "metadata": {},
   "outputs": [],
   "source": []
  }
 ],
 "metadata": {
  "kernelspec": {
   "display_name": "Python 3 (ipykernel)",
   "language": "python",
   "name": "python3"
  },
  "language_info": {
   "codemirror_mode": {
    "name": "ipython",
    "version": 3
   },
   "file_extension": ".py",
   "mimetype": "text/x-python",
   "name": "python",
   "nbconvert_exporter": "python",
   "pygments_lexer": "ipython3",
   "version": "3.9.13"
  }
 },
 "nbformat": 4,
 "nbformat_minor": 5
}
