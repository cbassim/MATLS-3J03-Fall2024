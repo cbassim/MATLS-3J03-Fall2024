{
 "cells": [
  {
   "cell_type": "code",
   "execution_count": 170,
   "id": "b983a835-38ef-44ea-998c-58cb98aa7a70",
   "metadata": {},
   "outputs": [
    {
     "name": "stdin",
     "output_type": "stream",
     "text": [
      "Once deleted, variables cannot be recovered. Proceed (y/[n])?  y\n"
     ]
    }
   ],
   "source": [
    "%reset\n",
    "import numpy as np\n",
    "import pandas as pd\n",
    "import matplotlib.pyplot as plt\n",
    "import seaborn as sns\n",
    "import scipy\n",
    "from scipy import stats\n",
    "import statsmodels.api as sm"
   ]
  },
  {
   "cell_type": "markdown",
   "id": "0aedddfd-c2df-43b8-9851-7174f088062f",
   "metadata": {},
   "source": [
    "Part 6 ANOVA Concrete Strength Study Example"
   ]
  },
  {
   "cell_type": "code",
   "execution_count": 171,
   "id": "a6e4d5d0-a294-4f1d-a5ec-f9cface83c6b",
   "metadata": {},
   "outputs": [],
   "source": [
    "# Create the 'formula' factor variable\n",
    "formula = pd.Categorical(np.repeat(np.arange(1, 9), 3))\n",
    "\n",
    "# Create the 'strength' numeric vector\n",
    "strength = np.array([5800, 4598, 6508, 5659, 6225, 5376, 5093, 4386, 4103, 3395,\n",
    "                     3820, 3112, 3820, 2829, 2122, 2971, 3678, 3325, 2122, 1372,\n",
    "                     1160, 2051, 2631, 2490])\n",
    "\n",
    "# Combine into a DataFrame if needed\n",
    "df = pd.DataFrame({'formula': formula, 'strength': strength})"
   ]
  },
  {
   "cell_type": "code",
   "execution_count": 172,
   "id": "51a73864-cd73-42e3-b11a-cbf529bbf11c",
   "metadata": {},
   "outputs": [
    {
     "data": {
      "text/plain": [
       "Text(29.222222222222214, 0.5, 'Compressive Strength (psi)')"
      ]
     },
     "execution_count": 172,
     "metadata": {},
     "output_type": "execute_result"
    },
    {
     "data": {
      "image/png": "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",
      "text/plain": [
       "<Figure size 640x480 with 1 Axes>"
      ]
     },
     "metadata": {},
     "output_type": "display_data"
    }
   ],
   "source": [
    "# Plot the data to visualize\n",
    "ax=sns.boxplot(x=df[\"formula\"], y= df[\"strength\"], data=df,showmeans=True,palette=\"Greys\")\n",
    "ax=sns.swarmplot(x=df[\"formula\"], y= df[\"strength\"], data=df)\n",
    "#lt.xlabel(\"Concrete Formula\")\n",
    "plt.ylabel(\"Compressive Strength (psi)\")"
   ]
  },
  {
   "cell_type": "code",
   "execution_count": 173,
   "id": "c8bd0308-73b1-481f-8bd2-298ff76f84b3",
   "metadata": {
    "tags": []
   },
   "outputs": [
    {
     "data": {
      "text/html": [
       "<div>\n",
       "<style scoped>\n",
       "    .dataframe tbody tr th:only-of-type {\n",
       "        vertical-align: middle;\n",
       "    }\n",
       "\n",
       "    .dataframe tbody tr th {\n",
       "        vertical-align: top;\n",
       "    }\n",
       "\n",
       "    .dataframe thead th {\n",
       "        text-align: right;\n",
       "    }\n",
       "</style>\n",
       "<table border=\"1\" class=\"dataframe\">\n",
       "  <thead>\n",
       "    <tr style=\"text-align: right;\">\n",
       "      <th></th>\n",
       "      <th>1</th>\n",
       "      <th>2</th>\n",
       "      <th>3</th>\n",
       "      <th>4</th>\n",
       "      <th>5</th>\n",
       "      <th>6</th>\n",
       "      <th>7</th>\n",
       "      <th>8</th>\n",
       "    </tr>\n",
       "  </thead>\n",
       "  <tbody>\n",
       "    <tr>\n",
       "      <th>0</th>\n",
       "      <td>5800</td>\n",
       "      <td>5659</td>\n",
       "      <td>5093</td>\n",
       "      <td>3395</td>\n",
       "      <td>3820</td>\n",
       "      <td>2971</td>\n",
       "      <td>2122</td>\n",
       "      <td>2051</td>\n",
       "    </tr>\n",
       "    <tr>\n",
       "      <th>1</th>\n",
       "      <td>4598</td>\n",
       "      <td>6225</td>\n",
       "      <td>4386</td>\n",
       "      <td>3820</td>\n",
       "      <td>2829</td>\n",
       "      <td>3678</td>\n",
       "      <td>1372</td>\n",
       "      <td>2631</td>\n",
       "    </tr>\n",
       "    <tr>\n",
       "      <th>2</th>\n",
       "      <td>6508</td>\n",
       "      <td>5376</td>\n",
       "      <td>4103</td>\n",
       "      <td>3112</td>\n",
       "      <td>2122</td>\n",
       "      <td>3325</td>\n",
       "      <td>1160</td>\n",
       "      <td>2490</td>\n",
       "    </tr>\n",
       "  </tbody>\n",
       "</table>\n",
       "</div>"
      ],
      "text/plain": [
       "      1     2     3     4     5     6     7     8\n",
       "0  5800  5659  5093  3395  3820  2971  2122  2051\n",
       "1  4598  6225  4386  3820  2829  3678  1372  2631\n",
       "2  6508  5376  4103  3112  2122  3325  1160  2490"
      ]
     },
     "execution_count": 173,
     "metadata": {},
     "output_type": "execute_result"
    }
   ],
   "source": [
    "# Create the 'strength' numeric vector\n",
    "strength_wide= {'1':[5800, 4598, 6508],'2':[5659, 6225, 5376],'3':[5093, 4386, 4103],'4':[3395,\n",
    "                     3820, 3112],'5':[3820, 2829, 2122],'6':[2971, 3678, 3325], '7':[2122, 1372,\n",
    "                     1160], '8':[2051, 2631, 2490]}\n",
    "\n",
    "# Combine into a DataFrame if needed\n",
    "df_wide = pd.DataFrame(data=strength_wide)\n",
    "df_wide"
   ]
  },
  {
   "cell_type": "code",
   "execution_count": 174,
   "id": "1810c577-d452-48e7-aa82-4ccc96207403",
   "metadata": {
    "tags": []
   },
   "outputs": [
    {
     "data": {
      "text/html": [
       "<div>\n",
       "<style scoped>\n",
       "    .dataframe tbody tr th:only-of-type {\n",
       "        vertical-align: middle;\n",
       "    }\n",
       "\n",
       "    .dataframe tbody tr th {\n",
       "        vertical-align: top;\n",
       "    }\n",
       "\n",
       "    .dataframe thead th {\n",
       "        text-align: right;\n",
       "    }\n",
       "</style>\n",
       "<table border=\"1\" class=\"dataframe\">\n",
       "  <thead>\n",
       "    <tr style=\"text-align: right;\">\n",
       "      <th></th>\n",
       "      <th>1</th>\n",
       "      <th>2</th>\n",
       "      <th>3</th>\n",
       "      <th>4</th>\n",
       "      <th>5</th>\n",
       "      <th>6</th>\n",
       "      <th>7</th>\n",
       "      <th>8</th>\n",
       "    </tr>\n",
       "  </thead>\n",
       "  <tbody>\n",
       "    <tr>\n",
       "      <th>count</th>\n",
       "      <td>3.000000</td>\n",
       "      <td>3.000000</td>\n",
       "      <td>3.000000</td>\n",
       "      <td>3.000000</td>\n",
       "      <td>3.000000</td>\n",
       "      <td>3.000000</td>\n",
       "      <td>3.000000</td>\n",
       "      <td>3.000000</td>\n",
       "    </tr>\n",
       "    <tr>\n",
       "      <th>mean</th>\n",
       "      <td>5635.333333</td>\n",
       "      <td>5753.333333</td>\n",
       "      <td>4527.333333</td>\n",
       "      <td>3442.333333</td>\n",
       "      <td>2923.666667</td>\n",
       "      <td>3324.666667</td>\n",
       "      <td>1551.333333</td>\n",
       "      <td>2390.666667</td>\n",
       "    </tr>\n",
       "    <tr>\n",
       "      <th>std</th>\n",
       "      <td>965.588594</td>\n",
       "      <td>432.289641</td>\n",
       "      <td>509.908162</td>\n",
       "      <td>356.365449</td>\n",
       "      <td>852.949197</td>\n",
       "      <td>353.500118</td>\n",
       "      <td>505.451613</td>\n",
       "      <td>302.490220</td>\n",
       "    </tr>\n",
       "    <tr>\n",
       "      <th>min</th>\n",
       "      <td>4598.000000</td>\n",
       "      <td>5376.000000</td>\n",
       "      <td>4103.000000</td>\n",
       "      <td>3112.000000</td>\n",
       "      <td>2122.000000</td>\n",
       "      <td>2971.000000</td>\n",
       "      <td>1160.000000</td>\n",
       "      <td>2051.000000</td>\n",
       "    </tr>\n",
       "    <tr>\n",
       "      <th>25%</th>\n",
       "      <td>5199.000000</td>\n",
       "      <td>5517.500000</td>\n",
       "      <td>4244.500000</td>\n",
       "      <td>3253.500000</td>\n",
       "      <td>2475.500000</td>\n",
       "      <td>3148.000000</td>\n",
       "      <td>1266.000000</td>\n",
       "      <td>2270.500000</td>\n",
       "    </tr>\n",
       "    <tr>\n",
       "      <th>50%</th>\n",
       "      <td>5800.000000</td>\n",
       "      <td>5659.000000</td>\n",
       "      <td>4386.000000</td>\n",
       "      <td>3395.000000</td>\n",
       "      <td>2829.000000</td>\n",
       "      <td>3325.000000</td>\n",
       "      <td>1372.000000</td>\n",
       "      <td>2490.000000</td>\n",
       "    </tr>\n",
       "    <tr>\n",
       "      <th>75%</th>\n",
       "      <td>6154.000000</td>\n",
       "      <td>5942.000000</td>\n",
       "      <td>4739.500000</td>\n",
       "      <td>3607.500000</td>\n",
       "      <td>3324.500000</td>\n",
       "      <td>3501.500000</td>\n",
       "      <td>1747.000000</td>\n",
       "      <td>2560.500000</td>\n",
       "    </tr>\n",
       "    <tr>\n",
       "      <th>max</th>\n",
       "      <td>6508.000000</td>\n",
       "      <td>6225.000000</td>\n",
       "      <td>5093.000000</td>\n",
       "      <td>3820.000000</td>\n",
       "      <td>3820.000000</td>\n",
       "      <td>3678.000000</td>\n",
       "      <td>2122.000000</td>\n",
       "      <td>2631.000000</td>\n",
       "    </tr>\n",
       "  </tbody>\n",
       "</table>\n",
       "</div>"
      ],
      "text/plain": [
       "                 1            2            3            4            5  \\\n",
       "count     3.000000     3.000000     3.000000     3.000000     3.000000   \n",
       "mean   5635.333333  5753.333333  4527.333333  3442.333333  2923.666667   \n",
       "std     965.588594   432.289641   509.908162   356.365449   852.949197   \n",
       "min    4598.000000  5376.000000  4103.000000  3112.000000  2122.000000   \n",
       "25%    5199.000000  5517.500000  4244.500000  3253.500000  2475.500000   \n",
       "50%    5800.000000  5659.000000  4386.000000  3395.000000  2829.000000   \n",
       "75%    6154.000000  5942.000000  4739.500000  3607.500000  3324.500000   \n",
       "max    6508.000000  6225.000000  5093.000000  3820.000000  3820.000000   \n",
       "\n",
       "                 6            7            8  \n",
       "count     3.000000     3.000000     3.000000  \n",
       "mean   3324.666667  1551.333333  2390.666667  \n",
       "std     353.500118   505.451613   302.490220  \n",
       "min    2971.000000  1160.000000  2051.000000  \n",
       "25%    3148.000000  1266.000000  2270.500000  \n",
       "50%    3325.000000  1372.000000  2490.000000  \n",
       "75%    3501.500000  1747.000000  2560.500000  \n",
       "max    3678.000000  2122.000000  2631.000000  "
      ]
     },
     "execution_count": 174,
     "metadata": {},
     "output_type": "execute_result"
    }
   ],
   "source": [
    "df_wide.describe()"
   ]
  },
  {
   "cell_type": "code",
   "execution_count": 175,
   "id": "fadfcf83-95a1-4f4c-af33-d9c7c46520bd",
   "metadata": {
    "tags": []
   },
   "outputs": [
    {
     "data": {
      "text/plain": [
       "F_onewayResult(statistic=20.00462465565264, pvalue=8.550775198432932e-07)"
      ]
     },
     "execution_count": 175,
     "metadata": {},
     "output_type": "execute_result"
    }
   ],
   "source": [
    "stats.f_oneway(df_wide['1'],df_wide['2'],df_wide['3'],df_wide['4'],df_wide['5'],df_wide['6'],df_wide['7'],df_wide['8'])"
   ]
  },
  {
   "cell_type": "code",
   "execution_count": 176,
   "id": "1fd22666-8f5b-4850-8d3a-bdcc911cdaa4",
   "metadata": {
    "tags": []
   },
   "outputs": [
    {
     "name": "stdout",
     "output_type": "stream",
     "text": [
      "Tukey's HSD Pairwise Group Comparisons (95.0% Confidence Interval)\n",
      "Comparison  Statistic  p-value  Lower CI  Upper CI\n",
      " (0 - 1)   -118.000     1.000 -1761.976  1525.976\n",
      " (0 - 2)   1108.000     0.334  -535.976  2751.976\n",
      " (0 - 3)   2193.000     0.005   549.024  3836.976\n",
      " (0 - 4)   2711.667     0.001  1067.690  4355.643\n",
      " (0 - 5)   2310.667     0.003   666.690  3954.643\n",
      " (0 - 6)   4084.000     0.000  2440.024  5727.976\n",
      " (0 - 7)   3244.667     0.000  1600.690  4888.643\n",
      " (1 - 0)    118.000     1.000 -1525.976  1761.976\n",
      " (1 - 2)   1226.000     0.231  -417.976  2869.976\n",
      " (1 - 3)   2311.000     0.003   667.024  3954.976\n",
      " (1 - 4)   2829.667     0.000  1185.690  4473.643\n",
      " (1 - 5)   2428.667     0.002   784.690  4072.643\n",
      " (1 - 6)   4202.000     0.000  2558.024  5845.976\n",
      " (1 - 7)   3362.667     0.000  1718.690  5006.643\n",
      " (2 - 0)  -1108.000     0.334 -2751.976   535.976\n",
      " (2 - 1)  -1226.000     0.231 -2869.976   417.976\n",
      " (2 - 3)   1085.000     0.357  -558.976  2728.976\n",
      " (2 - 4)   1603.667     0.059   -40.310  3247.643\n",
      " (2 - 5)   1202.667     0.250  -441.310  2846.643\n",
      " (2 - 6)   2976.000     0.000  1332.024  4619.976\n",
      " (2 - 7)   2136.667     0.007   492.690  3780.643\n",
      " (3 - 0)  -2193.000     0.005 -3836.976  -549.024\n",
      " (3 - 1)  -2311.000     0.003 -3954.976  -667.024\n",
      " (3 - 2)  -1085.000     0.357 -2728.976   558.976\n",
      " (3 - 4)    518.667     0.949 -1125.310  2162.643\n",
      " (3 - 5)    117.667     1.000 -1526.310  1761.643\n",
      " (3 - 6)   1891.000     0.019   247.024  3534.976\n",
      " (3 - 7)   1051.667     0.393  -592.310  2695.643\n",
      " (4 - 0)  -2711.667     0.001 -4355.643 -1067.690\n",
      " (4 - 1)  -2829.667     0.000 -4473.643 -1185.690\n",
      " (4 - 2)  -1603.667     0.059 -3247.643    40.310\n",
      " (4 - 3)   -518.667     0.949 -2162.643  1125.310\n",
      " (4 - 5)   -401.000     0.987 -2044.976  1242.976\n",
      " (4 - 6)   1372.333     0.140  -271.643  3016.310\n",
      " (4 - 7)    533.000     0.942 -1110.976  2176.976\n",
      " (5 - 0)  -2310.667     0.003 -3954.643  -666.690\n",
      " (5 - 1)  -2428.667     0.002 -4072.643  -784.690\n",
      " (5 - 2)  -1202.667     0.250 -2846.643   441.310\n",
      " (5 - 3)   -117.667     1.000 -1761.643  1526.310\n",
      " (5 - 4)    401.000     0.987 -1242.976  2044.976\n",
      " (5 - 6)   1773.333     0.030   129.357  3417.310\n",
      " (5 - 7)    934.000     0.530  -709.976  2577.976\n",
      " (6 - 0)  -4084.000     0.000 -5727.976 -2440.024\n",
      " (6 - 1)  -4202.000     0.000 -5845.976 -2558.024\n",
      " (6 - 2)  -2976.000     0.000 -4619.976 -1332.024\n",
      " (6 - 3)  -1891.000     0.019 -3534.976  -247.024\n",
      " (6 - 4)  -1372.333     0.140 -3016.310   271.643\n",
      " (6 - 5)  -1773.333     0.030 -3417.310  -129.357\n",
      " (6 - 7)   -839.333     0.648 -2483.310   804.643\n",
      " (7 - 0)  -3244.667     0.000 -4888.643 -1600.690\n",
      " (7 - 1)  -3362.667     0.000 -5006.643 -1718.690\n",
      " (7 - 2)  -2136.667     0.007 -3780.643  -492.690\n",
      " (7 - 3)  -1051.667     0.393 -2695.643   592.310\n",
      " (7 - 4)   -533.000     0.942 -2176.976  1110.976\n",
      " (7 - 5)   -934.000     0.530 -2577.976   709.976\n",
      " (7 - 6)    839.333     0.648  -804.643  2483.310\n",
      "\n"
     ]
    }
   ],
   "source": [
    "from scipy.stats import tukey_hsd\n",
    "\n",
    "res = tukey_hsd(df_wide['1'],df_wide['2'],df_wide['3'],df_wide['4'],df_wide['5'],df_wide['6'],df_wide['7'],df_wide['8'])\n",
    "print(res)"
   ]
  },
  {
   "cell_type": "markdown",
   "id": "5f33b616-03c7-462a-a04d-9dae144f1ed7",
   "metadata": {},
   "source": [
    "# General linear model\n",
    "\n",
    "The general linear model (GLM) is the conventional linear regression model for a continuous response variable given continuous and/or categorical predictors. It includes simple linear regression, multiple linear regression, as well as ANOVA.\n",
    "\n",
    "For simple linear regression with categorical frmula number predicting compression strength and dummy coding of the category:"
   ]
  },
  {
   "cell_type": "code",
   "execution_count": 177,
   "id": "cf0a14e5-df7c-494c-a609-f8707ca004e5",
   "metadata": {
    "tags": []
   },
   "outputs": [
    {
     "data": {
      "text/html": [
       "<table class=\"simpletable\">\n",
       "<tr>\n",
       "        <td>Model:</td>               <td>OLS</td>         <td>Adj. R-squared:</td>      <td>0.853</td>  \n",
       "</tr>\n",
       "<tr>\n",
       "  <td>Dependent Variable:</td>     <td>strength</td>            <td>AIC:</td>          <td>379.9322</td> \n",
       "</tr>\n",
       "<tr>\n",
       "         <td>Date:</td>        <td>2024-02-06 14:47</td>        <td>BIC:</td>          <td>389.3567</td> \n",
       "</tr>\n",
       "<tr>\n",
       "   <td>No. Observations:</td>         <td>24</td>          <td>Log-Likelihood:</td>     <td>-181.97</td> \n",
       "</tr>\n",
       "<tr>\n",
       "       <td>Df Model:</td>              <td>7</td>           <td>F-statistic:</td>        <td>20.00</td>  \n",
       "</tr>\n",
       "<tr>\n",
       "     <td>Df Residuals:</td>           <td>16</td>        <td>Prob (F-statistic):</td>  <td>8.55e-07</td> \n",
       "</tr>\n",
       "<tr>\n",
       "      <td>R-squared:</td>            <td>0.897</td>            <td>Scale:</td>        <td>3.3821e+05</td>\n",
       "</tr>\n",
       "</table>\n",
       "<table class=\"simpletable\">\n",
       "<tr>\n",
       "        <td></td>          <th>Coef.</th>   <th>Std.Err.</th>    <th>t</th>     <th>P>|t|</th>   <th>[0.025</th>     <th>0.975]</th>  \n",
       "</tr>\n",
       "<tr>\n",
       "  <th>Intercept</th>     <td>5635.3333</td> <td>335.7643</td> <td>16.7836</td> <td>0.0000</td>  <td>4923.5447</td>  <td>6347.1219</td>\n",
       "</tr>\n",
       "<tr>\n",
       "  <th>formula[T.2]</th>  <td>118.0000</td>  <td>474.8425</td> <td>0.2485</td>  <td>0.8069</td>  <td>-888.6211</td>  <td>1124.6211</td>\n",
       "</tr>\n",
       "<tr>\n",
       "  <th>formula[T.3]</th> <td>-1108.0000</td> <td>474.8425</td> <td>-2.3334</td> <td>0.0330</td> <td>-2114.6211</td>  <td>-101.3789</td>\n",
       "</tr>\n",
       "<tr>\n",
       "  <th>formula[T.4]</th> <td>-2193.0000</td> <td>474.8425</td> <td>-4.6184</td> <td>0.0003</td> <td>-3199.6211</td> <td>-1186.3789</td>\n",
       "</tr>\n",
       "<tr>\n",
       "  <th>formula[T.5]</th> <td>-2711.6667</td> <td>474.8425</td> <td>-5.7107</td> <td>0.0000</td> <td>-3718.2878</td> <td>-1705.0456</td>\n",
       "</tr>\n",
       "<tr>\n",
       "  <th>formula[T.6]</th> <td>-2310.6667</td> <td>474.8425</td> <td>-4.8662</td> <td>0.0002</td> <td>-3317.2878</td> <td>-1304.0456</td>\n",
       "</tr>\n",
       "<tr>\n",
       "  <th>formula[T.7]</th> <td>-4084.0000</td> <td>474.8425</td> <td>-8.6007</td> <td>0.0000</td> <td>-5090.6211</td> <td>-3077.3789</td>\n",
       "</tr>\n",
       "<tr>\n",
       "  <th>formula[T.8]</th> <td>-3244.6667</td> <td>474.8425</td> <td>-6.8331</td> <td>0.0000</td> <td>-4251.2878</td> <td>-2238.0456</td>\n",
       "</tr>\n",
       "</table>\n",
       "<table class=\"simpletable\">\n",
       "<tr>\n",
       "     <td>Omnibus:</td>    <td>0.002</td>  <td>Durbin-Watson:</td>   <td>2.673</td>\n",
       "</tr>\n",
       "<tr>\n",
       "  <td>Prob(Omnibus):</td> <td>0.999</td> <td>Jarque-Bera (JB):</td> <td>0.135</td>\n",
       "</tr>\n",
       "<tr>\n",
       "       <td>Skew:</td>     <td>0.009</td>     <td>Prob(JB):</td>     <td>0.935</td>\n",
       "</tr>\n",
       "<tr>\n",
       "     <td>Kurtosis:</td>   <td>2.633</td>  <td>Condition No.:</td>     <td>9</td>  \n",
       "</tr>\n",
       "</table><br/>\n",
       "Notes:<br/>\n",
       "[1] Standard Errors assume that the covariance matrix of the errors is correctly specified."
      ],
      "text/latex": [
       "\\begin{table}\n",
       "\\caption{Results: Ordinary least squares}\n",
       "\\label{}\n",
       "\\begin{center}\n",
       "\\begin{tabular}{llll}\n",
       "\\hline\n",
       "Model:              & OLS              & Adj. R-squared:     & 0.853       \\\\\n",
       "Dependent Variable: & strength         & AIC:                & 379.9322    \\\\\n",
       "Date:               & 2024-02-06 14:47 & BIC:                & 389.3567    \\\\\n",
       "No. Observations:   & 24               & Log-Likelihood:     & -181.97     \\\\\n",
       "Df Model:           & 7                & F-statistic:        & 20.00       \\\\\n",
       "Df Residuals:       & 16               & Prob (F-statistic): & 8.55e-07    \\\\\n",
       "R-squared:          & 0.897            & Scale:              & 3.3821e+05  \\\\\n",
       "\\hline\n",
       "\\end{tabular}\n",
       "\\end{center}\n",
       "\n",
       "\\begin{center}\n",
       "\\begin{tabular}{lrrrrrr}\n",
       "\\hline\n",
       "             &      Coef. & Std.Err. &       t & P$> |$t$|$ &     [0.025 &     0.975]  \\\\\n",
       "\\hline\n",
       "Intercept    &  5635.3333 & 335.7643 & 16.7836 &      0.0000 &  4923.5447 &  6347.1219  \\\\\n",
       "formula[T.2] &   118.0000 & 474.8425 &  0.2485 &      0.8069 &  -888.6211 &  1124.6211  \\\\\n",
       "formula[T.3] & -1108.0000 & 474.8425 & -2.3334 &      0.0330 & -2114.6211 &  -101.3789  \\\\\n",
       "formula[T.4] & -2193.0000 & 474.8425 & -4.6184 &      0.0003 & -3199.6211 & -1186.3789  \\\\\n",
       "formula[T.5] & -2711.6667 & 474.8425 & -5.7107 &      0.0000 & -3718.2878 & -1705.0456  \\\\\n",
       "formula[T.6] & -2310.6667 & 474.8425 & -4.8662 &      0.0002 & -3317.2878 & -1304.0456  \\\\\n",
       "formula[T.7] & -4084.0000 & 474.8425 & -8.6007 &      0.0000 & -5090.6211 & -3077.3789  \\\\\n",
       "formula[T.8] & -3244.6667 & 474.8425 & -6.8331 &      0.0000 & -4251.2878 & -2238.0456  \\\\\n",
       "\\hline\n",
       "\\end{tabular}\n",
       "\\end{center}\n",
       "\n",
       "\\begin{center}\n",
       "\\begin{tabular}{llll}\n",
       "\\hline\n",
       "Omnibus:       & 0.002 & Durbin-Watson:    & 2.673  \\\\\n",
       "Prob(Omnibus): & 0.999 & Jarque-Bera (JB): & 0.135  \\\\\n",
       "Skew:          & 0.009 & Prob(JB):         & 0.935  \\\\\n",
       "Kurtosis:      & 2.633 & Condition No.:    & 9      \\\\\n",
       "\\hline\n",
       "\\end{tabular}\n",
       "\\end{center}\n",
       "\\end{table}\n",
       "\\bigskip\n",
       "Notes: \\newline \n",
       "[1] Standard Errors assume that the covariance matrix of the errors is correctly specified."
      ],
      "text/plain": [
       "<class 'statsmodels.iolib.summary2.Summary'>\n",
       "\"\"\"\n",
       "                   Results: Ordinary least squares\n",
       "=====================================================================\n",
       "Model:                OLS              Adj. R-squared:     0.853     \n",
       "Dependent Variable:   strength         AIC:                379.9322  \n",
       "Date:                 2024-02-06 14:47 BIC:                389.3567  \n",
       "No. Observations:     24               Log-Likelihood:     -181.97   \n",
       "Df Model:             7                F-statistic:        20.00     \n",
       "Df Residuals:         16               Prob (F-statistic): 8.55e-07  \n",
       "R-squared:            0.897            Scale:              3.3821e+05\n",
       "---------------------------------------------------------------------\n",
       "               Coef.    Std.Err.    t    P>|t|    [0.025     0.975]  \n",
       "---------------------------------------------------------------------\n",
       "Intercept     5635.3333 335.7643 16.7836 0.0000  4923.5447  6347.1219\n",
       "formula[T.2]   118.0000 474.8425  0.2485 0.8069  -888.6211  1124.6211\n",
       "formula[T.3] -1108.0000 474.8425 -2.3334 0.0330 -2114.6211  -101.3789\n",
       "formula[T.4] -2193.0000 474.8425 -4.6184 0.0003 -3199.6211 -1186.3789\n",
       "formula[T.5] -2711.6667 474.8425 -5.7107 0.0000 -3718.2878 -1705.0456\n",
       "formula[T.6] -2310.6667 474.8425 -4.8662 0.0002 -3317.2878 -1304.0456\n",
       "formula[T.7] -4084.0000 474.8425 -8.6007 0.0000 -5090.6211 -3077.3789\n",
       "formula[T.8] -3244.6667 474.8425 -6.8331 0.0000 -4251.2878 -2238.0456\n",
       "---------------------------------------------------------------------\n",
       "Omnibus:                0.002         Durbin-Watson:            2.673\n",
       "Prob(Omnibus):          0.999         Jarque-Bera (JB):         0.135\n",
       "Skew:                   0.009         Prob(JB):                 0.935\n",
       "Kurtosis:               2.633         Condition No.:            9    \n",
       "=====================================================================\n",
       "Notes:\n",
       "[1] Standard Errors assume that the covariance matrix of the errors\n",
       "is correctly specified.\n",
       "\"\"\""
      ]
     },
     "execution_count": 177,
     "metadata": {},
     "output_type": "execute_result"
    }
   ],
   "source": [
    "from statsmodels.formula.api import ols\n",
    "\n",
    "# Creating the linear model, produce the fit, and print out the summmary of the ANOVA model\n",
    "model=ols('strength~formula',data=df)\n",
    "results=model.fit()\n",
    "results.summary2()"
   ]
  },
  {
   "cell_type": "code",
   "execution_count": 178,
   "id": "cd8f7b0f-edad-451f-8e6e-16e5306588a5",
   "metadata": {
    "tags": []
   },
   "outputs": [
    {
     "data": {
      "text/html": [
       "<div>\n",
       "<style scoped>\n",
       "    .dataframe tbody tr th:only-of-type {\n",
       "        vertical-align: middle;\n",
       "    }\n",
       "\n",
       "    .dataframe tbody tr th {\n",
       "        vertical-align: top;\n",
       "    }\n",
       "\n",
       "    .dataframe thead th {\n",
       "        text-align: right;\n",
       "    }\n",
       "</style>\n",
       "<table border=\"1\" class=\"dataframe\">\n",
       "  <thead>\n",
       "    <tr style=\"text-align: right;\">\n",
       "      <th></th>\n",
       "      <th>df</th>\n",
       "      <th>sum_sq</th>\n",
       "      <th>mean_sq</th>\n",
       "      <th>F</th>\n",
       "      <th>PR(&gt;F)</th>\n",
       "    </tr>\n",
       "  </thead>\n",
       "  <tbody>\n",
       "    <tr>\n",
       "      <th>formula</th>\n",
       "      <td>7.0</td>\n",
       "      <td>4.736078e+07</td>\n",
       "      <td>6.765826e+06</td>\n",
       "      <td>20.004625</td>\n",
       "      <td>8.550775e-07</td>\n",
       "    </tr>\n",
       "    <tr>\n",
       "      <th>Residual</th>\n",
       "      <td>16.0</td>\n",
       "      <td>5.411409e+06</td>\n",
       "      <td>3.382131e+05</td>\n",
       "      <td>NaN</td>\n",
       "      <td>NaN</td>\n",
       "    </tr>\n",
       "  </tbody>\n",
       "</table>\n",
       "</div>"
      ],
      "text/plain": [
       "            df        sum_sq       mean_sq          F        PR(>F)\n",
       "formula    7.0  4.736078e+07  6.765826e+06  20.004625  8.550775e-07\n",
       "Residual  16.0  5.411409e+06  3.382131e+05        NaN           NaN"
      ]
     },
     "execution_count": 178,
     "metadata": {},
     "output_type": "execute_result"
    }
   ],
   "source": [
    "from statsmodels.stats.anova import anova_lm\n",
    "\n",
    "anova_results = anova_lm(results)\n",
    "anova_results"
   ]
  },
  {
   "cell_type": "code",
   "execution_count": 185,
   "id": "58150ace-469f-4c82-a03f-1bfaf99a3cb0",
   "metadata": {
    "tags": []
   },
   "outputs": [
    {
     "data": {
      "text/plain": [
       "338213.0833333333"
      ]
     },
     "execution_count": 185,
     "metadata": {},
     "output_type": "execute_result"
    }
   ],
   "source": [
<<<<<<< HEAD
    "# dir(results) :  See all of the attributes of an object by dir, such as the scale = MSE = variance\n",
=======
    "# dir(results) :  See all of the attributes of an object by dir, such as the scale = MSE\n",
>>>>>>> c3631d79f1a8ce2d30fbe4948ea5671eb07f859f
    "results.scale"
   ]
  },
  {
   "cell_type": "code",
<<<<<<< HEAD
   "execution_count": 206,
   "id": "e088ec06-dede-4ab7-ae1f-f0754b6242cf",
   "metadata": {
    "tags": []
   },
   "outputs": [
    {
     "data": {
      "text/plain": [
       "16"
      ]
     },
     "execution_count": 206,
     "metadata": {},
     "output_type": "execute_result"
    }
   ],
   "source": [
    "# degress of freedom\n",
    "24-8"
   ]
  },
  {
   "cell_type": "code",
   "execution_count": 207,
   "id": "0dc5e27c-dd38-4d46-84a0-51f25ffb585c",
   "metadata": {
    "tags": []
   },
   "outputs": [
    {
     "data": {
      "text/plain": [
       "338213.0625"
      ]
     },
     "execution_count": 207,
     "metadata": {},
     "output_type": "execute_result"
    }
   ],
   "source": [
    "# SSE/dof = MSE\n",
    "5411409/16"
   ]
  },
  {
   "cell_type": "code",
   "execution_count": 208,
=======
   "execution_count": 186,
>>>>>>> c3631d79f1a8ce2d30fbe4948ea5671eb07f859f
   "id": "f801492e-58cf-4ad1-97bf-2560bb819cc8",
   "metadata": {
    "tags": []
   },
   "outputs": [
    {
     "data": {
      "text/plain": [
       "581.5609025143741"
      ]
     },
<<<<<<< HEAD
     "execution_count": 208,
=======
     "execution_count": 186,
>>>>>>> c3631d79f1a8ce2d30fbe4948ea5671eb07f859f
     "metadata": {},
     "output_type": "execute_result"
    }
   ],
   "source": [
<<<<<<< HEAD
    "# scale is MSE, sqrt(MSE) is the pooled standard deviation (or standard error of the regression)\n",
=======
    "# scale is MSE, sqrt(MSE) is the pooled standard deviation\n",
>>>>>>> c3631d79f1a8ce2d30fbe4948ea5671eb07f859f
    "\n",
    "np.sqrt(results.scale)"
   ]
  },
  {
   "cell_type": "code",
<<<<<<< HEAD
   "execution_count": 209,
=======
   "execution_count": 187,
>>>>>>> c3631d79f1a8ce2d30fbe4948ea5671eb07f859f
   "id": "94a63239-72b2-4346-a37c-05fbc453d992",
   "metadata": {
    "tags": []
   },
   "outputs": [
    {
     "data": {
      "text/plain": [
       "335.7643436168356"
      ]
     },
<<<<<<< HEAD
     "execution_count": 209,
=======
     "execution_count": 187,
>>>>>>> c3631d79f1a8ce2d30fbe4948ea5671eb07f859f
     "metadata": {},
     "output_type": "execute_result"
    }
   ],
   "source": [
    "# the standard error of the mean is the pooled standard error (based on the pooled standard deviation)\n",
    "np.sqrt(results.scale)/np.sqrt(3)"
   ]
  },
  {
   "cell_type": "code",
   "execution_count": 188,
   "id": "0f54137f-eace-433b-b516-bca4fe1f25ce",
   "metadata": {},
   "outputs": [],
   "source": [
    "from statsmodels.stats.multicomp import pairwise_tukeyhsd"
   ]
  },
  {
   "cell_type": "code",
   "execution_count": 189,
   "id": "eb360901-e739-474a-ab4d-c056b32e1ce6",
   "metadata": {},
   "outputs": [
    {
     "name": "stdout",
     "output_type": "stream",
     "text": [
      "    Multiple Comparison of Means - Tukey HSD, FWER=0.05     \n",
      "============================================================\n",
      "group1 group2  meandiff  p-adj    lower      upper    reject\n",
      "------------------------------------------------------------\n",
      "     1      2      118.0    1.0 -1525.9763  1761.9763  False\n",
      "     1      3    -1108.0 0.3343 -2751.9763   535.9763  False\n",
      "     1      4    -2193.0 0.0054 -3836.9763  -549.0237   True\n",
      "     1      5 -2711.6667 0.0007 -4355.6429 -1067.6904   True\n",
      "     1      6 -2310.6667 0.0033 -3954.6429  -666.6904   True\n",
      "     1      7    -4084.0    0.0 -5727.9763 -2440.0237   True\n",
      "     1      8 -3244.6667 0.0001 -4888.6429 -1600.6904   True\n",
      "     2      3    -1226.0 0.2314 -2869.9763   417.9763  False\n",
      "     2      4    -2311.0 0.0033 -3954.9763  -667.0237   True\n",
      "     2      5 -2829.6667 0.0004 -4473.6429 -1185.6904   True\n",
      "     2      6 -2428.6667  0.002 -4072.6429  -784.6904   True\n",
      "     2      7    -4202.0    0.0 -5845.9763 -2558.0237   True\n",
      "     2      8 -3362.6667 0.0001 -5006.6429 -1718.6904   True\n",
      "     3      4    -1085.0 0.3574 -2728.9763   558.9763  False\n",
      "     3      5 -1603.6667 0.0586 -3247.6429    40.3096  False\n",
      "     3      6 -1202.6667 0.2496 -2846.6429   441.3096  False\n",
      "     3      7    -2976.0 0.0002 -4619.9763 -1332.0237   True\n",
      "     3      8 -2136.6667 0.0068 -3780.6429  -492.6904   True\n",
      "     4      5  -518.6667 0.9494 -2162.6429  1125.3096  False\n",
      "     4      6  -117.6667    1.0 -1761.6429  1526.3096  False\n",
      "     4      7    -1891.0 0.0185 -3534.9763  -247.0237   True\n",
      "     4      8 -1051.6667 0.3926 -2695.6429   592.3096  False\n",
      "     5      6      401.0 0.9872 -1242.9763  2044.9763  False\n",
      "     5      7 -1372.3333 0.1399 -3016.3096   271.6429  False\n",
      "     5      8     -533.0 0.9422 -2176.9763  1110.9763  False\n",
      "     6      7 -1773.3333 0.0298 -3417.3096  -129.3571   True\n",
      "     6      8     -934.0 0.5299 -2577.9763   709.9763  False\n",
      "     7      8   839.3333 0.6479  -804.6429  2483.3096  False\n",
      "------------------------------------------------------------\n"
     ]
    }
   ],
   "source": [
    "mult_comp=pairwise_tukeyhsd(endog=df['strength'], groups=df['formula'], alpha=0.05)\n",
    "print(mult_comp)"
   ]
  },
  {
   "cell_type": "code",
   "execution_count": 190,
   "id": "23c8fb43-16e2-4ddb-8f5e-14baad4b5446",
   "metadata": {},
   "outputs": [
    {
     "data": {
      "text/plain": [
       "array([[-1525.97625098,  1761.97625098],\n",
       "       [-2751.97625098,   535.97625098],\n",
       "       [-3836.97625098,  -549.02374902],\n",
       "       [-4355.64291765, -1067.69041569],\n",
       "       [-3954.64291765,  -666.69041569],\n",
       "       [-5727.97625098, -2440.02374902],\n",
       "       [-4888.64291765, -1600.69041569],\n",
       "       [-2869.97625098,   417.97625098],\n",
       "       [-3954.97625098,  -667.02374902],\n",
       "       [-4473.64291765, -1185.69041569],\n",
       "       [-4072.64291765,  -784.69041569],\n",
       "       [-5845.97625098, -2558.02374902],\n",
       "       [-5006.64291765, -1718.69041569],\n",
       "       [-2728.97625098,   558.97625098],\n",
       "       [-3247.64291765,    40.30958431],\n",
       "       [-2846.64291765,   441.30958431],\n",
       "       [-4619.97625098, -1332.02374902],\n",
       "       [-3780.64291765,  -492.69041569],\n",
       "       [-2162.64291765,  1125.30958431],\n",
       "       [-1761.64291765,  1526.30958431],\n",
       "       [-3534.97625098,  -247.02374902],\n",
       "       [-2695.64291765,   592.30958431],\n",
       "       [-1242.97625098,  2044.97625098],\n",
       "       [-3016.30958431,   271.64291765],\n",
       "       [-2176.97625098,  1110.97625098],\n",
       "       [-3417.30958431,  -129.35708235],\n",
       "       [-2577.97625098,   709.97625098],\n",
       "       [ -804.64291765,  2483.30958431]])"
      ]
     },
     "execution_count": 190,
     "metadata": {},
     "output_type": "execute_result"
    }
   ],
   "source": [
    "mult_comp.confint"
   ]
  },
  {
   "cell_type": "code",
   "execution_count": 191,
   "id": "bc9e9aa6-bd72-41ce-aa7d-0631e0ee3217",
   "metadata": {},
   "outputs": [
    {
     "name": "stdout",
     "output_type": "stream",
     "text": [
      "Figure(1000x600)\n"
     ]
    },
    {
     "data": {
      "image/png": "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",
      "text/plain": [
       "<Figure size 1000x600 with 1 Axes>"
      ]
     },
     "metadata": {},
     "output_type": "display_data"
    }
   ],
   "source": [
    "print(mult_comp.plot_simultaneous())"
   ]
  },
  {
   "cell_type": "code",
   "execution_count": null,
   "id": "d2fefe59-f406-4944-93d7-224a338a64f1",
   "metadata": {},
   "outputs": [],
   "source": []
  },
  {
   "cell_type": "code",
   "execution_count": null,
   "id": "cd9b33b4-e6cb-4f4b-9118-586cc4f95ebc",
   "metadata": {},
   "outputs": [],
   "source": []
  }
 ],
 "metadata": {
  "kernelspec": {
   "display_name": "Python 3 (ipykernel)",
   "language": "python",
   "name": "python3"
  },
  "language_info": {
   "codemirror_mode": {
    "name": "ipython",
    "version": 3
   },
   "file_extension": ".py",
   "mimetype": "text/x-python",
   "name": "python",
   "nbconvert_exporter": "python",
   "pygments_lexer": "ipython3",
   "version": "3.11.5"
  }
 },
 "nbformat": 4,
 "nbformat_minor": 5
}
