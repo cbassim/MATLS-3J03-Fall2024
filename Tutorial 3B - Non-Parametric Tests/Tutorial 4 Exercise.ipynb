{
 "cells": [
  {
   "cell_type": "markdown",
   "id": "f9bd0671-7805-43c1-815e-e2444b148fb7",
   "metadata": {},
   "source": [
    "# TUTORIAL 4 EXERCISE"
   ]
  },
  {
   "cell_type": "markdown",
   "id": "b9cf9126-e0cc-434f-9ba3-f216015809ea",
   "metadata": {},
   "source": [
    "# Non-Parametric Tests"
   ]
  },
  {
   "cell_type": "markdown",
   "id": "93865b02-78bc-4cbf-8b6f-ab710244637f",
   "metadata": {},
   "source": [
    "A group of researchers in the field of biomaterials and tissue engineering is investigating the potential of a bioactive hydrogel for promoting bone tissue regeneration. They want to evaluate if their bioactive hydrogel promotes faster bone healing compared to a commonly used synthetic scaffold material. To assess this, they conducted a study using 21 bone defect models in animal subjects, measuring the time taken in days for initial bone regeneration as the primary outcome. Eight of the bone defect models were treated with the bioactive hydrogel (Group 1), while the remaining 14 models were treated with the synthetic scaffold material (Group 2)."
   ]
  },
  {
   "cell_type": "markdown",
   "id": "7271a174-8b62-4ed7-96d2-e4ccf0267030",
   "metadata": {},
   "source": [
    "__Importing relevant libraries!__"
   ]
  },
  {
   "cell_type": "code",
   "execution_count": null,
   "id": "0f5cbc8a-9d19-474e-aeb2-33dc38d6d951",
   "metadata": {},
   "outputs": [],
   "source": [
    "import numpy as np\n",
    "import pandas as pd\n",
    "import matplotlib.pyplot as plt\n",
    "import scipy.stats\n",
    "from scipy import stats  \n",
    "from scipy.stats import norm\n",
    "import seaborn as sns\n",
    "import statsmodels.api as sm"
   ]
  },
  {
   "cell_type": "markdown",
   "id": "b9cd1734-814e-44c2-82e3-a5a972ceb025",
   "metadata": {},
   "source": [
    "## Part 1\n",
    "__What type of statistical test should we do here and why? Utilize Q-Q Plots and the Shapiro-wilk test to evaluate this.__"
   ]
  },
  {
   "cell_type": "code",
   "execution_count": null,
   "id": "04561d79-1d1e-49d7-8ddd-7813414d2477",
   "metadata": {},
   "outputs": [],
   "source": []
  },
  {
   "cell_type": "markdown",
   "id": "c0fd2712-a622-4b2b-8711-6067cf9862be",
   "metadata": {},
   "source": [
    "__Conduct the Shapiro-Wilk Test__"
   ]
  },
  {
   "cell_type": "code",
   "execution_count": null,
   "id": "57f8ea76-d4b5-4d8f-aa56-6b67c148891f",
   "metadata": {},
   "outputs": [],
   "source": []
  },
  {
   "cell_type": "markdown",
   "id": "d379c10e-9c41-441c-b30d-4e80a59166ac",
   "metadata": {},
   "source": [
    "__Generate Q-Q Plots__"
   ]
  },
  {
   "cell_type": "code",
   "execution_count": null,
   "id": "b10d3e89-868d-477b-b6e1-ac0581ca7997",
   "metadata": {},
   "outputs": [],
   "source": []
  },
  {
   "cell_type": "markdown",
   "id": "4993bb37-7db0-4f37-95fb-89c1c7b1f037",
   "metadata": {},
   "source": [
    "## Part 3\n",
    "__Run the appropriate test in Python.  What do you conclude?__"
   ]
  },
  {
   "cell_type": "code",
   "execution_count": null,
   "id": "846cf4ac-f88f-4c77-b79e-f61d82e09534",
   "metadata": {},
   "outputs": [],
   "source": []
  }
 ],
 "metadata": {
  "kernelspec": {
   "display_name": "Python 3 (ipykernel)",
   "language": "python",
   "name": "python3"
  },
  "language_info": {
   "codemirror_mode": {
    "name": "ipython",
    "version": 3
   },
   "file_extension": ".py",
   "mimetype": "text/x-python",
   "name": "python",
   "nbconvert_exporter": "python",
   "pygments_lexer": "ipython3",
   "version": "3.9.13"
  }
 },
 "nbformat": 4,
 "nbformat_minor": 5
}
