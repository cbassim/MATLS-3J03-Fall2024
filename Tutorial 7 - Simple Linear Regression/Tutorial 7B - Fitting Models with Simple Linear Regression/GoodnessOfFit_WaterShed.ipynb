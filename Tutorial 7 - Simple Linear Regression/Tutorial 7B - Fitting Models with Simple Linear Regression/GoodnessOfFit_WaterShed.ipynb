{
 "cells": [
  {
   "cell_type": "markdown",
   "id": "wicked-jesus",
   "metadata": {},
   "source": [
    "# Simple Linear Regression Ordinary Least Squares Methodologies with Python"
   ]
  },
  {
   "cell_type": "code",
   "execution_count": 1,
   "id": "increasing-health",
   "metadata": {},
   "outputs": [
    {
     "name": "stdin",
     "output_type": "stream",
     "text": [
      "Once deleted, variables cannot be recovered. Proceed (y/[n])?  y\n"
     ]
    }
   ],
   "source": [
    "%reset\n",
    "import pandas as pd\n",
    "import numpy as np"
   ]
  },
  {
   "cell_type": "code",
   "execution_count": 2,
   "id": "d63347e0-69d6-4554-a002-725a2762db33",
   "metadata": {},
   "outputs": [
    {
     "data": {
      "text/html": [
       "<div>\n",
       "<style scoped>\n",
       "    .dataframe tbody tr th:only-of-type {\n",
       "        vertical-align: middle;\n",
       "    }\n",
       "\n",
       "    .dataframe tbody tr th {\n",
       "        vertical-align: top;\n",
       "    }\n",
       "\n",
       "    .dataframe thead th {\n",
       "        text-align: right;\n",
       "    }\n",
       "</style>\n",
       "<table border=\"1\" class=\"dataframe\">\n",
       "  <thead>\n",
       "    <tr style=\"text-align: right;\">\n",
       "      <th></th>\n",
       "      <th>Salt_Conc</th>\n",
       "      <th>Roadway_Area</th>\n",
       "    </tr>\n",
       "  </thead>\n",
       "  <tbody>\n",
       "    <tr>\n",
       "      <th>0</th>\n",
       "      <td>3.8</td>\n",
       "      <td>0.19</td>\n",
       "    </tr>\n",
       "    <tr>\n",
       "      <th>1</th>\n",
       "      <td>5.9</td>\n",
       "      <td>0.15</td>\n",
       "    </tr>\n",
       "    <tr>\n",
       "      <th>2</th>\n",
       "      <td>14.1</td>\n",
       "      <td>0.57</td>\n",
       "    </tr>\n",
       "    <tr>\n",
       "      <th>3</th>\n",
       "      <td>10.4</td>\n",
       "      <td>0.40</td>\n",
       "    </tr>\n",
       "    <tr>\n",
       "      <th>4</th>\n",
       "      <td>14.6</td>\n",
       "      <td>0.70</td>\n",
       "    </tr>\n",
       "    <tr>\n",
       "      <th>5</th>\n",
       "      <td>14.5</td>\n",
       "      <td>0.67</td>\n",
       "    </tr>\n",
       "    <tr>\n",
       "      <th>6</th>\n",
       "      <td>15.1</td>\n",
       "      <td>0.63</td>\n",
       "    </tr>\n",
       "    <tr>\n",
       "      <th>7</th>\n",
       "      <td>11.9</td>\n",
       "      <td>0.47</td>\n",
       "    </tr>\n",
       "    <tr>\n",
       "      <th>8</th>\n",
       "      <td>15.5</td>\n",
       "      <td>0.75</td>\n",
       "    </tr>\n",
       "    <tr>\n",
       "      <th>9</th>\n",
       "      <td>9.3</td>\n",
       "      <td>0.60</td>\n",
       "    </tr>\n",
       "    <tr>\n",
       "      <th>10</th>\n",
       "      <td>15.6</td>\n",
       "      <td>0.78</td>\n",
       "    </tr>\n",
       "    <tr>\n",
       "      <th>11</th>\n",
       "      <td>20.8</td>\n",
       "      <td>0.81</td>\n",
       "    </tr>\n",
       "    <tr>\n",
       "      <th>12</th>\n",
       "      <td>14.6</td>\n",
       "      <td>0.78</td>\n",
       "    </tr>\n",
       "    <tr>\n",
       "      <th>13</th>\n",
       "      <td>16.6</td>\n",
       "      <td>0.69</td>\n",
       "    </tr>\n",
       "    <tr>\n",
       "      <th>14</th>\n",
       "      <td>25.6</td>\n",
       "      <td>1.30</td>\n",
       "    </tr>\n",
       "    <tr>\n",
       "      <th>15</th>\n",
       "      <td>20.9</td>\n",
       "      <td>1.05</td>\n",
       "    </tr>\n",
       "    <tr>\n",
       "      <th>16</th>\n",
       "      <td>29.9</td>\n",
       "      <td>1.52</td>\n",
       "    </tr>\n",
       "    <tr>\n",
       "      <th>17</th>\n",
       "      <td>19.6</td>\n",
       "      <td>1.06</td>\n",
       "    </tr>\n",
       "    <tr>\n",
       "      <th>18</th>\n",
       "      <td>31.3</td>\n",
       "      <td>1.74</td>\n",
       "    </tr>\n",
       "    <tr>\n",
       "      <th>19</th>\n",
       "      <td>32.7</td>\n",
       "      <td>1.62</td>\n",
       "    </tr>\n",
       "  </tbody>\n",
       "</table>\n",
       "</div>"
      ],
      "text/plain": [
       "    Salt_Conc  Roadway_Area\n",
       "0         3.8          0.19\n",
       "1         5.9          0.15\n",
       "2        14.1          0.57\n",
       "3        10.4          0.40\n",
       "4        14.6          0.70\n",
       "5        14.5          0.67\n",
       "6        15.1          0.63\n",
       "7        11.9          0.47\n",
       "8        15.5          0.75\n",
       "9         9.3          0.60\n",
       "10       15.6          0.78\n",
       "11       20.8          0.81\n",
       "12       14.6          0.78\n",
       "13       16.6          0.69\n",
       "14       25.6          1.30\n",
       "15       20.9          1.05\n",
       "16       29.9          1.52\n",
       "17       19.6          1.06\n",
       "18       31.3          1.74\n",
       "19       32.7          1.62"
      ]
     },
     "execution_count": 2,
     "metadata": {},
     "output_type": "execute_result"
    }
   ],
   "source": [
    "Salt=pd.read_csv('WatershedSalt.csv')\n",
    "Salt"
   ]
  },
  {
   "cell_type": "code",
   "execution_count": 3,
   "id": "b96a5d1f-9611-4b5f-a0b3-2312fa0c75f9",
   "metadata": {},
   "outputs": [
    {
     "data": {
      "text/plain": [
       "Text(0.2, 30, 'r=0.98,   p-value=<0.0001')"
      ]
     },
     "execution_count": 3,
     "metadata": {},
     "output_type": "execute_result"
    },
    {
     "data": {
      "image/png": "[encoded data removed]",
      "text/plain": [
       "<Figure size 640x480 with 1 Axes>"
      ]
     },
     "metadata": {},
     "output_type": "display_data"
    }
   ],
   "source": [
    "import seaborn as sns\n",
    "import matplotlib.pyplot as plt\n",
    "\n",
    "plotSalt=sns.regplot(x='Roadway_Area',y='Salt_Conc',data=Salt,ci=None)\n",
    "plotSalt.annotate(text='r=0.98,   p-value=<0.0001',xy=(.2,30),xycoords='data')"
   ]
  },
  {
   "cell_type": "code",
   "execution_count": 4,
   "id": "581c7ce4-6a6c-4eb6-9d51-c28f56d01f89",
   "metadata": {},
   "outputs": [
    {
     "data": {
      "text/plain": [
       "PearsonRResult(statistic=0.9754033996529128, pvalue=2.8626350342215104e-13)"
      ]
     },
     "execution_count": 4,
     "metadata": {},
     "output_type": "execute_result"
    }
   ],
   "source": [
    "from scipy import stats\n",
    "stats.pearsonr(x=Salt[\"Salt_Conc\"],y=Salt[\"Roadway_Area\"])"
   ]
  },
  {
   "cell_type": "code",
   "execution_count": 5,
   "id": "12969f06-aec9-4862-be79-75da8510e2d7",
   "metadata": {},
   "outputs": [
    {
     "data": {
      "text/html": [
       "<div>\n",
       "<style scoped>\n",
       "    .dataframe tbody tr th:only-of-type {\n",
       "        vertical-align: middle;\n",
       "    }\n",
       "\n",
       "    .dataframe tbody tr th {\n",
       "        vertical-align: top;\n",
       "    }\n",
       "\n",
       "    .dataframe thead th {\n",
       "        text-align: right;\n",
       "    }\n",
       "</style>\n",
       "<table border=\"1\" class=\"dataframe\">\n",
       "  <thead>\n",
       "    <tr style=\"text-align: right;\">\n",
       "      <th></th>\n",
       "      <th>Salt_Conc</th>\n",
       "      <th>Roadway_Area</th>\n",
       "    </tr>\n",
       "  </thead>\n",
       "  <tbody>\n",
       "    <tr>\n",
       "      <th>Salt_Conc</th>\n",
       "      <td>62.519237</td>\n",
       "      <td>3.389905</td>\n",
       "    </tr>\n",
       "    <tr>\n",
       "      <th>Roadway_Area</th>\n",
       "      <td>3.389905</td>\n",
       "      <td>0.193194</td>\n",
       "    </tr>\n",
       "  </tbody>\n",
       "</table>\n",
       "</div>"
      ],
      "text/plain": [
       "              Salt_Conc  Roadway_Area\n",
       "Salt_Conc     62.519237      3.389905\n",
       "Roadway_Area   3.389905      0.193194"
      ]
     },
     "execution_count": 5,
     "metadata": {},
     "output_type": "execute_result"
    }
   ],
   "source": [
    "Salt.cov()"
   ]
  },
  {
   "cell_type": "code",
   "execution_count": 6,
   "id": "aa594574-a4c2-400a-bead-f7a4bc7afb7a",
   "metadata": {},
   "outputs": [
    {
     "data": {
      "text/html": [
       "<div>\n",
       "<style scoped>\n",
       "    .dataframe tbody tr th:only-of-type {\n",
       "        vertical-align: middle;\n",
       "    }\n",
       "\n",
       "    .dataframe tbody tr th {\n",
       "        vertical-align: top;\n",
       "    }\n",
       "\n",
       "    .dataframe thead th {\n",
       "        text-align: right;\n",
       "    }\n",
       "</style>\n",
       "<table border=\"1\" class=\"dataframe\">\n",
       "  <thead>\n",
       "    <tr style=\"text-align: right;\">\n",
       "      <th></th>\n",
       "      <th>Salt_Conc</th>\n",
       "      <th>Roadway_Area</th>\n",
       "    </tr>\n",
       "  </thead>\n",
       "  <tbody>\n",
       "    <tr>\n",
       "      <th>Salt_Conc</th>\n",
       "      <td>1.000000</td>\n",
       "      <td>0.975403</td>\n",
       "    </tr>\n",
       "    <tr>\n",
       "      <th>Roadway_Area</th>\n",
       "      <td>0.975403</td>\n",
       "      <td>1.000000</td>\n",
       "    </tr>\n",
       "  </tbody>\n",
       "</table>\n",
       "</div>"
      ],
      "text/plain": [
       "              Salt_Conc  Roadway_Area\n",
       "Salt_Conc      1.000000      0.975403\n",
       "Roadway_Area   0.975403      1.000000"
      ]
     },
     "execution_count": 6,
     "metadata": {},
     "output_type": "execute_result"
    }
   ],
   "source": [
    "Salt.corr()"
   ]
  },
  {
   "cell_type": "code",
   "execution_count": 7,
   "id": "8cc96836-a83b-487d-b79f-2dfe0c667511",
   "metadata": {},
   "outputs": [
    {
     "data": {
      "text/plain": [
       "0.8240000000000001"
      ]
     },
     "execution_count": 7,
     "metadata": {},
     "output_type": "execute_result"
    }
   ],
   "source": [
    "meanSalt_Conc=(Salt[\"Salt_Conc\"]).mean()\n",
    "meanRoad_Area=(Salt[\"Roadway_Area\"]).mean()\n",
    "meanRoad_Area"
   ]
  },
  {
   "cell_type": "markdown",
   "id": "f764dfc1-8d80-404a-b56d-1ccf85b05ad3",
   "metadata": {},
   "source": [
    "The sum of the sqaures of x (the sum of the squared deviations from the mean of the data vector x) divided by the vectors dof is equal to the variance of x.  This is on the diagonal of covariance matrix as the variance."
   ]
  },
  {
   "cell_type": "code",
   "execution_count": 8,
   "id": "342e466c-2ec6-464c-8c67-0894fcdfcbe2",
   "metadata": {},
   "outputs": [],
   "source": [
    "SSx_Road=sum( ( (Salt[\"Roadway_Area\"]-meanRoad_Area) **2) )"
   ]
  },
  {
   "cell_type": "code",
   "execution_count": 9,
   "id": "7dbc1dd8-7b36-40ce-b909-325b863d73f2",
   "metadata": {},
   "outputs": [
    {
     "data": {
      "text/plain": [
       "3.6706800000000004"
      ]
     },
     "execution_count": 9,
     "metadata": {},
     "output_type": "execute_result"
    }
   ],
   "source": [
    "SSx_Road"
   ]
  },
  {
   "cell_type": "code",
   "execution_count": 10,
   "id": "ff9cb9ed-4ced-41ba-8e29-11ff8a2af187",
   "metadata": {},
   "outputs": [
    {
     "data": {
      "text/plain": [
       "0.19319368421052632"
      ]
     },
     "execution_count": 10,
     "metadata": {},
     "output_type": "execute_result"
    }
   ],
   "source": [
    "SSx_Road/(19)"
   ]
  },
  {
   "cell_type": "markdown",
   "id": "979e3f1e-fc15-456e-bab7-e511e471d6f0",
   "metadata": {},
   "source": [
    "The sum of the cross-products of x and y divided by the dof is equal to the covariance of xy.  This is on the off diagonal of the covariance matrix."
   ]
  },
  {
   "cell_type": "code",
   "execution_count": 16,
   "id": "4be30291-810a-431f-98b0-b7dbce4dff67",
   "metadata": {},
   "outputs": [
    {
     "data": {
      "text/plain": [
       "64.40820000000002"
      ]
     },
     "execution_count": 16,
     "metadata": {},
     "output_type": "execute_result"
    }
   ],
   "source": [
    "SumCrossProducts=(sum ((Salt[\"Roadway_Area\"]-meanRoad_Area) * (Salt[\"Salt_Conc\"]-meanSalt_Conc)))\n",
    "SumCrossProducts"
   ]
  },
  {
   "cell_type": "code",
   "execution_count": 17,
   "id": "b72a2c70-2c4b-4d44-a03c-ad58f7733137",
   "metadata": {},
   "outputs": [
    {
     "data": {
      "text/plain": [
       "3.389905263157896"
      ]
     },
     "execution_count": 17,
     "metadata": {},
     "output_type": "execute_result"
    }
   ],
   "source": [
    "SumCrossProducts/(19)"
   ]
  },
  {
   "cell_type": "markdown",
   "id": "879da62b-3596-4013-84d8-375fe5a436ae",
   "metadata": {},
   "source": [
    "The covariance divided by the variance for simple linear regression is the beta coefficient for x."
   ]
  },
  {
   "cell_type": "code",
   "execution_count": 18,
   "id": "7caf015b-84f8-4757-bdce-f5488defb184",
   "metadata": {},
   "outputs": [
    {
     "data": {
      "text/plain": [
       "17.54666710255321"
      ]
     },
     "execution_count": 18,
     "metadata": {},
     "output_type": "execute_result"
    }
   ],
   "source": [
    "3.389905263157896/0.19319368421052632"
   ]
  },
  {
   "cell_type": "markdown",
   "id": "d5706b8d-5f51-4112-9e32-959b1f7551a9",
   "metadata": {},
   "source": [
    "Correlation is the standardized covariance of xy."
   ]
  },
  {
   "cell_type": "code",
   "execution_count": 19,
   "id": "a0d87d6f-678f-470b-9193-db927060d509",
   "metadata": {},
   "outputs": [
    {
     "data": {
      "text/plain": [
       "0.9754033996529132"
      ]
     },
     "execution_count": 19,
     "metadata": {},
     "output_type": "execute_result"
    }
   ],
   "source": [
    "(SumCrossProducts/(19))/((np.std(Salt[\"Roadway_Area\"],ddof=1))*(np.std(Salt[\"Salt_Conc\"],ddof=1)))"
   ]
  },
  {
   "cell_type": "markdown",
   "id": "60da7a48-b6cb-4994-8f97-c6bbd739a49f",
   "metadata": {},
   "source": [
    "# Matrix Math Formulation"
   ]
  },
  {
   "cell_type": "code",
   "execution_count": 20,
   "id": "5a617b46-32b4-41f5-a716-be4c76e9553d",
   "metadata": {},
   "outputs": [],
   "source": [
    "# Can either mean center the values or use the raw values\n",
    "X = (Salt[\"Roadway_Area\"]-meanRoad_Area)\n",
    "#X = (Salt[\"Roadway_Area\"])\n",
    "#Y = (Salt[\"Salt_Conc\"])\n",
    "Y = (Salt[\"Salt_Conc\"]-meanSalt_Conc)"
   ]
  },
  {
   "cell_type": "code",
   "execution_count": 21,
   "id": "25abf92d-0880-4eb5-b7f5-6a0627cc330f",
   "metadata": {},
   "outputs": [
    {
     "data": {
      "text/plain": [
       "array([-0.634, -0.674, -0.254, -0.424, -0.124, -0.154, -0.194, -0.354,\n",
       "       -0.074, -0.224, -0.044, -0.014, -0.044, -0.134,  0.476,  0.226,\n",
       "        0.696,  0.236,  0.916,  0.796])"
      ]
     },
     "execution_count": 21,
     "metadata": {},
     "output_type": "execute_result"
    }
   ],
   "source": [
    "X=np.asarray(X)\n",
    "X"
   ]
  },
  {
   "cell_type": "code",
   "execution_count": 22,
   "id": "f6183efb-d4ee-4bb6-a9fe-c6dc8c965475",
   "metadata": {},
   "outputs": [
    {
     "data": {
      "text/plain": [
       "-2.220446049250313e-16"
      ]
     },
     "execution_count": 22,
     "metadata": {},
     "output_type": "execute_result"
    }
   ],
   "source": [
    "sum(X)"
   ]
  },
  {
   "cell_type": "code",
   "execution_count": 23,
   "id": "366c96e4-ba49-4734-97fe-0c5c46d14cb0",
   "metadata": {},
   "outputs": [],
   "source": [
    "Y=np.asarray(Y)"
   ]
  },
  {
   "cell_type": "code",
   "execution_count": 24,
   "id": "355c4396-d30e-44f2-b0c1-d73af41daac1",
   "metadata": {},
   "outputs": [
    {
     "data": {
      "text/plain": [
       "(20,)"
      ]
     },
     "execution_count": 24,
     "metadata": {},
     "output_type": "execute_result"
    }
   ],
   "source": [
    "X.shape"
   ]
  },
  {
   "cell_type": "code",
   "execution_count": 25,
   "id": "58384384-967f-4b89-873e-54734008c5ac",
   "metadata": {},
   "outputs": [
    {
     "data": {
      "text/plain": [
       "array([[1.],\n",
       "       [1.],\n",
       "       [1.],\n",
       "       [1.],\n",
       "       [1.],\n",
       "       [1.],\n",
       "       [1.],\n",
       "       [1.],\n",
       "       [1.],\n",
       "       [1.],\n",
       "       [1.],\n",
       "       [1.],\n",
       "       [1.],\n",
       "       [1.],\n",
       "       [1.],\n",
       "       [1.],\n",
       "       [1.],\n",
       "       [1.],\n",
       "       [1.],\n",
       "       [1.]])"
      ]
     },
     "execution_count": 25,
     "metadata": {},
     "output_type": "execute_result"
    }
   ],
   "source": [
    "X_bias=np.ones((20,1)) # m is the number of records in the dataset\n",
    "X_bias"
   ]
  },
  {
   "cell_type": "code",
   "execution_count": 26,
   "id": "ab6b3e96-92d3-45dd-81f4-4dfcd83fe464",
   "metadata": {},
   "outputs": [],
   "source": [
    "X=np.reshape(X,(20,1))\n",
    "Y=np.reshape(Y,(20,1))"
   ]
  },
  {
   "cell_type": "code",
   "execution_count": 27,
   "id": "294d9ff8-ce8c-49d3-9d01-cf2c0f9d427e",
   "metadata": {},
   "outputs": [
    {
     "data": {
      "text/plain": [
       "array([[-0.634],\n",
       "       [-0.674],\n",
       "       [-0.254],\n",
       "       [-0.424],\n",
       "       [-0.124],\n",
       "       [-0.154],\n",
       "       [-0.194],\n",
       "       [-0.354],\n",
       "       [-0.074],\n",
       "       [-0.224],\n",
       "       [-0.044],\n",
       "       [-0.014],\n",
       "       [-0.044],\n",
       "       [-0.134],\n",
       "       [ 0.476],\n",
       "       [ 0.226],\n",
       "       [ 0.696],\n",
       "       [ 0.236],\n",
       "       [ 0.916],\n",
       "       [ 0.796]])"
      ]
     },
     "execution_count": 27,
     "metadata": {},
     "output_type": "execute_result"
    }
   ],
   "source": [
    "X"
   ]
  },
  {
   "cell_type": "code",
   "execution_count": 28,
   "id": "837dc0ac-a1be-436f-895b-1565ae4e2698",
   "metadata": {},
   "outputs": [
    {
     "data": {
      "text/plain": [
       "array([[-13.335],\n",
       "       [-11.235],\n",
       "       [ -3.035],\n",
       "       [ -6.735],\n",
       "       [ -2.535],\n",
       "       [ -2.635],\n",
       "       [ -2.035],\n",
       "       [ -5.235],\n",
       "       [ -1.635],\n",
       "       [ -7.835],\n",
       "       [ -1.535],\n",
       "       [  3.665],\n",
       "       [ -2.535],\n",
       "       [ -0.535],\n",
       "       [  8.465],\n",
       "       [  3.765],\n",
       "       [ 12.765],\n",
       "       [  2.465],\n",
       "       [ 14.165],\n",
       "       [ 15.565]])"
      ]
     },
     "execution_count": 28,
     "metadata": {},
     "output_type": "execute_result"
    }
   ],
   "source": [
    "Y"
   ]
  },
  {
   "cell_type": "code",
   "execution_count": 29,
   "id": "9a55acb8-99f5-4543-ad0e-2805d23a2940",
   "metadata": {},
   "outputs": [
    {
     "data": {
      "text/plain": [
       "array([[ 1.   , -0.634],\n",
       "       [ 1.   , -0.674],\n",
       "       [ 1.   , -0.254],\n",
       "       [ 1.   , -0.424],\n",
       "       [ 1.   , -0.124],\n",
       "       [ 1.   , -0.154],\n",
       "       [ 1.   , -0.194],\n",
       "       [ 1.   , -0.354],\n",
       "       [ 1.   , -0.074],\n",
       "       [ 1.   , -0.224],\n",
       "       [ 1.   , -0.044],\n",
       "       [ 1.   , -0.014],\n",
       "       [ 1.   , -0.044],\n",
       "       [ 1.   , -0.134],\n",
       "       [ 1.   ,  0.476],\n",
       "       [ 1.   ,  0.226],\n",
       "       [ 1.   ,  0.696],\n",
       "       [ 1.   ,  0.236],\n",
       "       [ 1.   ,  0.916],\n",
       "       [ 1.   ,  0.796]])"
      ]
     },
     "execution_count": 29,
     "metadata": {},
     "output_type": "execute_result"
    }
   ],
   "source": [
    "newX=np.append(X_bias,X,axis=1)\n",
    "newX"
   ]
  },
  {
   "cell_type": "code",
   "execution_count": 30,
   "id": "fb93f065-d1bb-4e0b-b2f7-05405fe7b2c4",
   "metadata": {},
   "outputs": [
    {
     "data": {
      "text/plain": [
       "(20, 2)"
      ]
     },
     "execution_count": 30,
     "metadata": {},
     "output_type": "execute_result"
    }
   ],
   "source": [
    "newX.shape"
   ]
  },
  {
   "cell_type": "code",
   "execution_count": 31,
   "id": "93bcbf7d-3088-4c30-918c-8bd6745acd6b",
   "metadata": {},
   "outputs": [
    {
     "data": {
      "text/plain": [
       "array([[ 1.   ,  1.   ,  1.   ,  1.   ,  1.   ,  1.   ,  1.   ,  1.   ,\n",
       "         1.   ,  1.   ,  1.   ,  1.   ,  1.   ,  1.   ,  1.   ,  1.   ,\n",
       "         1.   ,  1.   ,  1.   ,  1.   ],\n",
       "       [-0.634, -0.674, -0.254, -0.424, -0.124, -0.154, -0.194, -0.354,\n",
       "        -0.074, -0.224, -0.044, -0.014, -0.044, -0.134,  0.476,  0.226,\n",
       "         0.696,  0.236,  0.916,  0.796]])"
      ]
     },
     "execution_count": 31,
     "metadata": {},
     "output_type": "execute_result"
    }
   ],
   "source": [
    "Salt_transpose=np.transpose(newX)\n",
    "Salt_transpose"
   ]
  },
  {
   "cell_type": "code",
   "execution_count": 32,
   "id": "3ab5b36c-ad0f-4fdd-80ea-0781d51e17df",
   "metadata": {},
   "outputs": [
    {
     "data": {
      "text/plain": [
       "(2, 20)"
      ]
     },
     "execution_count": 32,
     "metadata": {},
     "output_type": "execute_result"
    }
   ],
   "source": [
    "Salt_transpose.shape"
   ]
  },
  {
   "cell_type": "code",
   "execution_count": 33,
   "id": "828a7f0d-a5f7-425e-962e-bb5e666c0c30",
   "metadata": {},
   "outputs": [
    {
     "data": {
      "text/plain": [
       "array([[ 2.00000000e+01, -2.22044605e-16],\n",
       "       [-2.22044605e-16,  3.67068000e+00]])"
      ]
     },
     "execution_count": 33,
     "metadata": {},
     "output_type": "execute_result"
    }
   ],
   "source": [
    "XtX=((Salt_transpose.dot(newX)))\n",
    "XtX"
   ]
  },
  {
   "cell_type": "code",
   "execution_count": 34,
   "id": "71e7f3d3-7ccb-465e-bd1b-cdc0249aa5a6",
   "metadata": {},
   "outputs": [
    {
     "data": {
      "text/plain": [
       "array([[5.00000000e-02, 3.02457045e-18],\n",
       "       [3.02457045e-18, 2.72429087e-01]])"
      ]
     },
     "execution_count": 34,
     "metadata": {},
     "output_type": "execute_result"
    }
   ],
   "source": [
    "XtX_Inverse=np.linalg.inv(XtX)\n",
    "XtX_Inverse"
   ]
  },
  {
   "cell_type": "code",
   "execution_count": 35,
   "id": "444df004-8b45-4ba3-bace-003d570c8b48",
   "metadata": {},
   "outputs": [
    {
     "data": {
      "text/plain": [
       "array([[6.03961325e-14],\n",
       "       [6.44082000e+01]])"
      ]
     },
     "execution_count": 35,
     "metadata": {},
     "output_type": "execute_result"
    }
   ],
   "source": [
    "XtY=((Salt_transpose.dot(Y)))\n",
    "XtY"
   ]
  },
  {
   "cell_type": "code",
   "execution_count": 36,
   "id": "b1d793d5-ff8a-454b-8454-d8f9e8e1b3ee",
   "metadata": {},
   "outputs": [
    {
     "data": {
      "text/plain": [
       "array([[3.21461377e-15],\n",
       "       [1.75466671e+01]])"
      ]
     },
     "execution_count": 36,
     "metadata": {},
     "output_type": "execute_result"
    }
   ],
   "source": [
    "XtX_Inverse.dot(XtY)"
   ]
  },
  {
   "cell_type": "code",
   "execution_count": null,
   "id": "91c1cc58-9258-4a36-aea5-48cbc9a16909",
   "metadata": {},
   "outputs": [],
   "source": []
  },
  {
   "cell_type": "code",
   "execution_count": 37,
   "id": "f07f1bd6-99ac-4b15-a2b7-e22179a2877b",
   "metadata": {},
   "outputs": [
    {
     "data": {
      "text/html": [
       "<div>\n",
       "<style scoped>\n",
       "    .dataframe tbody tr th:only-of-type {\n",
       "        vertical-align: middle;\n",
       "    }\n",
       "\n",
       "    .dataframe tbody tr th {\n",
       "        vertical-align: top;\n",
       "    }\n",
       "\n",
       "    .dataframe thead th {\n",
       "        text-align: right;\n",
       "    }\n",
       "</style>\n",
       "<table border=\"1\" class=\"dataframe\">\n",
       "  <thead>\n",
       "    <tr style=\"text-align: right;\">\n",
       "      <th></th>\n",
       "      <th>X1</th>\n",
       "      <th>X</th>\n",
       "      <th>Y</th>\n",
       "    </tr>\n",
       "  </thead>\n",
       "  <tbody>\n",
       "    <tr>\n",
       "      <th>0</th>\n",
       "      <td>1.0</td>\n",
       "      <td>-0.634</td>\n",
       "      <td>-13.335</td>\n",
       "    </tr>\n",
       "    <tr>\n",
       "      <th>1</th>\n",
       "      <td>1.0</td>\n",
       "      <td>-0.674</td>\n",
       "      <td>-11.235</td>\n",
       "    </tr>\n",
       "    <tr>\n",
       "      <th>2</th>\n",
       "      <td>1.0</td>\n",
       "      <td>-0.254</td>\n",
       "      <td>-3.035</td>\n",
       "    </tr>\n",
       "    <tr>\n",
       "      <th>3</th>\n",
       "      <td>1.0</td>\n",
       "      <td>-0.424</td>\n",
       "      <td>-6.735</td>\n",
       "    </tr>\n",
       "    <tr>\n",
       "      <th>4</th>\n",
       "      <td>1.0</td>\n",
       "      <td>-0.124</td>\n",
       "      <td>-2.535</td>\n",
       "    </tr>\n",
       "    <tr>\n",
       "      <th>5</th>\n",
       "      <td>1.0</td>\n",
       "      <td>-0.154</td>\n",
       "      <td>-2.635</td>\n",
       "    </tr>\n",
       "    <tr>\n",
       "      <th>6</th>\n",
       "      <td>1.0</td>\n",
       "      <td>-0.194</td>\n",
       "      <td>-2.035</td>\n",
       "    </tr>\n",
       "    <tr>\n",
       "      <th>7</th>\n",
       "      <td>1.0</td>\n",
       "      <td>-0.354</td>\n",
       "      <td>-5.235</td>\n",
       "    </tr>\n",
       "    <tr>\n",
       "      <th>8</th>\n",
       "      <td>1.0</td>\n",
       "      <td>-0.074</td>\n",
       "      <td>-1.635</td>\n",
       "    </tr>\n",
       "    <tr>\n",
       "      <th>9</th>\n",
       "      <td>1.0</td>\n",
       "      <td>-0.224</td>\n",
       "      <td>-7.835</td>\n",
       "    </tr>\n",
       "    <tr>\n",
       "      <th>10</th>\n",
       "      <td>1.0</td>\n",
       "      <td>-0.044</td>\n",
       "      <td>-1.535</td>\n",
       "    </tr>\n",
       "    <tr>\n",
       "      <th>11</th>\n",
       "      <td>1.0</td>\n",
       "      <td>-0.014</td>\n",
       "      <td>3.665</td>\n",
       "    </tr>\n",
       "    <tr>\n",
       "      <th>12</th>\n",
       "      <td>1.0</td>\n",
       "      <td>-0.044</td>\n",
       "      <td>-2.535</td>\n",
       "    </tr>\n",
       "    <tr>\n",
       "      <th>13</th>\n",
       "      <td>1.0</td>\n",
       "      <td>-0.134</td>\n",
       "      <td>-0.535</td>\n",
       "    </tr>\n",
       "    <tr>\n",
       "      <th>14</th>\n",
       "      <td>1.0</td>\n",
       "      <td>0.476</td>\n",
       "      <td>8.465</td>\n",
       "    </tr>\n",
       "    <tr>\n",
       "      <th>15</th>\n",
       "      <td>1.0</td>\n",
       "      <td>0.226</td>\n",
       "      <td>3.765</td>\n",
       "    </tr>\n",
       "    <tr>\n",
       "      <th>16</th>\n",
       "      <td>1.0</td>\n",
       "      <td>0.696</td>\n",
       "      <td>12.765</td>\n",
       "    </tr>\n",
       "    <tr>\n",
       "      <th>17</th>\n",
       "      <td>1.0</td>\n",
       "      <td>0.236</td>\n",
       "      <td>2.465</td>\n",
       "    </tr>\n",
       "    <tr>\n",
       "      <th>18</th>\n",
       "      <td>1.0</td>\n",
       "      <td>0.916</td>\n",
       "      <td>14.165</td>\n",
       "    </tr>\n",
       "    <tr>\n",
       "      <th>19</th>\n",
       "      <td>1.0</td>\n",
       "      <td>0.796</td>\n",
       "      <td>15.565</td>\n",
       "    </tr>\n",
       "  </tbody>\n",
       "</table>\n",
       "</div>"
      ],
      "text/plain": [
       "     X1      X       Y\n",
       "0   1.0 -0.634 -13.335\n",
       "1   1.0 -0.674 -11.235\n",
       "2   1.0 -0.254  -3.035\n",
       "3   1.0 -0.424  -6.735\n",
       "4   1.0 -0.124  -2.535\n",
       "5   1.0 -0.154  -2.635\n",
       "6   1.0 -0.194  -2.035\n",
       "7   1.0 -0.354  -5.235\n",
       "8   1.0 -0.074  -1.635\n",
       "9   1.0 -0.224  -7.835\n",
       "10  1.0 -0.044  -1.535\n",
       "11  1.0 -0.014   3.665\n",
       "12  1.0 -0.044  -2.535\n",
       "13  1.0 -0.134  -0.535\n",
       "14  1.0  0.476   8.465\n",
       "15  1.0  0.226   3.765\n",
       "16  1.0  0.696  12.765\n",
       "17  1.0  0.236   2.465\n",
       "18  1.0  0.916  14.165\n",
       "19  1.0  0.796  15.565"
      ]
     },
     "execution_count": 37,
     "metadata": {},
     "output_type": "execute_result"
    }
   ],
   "source": [
    "CenteredDF=np.append(newX,Y,axis=1)\n",
    "CenteredDF=pd.DataFrame(CenteredDF,columns=[\"X1\",\"X\",\"Y\"])\n",
    "CenteredDF"
   ]
  },
  {
   "cell_type": "code",
   "execution_count": 38,
   "id": "eb73aa7a-b4ae-4151-822f-ab6c037a1369",
   "metadata": {},
   "outputs": [
    {
     "name": "stdout",
     "output_type": "stream",
     "text": [
      "                 Results: Ordinary least squares\n",
      "=================================================================\n",
      "Model:              OLS              Adj. R-squared:     0.949   \n",
      "Dependent Variable: Y                AIC:                81.9537 \n",
      "Date:               2023-06-26 16:02 BIC:                83.9451 \n",
      "No. Observations:   20               Log-Likelihood:     -38.977 \n",
      "Df Model:           1                F-statistic:        352.5   \n",
      "Df Residuals:       18               Prob (F-statistic): 2.86e-13\n",
      "R-squared:          0.951            Scale:              3.2065  \n",
      "------------------------------------------------------------------\n",
      "               Coef.   Std.Err.     t     P>|t|    [0.025   0.975]\n",
      "------------------------------------------------------------------\n",
      "Intercept      0.0000    0.4004   0.0000  1.0000  -0.8412   0.8412\n",
      "X             17.5467    0.9346  18.7739  0.0000  15.5831  19.5103\n",
      "-----------------------------------------------------------------\n",
      "Omnibus:               0.923        Durbin-Watson:          2.153\n",
      "Prob(Omnibus):         0.630        Jarque-Bera (JB):       0.111\n",
      "Skew:                  -0.112       Prob(JB):               0.946\n",
      "Kurtosis:              3.288        Condition No.:          2    \n",
      "=================================================================\n",
      "\n"
     ]
    }
   ],
   "source": [
    "from statsmodels.formula.api import ols\n",
    "\n",
    "model2=ols('Y~X',data=CenteredDF)\n",
    "results2=model2.fit()\n",
    "print(results2.summary2())"
   ]
  },
  {
   "cell_type": "code",
   "execution_count": 39,
   "id": "afa6950d-23f9-46f5-99d8-9b93a6a8e79f",
   "metadata": {},
   "outputs": [
    {
     "name": "stdout",
     "output_type": "stream",
     "text": [
      "            df       sum_sq      mean_sq           F        PR(>F)\n",
      "X          1.0  1130.149244  1130.149244  352.460257  2.862635e-13\n",
      "Residual  18.0    57.716256     3.206459         NaN           NaN\n"
     ]
    }
   ],
   "source": [
    "from statsmodels.stats.anova import anova_lm\n",
    "anova_results2 = anova_lm(results2)\n",
    "print(anova_results2)"
   ]
  },
  {
   "cell_type": "markdown",
   "id": "60d51523-71cf-43d4-beea-10827b178bc1",
   "metadata": {},
   "source": [
    "## Goodness of Fit through matrix formulation"
   ]
  },
  {
   "cell_type": "markdown",
   "id": "8243ac01-f0b2-4e15-8f18-980cb66b44d8",
   "metadata": {},
   "source": [
    "The standard error of the beta coefficient is equal to the square root (of the diagonal of the inverse of the XtX matrix * the square of the standard error of the regression (which is the mean squared error or the scale)):  \n",
    "sqrt(0.272 * 3.207) = 0.934\n",
    "\n",
    "The standard error of the regression (=standard error of the estimate =residual standard error) is the model estimate that is analogous to the standard deviation of a sample. It represents the average distance that the observed values fall from the regression line and is a measure of the precsion of the model. Here it is sqrt(3.2065)= 1.7907\n",
    "\n",
    "The standard error of the regression is equal to the square root of (the sum of the squares of the residual divided by the dof of the residuals) = square root of the MSE.  \n",
    "\n",
    "To find the standard error of the beta coefficient, we find the sqrt(MSE divided by the sum of squares of the predictor x).  sqrt (3.2065/3.671) = 0.9346\n",
    "\n",
    "This is the same as the standard error of the regression ( = sqrt(SSE/(n-2)) ) divided by ( (the standard deviation of the x sample multiplied by the sqrt(n-1) ) or ( = sqrt(SSx/(n-1)) * sqrt(n-1) ) ) = 1.7907 / (0.4396 * sqrt(19)) = 1.7907 / 1.9159 = 0.9346\n",
    "\n",
    "The diagonal of the XtX matrix is the sum of squares of x, which we can divide by dof to get the sample variance of x.  3.671/19 = 0.1932.  Square root of the sample variance is the sample std = 0.4396.\n",
    "\n",
    "This diagonal of the XtX matrix will provide the sum of squares for the x variables.  Since this is a simple linear regression example, we can divide by this value directly to find the SE(beta).  This is the same as multiplying by (1/3.671)= 0.2724, so sqrt (3.2065 * 0.2724) = 0.9346.  \n",
    "\n",
    "In multiple linear regression, we will not be able to divide like this (you cant divide by a matrix) but you can multiple by the inverse of a matrix.  This is why we will look to matrix math to help in keeping track of the sum of squares for the x variables and have a matrix that holds teh inverse of these.  "
   ]
  },
  {
   "cell_type": "code",
   "execution_count": 54,
   "id": "27e518cd-2b8e-4675-966f-4765104484f3",
   "metadata": {},
   "outputs": [
    {
     "data": {
      "text/plain": [
       "0.19319368421052632"
      ]
     },
     "execution_count": 54,
     "metadata": {},
     "output_type": "execute_result"
    }
   ],
   "source": [
    "np.var(Salt[\"Roadway_Area\"],ddof=1)"
   ]
  },
  {
   "cell_type": "code",
   "execution_count": 55,
   "id": "a542e293-3e69-4a1c-9fb1-66692ca13c88",
   "metadata": {},
   "outputs": [
    {
     "data": {
      "text/plain": [
       "0.43953803499870897"
      ]
     },
     "execution_count": 55,
     "metadata": {},
     "output_type": "execute_result"
    }
   ],
   "source": [
    "np.std(Salt[\"Roadway_Area\"],ddof=1)"
   ]
  },
  {
   "cell_type": "code",
   "execution_count": null,
   "id": "b69d93b5-4b44-4eae-b532-58bf3a4aac70",
   "metadata": {},
   "outputs": [],
   "source": []
  },
  {
   "cell_type": "code",
   "execution_count": 56,
   "id": "10943788-1afb-4af0-8fc1-089919bafbab",
   "metadata": {},
   "outputs": [
    {
     "name": "stdout",
     "output_type": "stream",
     "text": [
      "                 Results: Ordinary least squares\n",
      "=================================================================\n",
      "Model:              OLS              Adj. R-squared:     0.949   \n",
      "Dependent Variable: Salt_Conc        AIC:                81.9537 \n",
      "Date:               2023-06-26 16:04 BIC:                83.9451 \n",
      "No. Observations:   20               Log-Likelihood:     -38.977 \n",
      "Df Model:           1                F-statistic:        352.5   \n",
      "Df Residuals:       18               Prob (F-statistic): 2.86e-13\n",
      "R-squared:          0.951            Scale:              3.2065  \n",
      "------------------------------------------------------------------\n",
      "               Coef.   Std.Err.     t     P>|t|    [0.025   0.975]\n",
      "------------------------------------------------------------------\n",
      "Intercept      2.6765    0.8680   3.0836  0.0064   0.8529   4.5002\n",
      "Roadway_Area  17.5467    0.9346  18.7739  0.0000  15.5831  19.5103\n",
      "-----------------------------------------------------------------\n",
      "Omnibus:               0.923        Durbin-Watson:          2.153\n",
      "Prob(Omnibus):         0.630        Jarque-Bera (JB):       0.111\n",
      "Skew:                  -0.112       Prob(JB):               0.946\n",
      "Kurtosis:              3.288        Condition No.:          4    \n",
      "=================================================================\n",
      "\n"
     ]
    }
   ],
   "source": [
    "from statsmodels.formula.api import ols\n",
    "\n",
    "model1=ols('Salt_Conc~Roadway_Area',data=Salt)\n",
    "results1=model1.fit()\n",
    "print(results1.summary2())"
   ]
  },
  {
   "cell_type": "code",
   "execution_count": 43,
   "id": "eb096b50-8fa0-49ab-b810-cb046f44659e",
   "metadata": {},
   "outputs": [
    {
     "name": "stdout",
     "output_type": "stream",
     "text": [
      "                df       sum_sq      mean_sq           F        PR(>F)\n",
      "Roadway_Area   1.0  1130.149244  1130.149244  352.460257  2.862635e-13\n",
      "Residual      18.0    57.716256     3.206459         NaN           NaN\n"
     ]
    }
   ],
   "source": [
    "from statsmodels.stats.anova import anova_lm\n",
    "anova_results1 = anova_lm(results1)\n",
    "print(anova_results1)"
   ]
  },
  {
   "cell_type": "code",
   "execution_count": null,
   "id": "03ace6bd-0cdd-4dc9-8fac-b66ff401f2b1",
   "metadata": {},
   "outputs": [],
   "source": []
  },
  {
   "cell_type": "code",
   "execution_count": 44,
   "id": "8323cd46-c167-4d8d-98e2-e6522b230afa",
   "metadata": {},
   "outputs": [
    {
     "data": {
      "text/plain": [
       "1187.8655"
      ]
     },
     "execution_count": 44,
     "metadata": {},
     "output_type": "execute_result"
    }
   ],
   "source": [
    "SSy_Salt=sum( ( (Salt[\"Salt_Conc\"]-meanSalt_Conc) **2) )\n",
    "SSy_Salt"
   ]
  },
  {
   "cell_type": "code",
   "execution_count": 45,
   "id": "b9841d39-8a9c-4f41-a4a0-9f4b785f4b8c",
   "metadata": {},
   "outputs": [
    {
     "data": {
      "text/plain": [
       "3.6706800000000004"
      ]
     },
     "execution_count": 45,
     "metadata": {},
     "output_type": "execute_result"
    }
   ],
   "source": [
    "SSx_Road=sum( ( (Salt[\"Roadway_Area\"]-meanRoad_Area) **2) )\n",
    "SSx_Road"
   ]
  },
  {
   "cell_type": "code",
   "execution_count": null,
   "id": "d2ac8714-9359-4cf1-90ac-94f6a3d406ca",
   "metadata": {},
   "outputs": [],
   "source": []
  },
  {
   "cell_type": "markdown",
   "id": "6b00495b-a037-4a2d-b326-94b1d8078788",
   "metadata": {},
   "source": [
    "Model Review of Assumptions"
   ]
  },
  {
   "cell_type": "code",
   "execution_count": 46,
   "id": "67e7b9db-e743-4a1a-b4dd-4fc40ecc5df5",
   "metadata": {},
   "outputs": [
    {
     "data": {
      "text/plain": [
       "<matplotlib.lines.Line2D at 0x20db675b550>"
      ]
     },
     "execution_count": 46,
     "metadata": {},
     "output_type": "execute_result"
    },
    {
     "data": {
      "image/png": "[encoded data removed]",
      "text/plain": [
       "<Figure size 640x480 with 1 Axes>"
      ]
     },
     "metadata": {},
     "output_type": "display_data"
    }
   ],
   "source": [
    "plotSalt=sns.regplot(x='Roadway_Area',y='Salt_Conc',data=Salt,ci=None)\n",
    "plotSalt.annotate(text='y fitted = 2.68 + 17.55x',xy=(.2,30),xycoords='data')\n",
    "plotSalt.axvline(x=0.824,c=\"r\",linestyle=\":\")\n",
    "plotSalt.axhline(y=17.135,c=\"r\",linestyle=\":\")"
   ]
  },
  {
   "cell_type": "code",
   "execution_count": 47,
   "id": "e4592092-c531-488f-a182-2504d53d05ce",
   "metadata": {},
   "outputs": [
    {
     "name": "stdout",
     "output_type": "stream",
     "text": [
      "                df       sum_sq      mean_sq           F        PR(>F)\n",
      "Roadway_Area   1.0  1130.149244  1130.149244  352.460257  2.862635e-13\n",
      "Residual      18.0    57.716256     3.206459         NaN           NaN\n"
     ]
    }
   ],
   "source": [
    "from statsmodels.stats.anova import anova_lm\n",
    "anova_results = anova_lm(results1)\n",
    "print(anova_results)"
   ]
  },
  {
   "cell_type": "code",
   "execution_count": 48,
   "id": "8c536e36-e709-4202-a7e0-e52b946f7be1",
   "metadata": {},
   "outputs": [
    {
     "data": {
      "text/plain": [
       "0      6.010413\n",
       "1      5.308546\n",
       "2     12.678147\n",
       "3      9.695213\n",
       "4     14.959213\n",
       "5     14.432813\n",
       "6     13.730947\n",
       "7     10.923480\n",
       "8     15.836547\n",
       "9     13.204547\n",
       "10    16.362947\n",
       "11    16.889347\n",
       "12    16.362947\n",
       "13    14.783747\n",
       "14    25.487214\n",
       "15    21.100547\n",
       "16    29.347480\n",
       "17    21.276013\n",
       "18    33.207747\n",
       "19    31.102147\n",
       "dtype: float64"
      ]
     },
     "execution_count": 48,
     "metadata": {},
     "output_type": "execute_result"
    }
   ],
   "source": [
    "results1.fittedvalues"
   ]
  },
  {
   "cell_type": "code",
   "execution_count": 49,
   "id": "f4f93061-b306-4c44-b347-6a8378a75382",
   "metadata": {},
   "outputs": [
    {
     "data": {
      "text/plain": [
       "Text(0, 0.5, 'residuals')"
      ]
     },
     "execution_count": 49,
     "metadata": {},
     "output_type": "execute_result"
    },
    {
     "data": {
      "image/png": "[encoded data removed]",
      "text/plain": [
       "<Figure size 640x480 with 1 Axes>"
      ]
     },
     "metadata": {},
     "output_type": "display_data"
    }
   ],
   "source": [
    "sns.residplot(x=results1.fittedvalues,y=results1.resid)\n",
    "plt.xlabel(\"fitted values\")\n",
    "plt.ylabel(\"residuals\")"
   ]
  },
  {
   "cell_type": "code",
   "execution_count": 50,
   "id": "8183c051-de56-41cf-b1ce-cdd6012fb922",
   "metadata": {},
   "outputs": [
    {
     "name": "stdout",
     "output_type": "stream",
     "text": [
      "eval_env: 1\n"
     ]
    },
    {
     "data": {
      "image/png": "[encoded data removed]",
      "text/plain": [
       "<Figure size 1200x800 with 4 Axes>"
      ]
     },
     "metadata": {},
     "output_type": "display_data"
    }
   ],
   "source": [
    "from statsmodels.formula.api import ols\n",
    "import statsmodels.api as sm\n",
    "\n",
    "fig=plt.figure(figsize=(12,8))\n",
    "fig=sm.graphics.plot_regress_exog(results1,'Roadway_Area',fig=fig)"
   ]
  },
  {
   "cell_type": "code",
   "execution_count": 51,
   "id": "2c581de2-dbab-4623-9bbf-e275fd8df4a3",
   "metadata": {},
   "outputs": [
    {
     "data": {
      "image/png": "[encoded data removed]",
      "text/plain": [
       "<Figure size 640x480 with 1 Axes>"
      ]
     },
     "metadata": {},
     "output_type": "display_data"
    }
   ],
   "source": [
    "sm.qqplot(results1.resid,line='s')\n",
    "plt.show()"
   ]
  },
  {
   "cell_type": "code",
   "execution_count": 52,
   "id": "2f0d1dc9-533b-42e5-b23c-a20346ce70f7",
   "metadata": {},
   "outputs": [
    {
     "data": {
      "text/plain": [
       "ShapiroResult(statistic=0.9764649271965027, pvalue=0.8808090090751648)"
      ]
     },
     "execution_count": 52,
     "metadata": {},
     "output_type": "execute_result"
    }
   ],
   "source": [
    "stats.shapiro(results1.resid)"
   ]
  },
  {
   "cell_type": "code",
   "execution_count": 53,
   "id": "6dacde41-b5ca-447f-87dc-629720d65a1d",
   "metadata": {},
   "outputs": [
    {
     "data": {
      "image/png": "[encoded data removed]",
      "text/plain": [
       "<Figure size 640x480 with 1 Axes>"
      ]
     },
     "metadata": {},
     "output_type": "display_data"
    }
   ],
   "source": [
    "fig=sm.graphics.influence_plot(results1,criterion='cooks')"
   ]
  },
  {
   "cell_type": "code",
   "execution_count": null,
   "id": "82d6d35a-4920-46ee-b875-97e518bd8c8e",
   "metadata": {},
   "outputs": [],
   "source": []
  },
  {
   "cell_type": "code",
   "execution_count": null,
   "id": "770d1077-4094-4359-817c-a4879fc1b918",
   "metadata": {},
   "outputs": [],
   "source": []
  }
 ],
 "metadata": {
  "kernelspec": {
   "display_name": "Python 3 (ipykernel)",
   "language": "python",
   "name": "python3"
  },
  "language_info": {
   "codemirror_mode": {
    "name": "ipython",
    "version": 3
   },
   "file_extension": ".py",
   "mimetype": "text/x-python",
   "name": "python",
   "nbconvert_exporter": "python",
   "pygments_lexer": "ipython3",
   "version": "3.9.13"
  }
 },
 "nbformat": 4,
 "nbformat_minor": 5
}
