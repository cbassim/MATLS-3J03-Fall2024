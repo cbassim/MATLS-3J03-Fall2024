{
 "cells": [
  {
   "cell_type": "markdown",
   "id": "e17a1c8f-11cc-46ab-92ab-eaeaa2ff8e73",
   "metadata": {},
   "source": [
    "# TUTORIAL 7  "
   ]
  },
  {
   "cell_type": "markdown",
   "id": "ba0883a0-d11b-40a5-a9dd-d7feb6d4effd",
   "metadata": {},
   "source": [
    "## Importing Relevant Libraries!"
   ]
  },
  {
   "cell_type": "code",
   "execution_count": null,
   "id": "bd8eea94-7444-4c24-83c4-464904882831",
   "metadata": {},
   "outputs": [],
   "source": [
    "import numpy as np\n",
    "import pandas as pd\n",
    "import matplotlib.pyplot as plt\n",
    "import scipy as sy\n",
    "from scipy import stats  \n",
    "import seaborn as sns\n",
    "import statsmodels.api as sm\n",
    "from statsmodels.formula.api import ols\n",
    "from statsmodels.stats.anova import anova_lm"
   ]
  },
  {
   "cell_type": "code",
   "execution_count": null,
   "id": "4608bfc2-1e94-4f7e-9520-e1cd542acad5",
   "metadata": {},
   "outputs": [],
   "source": []
  },
  {
   "cell_type": "markdown",
   "id": "84c9b84e-321c-43b6-8b9d-e124273d85b5",
   "metadata": {},
   "source": [
    "## i) Determine the regression line for a simple linear regression model using temperature, mixing speed and reactor type.  Copy the summary of the results for each.  Show a regression plot for each model and interpret the results.     "
   ]
  },
  {
   "cell_type": "code",
   "execution_count": null,
   "id": "6b8a5ae4-0e82-4a52-a2fd-bde092b75670",
   "metadata": {},
   "outputs": [],
   "source": [
    "#Temperature\n",
    "temp_model = ols('Yield_g~Temp_C', data= reactor)\n",
    "results_temp = temp_model.fit()\n",
    "print(results_temp.summary2())\n",
    "\n",
    "#Regression plot\n",
    "sns.regplot(x='Temp_C',y='Yield_g',data=reactor)"
   ]
  },
  {
   "cell_type": "code",
   "execution_count": null,
   "id": "c204192f-9a91-4ec1-969c-c4d90d935d3b",
   "metadata": {},
   "outputs": [],
   "source": [
    "#Speed\n",
    "\n",
    "\n",
    "#Regression plot\n"
   ]
  },
  {
   "cell_type": "code",
   "execution_count": null,
   "id": "6f8f123b-344f-4d24-828a-8312a68a09ef",
   "metadata": {},
   "outputs": [],
   "source": [
    "#Baffles\n",
    "\n",
    "\n",
    "#Regression plot\n"
   ]
  },
  {
   "cell_type": "markdown",
   "id": "1da9a2a9-02e9-49be-b571-702a7512391c",
   "metadata": {},
   "source": [
    "## ii) Provide a 95% confidence interval for the prediction from each model at a temperature of 70oC. Calculate with python. Discuss what this confidence interval means in general and in the context of the example."
   ]
  },
  {
   "cell_type": "code",
   "execution_count": null,
   "id": "0898e3db-77c4-460f-86b1-85f55192771c",
   "metadata": {},
   "outputs": [],
   "source": []
  },
  {
   "cell_type": "markdown",
   "id": "b2360ad2-d3fb-48db-a684-c53ba236c0ef",
   "metadata": {},
   "source": [
    "## iii) Provide a 95% prediction interval for the prediction at a speed of 4000 RPM given SSx = 184.36. Calculate by hand. Discuss what this prediction interval means in general and in the context of the example."
   ]
  },
  {
   "cell_type": "code",
   "execution_count": null,
   "id": "782f63ad-cebe-4219-bc88-3b39dd0fc847",
   "metadata": {},
   "outputs": [],
   "source": []
  }
 ],
 "metadata": {
  "kernelspec": {
   "display_name": "Python 3 (ipykernel)",
   "language": "python",
   "name": "python3"
  },
  "language_info": {
   "codemirror_mode": {
    "name": "ipython",
    "version": 3
   },
   "file_extension": ".py",
   "mimetype": "text/x-python",
   "name": "python",
   "nbconvert_exporter": "python",
   "pygments_lexer": "ipython3",
   "version": "3.9.13"
  }
 },
 "nbformat": 4,
 "nbformat_minor": 5
}
