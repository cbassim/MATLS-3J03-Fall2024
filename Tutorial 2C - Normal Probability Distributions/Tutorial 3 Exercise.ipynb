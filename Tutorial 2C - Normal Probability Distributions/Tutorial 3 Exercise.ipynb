{
 "cells": [
  {
   "cell_type": "markdown",
   "id": "306811dd-b470-403a-bc73-8edd7bab565c",
   "metadata": {},
   "source": [
    "# TUTORIAL 3 EXERCISE"
   ]
  },
  {
   "cell_type": "markdown",
   "id": "e9c7e341-6f36-4864-8b90-79b095adf52e",
   "metadata": {},
   "source": [
    "A shape memory alloy (SMA) wire is used to reconnect torn ligaments to bone through tiny holes drilled through bone.  Direct current electrical stimulation through the wires is used to stimulate tendon regeneration and improve outcomes.  Wires have a mean current measurement of 10-microamperes and a variance of 4 microamperes^2, and current measurements can be assumed to be independent.  "
   ]
  },
  {
   "cell_type": "markdown",
   "id": "f296e907-2314-40ea-a2e2-cd080c6aacda",
   "metadata": {},
   "source": [
    "## PART 1\n",
    "__Discuss if the Normal distribution is a reasonable model to answer questions about wire current?  Make sure to identify the random experiment and the random variable and state any assumptions that you make.__ "
   ]
  },
  {
   "cell_type": "markdown",
   "id": "1e7e7383-e21f-470e-9f4d-a5c27618cdd9",
   "metadata": {},
   "source": []
  },
  {
   "cell_type": "markdown",
   "id": "2f2cf7fa-37e7-4b5f-9195-37a927ea4f99",
   "metadata": {},
   "source": [
    "## PART 2 \n",
    "__Specify the parameters of the Normal distribution and discuss the shape of the distribution in this example. Plot the standardized normal distribution.__"
   ]
  },
  {
   "cell_type": "markdown",
   "id": "15e96acf-6870-42ad-a7b8-69994e89097a",
   "metadata": {},
   "source": [
    "__Importing the relevant libraries!__"
   ]
  },
  {
   "cell_type": "code",
   "execution_count": null,
   "id": "00cf2419-73ff-4bbb-bc33-e96f3950ed18",
   "metadata": {},
   "outputs": [],
   "source": []
  },
  {
   "cell_type": "markdown",
   "id": "7d3b781f-33d3-420f-b47a-ca5519035b05",
   "metadata": {},
   "source": [
    "__Make the x and y axis data.__"
   ]
  },
  {
   "cell_type": "code",
   "execution_count": null,
   "id": "22d294be-e20b-4617-a64c-8f20e074bb49",
   "metadata": {},
   "outputs": [],
   "source": []
  },
  {
   "cell_type": "markdown",
   "id": "b9e95d2a-7b5c-40c8-9f36-13d3ede3175f",
   "metadata": {},
   "source": [
    "__Plot the data.__"
   ]
  },
  {
   "cell_type": "code",
   "execution_count": null,
   "id": "8ebcf2b8-bc05-49d6-b299-1e850900c341",
   "metadata": {},
   "outputs": [],
   "source": []
  },
  {
   "cell_type": "markdown",
   "id": "98f1f8b2-2e2e-45fd-abb8-94c21228feb7",
   "metadata": {},
   "source": [
    "# PART 3\n",
    "__What is the probability that a randomly selected measurement will exceed 13 microamperes? (i.e. Find P(X>13).  You are finding the probability of a certain outcome from a normal population that you have specified.__\n",
    "\n",
    "__Calculate in python and by-hand.__"
   ]
  },
  {
   "cell_type": "markdown",
   "id": "c024fd9b-a353-4725-8604-2ad59167a1a0",
   "metadata": {},
   "source": [
    "__Determine Z-score and probability using Python.__"
   ]
  },
  {
   "cell_type": "code",
   "execution_count": null,
   "id": "24aa8f95-da45-4a16-b5d3-7761bd83d379",
   "metadata": {},
   "outputs": [],
   "source": []
  },
  {
   "cell_type": "markdown",
   "id": "10a4aeeb-cfc7-4866-807b-779cc537f1ba",
   "metadata": {},
   "source": [
    "__Alternative if you already have the Z-score__"
   ]
  },
  {
   "cell_type": "code",
   "execution_count": null,
   "id": "dcf2511c-527c-4c24-ab76-bb7558fb129d",
   "metadata": {},
   "outputs": [],
   "source": []
  },
  {
   "cell_type": "markdown",
   "id": "9f51053f-4e8e-4790-8c05-10e447efaa7c",
   "metadata": {},
   "source": [
    "BY HAND + Z-TABLE CALCULATION"
   ]
  },
  {
   "cell_type": "markdown",
   "id": "a0b6fee2-3731-4bd7-a0cc-206467f89ffa",
   "metadata": {},
   "source": [
    "# PART 4\n",
    "__What is the probability that a current measurement is between 9 and 11 microamperes?__"
   ]
  },
  {
   "cell_type": "markdown",
   "id": "45f3d58b-5b3c-44ae-bbc6-b6276a20c281",
   "metadata": {},
   "source": [
    "__State the probability range you are investigating.__"
   ]
  },
  {
   "cell_type": "markdown",
   "id": "378c1674-7c08-42ff-bca2-ecf5256ae3f3",
   "metadata": {},
   "source": [
    "__Calculate the probability in python and by-hand__"
   ]
  },
  {
   "cell_type": "code",
   "execution_count": null,
   "id": "af455a7a-efac-463d-bed9-267702e578d1",
   "metadata": {},
   "outputs": [],
   "source": []
  },
  {
   "cell_type": "markdown",
   "id": "db5772c9-17e4-41c7-b110-0adbf7af1ff6",
   "metadata": {},
   "source": [
    "BY HAND + Z-TABLE CALCULATION"
   ]
  },
  {
   "cell_type": "markdown",
   "id": "01906f44-4dfd-4e1d-af3e-a0af5ace56e5",
   "metadata": {},
   "source": [
    "# PART 5\n",
    "__Determine the value for which the probability that a current measurement is at or below that value is 0.98.__"
   ]
  },
  {
   "cell_type": "markdown",
   "id": "045a7d7e-ad66-4fe9-8f95-80ac3d98d4de",
   "metadata": {},
   "source": [
    "__Calculate the Z-score__"
   ]
  },
  {
   "cell_type": "code",
   "execution_count": null,
   "id": "2a8d8409-10d2-4860-9737-88c4ba144014",
   "metadata": {},
   "outputs": [],
   "source": []
  }
 ],
 "metadata": {
  "kernelspec": {
   "display_name": "Python 3 (ipykernel)",
   "language": "python",
   "name": "python3"
  },
  "language_info": {
   "codemirror_mode": {
    "name": "ipython",
    "version": 3
   },
   "file_extension": ".py",
   "mimetype": "text/x-python",
   "name": "python",
   "nbconvert_exporter": "python",
   "pygments_lexer": "ipython3",
   "version": "3.9.13"
  }
 },
 "nbformat": 4,
 "nbformat_minor": 5
}
